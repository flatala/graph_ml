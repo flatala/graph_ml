{
 "cells": [
  {
   "cell_type": "code",
   "execution_count": 3,
   "id": "98b5d483-acb8-46ae-992c-ba69f5620725",
   "metadata": {},
   "outputs": [],
   "source": [
    "import os\n",
    "import pandas as pd\n",
    "import numpy as np\n",
    "from pathlib import Path"
   ]
  },
  {
   "cell_type": "code",
   "execution_count": 4,
   "id": "de50d402-ece2-4ee2-a910-7fd91f0fc253",
   "metadata": {},
   "outputs": [],
   "source": [
    "DATA_DIR = \"elliptic_dataset\"\n",
    "\n",
    "# wallet data\n",
    "WALLETS_FEATURES = \"wallets_features.csv\"\n",
    "WALLETS_CLASSES = \"wallets_classes.csv\"\n",
    "\n",
    "# wallet to wallet edges\n",
    "ADDRESS_TO_ADDRESS = \"AddrAddr_edgelist.csv\"\n",
    "\n",
    "# To build the address to address graph (we dont need this probably)\n",
    "ADDRESES_TO_TRANSACTIONS = \"AddrTx_edgelist.csv\"\n",
    "TRANSACTIONS_TO_ADDRESSES = \"TxAddr_edgelist.csv\"\n"
   ]
  },
  {
   "cell_type": "markdown",
   "id": "8fb3f4a6-af3d-45a7-b477-e9add40f2929",
   "metadata": {},
   "source": [
    "## 1. Load and inspect the actors dataset"
   ]
  },
  {
   "cell_type": "markdown",
   "id": "e59c2357-d5e3-4db4-8585-821ff622e690",
   "metadata": {},
   "source": [
    "#### 1.1.Let's first inspect the features of wallets"
   ]
  },
  {
   "cell_type": "code",
   "execution_count": 6,
   "id": "60a89fdd-6567-41cd-bb6b-b95ce9d82a2e",
   "metadata": {},
   "outputs": [],
   "source": [
    "wallet_features = pd.read_csv(os.path.join(DATA_DIR, WALLETS_FEATURES))"
   ]
  },
  {
   "cell_type": "code",
   "execution_count": 13,
   "id": "13a21b48-2460-4b47-8c79-f7f4f6a993e1",
   "metadata": {},
   "outputs": [
    {
     "name": "stdout",
     "output_type": "stream",
     "text": [
      "1268260\n"
     ]
    }
   ],
   "source": [
    "print(wallet_features.shape[0])"
   ]
  },
  {
   "cell_type": "code",
   "execution_count": 16,
   "id": "0b07153d-50dd-4cc7-a2cc-aa19b4ab348f",
   "metadata": {},
   "outputs": [
    {
     "data": {
      "text/html": [
       "<div>\n",
       "<style scoped>\n",
       "    .dataframe tbody tr th:only-of-type {\n",
       "        vertical-align: middle;\n",
       "    }\n",
       "\n",
       "    .dataframe tbody tr th {\n",
       "        vertical-align: top;\n",
       "    }\n",
       "\n",
       "    .dataframe thead th {\n",
       "        text-align: right;\n",
       "    }\n",
       "</style>\n",
       "<table border=\"1\" class=\"dataframe\">\n",
       "  <thead>\n",
       "    <tr style=\"text-align: right;\">\n",
       "      <th></th>\n",
       "      <th>address</th>\n",
       "      <th>Time step</th>\n",
       "      <th>num_txs_as_sender</th>\n",
       "      <th>num_txs_as receiver</th>\n",
       "      <th>first_block_appeared_in</th>\n",
       "      <th>last_block_appeared_in</th>\n",
       "      <th>lifetime_in_blocks</th>\n",
       "      <th>total_txs</th>\n",
       "      <th>first_sent_block</th>\n",
       "      <th>first_received_block</th>\n",
       "      <th>...</th>\n",
       "      <th>blocks_btwn_output_txs_min</th>\n",
       "      <th>blocks_btwn_output_txs_max</th>\n",
       "      <th>blocks_btwn_output_txs_mean</th>\n",
       "      <th>blocks_btwn_output_txs_median</th>\n",
       "      <th>num_addr_transacted_multiple</th>\n",
       "      <th>transacted_w_address_total</th>\n",
       "      <th>transacted_w_address_min</th>\n",
       "      <th>transacted_w_address_max</th>\n",
       "      <th>transacted_w_address_mean</th>\n",
       "      <th>transacted_w_address_median</th>\n",
       "    </tr>\n",
       "  </thead>\n",
       "  <tbody>\n",
       "    <tr>\n",
       "      <th>0</th>\n",
       "      <td>111112TykSw72ztDN2WJger4cynzWYC5w</td>\n",
       "      <td>25</td>\n",
       "      <td>0.0</td>\n",
       "      <td>1.0</td>\n",
       "      <td>439586.0</td>\n",
       "      <td>439586.0</td>\n",
       "      <td>0.0</td>\n",
       "      <td>1.0</td>\n",
       "      <td>0.0</td>\n",
       "      <td>439586.0</td>\n",
       "      <td>...</td>\n",
       "      <td>0.0</td>\n",
       "      <td>0.0</td>\n",
       "      <td>0.000000</td>\n",
       "      <td>0.0</td>\n",
       "      <td>0.0</td>\n",
       "      <td>24.0</td>\n",
       "      <td>1.0</td>\n",
       "      <td>1.0</td>\n",
       "      <td>1.0</td>\n",
       "      <td>1.0</td>\n",
       "    </tr>\n",
       "    <tr>\n",
       "      <th>1</th>\n",
       "      <td>1111DAYXhoxZx2tsRnzimfozo783x1yC2</td>\n",
       "      <td>25</td>\n",
       "      <td>0.0</td>\n",
       "      <td>8.0</td>\n",
       "      <td>439589.0</td>\n",
       "      <td>485959.0</td>\n",
       "      <td>46370.0</td>\n",
       "      <td>8.0</td>\n",
       "      <td>0.0</td>\n",
       "      <td>439589.0</td>\n",
       "      <td>...</td>\n",
       "      <td>0.0</td>\n",
       "      <td>20164.0</td>\n",
       "      <td>6624.285714</td>\n",
       "      <td>8060.0</td>\n",
       "      <td>0.0</td>\n",
       "      <td>8.0</td>\n",
       "      <td>1.0</td>\n",
       "      <td>1.0</td>\n",
       "      <td>1.0</td>\n",
       "      <td>1.0</td>\n",
       "    </tr>\n",
       "    <tr>\n",
       "      <th>2</th>\n",
       "      <td>1111DAYXhoxZx2tsRnzimfozo783x1yC2</td>\n",
       "      <td>29</td>\n",
       "      <td>0.0</td>\n",
       "      <td>8.0</td>\n",
       "      <td>439589.0</td>\n",
       "      <td>485959.0</td>\n",
       "      <td>46370.0</td>\n",
       "      <td>8.0</td>\n",
       "      <td>0.0</td>\n",
       "      <td>439589.0</td>\n",
       "      <td>...</td>\n",
       "      <td>0.0</td>\n",
       "      <td>20164.0</td>\n",
       "      <td>6624.285714</td>\n",
       "      <td>8060.0</td>\n",
       "      <td>0.0</td>\n",
       "      <td>8.0</td>\n",
       "      <td>1.0</td>\n",
       "      <td>1.0</td>\n",
       "      <td>1.0</td>\n",
       "      <td>1.0</td>\n",
       "    </tr>\n",
       "    <tr>\n",
       "      <th>3</th>\n",
       "      <td>1111DAYXhoxZx2tsRnzimfozo783x1yC2</td>\n",
       "      <td>39</td>\n",
       "      <td>0.0</td>\n",
       "      <td>8.0</td>\n",
       "      <td>439589.0</td>\n",
       "      <td>485959.0</td>\n",
       "      <td>46370.0</td>\n",
       "      <td>8.0</td>\n",
       "      <td>0.0</td>\n",
       "      <td>439589.0</td>\n",
       "      <td>...</td>\n",
       "      <td>0.0</td>\n",
       "      <td>20164.0</td>\n",
       "      <td>6624.285714</td>\n",
       "      <td>8060.0</td>\n",
       "      <td>0.0</td>\n",
       "      <td>8.0</td>\n",
       "      <td>1.0</td>\n",
       "      <td>1.0</td>\n",
       "      <td>1.0</td>\n",
       "      <td>1.0</td>\n",
       "    </tr>\n",
       "    <tr>\n",
       "      <th>4</th>\n",
       "      <td>1111DAYXhoxZx2tsRnzimfozo783x1yC2</td>\n",
       "      <td>39</td>\n",
       "      <td>0.0</td>\n",
       "      <td>8.0</td>\n",
       "      <td>439589.0</td>\n",
       "      <td>485959.0</td>\n",
       "      <td>46370.0</td>\n",
       "      <td>8.0</td>\n",
       "      <td>0.0</td>\n",
       "      <td>439589.0</td>\n",
       "      <td>...</td>\n",
       "      <td>0.0</td>\n",
       "      <td>20164.0</td>\n",
       "      <td>6624.285714</td>\n",
       "      <td>8060.0</td>\n",
       "      <td>0.0</td>\n",
       "      <td>8.0</td>\n",
       "      <td>1.0</td>\n",
       "      <td>1.0</td>\n",
       "      <td>1.0</td>\n",
       "      <td>1.0</td>\n",
       "    </tr>\n",
       "  </tbody>\n",
       "</table>\n",
       "<p>5 rows × 57 columns</p>\n",
       "</div>"
      ],
      "text/plain": [
       "                             address  Time step  num_txs_as_sender  \\\n",
       "0  111112TykSw72ztDN2WJger4cynzWYC5w         25                0.0   \n",
       "1  1111DAYXhoxZx2tsRnzimfozo783x1yC2         25                0.0   \n",
       "2  1111DAYXhoxZx2tsRnzimfozo783x1yC2         29                0.0   \n",
       "3  1111DAYXhoxZx2tsRnzimfozo783x1yC2         39                0.0   \n",
       "4  1111DAYXhoxZx2tsRnzimfozo783x1yC2         39                0.0   \n",
       "\n",
       "   num_txs_as receiver  first_block_appeared_in  last_block_appeared_in  \\\n",
       "0                  1.0                 439586.0                439586.0   \n",
       "1                  8.0                 439589.0                485959.0   \n",
       "2                  8.0                 439589.0                485959.0   \n",
       "3                  8.0                 439589.0                485959.0   \n",
       "4                  8.0                 439589.0                485959.0   \n",
       "\n",
       "   lifetime_in_blocks  total_txs  first_sent_block  first_received_block  ...  \\\n",
       "0                 0.0        1.0               0.0              439586.0  ...   \n",
       "1             46370.0        8.0               0.0              439589.0  ...   \n",
       "2             46370.0        8.0               0.0              439589.0  ...   \n",
       "3             46370.0        8.0               0.0              439589.0  ...   \n",
       "4             46370.0        8.0               0.0              439589.0  ...   \n",
       "\n",
       "   blocks_btwn_output_txs_min  blocks_btwn_output_txs_max  \\\n",
       "0                         0.0                         0.0   \n",
       "1                         0.0                     20164.0   \n",
       "2                         0.0                     20164.0   \n",
       "3                         0.0                     20164.0   \n",
       "4                         0.0                     20164.0   \n",
       "\n",
       "   blocks_btwn_output_txs_mean  blocks_btwn_output_txs_median  \\\n",
       "0                     0.000000                            0.0   \n",
       "1                  6624.285714                         8060.0   \n",
       "2                  6624.285714                         8060.0   \n",
       "3                  6624.285714                         8060.0   \n",
       "4                  6624.285714                         8060.0   \n",
       "\n",
       "   num_addr_transacted_multiple  transacted_w_address_total  \\\n",
       "0                           0.0                        24.0   \n",
       "1                           0.0                         8.0   \n",
       "2                           0.0                         8.0   \n",
       "3                           0.0                         8.0   \n",
       "4                           0.0                         8.0   \n",
       "\n",
       "   transacted_w_address_min  transacted_w_address_max  \\\n",
       "0                       1.0                       1.0   \n",
       "1                       1.0                       1.0   \n",
       "2                       1.0                       1.0   \n",
       "3                       1.0                       1.0   \n",
       "4                       1.0                       1.0   \n",
       "\n",
       "   transacted_w_address_mean  transacted_w_address_median  \n",
       "0                        1.0                          1.0  \n",
       "1                        1.0                          1.0  \n",
       "2                        1.0                          1.0  \n",
       "3                        1.0                          1.0  \n",
       "4                        1.0                          1.0  \n",
       "\n",
       "[5 rows x 57 columns]"
      ]
     },
     "execution_count": 16,
     "metadata": {},
     "output_type": "execute_result"
    }
   ],
   "source": [
    "wallet_features.head(5)"
   ]
  },
  {
   "cell_type": "markdown",
   "id": "1734de90-f85b-45ef-891a-841b37a72edc",
   "metadata": {},
   "source": [
    "#### 1.2. Lets now look at the wallet labels:\n",
    "- Class 1 - Illicit (should be 14,266, so 2%)\n",
    "- Class 2 - Licit (should be 251,088, so 31%)\n",
    "- Class 3 - Unknown (the rest)"
   ]
  },
  {
   "cell_type": "code",
   "execution_count": 8,
   "id": "a16ee3b6-5a64-4467-9745-7edab73953c4",
   "metadata": {},
   "outputs": [],
   "source": [
    "wallet_classes = pd.read_csv(os.path.join(DATA_DIR, WALLETS_CLASSES))"
   ]
  },
  {
   "cell_type": "code",
   "execution_count": 15,
   "id": "96c0e3bc-77d2-4548-abfd-8409bc36bad2",
   "metadata": {},
   "outputs": [
    {
     "name": "stdout",
     "output_type": "stream",
     "text": [
      "822942\n"
     ]
    }
   ],
   "source": [
    "print(wallet_classes.shape[0])"
   ]
  },
  {
   "cell_type": "code",
   "execution_count": 10,
   "id": "d95a855c-1f90-42cf-b45c-5416c33ba6fa",
   "metadata": {},
   "outputs": [
    {
     "data": {
      "text/html": [
       "<div>\n",
       "<style scoped>\n",
       "    .dataframe tbody tr th:only-of-type {\n",
       "        vertical-align: middle;\n",
       "    }\n",
       "\n",
       "    .dataframe tbody tr th {\n",
       "        vertical-align: top;\n",
       "    }\n",
       "\n",
       "    .dataframe thead th {\n",
       "        text-align: right;\n",
       "    }\n",
       "</style>\n",
       "<table border=\"1\" class=\"dataframe\">\n",
       "  <thead>\n",
       "    <tr style=\"text-align: right;\">\n",
       "      <th></th>\n",
       "      <th>address</th>\n",
       "      <th>class</th>\n",
       "    </tr>\n",
       "  </thead>\n",
       "  <tbody>\n",
       "    <tr>\n",
       "      <th>0</th>\n",
       "      <td>111112TykSw72ztDN2WJger4cynzWYC5w</td>\n",
       "      <td>2</td>\n",
       "    </tr>\n",
       "    <tr>\n",
       "      <th>1</th>\n",
       "      <td>1111DAYXhoxZx2tsRnzimfozo783x1yC2</td>\n",
       "      <td>3</td>\n",
       "    </tr>\n",
       "    <tr>\n",
       "      <th>2</th>\n",
       "      <td>1111VHuXEzHaRCgXbVwojtaP7Co3QABb</td>\n",
       "      <td>2</td>\n",
       "    </tr>\n",
       "    <tr>\n",
       "      <th>3</th>\n",
       "      <td>111218KKkh1JJFRHbwM16AwCiVCc4m7he1</td>\n",
       "      <td>3</td>\n",
       "    </tr>\n",
       "    <tr>\n",
       "      <th>4</th>\n",
       "      <td>1115LWW3xsD9jT9VRY7viCN9S34RVAAuA</td>\n",
       "      <td>2</td>\n",
       "    </tr>\n",
       "  </tbody>\n",
       "</table>\n",
       "</div>"
      ],
      "text/plain": [
       "                              address  class\n",
       "0   111112TykSw72ztDN2WJger4cynzWYC5w      2\n",
       "1   1111DAYXhoxZx2tsRnzimfozo783x1yC2      3\n",
       "2    1111VHuXEzHaRCgXbVwojtaP7Co3QABb      2\n",
       "3  111218KKkh1JJFRHbwM16AwCiVCc4m7he1      3\n",
       "4   1115LWW3xsD9jT9VRY7viCN9S34RVAAuA      2"
      ]
     },
     "execution_count": 10,
     "metadata": {},
     "output_type": "execute_result"
    }
   ],
   "source": [
    "wallet_classes.head(5)"
   ]
  },
  {
   "cell_type": "markdown",
   "id": "b2dedadb-9c16-4a33-90a2-ec109560bbe5",
   "metadata": {},
   "source": [
    "Let's verify the counts"
   ]
  },
  {
   "cell_type": "code",
   "execution_count": 14,
   "id": "83f8a464-fd1b-4b40-a3a1-f6ef8069fb15",
   "metadata": {},
   "outputs": [
    {
     "name": "stdout",
     "output_type": "stream",
     "text": [
      "Illicit transaction count: 14266\n",
      "Licit transaction count: 251088\n",
      "Unknown transaction count: 557588\n"
     ]
    }
   ],
   "source": [
    "illicit_count = wallet_classes[wallet_classes[\"class\"] == 1].shape[0]\n",
    "licit_count = wallet_classes[wallet_classes[\"class\"] == 2].shape[0]\n",
    "unknown_count = wallet_classes[wallet_classes[\"class\"] == 3].shape[0]\n",
    "\n",
    "print(f\"Illicit transaction count: {illicit_count}\")\n",
    "print(f\"Licit transaction count: {licit_count}\")\n",
    "print(f\"Unknown transaction count: {unknown_count}\")"
   ]
  },
  {
   "cell_type": "markdown",
   "id": "ed576794-a4e3-480f-aa25-73b7883d508f",
   "metadata": {},
   "source": [
    "Ok so the illicit and licit counts check out. When populating over time we will see that the counts should match up ot the total of wallet_features"
   ]
  },
  {
   "cell_type": "markdown",
   "id": "21b6cb92-cc30-463c-840b-eb7e55b75c60",
   "metadata": {},
   "source": [
    "#### 1.3. Let's inspect the address to address edges"
   ]
  },
  {
   "cell_type": "code",
   "execution_count": 17,
   "id": "edd2b611-9515-44d6-9eb0-1ae6448df808",
   "metadata": {},
   "outputs": [],
   "source": [
    "address_to_address = pd.read_csv(os.path.join(DATA_DIR, ADDRESS_TO_ADDRESS))"
   ]
  },
  {
   "cell_type": "code",
   "execution_count": 18,
   "id": "dd9d453c-0032-41ec-9083-957b36d92edc",
   "metadata": {},
   "outputs": [
    {
     "name": "stdout",
     "output_type": "stream",
     "text": [
      "2868964\n"
     ]
    }
   ],
   "source": [
    "print(address_to_address.shape[0])"
   ]
  },
  {
   "cell_type": "code",
   "execution_count": 19,
   "id": "a8910519-4bab-4a40-b509-92054d84bc60",
   "metadata": {},
   "outputs": [
    {
     "data": {
      "text/html": [
       "<div>\n",
       "<style scoped>\n",
       "    .dataframe tbody tr th:only-of-type {\n",
       "        vertical-align: middle;\n",
       "    }\n",
       "\n",
       "    .dataframe tbody tr th {\n",
       "        vertical-align: top;\n",
       "    }\n",
       "\n",
       "    .dataframe thead th {\n",
       "        text-align: right;\n",
       "    }\n",
       "</style>\n",
       "<table border=\"1\" class=\"dataframe\">\n",
       "  <thead>\n",
       "    <tr style=\"text-align: right;\">\n",
       "      <th></th>\n",
       "      <th>input_address</th>\n",
       "      <th>output_address</th>\n",
       "    </tr>\n",
       "  </thead>\n",
       "  <tbody>\n",
       "    <tr>\n",
       "      <th>0</th>\n",
       "      <td>14YRXHHof4BY1TVxN5FqYPcEdpmXiYT78a</td>\n",
       "      <td>1GASxu5nMntiRKdVtTVRvEbP965G51bhHH</td>\n",
       "    </tr>\n",
       "    <tr>\n",
       "      <th>1</th>\n",
       "      <td>14YRXHHof4BY1TVxN5FqYPcEdpmXiYT78a</td>\n",
       "      <td>14YRXHHof4BY1TVxN5FqYPcEdpmXiYT78a</td>\n",
       "    </tr>\n",
       "    <tr>\n",
       "      <th>2</th>\n",
       "      <td>13Lhad3SAmu2vqYg2dxbNcxH7LE77kJu2w</td>\n",
       "      <td>1GFdrdgtG34GChM8SMpMwcXFc4nYbH1A5G</td>\n",
       "    </tr>\n",
       "    <tr>\n",
       "      <th>3</th>\n",
       "      <td>1MAQQZn7EHP6J3erXByCciFiVcgS8ZhWqz</td>\n",
       "      <td>19q57SeCEzTnWrWVXA43nZzhSiXkYggh7c</td>\n",
       "    </tr>\n",
       "    <tr>\n",
       "      <th>4</th>\n",
       "      <td>1MAQQZn7EHP6J3erXByCciFiVcgS8ZhWqz</td>\n",
       "      <td>1Kk1NVYnCE8ALXDhgMM6HqTt1jDSvi6QBA</td>\n",
       "    </tr>\n",
       "  </tbody>\n",
       "</table>\n",
       "</div>"
      ],
      "text/plain": [
       "                        input_address                      output_address\n",
       "0  14YRXHHof4BY1TVxN5FqYPcEdpmXiYT78a  1GASxu5nMntiRKdVtTVRvEbP965G51bhHH\n",
       "1  14YRXHHof4BY1TVxN5FqYPcEdpmXiYT78a  14YRXHHof4BY1TVxN5FqYPcEdpmXiYT78a\n",
       "2  13Lhad3SAmu2vqYg2dxbNcxH7LE77kJu2w  1GFdrdgtG34GChM8SMpMwcXFc4nYbH1A5G\n",
       "3  1MAQQZn7EHP6J3erXByCciFiVcgS8ZhWqz  19q57SeCEzTnWrWVXA43nZzhSiXkYggh7c\n",
       "4  1MAQQZn7EHP6J3erXByCciFiVcgS8ZhWqz  1Kk1NVYnCE8ALXDhgMM6HqTt1jDSvi6QBA"
      ]
     },
     "execution_count": 19,
     "metadata": {},
     "output_type": "execute_result"
    }
   ],
   "source": [
    "address_to_address.head(5)"
   ]
  },
  {
   "cell_type": "markdown",
   "id": "d439bae1-3813-46fd-8569-09bd8f2f040c",
   "metadata": {},
   "source": [
    "Ok this is not enough, we want to have some edge features. Lets build this ourselves and include transaction features such as amount etc."
   ]
  },
  {
   "cell_type": "markdown",
   "id": "2f17d47d-a1ad-4316-9297-d51772f70cb2",
   "metadata": {},
   "source": [
    "## 2. Prepare an address-address transaction list with extra features (amount time etc)"
   ]
  },
  {
   "cell_type": "code",
   "execution_count": null,
   "id": "dcca45d8-4b02-4788-9b09-d575bb0311ef",
   "metadata": {},
   "outputs": [],
   "source": []
  }
 ],
 "metadata": {
  "kernelspec": {
   "display_name": "Python 3 (ipykernel)",
   "language": "python",
   "name": "python3"
  },
  "language_info": {
   "codemirror_mode": {
    "name": "ipython",
    "version": 3
   },
   "file_extension": ".py",
   "mimetype": "text/x-python",
   "name": "python",
   "nbconvert_exporter": "python",
   "pygments_lexer": "ipython3",
   "version": "3.11.13"
  }
 },
 "nbformat": 4,
 "nbformat_minor": 5
}
