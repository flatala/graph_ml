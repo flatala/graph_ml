{
 "cells": [
  {
   "cell_type": "markdown",
   "id": "0c3b11b5",
   "metadata": {},
   "source": [
    "# Comparison: Base GCN vs Edge-Weighted GCN for Illicit Activity Emergence Detection\n",
    "\n",
    "This notebook compares the performance of two GCN approaches:\n",
    "\n",
    "1. **Base GCN**: Uses standard binary adjacency (unweighted edges)\n",
    "2. **Edge-Weighted GCN**: Uses temporal edge weights with the three-step process:\n",
    "   - Within-step sum (aggregate transactions in same timestep)\n",
    "   - Exponential decay (emphasize recent transactions)  \n",
    "   - Temperature-softmax (normalize incoming weights)\n",
    "\n",
    "We evaluate both models on the same illicit activity emergence prediction task using identical hyperparameters and training procedures to ensure a fair comparison."
   ]
  },
  {
   "cell_type": "markdown",
   "id": "d4f2d5d7",
   "metadata": {},
   "source": [
    "## 1. Import Required Libraries and Setup"
   ]
  },
  {
   "cell_type": "code",
   "execution_count": 1,
   "id": "bcfd6895",
   "metadata": {},
   "outputs": [
    {
     "name": "stdout",
     "output_type": "stream",
     "text": [
      "Using device: mps\n"
     ]
    }
   ],
   "source": [
    "from pathlib import Path\n",
    "import sys\n",
    "import warnings\n",
    "warnings.filterwarnings('ignore')\n",
    "\n",
    "# Add root directory to path for imports\n",
    "ROOT = Path.cwd().parent\n",
    "sys.path.append(str(ROOT))\n",
    "\n",
    "# Core libraries\n",
    "import os\n",
    "import pandas as pd\n",
    "import numpy as np\n",
    "import matplotlib.pyplot as plt\n",
    "import seaborn as sns\n",
    "from tqdm import tqdm\n",
    "from collections import Counter\n",
    "import copy\n",
    "\n",
    "# PyTorch and PyTorch Geometric\n",
    "import torch\n",
    "import torch.nn.functional as F\n",
    "from torch_geometric.data import Data\n",
    "from torch_geometric.nn import GCNConv\n",
    "\n",
    "# Scikit-learn for metrics\n",
    "from sklearn.metrics import (\n",
    "    classification_report, confusion_matrix, roc_auc_score, \n",
    "    accuracy_score, precision_recall_fscore_support\n",
    ")\n",
    "\n",
    "# Our graph building functions\n",
    "from code_lib.graph_builder import (\n",
    "    build_emergence_graphs_for_time_range,\n",
    "    compute_temporal_edge_weights_with_defaults,\n",
    "    extract_node_features,\n",
    "    extract_node_classes,\n",
    "    build_edge_index\n",
    ")\n",
    "from code_lib.utils import load_parts\n",
    "\n",
    "# Set random seeds for reproducibility\n",
    "torch.manual_seed(42)\n",
    "np.random.seed(42)\n",
    "\n",
    "# Device configuration\n",
    "DEVICE = torch.device(\"mps\" if torch.backends.mps.is_available() else \n",
    "                      \"cuda\" if torch.cuda.is_available() else \"cpu\")\n",
    "print(f\"Using device: {DEVICE}\")\n",
    "\n",
    "# Set style for plots\n",
    "plt.style.use('default')\n",
    "sns.set_palette(\"husl\")"
   ]
  },
  {
   "cell_type": "markdown",
   "id": "fc1ef063",
   "metadata": {},
   "source": [
    "## 2. Load and Prepare Data"
   ]
  },
  {
   "cell_type": "code",
   "execution_count": 5,
   "id": "d2dbcd35",
   "metadata": {},
   "outputs": [
    {
     "name": "stdout",
     "output_type": "stream",
     "text": [
      "Loading Elliptic Dataset...\n",
      "  Loading wallet features...\n",
      "    Loaded 1268260 node feature records\n",
      "  Loading wallet classes...\n",
      "    Loaded 1268260 node feature records\n",
      "  Loading wallet classes...\n",
      "    Loaded 822942 node class records\n",
      "  Loading aggregated edge data...\n",
      "    Loaded 822942 node class records\n",
      "  Loading aggregated edge data...\n",
      "    Loaded 2868964 edge records\n",
      "    Loaded 2868964 edge records\n",
      "    Merged dataset has 1268260 node records\n",
      "\n",
      "Dataset Overview:\n",
      "  Time steps: 1 to 49\n",
      "  Unique addresses: 822942\n",
      "  Edge time steps: 1 to 49\n",
      "    Merged dataset has 1268260 node records\n",
      "\n",
      "Dataset Overview:\n",
      "  Time steps: 1 to 49\n",
      "  Unique addresses: 822942\n",
      "  Edge time steps: 1 to 49\n",
      "  Unique edge pairs: 2784344\n",
      "\n",
      "Class distribution:\n",
      "  Illicit (1): 14,266\n",
      "  Licit (2): 251,088\n",
      "  Unknown (3): 557,588\n",
      "\n",
      "Data loading completed ✓\n",
      "  Unique edge pairs: 2784344\n",
      "\n",
      "Class distribution:\n",
      "  Illicit (1): 14,266\n",
      "  Licit (2): 251,088\n",
      "  Unknown (3): 557,588\n",
      "\n",
      "Data loading completed ✓\n"
     ]
    }
   ],
   "source": [
    "# Data paths\n",
    "DATA_DIR = \"../elliptic_dataset\"\n",
    "WALLETS_FEATURES = \"wallets_features.csv\"\n",
    "WALLETS_CLASSES = \"wallets_classes.csv\"\n",
    "EDGES_PREFIX = \"AddrTxAddr_edgelist_part_\"\n",
    "\n",
    "print(\"Loading Elliptic Dataset...\")\n",
    "\n",
    "# Load node features and classes\n",
    "print(\"  Loading wallet features...\")\n",
    "nodes = pd.read_csv(os.path.join(DATA_DIR, WALLETS_FEATURES))\n",
    "print(f\"    Loaded {len(nodes)} node feature records\")\n",
    "\n",
    "print(\"  Loading wallet classes...\")\n",
    "node_labels = pd.read_csv(os.path.join(DATA_DIR, WALLETS_CLASSES))\n",
    "print(f\"    Loaded {len(node_labels)} node class records\")\n",
    "\n",
    "# Load edge data (aggregated address-to-address transactions)\n",
    "print(\"  Loading aggregated edge data...\")\n",
    "edges_with_edge_labels = load_parts(DATA_DIR, EDGES_PREFIX)\n",
    "print(f\"    Loaded {len(edges_with_edge_labels)} edge records\")\n",
    "\n",
    "# Merge node features with class labels\n",
    "nodes_with_labels = nodes.merge(node_labels, on='address', how='left')\n",
    "print(f\"    Merged dataset has {len(nodes_with_labels)} node records\")\n",
    "\n",
    "# Data overview\n",
    "print(f\"\\nDataset Overview:\")\n",
    "print(f\"  Time steps: {nodes['Time step'].min()} to {nodes['Time step'].max()}\")\n",
    "print(f\"  Unique addresses: {nodes['address'].nunique()}\")\n",
    "print(f\"  Edge time steps: {edges_with_edge_labels['Time step'].min()} to {edges_with_edge_labels['Time step'].max()}\")\n",
    "print(f\"  Unique edge pairs: {len(edges_with_edge_labels[['input_address', 'output_address']].drop_duplicates())}\")\n",
    "\n",
    "# Class distribution\n",
    "class_counts = node_labels['class'].value_counts().sort_index()\n",
    "print(f\"\\nClass distribution:\")\n",
    "for class_id, count in class_counts.items():\n",
    "    class_name = {1: 'Illicit', 2: 'Licit', 3: 'Unknown'}[class_id]\n",
    "    print(f\"  {class_name} ({class_id}): {count:,}\")\n",
    "\n",
    "print(\"\\nData loading completed ✓\")"
   ]
  },
  {
   "cell_type": "markdown",
   "id": "e12b40b8",
   "metadata": {},
   "source": [
    "## 3. Build Base and Edge-Weighted Graphs"
   ]
  },
  {
   "cell_type": "code",
   "execution_count": 7,
   "id": "6603040a",
   "metadata": {},
   "outputs": [
    {
     "name": "stdout",
     "output_type": "stream",
     "text": [
      "Building Base Graphs (Unweighted Edges)...\n",
      "==================================================\n",
      "Building graphs only for required timesteps: [20, 23, 30, 31, 34, 35, 39]\n"
     ]
    },
    {
     "name": "stderr",
     "output_type": "stream",
     "text": [
      "Building base graphs:   0%|          | 0/7 [00:00<?, ?it/s]"
     ]
    },
    {
     "name": "stdout",
     "output_type": "stream",
     "text": [
      "Total unique addresses across all time: 822942\n",
      "Total time steps: 49\n",
      "Generating 1 graphs (time steps 20 to 20)...\n",
      "\n",
      "Pre-processing edges by time step...\n",
      "Pre-processing edges by time step...\n",
      "\n",
      "Building graphs...\n"
     ]
    },
    {
     "name": "stderr",
     "output_type": "stream",
     "text": [
      "Building base graphs:  14%|█▍        | 1/7 [00:33<03:19, 33.24s/it]"
     ]
    },
    {
     "name": "stdout",
     "output_type": "stream",
     "text": [
      "  t=20: nodes=345524, edges=1084995, labels={0: 299479, 1: 46045}\n",
      "\n",
      "Stored 1 graphs\n",
      "Total unique addresses across all time: 822942\n",
      "Total time steps: 49\n",
      "Generating 1 graphs (time steps 23 to 23)...\n",
      "\n",
      "Pre-processing edges by time step...\n",
      "Pre-processing edges by time step...\n",
      "\n",
      "Building graphs...\n",
      "\n",
      "Building graphs...\n"
     ]
    },
    {
     "name": "stderr",
     "output_type": "stream",
     "text": [
      "Building base graphs:  29%|██▊       | 2/7 [01:09<02:56, 35.22s/it]"
     ]
    },
    {
     "name": "stdout",
     "output_type": "stream",
     "text": [
      "  t=23: nodes=408092, edges=1326365, labels={0: 358022, 1: 50070}\n",
      "\n",
      "Stored 1 graphs\n",
      "Total unique addresses across all time: 822942\n",
      "Total time steps: 49\n",
      "Generating 1 graphs (time steps 30 to 30)...\n",
      "\n",
      "Pre-processing edges by time step...\n",
      "Pre-processing edges by time step...\n",
      "\n",
      "Building graphs...\n",
      "\n",
      "Building graphs...\n"
     ]
    },
    {
     "name": "stderr",
     "output_type": "stream",
     "text": [
      "Building base graphs:  43%|████▎     | 3/7 [02:10<03:07, 46.99s/it]"
     ]
    },
    {
     "name": "stdout",
     "output_type": "stream",
     "text": [
      "  t=30: nodes=482733, edges=1525398, labels={0: 431834, 1: 50899}\n",
      "\n",
      "Stored 1 graphs\n",
      "Total unique addresses across all time: 822942\n",
      "Total time steps: 49\n",
      "Generating 1 graphs (time steps 31 to 31)...\n",
      "\n",
      "Pre-processing edges by time step...\n",
      "Pre-processing edges by time step...\n",
      "\n",
      "Building graphs...\n",
      "\n",
      "Building graphs...\n",
      "  t=31: nodes=495199, edges=1553241, labels={0: 425270, 1: 69929}\n",
      "\n",
      "Stored 1 graphs\n",
      "  t=31: nodes=495199, edges=1553241, labels={0: 425270, 1: 69929}\n",
      "\n",
      "Stored 1 graphs\n"
     ]
    },
    {
     "name": "stderr",
     "output_type": "stream",
     "text": [
      "Building base graphs:  57%|█████▋    | 4/7 [03:20<02:47, 55.80s/it]"
     ]
    },
    {
     "name": "stdout",
     "output_type": "stream",
     "text": [
      "Total unique addresses across all time: 822942\n",
      "Total time steps: 49\n",
      "Generating 1 graphs (time steps 34 to 34)...\n",
      "\n",
      "Pre-processing edges by time step...\n",
      "\n",
      "Building graphs...\n",
      "\n",
      "Building graphs...\n"
     ]
    },
    {
     "name": "stderr",
     "output_type": "stream",
     "text": [
      "Building base graphs:  71%|███████▏  | 5/7 [04:16<01:51, 55.99s/it]"
     ]
    },
    {
     "name": "stdout",
     "output_type": "stream",
     "text": [
      "  t=34: nodes=530840, edges=1810073, labels={0: 474089, 1: 56751}\n",
      "\n",
      "Stored 1 graphs\n",
      "Total unique addresses across all time: 822942\n",
      "Total time steps: 49\n",
      "Generating 1 graphs (time steps 35 to 35)...\n",
      "\n",
      "Pre-processing edges by time step...\n",
      "Pre-processing edges by time step...\n",
      "\n",
      "Building graphs...\n",
      "\n",
      "Building graphs...\n"
     ]
    },
    {
     "name": "stderr",
     "output_type": "stream",
     "text": [
      "Building base graphs:  86%|████████▌ | 6/7 [05:14<00:56, 56.53s/it]"
     ]
    },
    {
     "name": "stdout",
     "output_type": "stream",
     "text": [
      "  t=35: nodes=552376, edges=1860027, labels={0: 504824, 1: 47552}\n",
      "\n",
      "Stored 1 graphs\n",
      "Total unique addresses across all time: 822942\n",
      "Total time steps: 49\n",
      "Generating 1 graphs (time steps 39 to 39)...\n",
      "\n",
      "Pre-processing edges by time step...\n",
      "Pre-processing edges by time step...\n",
      "\n",
      "Building graphs...\n",
      "\n",
      "Building graphs...\n"
     ]
    },
    {
     "name": "stderr",
     "output_type": "stream",
     "text": [
      "Building base graphs: 100%|██████████| 7/7 [05:54<00:00, 50.62s/it]"
     ]
    },
    {
     "name": "stdout",
     "output_type": "stream",
     "text": [
      "  t=39: nodes=620835, edges=2011116, labels={0: 567500, 1: 53335}\n",
      "\n",
      "Stored 1 graphs\n",
      "\n",
      "Built 7 base graphs for timesteps: [20, 23, 30, 31, 34, 35, 39]\n",
      "Example base graph (t=20): 345524 nodes, 1084995 edges\n",
      "Base graph edge_attr: True\n"
     ]
    },
    {
     "name": "stderr",
     "output_type": "stream",
     "text": [
      "\n"
     ]
    }
   ],
   "source": [
    "# Graph building parameters\n",
    "FIRST_TIME_STEP = 1\n",
    "LAST_TIME_STEP = 49\n",
    "MAX_WALK_LENGTH = 2\n",
    "TIME_HORIZON = 3\n",
    "USE_DISTANCE_LABELS = False  # Binary labels for comparison\n",
    "\n",
    "# Training/testing split (same as baseline)\n",
    "TRAIN_START = 1\n",
    "TRAIN_END = 37\n",
    "EVAL_START = 40\n",
    "EVAL_END = 46\n",
    "\n",
    "# Specific timesteps we need (same as train_gcn_baseline.ipynb)\n",
    "# Train: indices [19, 22, 29, 30] = timesteps [20, 23, 30, 31]  \n",
    "# Test: indices [33, 34, 38] = timesteps [34, 35, 39]\n",
    "REQUIRED_TIMESTEPS = [20, 23, 30, 31, 34, 35, 39]\n",
    "\n",
    "print(\"Building Base Graphs (Unweighted Edges)...\")\n",
    "print(\"=\"*50)\n",
    "print(f\"Building graphs only for required timesteps: {REQUIRED_TIMESTEPS}\")\n",
    "\n",
    "# Build only the graphs we need for efficiency\n",
    "base_graphs = {}\n",
    "for timestep in tqdm(REQUIRED_TIMESTEPS, desc=\"Building base graphs\"):\n",
    "    graphs_for_timestep = build_emergence_graphs_for_time_range(\n",
    "        edges_with_labels_df=edges_with_edge_labels,\n",
    "        nodes_with_classes_df=nodes_with_labels,\n",
    "        first_time_step=timestep,\n",
    "        last_time_step=timestep,  # Build only this timestep\n",
    "        max_walk_length=MAX_WALK_LENGTH,\n",
    "        time_horizon=TIME_HORIZON,\n",
    "        use_distance_labels=USE_DISTANCE_LABELS,\n",
    "        keep_class_labels_as_features=False,\n",
    "        ignore_illict=True,\n",
    "        ignore_previously_transacting_with_illicit=True\n",
    "    )\n",
    "    base_graphs[timestep] = graphs_for_timestep[0]  # Should be only one graph\n",
    "\n",
    "print(f\"\\nBuilt {len(base_graphs)} base graphs for timesteps: {list(base_graphs.keys())}\")\n",
    "sample_timestep = REQUIRED_TIMESTEPS[0]\n",
    "sample_graph = base_graphs[sample_timestep]\n",
    "print(f\"Example base graph (t={sample_timestep}): {sample_graph.num_nodes} nodes, {sample_graph.edge_index.shape[1]} edges\")\n",
    "print(f\"Base graph edge_attr: {hasattr(sample_graph, 'edge_attr')}\")  # Should be False"
   ]
  },
  {
   "cell_type": "code",
   "execution_count": 12,
   "id": "44016981",
   "metadata": {},
   "outputs": [
    {
     "name": "stdout",
     "output_type": "stream",
     "text": [
      "\n",
      "Building Edge-Weighted Graphs (OPTIMIZED)...\n",
      "==================================================\n",
      "Building edge-weighted graphs for timesteps: [20, 23, 30, 31, 34, 35, 39]\n"
     ]
    },
    {
     "name": "stderr",
     "output_type": "stream",
     "text": [
      "Building weighted graphs:   0%|          | 0/7 [00:00<?, ?it/s]"
     ]
    },
    {
     "name": "stdout",
     "output_type": "stream",
     "text": [
      "\n",
      "Building Edge-Weighted Graphs (OPTIMIZED)...\n",
      "==================================================\n",
      "Building edge-weighted graphs for timesteps: [20, 23, 30, 31, 34, 35, 39]\n"
     ]
    },
    {
     "name": "stderr",
     "output_type": "stream",
     "text": [
      "Building weighted graphs:   0%|          | 0/7 [00:00<?, ?it/s]"
     ]
    },
    {
     "name": "stdout",
     "output_type": "stream",
     "text": [
      "\\n  Timestep 20: 1084995 edges, 345524 nodes\n",
      "    Edge weighting took: 5.00s\n",
      "    Edge weighting took: 5.00s\n"
     ]
    },
    {
     "name": "stdout",
     "output_type": "stream",
     "text": [
      "\n",
      "Building Edge-Weighted Graphs (OPTIMIZED)...\n",
      "==================================================\n",
      "Building edge-weighted graphs for timesteps: [20, 23, 30, 31, 34, 35, 39]\n"
     ]
    },
    {
     "name": "stderr",
     "output_type": "stream",
     "text": [
      "Building weighted graphs:   0%|          | 0/7 [00:00<?, ?it/s]"
     ]
    },
    {
     "name": "stdout",
     "output_type": "stream",
     "text": [
      "\\n  Timestep 20: 1084995 edges, 345524 nodes\n",
      "    Edge weighting took: 5.00s\n",
      "    Edge weighting took: 5.00s\n"
     ]
    },
    {
     "name": "stderr",
     "output_type": "stream",
     "text": [
      "Building weighted graphs:  14%|█▍        | 1/7 [00:12<01:12, 12.03s/it]"
     ]
    },
    {
     "name": "stdout",
     "output_type": "stream",
     "text": [
      "\n",
      "Building Edge-Weighted Graphs (OPTIMIZED)...\n",
      "==================================================\n",
      "Building edge-weighted graphs for timesteps: [20, 23, 30, 31, 34, 35, 39]\n"
     ]
    },
    {
     "name": "stderr",
     "output_type": "stream",
     "text": [
      "Building weighted graphs:   0%|          | 0/7 [00:00<?, ?it/s]"
     ]
    },
    {
     "name": "stdout",
     "output_type": "stream",
     "text": [
      "\\n  Timestep 20: 1084995 edges, 345524 nodes\n",
      "    Edge weighting took: 5.00s\n",
      "    Edge weighting took: 5.00s\n"
     ]
    },
    {
     "name": "stderr",
     "output_type": "stream",
     "text": [
      "Building weighted graphs:  14%|█▍        | 1/7 [00:12<01:12, 12.03s/it]"
     ]
    },
    {
     "name": "stdout",
     "output_type": "stream",
     "text": [
      "    Total time for timestep 20: 12.03s\n",
      "\\n  Timestep 23: 1326365 edges, 408092 nodes\n",
      "\\n  Timestep 23: 1326365 edges, 408092 nodes\n",
      "    Edge weighting took: 6.30s\n",
      "    Edge weighting took: 6.30s\n"
     ]
    },
    {
     "name": "stdout",
     "output_type": "stream",
     "text": [
      "\n",
      "Building Edge-Weighted Graphs (OPTIMIZED)...\n",
      "==================================================\n",
      "Building edge-weighted graphs for timesteps: [20, 23, 30, 31, 34, 35, 39]\n"
     ]
    },
    {
     "name": "stderr",
     "output_type": "stream",
     "text": [
      "Building weighted graphs:   0%|          | 0/7 [00:00<?, ?it/s]"
     ]
    },
    {
     "name": "stdout",
     "output_type": "stream",
     "text": [
      "\\n  Timestep 20: 1084995 edges, 345524 nodes\n",
      "    Edge weighting took: 5.00s\n",
      "    Edge weighting took: 5.00s\n"
     ]
    },
    {
     "name": "stderr",
     "output_type": "stream",
     "text": [
      "Building weighted graphs:  14%|█▍        | 1/7 [00:12<01:12, 12.03s/it]"
     ]
    },
    {
     "name": "stdout",
     "output_type": "stream",
     "text": [
      "    Total time for timestep 20: 12.03s\n",
      "\\n  Timestep 23: 1326365 edges, 408092 nodes\n",
      "\\n  Timestep 23: 1326365 edges, 408092 nodes\n",
      "    Edge weighting took: 6.30s\n",
      "    Edge weighting took: 6.30s\n"
     ]
    },
    {
     "name": "stderr",
     "output_type": "stream",
     "text": [
      "Building weighted graphs:  29%|██▊       | 2/7 [00:26<01:07, 13.48s/it]"
     ]
    },
    {
     "name": "stdout",
     "output_type": "stream",
     "text": [
      "\n",
      "Building Edge-Weighted Graphs (OPTIMIZED)...\n",
      "==================================================\n",
      "Building edge-weighted graphs for timesteps: [20, 23, 30, 31, 34, 35, 39]\n"
     ]
    },
    {
     "name": "stderr",
     "output_type": "stream",
     "text": [
      "Building weighted graphs:   0%|          | 0/7 [00:00<?, ?it/s]"
     ]
    },
    {
     "name": "stdout",
     "output_type": "stream",
     "text": [
      "\\n  Timestep 20: 1084995 edges, 345524 nodes\n",
      "    Edge weighting took: 5.00s\n",
      "    Edge weighting took: 5.00s\n"
     ]
    },
    {
     "name": "stderr",
     "output_type": "stream",
     "text": [
      "Building weighted graphs:  14%|█▍        | 1/7 [00:12<01:12, 12.03s/it]"
     ]
    },
    {
     "name": "stdout",
     "output_type": "stream",
     "text": [
      "    Total time for timestep 20: 12.03s\n",
      "\\n  Timestep 23: 1326365 edges, 408092 nodes\n",
      "\\n  Timestep 23: 1326365 edges, 408092 nodes\n",
      "    Edge weighting took: 6.30s\n",
      "    Edge weighting took: 6.30s\n"
     ]
    },
    {
     "name": "stderr",
     "output_type": "stream",
     "text": [
      "Building weighted graphs:  29%|██▊       | 2/7 [00:26<01:07, 13.48s/it]"
     ]
    },
    {
     "name": "stdout",
     "output_type": "stream",
     "text": [
      "    Total time for timestep 23: 14.50s\n",
      "\\n  Timestep 30: 1525398 edges, 482733 nodes\n",
      "\\n  Timestep 30: 1525398 edges, 482733 nodes\n",
      "    Edge weighting took: 7.06s\n",
      "    Edge weighting took: 7.06s\n"
     ]
    },
    {
     "name": "stdout",
     "output_type": "stream",
     "text": [
      "\n",
      "Building Edge-Weighted Graphs (OPTIMIZED)...\n",
      "==================================================\n",
      "Building edge-weighted graphs for timesteps: [20, 23, 30, 31, 34, 35, 39]\n"
     ]
    },
    {
     "name": "stderr",
     "output_type": "stream",
     "text": [
      "Building weighted graphs:   0%|          | 0/7 [00:00<?, ?it/s]"
     ]
    },
    {
     "name": "stdout",
     "output_type": "stream",
     "text": [
      "\\n  Timestep 20: 1084995 edges, 345524 nodes\n",
      "    Edge weighting took: 5.00s\n",
      "    Edge weighting took: 5.00s\n"
     ]
    },
    {
     "name": "stderr",
     "output_type": "stream",
     "text": [
      "Building weighted graphs:  14%|█▍        | 1/7 [00:12<01:12, 12.03s/it]"
     ]
    },
    {
     "name": "stdout",
     "output_type": "stream",
     "text": [
      "    Total time for timestep 20: 12.03s\n",
      "\\n  Timestep 23: 1326365 edges, 408092 nodes\n",
      "\\n  Timestep 23: 1326365 edges, 408092 nodes\n",
      "    Edge weighting took: 6.30s\n",
      "    Edge weighting took: 6.30s\n"
     ]
    },
    {
     "name": "stderr",
     "output_type": "stream",
     "text": [
      "Building weighted graphs:  29%|██▊       | 2/7 [00:26<01:07, 13.48s/it]"
     ]
    },
    {
     "name": "stdout",
     "output_type": "stream",
     "text": [
      "    Total time for timestep 23: 14.50s\n",
      "\\n  Timestep 30: 1525398 edges, 482733 nodes\n",
      "\\n  Timestep 30: 1525398 edges, 482733 nodes\n",
      "    Edge weighting took: 7.06s\n",
      "    Edge weighting took: 7.06s\n"
     ]
    },
    {
     "name": "stderr",
     "output_type": "stream",
     "text": [
      "Building weighted graphs:  43%|████▎     | 3/7 [00:43<00:59, 14.89s/it]"
     ]
    },
    {
     "name": "stdout",
     "output_type": "stream",
     "text": [
      "\n",
      "Building Edge-Weighted Graphs (OPTIMIZED)...\n",
      "==================================================\n",
      "Building edge-weighted graphs for timesteps: [20, 23, 30, 31, 34, 35, 39]\n"
     ]
    },
    {
     "name": "stderr",
     "output_type": "stream",
     "text": [
      "Building weighted graphs:   0%|          | 0/7 [00:00<?, ?it/s]"
     ]
    },
    {
     "name": "stdout",
     "output_type": "stream",
     "text": [
      "\\n  Timestep 20: 1084995 edges, 345524 nodes\n",
      "    Edge weighting took: 5.00s\n",
      "    Edge weighting took: 5.00s\n"
     ]
    },
    {
     "name": "stderr",
     "output_type": "stream",
     "text": [
      "Building weighted graphs:  14%|█▍        | 1/7 [00:12<01:12, 12.03s/it]"
     ]
    },
    {
     "name": "stdout",
     "output_type": "stream",
     "text": [
      "    Total time for timestep 20: 12.03s\n",
      "\\n  Timestep 23: 1326365 edges, 408092 nodes\n",
      "\\n  Timestep 23: 1326365 edges, 408092 nodes\n",
      "    Edge weighting took: 6.30s\n",
      "    Edge weighting took: 6.30s\n"
     ]
    },
    {
     "name": "stderr",
     "output_type": "stream",
     "text": [
      "Building weighted graphs:  29%|██▊       | 2/7 [00:26<01:07, 13.48s/it]"
     ]
    },
    {
     "name": "stdout",
     "output_type": "stream",
     "text": [
      "    Total time for timestep 23: 14.50s\n",
      "\\n  Timestep 30: 1525398 edges, 482733 nodes\n",
      "\\n  Timestep 30: 1525398 edges, 482733 nodes\n",
      "    Edge weighting took: 7.06s\n",
      "    Edge weighting took: 7.06s\n"
     ]
    },
    {
     "name": "stderr",
     "output_type": "stream",
     "text": [
      "Building weighted graphs:  43%|████▎     | 3/7 [00:43<00:59, 14.89s/it]"
     ]
    },
    {
     "name": "stdout",
     "output_type": "stream",
     "text": [
      "    Total time for timestep 30: 16.56s\n",
      "\\n  Timestep 31: 1553241 edges, 495199 nodes\n",
      "\\n  Timestep 31: 1553241 edges, 495199 nodes\n",
      "    Edge weighting took: 7.34s\n",
      "    Edge weighting took: 7.34s\n"
     ]
    },
    {
     "name": "stdout",
     "output_type": "stream",
     "text": [
      "\n",
      "Building Edge-Weighted Graphs (OPTIMIZED)...\n",
      "==================================================\n",
      "Building edge-weighted graphs for timesteps: [20, 23, 30, 31, 34, 35, 39]\n"
     ]
    },
    {
     "name": "stderr",
     "output_type": "stream",
     "text": [
      "Building weighted graphs:   0%|          | 0/7 [00:00<?, ?it/s]"
     ]
    },
    {
     "name": "stdout",
     "output_type": "stream",
     "text": [
      "\\n  Timestep 20: 1084995 edges, 345524 nodes\n",
      "    Edge weighting took: 5.00s\n",
      "    Edge weighting took: 5.00s\n"
     ]
    },
    {
     "name": "stderr",
     "output_type": "stream",
     "text": [
      "Building weighted graphs:  14%|█▍        | 1/7 [00:12<01:12, 12.03s/it]"
     ]
    },
    {
     "name": "stdout",
     "output_type": "stream",
     "text": [
      "    Total time for timestep 20: 12.03s\n",
      "\\n  Timestep 23: 1326365 edges, 408092 nodes\n",
      "\\n  Timestep 23: 1326365 edges, 408092 nodes\n",
      "    Edge weighting took: 6.30s\n",
      "    Edge weighting took: 6.30s\n"
     ]
    },
    {
     "name": "stderr",
     "output_type": "stream",
     "text": [
      "Building weighted graphs:  29%|██▊       | 2/7 [00:26<01:07, 13.48s/it]"
     ]
    },
    {
     "name": "stdout",
     "output_type": "stream",
     "text": [
      "    Total time for timestep 23: 14.50s\n",
      "\\n  Timestep 30: 1525398 edges, 482733 nodes\n",
      "\\n  Timestep 30: 1525398 edges, 482733 nodes\n",
      "    Edge weighting took: 7.06s\n",
      "    Edge weighting took: 7.06s\n"
     ]
    },
    {
     "name": "stderr",
     "output_type": "stream",
     "text": [
      "Building weighted graphs:  43%|████▎     | 3/7 [00:43<00:59, 14.89s/it]"
     ]
    },
    {
     "name": "stdout",
     "output_type": "stream",
     "text": [
      "    Total time for timestep 30: 16.56s\n",
      "\\n  Timestep 31: 1553241 edges, 495199 nodes\n",
      "\\n  Timestep 31: 1553241 edges, 495199 nodes\n",
      "    Edge weighting took: 7.34s\n",
      "    Edge weighting took: 7.34s\n"
     ]
    },
    {
     "name": "stderr",
     "output_type": "stream",
     "text": [
      "Building weighted graphs:  57%|█████▋    | 4/7 [00:59<00:46, 15.48s/it]"
     ]
    },
    {
     "name": "stdout",
     "output_type": "stream",
     "text": [
      "\n",
      "Building Edge-Weighted Graphs (OPTIMIZED)...\n",
      "==================================================\n",
      "Building edge-weighted graphs for timesteps: [20, 23, 30, 31, 34, 35, 39]\n"
     ]
    },
    {
     "name": "stderr",
     "output_type": "stream",
     "text": [
      "Building weighted graphs:   0%|          | 0/7 [00:00<?, ?it/s]"
     ]
    },
    {
     "name": "stdout",
     "output_type": "stream",
     "text": [
      "\\n  Timestep 20: 1084995 edges, 345524 nodes\n",
      "    Edge weighting took: 5.00s\n",
      "    Edge weighting took: 5.00s\n"
     ]
    },
    {
     "name": "stderr",
     "output_type": "stream",
     "text": [
      "Building weighted graphs:  14%|█▍        | 1/7 [00:12<01:12, 12.03s/it]"
     ]
    },
    {
     "name": "stdout",
     "output_type": "stream",
     "text": [
      "    Total time for timestep 20: 12.03s\n",
      "\\n  Timestep 23: 1326365 edges, 408092 nodes\n",
      "\\n  Timestep 23: 1326365 edges, 408092 nodes\n",
      "    Edge weighting took: 6.30s\n",
      "    Edge weighting took: 6.30s\n"
     ]
    },
    {
     "name": "stderr",
     "output_type": "stream",
     "text": [
      "Building weighted graphs:  29%|██▊       | 2/7 [00:26<01:07, 13.48s/it]"
     ]
    },
    {
     "name": "stdout",
     "output_type": "stream",
     "text": [
      "    Total time for timestep 23: 14.50s\n",
      "\\n  Timestep 30: 1525398 edges, 482733 nodes\n",
      "\\n  Timestep 30: 1525398 edges, 482733 nodes\n",
      "    Edge weighting took: 7.06s\n",
      "    Edge weighting took: 7.06s\n"
     ]
    },
    {
     "name": "stderr",
     "output_type": "stream",
     "text": [
      "Building weighted graphs:  43%|████▎     | 3/7 [00:43<00:59, 14.89s/it]"
     ]
    },
    {
     "name": "stdout",
     "output_type": "stream",
     "text": [
      "    Total time for timestep 30: 16.56s\n",
      "\\n  Timestep 31: 1553241 edges, 495199 nodes\n",
      "\\n  Timestep 31: 1553241 edges, 495199 nodes\n",
      "    Edge weighting took: 7.34s\n",
      "    Edge weighting took: 7.34s\n"
     ]
    },
    {
     "name": "stderr",
     "output_type": "stream",
     "text": [
      "Building weighted graphs:  57%|█████▋    | 4/7 [00:59<00:46, 15.48s/it]"
     ]
    },
    {
     "name": "stdout",
     "output_type": "stream",
     "text": [
      "    Total time for timestep 31: 16.40s\n",
      "\\n  Timestep 34: 1810073 edges, 530840 nodes\n",
      "\\n  Timestep 34: 1810073 edges, 530840 nodes\n",
      "    Edge weighting took: 8.55s\n",
      "    Edge weighting took: 8.55s\n"
     ]
    },
    {
     "name": "stdout",
     "output_type": "stream",
     "text": [
      "\n",
      "Building Edge-Weighted Graphs (OPTIMIZED)...\n",
      "==================================================\n",
      "Building edge-weighted graphs for timesteps: [20, 23, 30, 31, 34, 35, 39]\n"
     ]
    },
    {
     "name": "stderr",
     "output_type": "stream",
     "text": [
      "Building weighted graphs:   0%|          | 0/7 [00:00<?, ?it/s]"
     ]
    },
    {
     "name": "stdout",
     "output_type": "stream",
     "text": [
      "\\n  Timestep 20: 1084995 edges, 345524 nodes\n",
      "    Edge weighting took: 5.00s\n",
      "    Edge weighting took: 5.00s\n"
     ]
    },
    {
     "name": "stderr",
     "output_type": "stream",
     "text": [
      "Building weighted graphs:  14%|█▍        | 1/7 [00:12<01:12, 12.03s/it]"
     ]
    },
    {
     "name": "stdout",
     "output_type": "stream",
     "text": [
      "    Total time for timestep 20: 12.03s\n",
      "\\n  Timestep 23: 1326365 edges, 408092 nodes\n",
      "\\n  Timestep 23: 1326365 edges, 408092 nodes\n",
      "    Edge weighting took: 6.30s\n",
      "    Edge weighting took: 6.30s\n"
     ]
    },
    {
     "name": "stderr",
     "output_type": "stream",
     "text": [
      "Building weighted graphs:  29%|██▊       | 2/7 [00:26<01:07, 13.48s/it]"
     ]
    },
    {
     "name": "stdout",
     "output_type": "stream",
     "text": [
      "    Total time for timestep 23: 14.50s\n",
      "\\n  Timestep 30: 1525398 edges, 482733 nodes\n",
      "\\n  Timestep 30: 1525398 edges, 482733 nodes\n",
      "    Edge weighting took: 7.06s\n",
      "    Edge weighting took: 7.06s\n"
     ]
    },
    {
     "name": "stderr",
     "output_type": "stream",
     "text": [
      "Building weighted graphs:  43%|████▎     | 3/7 [00:43<00:59, 14.89s/it]"
     ]
    },
    {
     "name": "stdout",
     "output_type": "stream",
     "text": [
      "    Total time for timestep 30: 16.56s\n",
      "\\n  Timestep 31: 1553241 edges, 495199 nodes\n",
      "\\n  Timestep 31: 1553241 edges, 495199 nodes\n",
      "    Edge weighting took: 7.34s\n",
      "    Edge weighting took: 7.34s\n"
     ]
    },
    {
     "name": "stderr",
     "output_type": "stream",
     "text": [
      "Building weighted graphs:  57%|█████▋    | 4/7 [00:59<00:46, 15.48s/it]"
     ]
    },
    {
     "name": "stdout",
     "output_type": "stream",
     "text": [
      "    Total time for timestep 31: 16.40s\n",
      "\\n  Timestep 34: 1810073 edges, 530840 nodes\n",
      "\\n  Timestep 34: 1810073 edges, 530840 nodes\n",
      "    Edge weighting took: 8.55s\n",
      "    Edge weighting took: 8.55s\n"
     ]
    },
    {
     "name": "stderr",
     "output_type": "stream",
     "text": [
      "Building weighted graphs:  71%|███████▏  | 5/7 [01:18<00:33, 16.59s/it]"
     ]
    },
    {
     "name": "stdout",
     "output_type": "stream",
     "text": [
      "\n",
      "Building Edge-Weighted Graphs (OPTIMIZED)...\n",
      "==================================================\n",
      "Building edge-weighted graphs for timesteps: [20, 23, 30, 31, 34, 35, 39]\n"
     ]
    },
    {
     "name": "stderr",
     "output_type": "stream",
     "text": [
      "Building weighted graphs:   0%|          | 0/7 [00:00<?, ?it/s]"
     ]
    },
    {
     "name": "stdout",
     "output_type": "stream",
     "text": [
      "\\n  Timestep 20: 1084995 edges, 345524 nodes\n",
      "    Edge weighting took: 5.00s\n",
      "    Edge weighting took: 5.00s\n"
     ]
    },
    {
     "name": "stderr",
     "output_type": "stream",
     "text": [
      "Building weighted graphs:  14%|█▍        | 1/7 [00:12<01:12, 12.03s/it]"
     ]
    },
    {
     "name": "stdout",
     "output_type": "stream",
     "text": [
      "    Total time for timestep 20: 12.03s\n",
      "\\n  Timestep 23: 1326365 edges, 408092 nodes\n",
      "\\n  Timestep 23: 1326365 edges, 408092 nodes\n",
      "    Edge weighting took: 6.30s\n",
      "    Edge weighting took: 6.30s\n"
     ]
    },
    {
     "name": "stderr",
     "output_type": "stream",
     "text": [
      "Building weighted graphs:  29%|██▊       | 2/7 [00:26<01:07, 13.48s/it]"
     ]
    },
    {
     "name": "stdout",
     "output_type": "stream",
     "text": [
      "    Total time for timestep 23: 14.50s\n",
      "\\n  Timestep 30: 1525398 edges, 482733 nodes\n",
      "\\n  Timestep 30: 1525398 edges, 482733 nodes\n",
      "    Edge weighting took: 7.06s\n",
      "    Edge weighting took: 7.06s\n"
     ]
    },
    {
     "name": "stderr",
     "output_type": "stream",
     "text": [
      "Building weighted graphs:  43%|████▎     | 3/7 [00:43<00:59, 14.89s/it]"
     ]
    },
    {
     "name": "stdout",
     "output_type": "stream",
     "text": [
      "    Total time for timestep 30: 16.56s\n",
      "\\n  Timestep 31: 1553241 edges, 495199 nodes\n",
      "\\n  Timestep 31: 1553241 edges, 495199 nodes\n",
      "    Edge weighting took: 7.34s\n",
      "    Edge weighting took: 7.34s\n"
     ]
    },
    {
     "name": "stderr",
     "output_type": "stream",
     "text": [
      "Building weighted graphs:  57%|█████▋    | 4/7 [00:59<00:46, 15.48s/it]"
     ]
    },
    {
     "name": "stdout",
     "output_type": "stream",
     "text": [
      "    Total time for timestep 31: 16.40s\n",
      "\\n  Timestep 34: 1810073 edges, 530840 nodes\n",
      "\\n  Timestep 34: 1810073 edges, 530840 nodes\n",
      "    Edge weighting took: 8.55s\n",
      "    Edge weighting took: 8.55s\n"
     ]
    },
    {
     "name": "stderr",
     "output_type": "stream",
     "text": [
      "Building weighted graphs:  71%|███████▏  | 5/7 [01:18<00:33, 16.59s/it]"
     ]
    },
    {
     "name": "stdout",
     "output_type": "stream",
     "text": [
      "    Total time for timestep 34: 18.56s\n",
      "\\n  Timestep 35: 1860027 edges, 552376 nodes\n",
      "\\n  Timestep 35: 1860027 edges, 552376 nodes\n",
      "    Edge weighting took: 8.74s\n",
      "    Edge weighting took: 8.74s\n"
     ]
    },
    {
     "name": "stdout",
     "output_type": "stream",
     "text": [
      "\n",
      "Building Edge-Weighted Graphs (OPTIMIZED)...\n",
      "==================================================\n",
      "Building edge-weighted graphs for timesteps: [20, 23, 30, 31, 34, 35, 39]\n"
     ]
    },
    {
     "name": "stderr",
     "output_type": "stream",
     "text": [
      "Building weighted graphs:   0%|          | 0/7 [00:00<?, ?it/s]"
     ]
    },
    {
     "name": "stdout",
     "output_type": "stream",
     "text": [
      "\\n  Timestep 20: 1084995 edges, 345524 nodes\n",
      "    Edge weighting took: 5.00s\n",
      "    Edge weighting took: 5.00s\n"
     ]
    },
    {
     "name": "stderr",
     "output_type": "stream",
     "text": [
      "Building weighted graphs:  14%|█▍        | 1/7 [00:12<01:12, 12.03s/it]"
     ]
    },
    {
     "name": "stdout",
     "output_type": "stream",
     "text": [
      "    Total time for timestep 20: 12.03s\n",
      "\\n  Timestep 23: 1326365 edges, 408092 nodes\n",
      "\\n  Timestep 23: 1326365 edges, 408092 nodes\n",
      "    Edge weighting took: 6.30s\n",
      "    Edge weighting took: 6.30s\n"
     ]
    },
    {
     "name": "stderr",
     "output_type": "stream",
     "text": [
      "Building weighted graphs:  29%|██▊       | 2/7 [00:26<01:07, 13.48s/it]"
     ]
    },
    {
     "name": "stdout",
     "output_type": "stream",
     "text": [
      "    Total time for timestep 23: 14.50s\n",
      "\\n  Timestep 30: 1525398 edges, 482733 nodes\n",
      "\\n  Timestep 30: 1525398 edges, 482733 nodes\n",
      "    Edge weighting took: 7.06s\n",
      "    Edge weighting took: 7.06s\n"
     ]
    },
    {
     "name": "stderr",
     "output_type": "stream",
     "text": [
      "Building weighted graphs:  43%|████▎     | 3/7 [00:43<00:59, 14.89s/it]"
     ]
    },
    {
     "name": "stdout",
     "output_type": "stream",
     "text": [
      "    Total time for timestep 30: 16.56s\n",
      "\\n  Timestep 31: 1553241 edges, 495199 nodes\n",
      "\\n  Timestep 31: 1553241 edges, 495199 nodes\n",
      "    Edge weighting took: 7.34s\n",
      "    Edge weighting took: 7.34s\n"
     ]
    },
    {
     "name": "stderr",
     "output_type": "stream",
     "text": [
      "Building weighted graphs:  57%|█████▋    | 4/7 [00:59<00:46, 15.48s/it]"
     ]
    },
    {
     "name": "stdout",
     "output_type": "stream",
     "text": [
      "    Total time for timestep 31: 16.40s\n",
      "\\n  Timestep 34: 1810073 edges, 530840 nodes\n",
      "\\n  Timestep 34: 1810073 edges, 530840 nodes\n",
      "    Edge weighting took: 8.55s\n",
      "    Edge weighting took: 8.55s\n"
     ]
    },
    {
     "name": "stderr",
     "output_type": "stream",
     "text": [
      "Building weighted graphs:  71%|███████▏  | 5/7 [01:18<00:33, 16.59s/it]"
     ]
    },
    {
     "name": "stdout",
     "output_type": "stream",
     "text": [
      "    Total time for timestep 34: 18.56s\n",
      "\\n  Timestep 35: 1860027 edges, 552376 nodes\n",
      "\\n  Timestep 35: 1860027 edges, 552376 nodes\n",
      "    Edge weighting took: 8.74s\n",
      "    Edge weighting took: 8.74s\n"
     ]
    },
    {
     "name": "stderr",
     "output_type": "stream",
     "text": [
      "Building weighted graphs:  86%|████████▌ | 6/7 [01:37<00:17, 17.43s/it]"
     ]
    },
    {
     "name": "stdout",
     "output_type": "stream",
     "text": [
      "\n",
      "Building Edge-Weighted Graphs (OPTIMIZED)...\n",
      "==================================================\n",
      "Building edge-weighted graphs for timesteps: [20, 23, 30, 31, 34, 35, 39]\n"
     ]
    },
    {
     "name": "stderr",
     "output_type": "stream",
     "text": [
      "Building weighted graphs:   0%|          | 0/7 [00:00<?, ?it/s]"
     ]
    },
    {
     "name": "stdout",
     "output_type": "stream",
     "text": [
      "\\n  Timestep 20: 1084995 edges, 345524 nodes\n",
      "    Edge weighting took: 5.00s\n",
      "    Edge weighting took: 5.00s\n"
     ]
    },
    {
     "name": "stderr",
     "output_type": "stream",
     "text": [
      "Building weighted graphs:  14%|█▍        | 1/7 [00:12<01:12, 12.03s/it]"
     ]
    },
    {
     "name": "stdout",
     "output_type": "stream",
     "text": [
      "    Total time for timestep 20: 12.03s\n",
      "\\n  Timestep 23: 1326365 edges, 408092 nodes\n",
      "\\n  Timestep 23: 1326365 edges, 408092 nodes\n",
      "    Edge weighting took: 6.30s\n",
      "    Edge weighting took: 6.30s\n"
     ]
    },
    {
     "name": "stderr",
     "output_type": "stream",
     "text": [
      "Building weighted graphs:  29%|██▊       | 2/7 [00:26<01:07, 13.48s/it]"
     ]
    },
    {
     "name": "stdout",
     "output_type": "stream",
     "text": [
      "    Total time for timestep 23: 14.50s\n",
      "\\n  Timestep 30: 1525398 edges, 482733 nodes\n",
      "\\n  Timestep 30: 1525398 edges, 482733 nodes\n",
      "    Edge weighting took: 7.06s\n",
      "    Edge weighting took: 7.06s\n"
     ]
    },
    {
     "name": "stderr",
     "output_type": "stream",
     "text": [
      "Building weighted graphs:  43%|████▎     | 3/7 [00:43<00:59, 14.89s/it]"
     ]
    },
    {
     "name": "stdout",
     "output_type": "stream",
     "text": [
      "    Total time for timestep 30: 16.56s\n",
      "\\n  Timestep 31: 1553241 edges, 495199 nodes\n",
      "\\n  Timestep 31: 1553241 edges, 495199 nodes\n",
      "    Edge weighting took: 7.34s\n",
      "    Edge weighting took: 7.34s\n"
     ]
    },
    {
     "name": "stderr",
     "output_type": "stream",
     "text": [
      "Building weighted graphs:  57%|█████▋    | 4/7 [00:59<00:46, 15.48s/it]"
     ]
    },
    {
     "name": "stdout",
     "output_type": "stream",
     "text": [
      "    Total time for timestep 31: 16.40s\n",
      "\\n  Timestep 34: 1810073 edges, 530840 nodes\n",
      "\\n  Timestep 34: 1810073 edges, 530840 nodes\n",
      "    Edge weighting took: 8.55s\n",
      "    Edge weighting took: 8.55s\n"
     ]
    },
    {
     "name": "stderr",
     "output_type": "stream",
     "text": [
      "Building weighted graphs:  71%|███████▏  | 5/7 [01:18<00:33, 16.59s/it]"
     ]
    },
    {
     "name": "stdout",
     "output_type": "stream",
     "text": [
      "    Total time for timestep 34: 18.56s\n",
      "\\n  Timestep 35: 1860027 edges, 552376 nodes\n",
      "\\n  Timestep 35: 1860027 edges, 552376 nodes\n",
      "    Edge weighting took: 8.74s\n",
      "    Edge weighting took: 8.74s\n"
     ]
    },
    {
     "name": "stderr",
     "output_type": "stream",
     "text": [
      "Building weighted graphs:  86%|████████▌ | 6/7 [01:37<00:17, 17.43s/it]"
     ]
    },
    {
     "name": "stdout",
     "output_type": "stream",
     "text": [
      "    Total time for timestep 35: 19.05s\n",
      "\\n  Timestep 39: 2011116 edges, 620835 nodes\n",
      "\\n  Timestep 39: 2011116 edges, 620835 nodes\n",
      "    Edge weighting took: 9.66s\n",
      "    Edge weighting took: 9.66s\n"
     ]
    },
    {
     "name": "stdout",
     "output_type": "stream",
     "text": [
      "\n",
      "Building Edge-Weighted Graphs (OPTIMIZED)...\n",
      "==================================================\n",
      "Building edge-weighted graphs for timesteps: [20, 23, 30, 31, 34, 35, 39]\n"
     ]
    },
    {
     "name": "stderr",
     "output_type": "stream",
     "text": [
      "Building weighted graphs:   0%|          | 0/7 [00:00<?, ?it/s]"
     ]
    },
    {
     "name": "stdout",
     "output_type": "stream",
     "text": [
      "\\n  Timestep 20: 1084995 edges, 345524 nodes\n",
      "    Edge weighting took: 5.00s\n",
      "    Edge weighting took: 5.00s\n"
     ]
    },
    {
     "name": "stderr",
     "output_type": "stream",
     "text": [
      "Building weighted graphs:  14%|█▍        | 1/7 [00:12<01:12, 12.03s/it]"
     ]
    },
    {
     "name": "stdout",
     "output_type": "stream",
     "text": [
      "    Total time for timestep 20: 12.03s\n",
      "\\n  Timestep 23: 1326365 edges, 408092 nodes\n",
      "\\n  Timestep 23: 1326365 edges, 408092 nodes\n",
      "    Edge weighting took: 6.30s\n",
      "    Edge weighting took: 6.30s\n"
     ]
    },
    {
     "name": "stderr",
     "output_type": "stream",
     "text": [
      "Building weighted graphs:  29%|██▊       | 2/7 [00:26<01:07, 13.48s/it]"
     ]
    },
    {
     "name": "stdout",
     "output_type": "stream",
     "text": [
      "    Total time for timestep 23: 14.50s\n",
      "\\n  Timestep 30: 1525398 edges, 482733 nodes\n",
      "\\n  Timestep 30: 1525398 edges, 482733 nodes\n",
      "    Edge weighting took: 7.06s\n",
      "    Edge weighting took: 7.06s\n"
     ]
    },
    {
     "name": "stderr",
     "output_type": "stream",
     "text": [
      "Building weighted graphs:  43%|████▎     | 3/7 [00:43<00:59, 14.89s/it]"
     ]
    },
    {
     "name": "stdout",
     "output_type": "stream",
     "text": [
      "    Total time for timestep 30: 16.56s\n",
      "\\n  Timestep 31: 1553241 edges, 495199 nodes\n",
      "\\n  Timestep 31: 1553241 edges, 495199 nodes\n",
      "    Edge weighting took: 7.34s\n",
      "    Edge weighting took: 7.34s\n"
     ]
    },
    {
     "name": "stderr",
     "output_type": "stream",
     "text": [
      "Building weighted graphs:  57%|█████▋    | 4/7 [00:59<00:46, 15.48s/it]"
     ]
    },
    {
     "name": "stdout",
     "output_type": "stream",
     "text": [
      "    Total time for timestep 31: 16.40s\n",
      "\\n  Timestep 34: 1810073 edges, 530840 nodes\n",
      "\\n  Timestep 34: 1810073 edges, 530840 nodes\n",
      "    Edge weighting took: 8.55s\n",
      "    Edge weighting took: 8.55s\n"
     ]
    },
    {
     "name": "stderr",
     "output_type": "stream",
     "text": [
      "Building weighted graphs:  71%|███████▏  | 5/7 [01:18<00:33, 16.59s/it]"
     ]
    },
    {
     "name": "stdout",
     "output_type": "stream",
     "text": [
      "    Total time for timestep 34: 18.56s\n",
      "\\n  Timestep 35: 1860027 edges, 552376 nodes\n",
      "\\n  Timestep 35: 1860027 edges, 552376 nodes\n",
      "    Edge weighting took: 8.74s\n",
      "    Edge weighting took: 8.74s\n"
     ]
    },
    {
     "name": "stderr",
     "output_type": "stream",
     "text": [
      "Building weighted graphs:  86%|████████▌ | 6/7 [01:37<00:17, 17.43s/it]"
     ]
    },
    {
     "name": "stdout",
     "output_type": "stream",
     "text": [
      "    Total time for timestep 35: 19.05s\n",
      "\\n  Timestep 39: 2011116 edges, 620835 nodes\n",
      "\\n  Timestep 39: 2011116 edges, 620835 nodes\n",
      "    Edge weighting took: 9.66s\n",
      "    Edge weighting took: 9.66s\n"
     ]
    },
    {
     "name": "stderr",
     "output_type": "stream",
     "text": [
      "Building weighted graphs: 100%|██████████| 7/7 [01:58<00:00, 16.94s/it]"
     ]
    },
    {
     "name": "stdout",
     "output_type": "stream",
     "text": [
      "\n",
      "Building Edge-Weighted Graphs (OPTIMIZED)...\n",
      "==================================================\n",
      "Building edge-weighted graphs for timesteps: [20, 23, 30, 31, 34, 35, 39]\n"
     ]
    },
    {
     "name": "stderr",
     "output_type": "stream",
     "text": [
      "Building weighted graphs:   0%|          | 0/7 [00:00<?, ?it/s]"
     ]
    },
    {
     "name": "stdout",
     "output_type": "stream",
     "text": [
      "\\n  Timestep 20: 1084995 edges, 345524 nodes\n",
      "    Edge weighting took: 5.00s\n",
      "    Edge weighting took: 5.00s\n"
     ]
    },
    {
     "name": "stderr",
     "output_type": "stream",
     "text": [
      "Building weighted graphs:  14%|█▍        | 1/7 [00:12<01:12, 12.03s/it]"
     ]
    },
    {
     "name": "stdout",
     "output_type": "stream",
     "text": [
      "    Total time for timestep 20: 12.03s\n",
      "\\n  Timestep 23: 1326365 edges, 408092 nodes\n",
      "\\n  Timestep 23: 1326365 edges, 408092 nodes\n",
      "    Edge weighting took: 6.30s\n",
      "    Edge weighting took: 6.30s\n"
     ]
    },
    {
     "name": "stderr",
     "output_type": "stream",
     "text": [
      "Building weighted graphs:  29%|██▊       | 2/7 [00:26<01:07, 13.48s/it]"
     ]
    },
    {
     "name": "stdout",
     "output_type": "stream",
     "text": [
      "    Total time for timestep 23: 14.50s\n",
      "\\n  Timestep 30: 1525398 edges, 482733 nodes\n",
      "\\n  Timestep 30: 1525398 edges, 482733 nodes\n",
      "    Edge weighting took: 7.06s\n",
      "    Edge weighting took: 7.06s\n"
     ]
    },
    {
     "name": "stderr",
     "output_type": "stream",
     "text": [
      "Building weighted graphs:  43%|████▎     | 3/7 [00:43<00:59, 14.89s/it]"
     ]
    },
    {
     "name": "stdout",
     "output_type": "stream",
     "text": [
      "    Total time for timestep 30: 16.56s\n",
      "\\n  Timestep 31: 1553241 edges, 495199 nodes\n",
      "\\n  Timestep 31: 1553241 edges, 495199 nodes\n",
      "    Edge weighting took: 7.34s\n",
      "    Edge weighting took: 7.34s\n"
     ]
    },
    {
     "name": "stderr",
     "output_type": "stream",
     "text": [
      "Building weighted graphs:  57%|█████▋    | 4/7 [00:59<00:46, 15.48s/it]"
     ]
    },
    {
     "name": "stdout",
     "output_type": "stream",
     "text": [
      "    Total time for timestep 31: 16.40s\n",
      "\\n  Timestep 34: 1810073 edges, 530840 nodes\n",
      "\\n  Timestep 34: 1810073 edges, 530840 nodes\n",
      "    Edge weighting took: 8.55s\n",
      "    Edge weighting took: 8.55s\n"
     ]
    },
    {
     "name": "stderr",
     "output_type": "stream",
     "text": [
      "Building weighted graphs:  71%|███████▏  | 5/7 [01:18<00:33, 16.59s/it]"
     ]
    },
    {
     "name": "stdout",
     "output_type": "stream",
     "text": [
      "    Total time for timestep 34: 18.56s\n",
      "\\n  Timestep 35: 1860027 edges, 552376 nodes\n",
      "\\n  Timestep 35: 1860027 edges, 552376 nodes\n",
      "    Edge weighting took: 8.74s\n",
      "    Edge weighting took: 8.74s\n"
     ]
    },
    {
     "name": "stderr",
     "output_type": "stream",
     "text": [
      "Building weighted graphs:  86%|████████▌ | 6/7 [01:37<00:17, 17.43s/it]"
     ]
    },
    {
     "name": "stdout",
     "output_type": "stream",
     "text": [
      "    Total time for timestep 35: 19.05s\n",
      "\\n  Timestep 39: 2011116 edges, 620835 nodes\n",
      "\\n  Timestep 39: 2011116 edges, 620835 nodes\n",
      "    Edge weighting took: 9.66s\n",
      "    Edge weighting took: 9.66s\n"
     ]
    },
    {
     "name": "stderr",
     "output_type": "stream",
     "text": [
      "Building weighted graphs: 100%|██████████| 7/7 [01:58<00:00, 16.94s/it]"
     ]
    },
    {
     "name": "stdout",
     "output_type": "stream",
     "text": [
      "    Total time for timestep 39: 21.47s\n",
      "\\nBuilt 7 edge-weighted graphs for timesteps: [20, 23, 30, 31, 34, 35, 39]\n",
      "Example weighted graph (t=20): 345524 nodes, 1044294 edges\n",
      "Edge weights shape: torch.Size([1044294, 1])\n",
      "Sample edge weights: tensor([1., 1., 1., 1., 1.])\n",
      "\\nEdge weight statistics:\n",
      "  Min: 0.000000, Max: 1.000000\n",
      "  Mean: 0.261397, Std: 0.337248\n",
      "  Sample destination node 0: incoming weights sum = 1.000000\n",
      "\\nOptimized graph building completed ✓\n",
      "\\n💡 Performance improvements:\n",
      "   - Vectorized operations instead of row-wise apply\n",
      "   - NumPy aggregations instead of pandas groupby\n",
      "   - Efficient softmax computation\n",
      "   - Expected speedup: 10-100x faster\n"
     ]
    },
    {
     "name": "stderr",
     "output_type": "stream",
     "text": [
      "\n"
     ]
    }
   ],
   "source": [
    "# Build edge-weighted graphs using OPTIMIZED implementation\n",
    "print(\"\\nBuilding Edge-Weighted Graphs (OPTIMIZED)...\")\n",
    "print(\"=\"*50)\n",
    "print(f\"Building edge-weighted graphs for timesteps: {REQUIRED_TIMESTEPS}\")\n",
    "\n",
    "# Import the optimized functions\n",
    "import sys\n",
    "sys.path.append('../')\n",
    "from optimized_edge_weights import compute_temporal_edge_weights_with_defaults_optimized\n",
    "\n",
    "# Build graphs with temporal edge weights for required timesteps only\n",
    "edge_weighted_graphs = {}\n",
    "\n",
    "# Temporal edge weight hyperparameters\n",
    "DECAY_LAMBDA = 0.05  # Recommended default\n",
    "TEMPERATURE_TAU = 1.0  # Recommended default\n",
    "\n",
    "for timestep in tqdm(REQUIRED_TIMESTEPS, desc=\"Building weighted graphs\"):\n",
    "    try:\n",
    "        import time\n",
    "        start_time = time.time()\n",
    "        \n",
    "        # Get data up to current time step\n",
    "        nodes_up_to_t = nodes_with_labels[nodes_with_labels['Time step'] <= timestep]\n",
    "        edges_up_to_t = edges_with_edge_labels[edges_with_edge_labels['Time step'] <= timestep]\n",
    "        \n",
    "        # Use all addresses that appear in nodes up to t\n",
    "        active_addresses = nodes_up_to_t['address'].unique()\n",
    "        address_to_local_id = {addr: idx for idx, addr in enumerate(active_addresses)}\n",
    "        \n",
    "        print(f\"\\\\n  Timestep {timestep}: {len(edges_up_to_t)} edges, {len(active_addresses)} nodes\")\n",
    "        \n",
    "        # Extract node features (without class labels to avoid leakage)\n",
    "        node_features = extract_node_features(\n",
    "            nodes_up_to_t, active_addresses, address_to_local_id,\n",
    "            keep_class_labels_as_features=False, \n",
    "            current_time_step=timestep\n",
    "        )\n",
    "        \n",
    "        # Build temporal edge weights using OPTIMIZED function\n",
    "        edge_weight_start = time.time()\n",
    "        edge_index, edge_weights = compute_temporal_edge_weights_with_defaults_optimized(\n",
    "            edges_up_to_t, address_to_local_id, timestep,\n",
    "            decay_lambda=DECAY_LAMBDA, temperature_tau=TEMPERATURE_TAU,\n",
    "            value_column='total_BTC', timestep_column='Time step'\n",
    "        )\n",
    "        edge_weight_time = time.time() - edge_weight_start\n",
    "        \n",
    "        print(f\"    Edge weighting took: {edge_weight_time:.2f}s\")\n",
    "        \n",
    "        # Get node classes for reference\n",
    "        node_classes = extract_node_classes(active_addresses, address_to_local_id, nodes_with_labels)\n",
    "        \n",
    "        # Use the same labels as base graphs for fair comparison\n",
    "        base_graph_at_t = base_graphs[timestep]\n",
    "        labels = base_graph_at_t.y\n",
    "        \n",
    "        # Create graph with edge weights\n",
    "        weighted_graph = Data(\n",
    "            x=node_features,\n",
    "            edge_index=edge_index,\n",
    "            edge_attr=edge_weights.unsqueeze(1),  # Add feature dimension\n",
    "            y=labels,\n",
    "            node_class=node_classes,\n",
    "            num_nodes=len(active_addresses),\n",
    "            time_step=timestep\n",
    "        )\n",
    "        \n",
    "        edge_weighted_graphs[timestep] = weighted_graph\n",
    "        \n",
    "        total_time = time.time() - start_time\n",
    "        print(f\"    Total time for timestep {timestep}: {total_time:.2f}s\")\n",
    "        \n",
    "    except Exception as e:\n",
    "        print(f\"Error building weighted graph at t={timestep}: {e}\")\n",
    "        import traceback\n",
    "        traceback.print_exc()\n",
    "        continue\n",
    "\n",
    "print(f\"\\\\nBuilt {len(edge_weighted_graphs)} edge-weighted graphs for timesteps: {list(edge_weighted_graphs.keys())}\")\n",
    "if edge_weighted_graphs:\n",
    "    sample_timestep = REQUIRED_TIMESTEPS[0]\n",
    "    sample_graph = edge_weighted_graphs[sample_timestep]\n",
    "    print(f\"Example weighted graph (t={sample_timestep}): {sample_graph.num_nodes} nodes, {sample_graph.edge_index.shape[1]} edges\")\n",
    "    print(f\"Edge weights shape: {sample_graph.edge_attr.shape}\")\n",
    "    print(f\"Sample edge weights: {sample_graph.edge_attr[:5].flatten()}\")\n",
    "    \n",
    "    # Verify softmax normalization\n",
    "    edge_index = sample_graph.edge_index\n",
    "    edge_weights = sample_graph.edge_attr.flatten()\n",
    "    print(f\"\\\\nEdge weight statistics:\")\n",
    "    print(f\"  Min: {edge_weights.min():.6f}, Max: {edge_weights.max():.6f}\")\n",
    "    print(f\"  Mean: {edge_weights.mean():.6f}, Std: {edge_weights.std():.6f}\")\n",
    "    \n",
    "    # Check softmax property (weights sum to 1 per destination)\n",
    "    unique_dests = torch.unique(edge_index[1])\n",
    "    sample_dest = unique_dests[0] if len(unique_dests) > 0 else None\n",
    "    if sample_dest is not None:\n",
    "        dest_mask = edge_index[1] == sample_dest\n",
    "        dest_weight_sum = edge_weights[dest_mask].sum()\n",
    "        print(f\"  Sample destination node {sample_dest}: incoming weights sum = {dest_weight_sum:.6f}\")\n",
    "        \n",
    "print(\"\\\\nOptimized graph building completed ✓\")\n",
    "print(\"\\\\n💡 Performance improvements:\")\n",
    "print(\"   - Vectorized operations instead of row-wise apply\")\n",
    "print(\"   - NumPy aggregations instead of pandas groupby\")\n",
    "print(\"   - Efficient softmax computation\")\n",
    "print(\"   - Expected speedup: 10-100x faster\")"
   ]
  },
  {
   "cell_type": "code",
   "execution_count": null,
   "id": "a3966e62",
   "metadata": {},
   "outputs": [
    {
     "name": "stdout",
     "output_type": "stream",
     "text": [
      "\\nPerformance Benchmark: Original vs Optimized\n",
      "============================================================\n",
      "Test data: 1084995 edges, 345524 addresses\n",
      "\\nTesting optimized version...\n",
      "Test data: 1084995 edges, 345524 addresses\n",
      "\\nTesting optimized version...\n",
      "Testing original version...\n",
      "Testing original version...\n"
     ]
    }
   ],
   "source": [
    "# Quick benchmark: Original vs Optimized Edge Weighting\n",
    "print(\"\\\\nPerformance Benchmark: Original vs Optimized\")\n",
    "print(\"=\"*60)\n",
    "\n",
    "# Test with a smaller subset first\n",
    "test_timestep = 20\n",
    "test_edges = edges_with_edge_labels[edges_with_edge_labels['Time step'] <= test_timestep]\n",
    "test_nodes = nodes_with_labels[nodes_with_labels['Time step'] <= test_timestep]\n",
    "test_addresses = test_nodes['address'].unique()\n",
    "test_address_map = {addr: idx for idx, addr in enumerate(test_addresses)}\n",
    "\n",
    "print(f\"Test data: {len(test_edges)} edges, {len(test_addresses)} addresses\")\n",
    "\n",
    "# Import both versions\n",
    "from optimized_edge_weights import compute_temporal_edge_weights_with_defaults_optimized\n",
    "\n",
    "import time\n",
    "\n",
    "# Benchmark optimized version\n",
    "print(\"\\\\nTesting optimized version...\")\n",
    "start = time.time()\n",
    "edge_index_opt, weights_opt = compute_temporal_edge_weights_with_defaults_optimized(\n",
    "    test_edges, test_address_map, test_timestep,\n",
    "    value_column='total_BTC', timestep_column='Time step'\n",
    ")\n",
    "opt_time = time.time() - start\n",
    "\n",
    "# Benchmark original version \n",
    "print(\"Testing original version...\")\n",
    "start = time.time()\n",
    "try:\n",
    "    edge_index_orig, weights_orig = compute_temporal_edge_weights_with_defaults(\n",
    "        test_edges, test_address_map, test_timestep,\n",
    "        value_column='total_BTC', timestep_column='Time step'\n",
    "    )\n",
    "    orig_time = time.time() - start\n",
    "    \n",
    "    # Calculate speedup\n",
    "    speedup = orig_time / opt_time\n",
    "    print(f\"\\\\n📊 PERFORMANCE RESULTS:\")\n",
    "    print(f\"   Original: {orig_time:.2f}s\")\n",
    "    print(f\"   Optimized: {opt_time:.2f}s\") \n",
    "    print(f\"   Speedup: {speedup:.1f}x faster 🚀\")\n",
    "    \n",
    "    # Verify consistency\n",
    "    if edge_index_orig.shape == edge_index_opt.shape:\n",
    "        print(f\"   ✅ Results consistent: {edge_index_opt.shape[1]} edges\")\n",
    "    else:\n",
    "        print(f\"   ⚠️ Edge counts differ: {edge_index_orig.shape[1]} vs {edge_index_opt.shape[1]}\")\n",
    "        \n",
    "except Exception as e:\n",
    "    print(f\"   Original version failed: {e}\")\n",
    "    print(f\"   Optimized version: {opt_time:.2f}s ✅\")\n",
    "    \n",
    "print(f\"\\\\nProceeding with optimized implementation...\")"
   ]
  },
  {
   "cell_type": "code",
   "execution_count": null,
   "id": "f1293e96",
   "metadata": {},
   "outputs": [],
   "source": [
    "# Create train/test splits for both graph types\n",
    "print(\"Creating train/test splits...\")\n",
    "\n",
    "# Same timesteps as original baseline (indices [19, 22, 29, 30] and [33, 34, 38])\n",
    "# These correspond to timesteps [20, 23, 30, 31] and [34, 35, 39]\n",
    "train_timesteps = [20, 23, 30, 31]\n",
    "test_timesteps = [34, 35, 39]\n",
    "\n",
    "print(f\"Train timesteps: {train_timesteps}\")\n",
    "print(f\"Test timesteps: {test_timesteps}\")\n",
    "\n",
    "# Base graphs splits\n",
    "base_train_graphs = [base_graphs[t] for t in train_timesteps if t in base_graphs]\n",
    "base_test_graphs = [base_graphs[t] for t in test_timesteps if t in base_graphs]\n",
    "\n",
    "# Edge-weighted graphs splits \n",
    "edge_train_graphs = [edge_weighted_graphs[t] for t in train_timesteps if t in edge_weighted_graphs]\n",
    "edge_test_graphs = [edge_weighted_graphs[t] for t in test_timesteps if t in edge_weighted_graphs]\n",
    "\n",
    "print(f\"Base graphs - Train: {len(base_train_graphs)}, Test: {len(base_test_graphs)}\")\n",
    "print(f\"Edge-weighted graphs - Train: {len(edge_train_graphs)}, Test: {len(edge_test_graphs)}\")\n",
    "\n",
    "# Verify we have matching numbers for fair comparison\n",
    "min_train = min(len(base_train_graphs), len(edge_train_graphs))\n",
    "min_test = min(len(base_test_graphs), len(edge_test_graphs))\n",
    "\n",
    "base_train_graphs = base_train_graphs[:min_train]\n",
    "base_test_graphs = base_test_graphs[:min_test]\n",
    "edge_train_graphs = edge_train_graphs[:min_train]\n",
    "edge_test_graphs = edge_test_graphs[:min_test]\n",
    "\n",
    "print(f\"Final matched splits - Train: {min_train}, Test: {min_test}\")\n",
    "\n",
    "# Print label distribution for each split\n",
    "for split_name, graphs in [(\"Base Train\", base_train_graphs), (\"Base Test\", base_test_graphs),\n",
    "                           (\"Edge Train\", edge_train_graphs), (\"Edge Test\", edge_test_graphs)]:\n",
    "    if graphs:  # Check if we have graphs\n",
    "        all_labels = torch.cat([graph.y for graph in graphs])\n",
    "        label_counts = Counter(all_labels.numpy())\n",
    "        total = len(all_labels)\n",
    "        print(f\"\\n{split_name} label distribution:\")\n",
    "        print(f\"  Class 0 (No emergence): {label_counts[0]:,} ({100*label_counts[0]/total:.1f}%)\")\n",
    "        print(f\"  Class 1 (Emergence): {label_counts[1]:,} ({100*label_counts[1]/total:.1f}%)\")\n",
    "        print(f\"  Total: {total:,} nodes\")\n",
    "    else:\n",
    "        print(f\"\\n{split_name}: No graphs available\")"
   ]
  },
  {
   "cell_type": "markdown",
   "id": "601c8d89",
   "metadata": {},
   "source": [
    "## 4. Define GCN Model Architecture"
   ]
  },
  {
   "cell_type": "code",
   "execution_count": null,
   "id": "01d6f061",
   "metadata": {},
   "outputs": [],
   "source": [
    "class EdgeWeightedGCN(torch.nn.Module):\n",
    "    \"\"\"\n",
    "    GCN model that supports both unweighted and edge-weighted message passing.\n",
    "    \n",
    "    For unweighted graphs: Uses standard binary adjacency\n",
    "    For edge-weighted graphs: Uses edge weights in message passing\n",
    "    \"\"\"\n",
    "    \n",
    "    def __init__(self, num_features, hidden_dim, num_classes, dropout=0.2):\n",
    "        super(EdgeWeightedGCN, self).__init__()\n",
    "        self.conv1 = GCNConv(num_features, hidden_dim)\n",
    "        self.conv2 = GCNConv(hidden_dim, hidden_dim)\n",
    "        self.classifier = torch.nn.Linear(hidden_dim, num_classes)\n",
    "        self.dropout = dropout\n",
    "        \n",
    "    def forward(self, x, edge_index, edge_weight=None):\n",
    "        \"\"\"\n",
    "        Forward pass with optional edge weights.\n",
    "        \n",
    "        Args:\n",
    "            x: Node features [num_nodes, num_features]\n",
    "            edge_index: Edge connectivity [2, num_edges]\n",
    "            edge_weight: Optional edge weights [num_edges] or [num_edges, 1]\n",
    "        \"\"\"\n",
    "        \n",
    "        # Handle edge weights - flatten if needed\n",
    "        if edge_weight is not None:\n",
    "            if edge_weight.dim() > 1:\n",
    "                edge_weight = edge_weight.flatten()\n",
    "        \n",
    "        # First GCN layer\n",
    "        x = self.conv1(x, edge_index, edge_weight)\n",
    "        x = F.relu(x)\n",
    "        x = F.dropout(x, p=self.dropout, training=self.training)\n",
    "        \n",
    "        # Second GCN layer\n",
    "        x = self.conv2(x, edge_index, edge_weight)\n",
    "        x = F.relu(x)\n",
    "        x = F.dropout(x, p=self.dropout, training=self.training)\n",
    "        \n",
    "        # Classifier\n",
    "        x = self.classifier(x)\n",
    "        return x\n",
    "\n",
    "# Model hyperparameters (same as baseline for fair comparison)\n",
    "HIDDEN_DIM = 64\n",
    "NUM_EPOCHS = 50  # Increased for better convergence\n",
    "LEARNING_RATE = 0.01\n",
    "WEIGHT_DECAY = 5e-4\n",
    "\n",
    "# Get input dimensions from data\n",
    "if base_train_graphs:\n",
    "    num_features = base_train_graphs[0].x.shape[1]\n",
    "    num_classes = 2\n",
    "    print(f\"Model configuration:\")\n",
    "    print(f\"  Input features: {num_features}\")\n",
    "    print(f\"  Hidden dimension: {HIDDEN_DIM}\")\n",
    "    print(f\"  Output classes: {num_classes}\")\n",
    "    print(f\"  Dropout: 0.2\")\n",
    "else:\n",
    "    print(\"No training graphs available!\")"
   ]
  },
  {
   "cell_type": "markdown",
   "id": "968ca3c2",
   "metadata": {},
   "source": [
    "## 5. Training Functions for Both Graph Types"
   ]
  },
  {
   "cell_type": "code",
   "execution_count": null,
   "id": "280619cd",
   "metadata": {},
   "outputs": [],
   "source": [
    "def train_epoch(model, graphs, optimizer, use_edge_weights=False):\n",
    "    \"\"\"\n",
    "    Train model for one epoch on a list of graphs.\n",
    "    \n",
    "    Args:\n",
    "        model: The GCN model\n",
    "        graphs: List of graph objects\n",
    "        optimizer: PyTorch optimizer\n",
    "        use_edge_weights: Whether to use edge weights from graph.edge_attr\n",
    "    \"\"\"\n",
    "    model.train()\n",
    "    total_loss = 0\n",
    "    total_correct = 0\n",
    "    total_nodes = 0\n",
    "    \n",
    "    for graph in graphs:\n",
    "        graph = graph.to(DEVICE)\n",
    "        \n",
    "        optimizer.zero_grad()\n",
    "        \n",
    "        # Get edge weights if requested and available\n",
    "        edge_weight = None\n",
    "        if use_edge_weights and hasattr(graph, 'edge_attr') and graph.edge_attr is not None:\n",
    "            edge_weight = graph.edge_attr\n",
    "        \n",
    "        # Forward pass\n",
    "        out = model(graph.x, graph.edge_index, edge_weight)\n",
    "        loss = F.cross_entropy(out, graph.y)\n",
    "        \n",
    "        # Backward pass\n",
    "        loss.backward()\n",
    "        optimizer.step()\n",
    "        \n",
    "        # Calculate accuracy\n",
    "        pred = out.argmax(dim=1)\n",
    "        correct = (pred == graph.y).sum().item()\n",
    "        \n",
    "        total_loss += loss.item() * graph.num_nodes\n",
    "        total_correct += correct\n",
    "        total_nodes += graph.num_nodes\n",
    "    \n",
    "    avg_loss = total_loss / total_nodes\n",
    "    avg_acc = total_correct / total_nodes\n",
    "    return avg_loss, avg_acc\n",
    "\n",
    "\n",
    "def evaluate(model, graphs, use_edge_weights=False):\n",
    "    \"\"\"\n",
    "    Evaluate model on a list of graphs.\n",
    "    \n",
    "    Args:\n",
    "        model: The GCN model\n",
    "        graphs: List of graph objects\n",
    "        use_edge_weights: Whether to use edge weights from graph.edge_attr\n",
    "    \"\"\"\n",
    "    model.eval()\n",
    "    all_preds = []\n",
    "    all_labels = []\n",
    "    all_probs = []\n",
    "    \n",
    "    with torch.no_grad():\n",
    "        for graph in graphs:\n",
    "            graph = graph.to(DEVICE)\n",
    "            \n",
    "            # Get edge weights if requested and available\n",
    "            edge_weight = None\n",
    "            if use_edge_weights and hasattr(graph, 'edge_attr') and graph.edge_attr is not None:\n",
    "                edge_weight = graph.edge_attr\n",
    "            \n",
    "            # Forward pass\n",
    "            out = model(graph.x, graph.edge_index, edge_weight)\n",
    "            probs = F.softmax(out, dim=1)\n",
    "            preds = out.argmax(dim=1)\n",
    "            \n",
    "            all_preds.extend(preds.cpu().numpy())\n",
    "            all_labels.extend(graph.y.cpu().numpy())\n",
    "            all_probs.extend(probs.cpu().numpy())\n",
    "    \n",
    "    return np.array(all_preds), np.array(all_labels), np.array(all_probs)\n",
    "\n",
    "\n",
    "def train_model(model_name, train_graphs, test_graphs, use_edge_weights=False, \n",
    "                num_epochs=NUM_EPOCHS, verbose=True):\n",
    "    \"\"\"\n",
    "    Train a complete model and return training history.\n",
    "    \n",
    "    Args:\n",
    "        model_name: String name for the model (for logging)\n",
    "        train_graphs: Training graphs\n",
    "        test_graphs: Test graphs\n",
    "        use_edge_weights: Whether to use edge weights\n",
    "        num_epochs: Number of training epochs\n",
    "        verbose: Whether to print progress\n",
    "    \"\"\"\n",
    "    \n",
    "    # Create fresh model and optimizer\n",
    "    model = EdgeWeightedGCN(num_features, HIDDEN_DIM, num_classes).to(DEVICE)\n",
    "    optimizer = torch.optim.Adam(model.parameters(), lr=LEARNING_RATE, weight_decay=WEIGHT_DECAY)\n",
    "    \n",
    "    # Training history\n",
    "    history = {\n",
    "        'train_loss': [],\n",
    "        'train_acc': [],\n",
    "        'test_acc': [],\n",
    "        'epochs': []\n",
    "    }\n",
    "    \n",
    "    if verbose:\n",
    "        print(f\"\\nTraining {model_name}\")\n",
    "        print(\"=\"*50)\n",
    "    \n",
    "    # Training loop\n",
    "    progress_bar = tqdm(range(1, num_epochs + 1), desc=f\"{model_name} Training\") if verbose else range(1, num_epochs + 1)\n",
    "    \n",
    "    for epoch in progress_bar:\n",
    "        # Train\n",
    "        train_loss, train_acc = train_epoch(model, train_graphs, optimizer, use_edge_weights)\n",
    "        \n",
    "        # Evaluate periodically\n",
    "        test_acc = None\n",
    "        if epoch % 10 == 0 or epoch == 1 or epoch == num_epochs:\n",
    "            test_preds, test_labels, test_probs = evaluate(model, test_graphs, use_edge_weights)\n",
    "            test_acc = (test_preds == test_labels).mean()\n",
    "        \n",
    "        # Record history\n",
    "        history['train_loss'].append(train_loss)\n",
    "        history['train_acc'].append(train_acc)\n",
    "        history['test_acc'].append(test_acc)\n",
    "        history['epochs'].append(epoch)\n",
    "        \n",
    "        # Update progress\n",
    "        if verbose:\n",
    "            desc = f\"{model_name} | Loss: {train_loss:.4f} | Train Acc: {train_acc:.4f}\"\n",
    "            if test_acc is not None:\n",
    "                desc += f\" | Test Acc: {test_acc:.4f}\"\n",
    "            progress_bar.set_description(desc)\n",
    "    \n",
    "    return model, history\n",
    "\n",
    "print(\"Training functions defined ✓\")"
   ]
  },
  {
   "cell_type": "markdown",
   "id": "b2c1a7b9",
   "metadata": {},
   "source": [
    "## 6. Train Base GCN Model"
   ]
  },
  {
   "cell_type": "code",
   "execution_count": null,
   "id": "67dae80c",
   "metadata": {},
   "outputs": [],
   "source": [
    "# Train Base GCN Model\n",
    "base_model, base_history = train_model(\n",
    "    model_name=\"Base GCN\",\n",
    "    train_graphs=base_train_graphs,\n",
    "    test_graphs=base_test_graphs,\n",
    "    use_edge_weights=False,\n",
    "    num_epochs=NUM_EPOCHS,\n",
    "    verbose=True\n",
    ")"
   ]
  },
  {
   "cell_type": "code",
   "execution_count": null,
   "id": "dac18fa6",
   "metadata": {},
   "outputs": [],
   "source": [
    "# Extract results for comparison\n",
    "base_train_losses = base_history['train_loss']\n",
    "base_test_accs = [acc for acc in base_history['test_acc'] if acc is not None]\n",
    "best_base_acc = max(base_test_accs) if base_test_accs else 0.0\n",
    "\n",
    "print(f\"\\nBase Model Training Complete!\")\n",
    "print(f\"Best Test Accuracy: {best_base_acc:.4f}\")\n",
    "print(f\"Final Training Loss: {base_train_losses[-1]:.4f}\")\n",
    "print(f\"Total epochs: {len(base_train_losses)}\")\n",
    "\n",
    "# Detailed evaluation of Base GCN (like in train_gcn_baseline.ipynb)\n",
    "print(\"\\n\" + \"=\" * 50)\n",
    "print(\"BASE GCN - DETAILED EVALUATION\")\n",
    "print(\"=\" * 50)\n",
    "\n",
    "base_final_preds, base_final_labels, base_final_probs = evaluate(base_model, base_test_graphs, use_edge_weights=False)\n",
    "print(classification_report(base_final_labels, base_final_preds, target_names=['No Emergence', 'Emergence']))\n",
    "\n",
    "if len(np.unique(base_final_labels)) == 2:\n",
    "    base_auc = roc_auc_score(base_final_labels, base_final_probs[:, 1])\n",
    "    print(f\"ROC-AUC: {base_auc:.4f}\")\n",
    "\n",
    "print(\"\\nConfusion Matrix:\")\n",
    "base_cm = confusion_matrix(base_final_labels, base_final_preds)\n",
    "print(base_cm)"
   ]
  },
  {
   "cell_type": "markdown",
   "id": "d8bd2902",
   "metadata": {},
   "source": [
    "## 7. Train Edge-Weighted GCN Model"
   ]
  },
  {
   "cell_type": "code",
   "execution_count": null,
   "id": "83573e97",
   "metadata": {},
   "outputs": [],
   "source": [
    "# Train Edge-Weighted GCN Model\n",
    "edge_model, edge_history = train_model(\n",
    "    model_name=\"Edge-Weighted GCN\",\n",
    "    train_graphs=edge_train_graphs,\n",
    "    test_graphs=edge_test_graphs,\n",
    "    use_edge_weights=True,\n",
    "    num_epochs=NUM_EPOCHS,\n",
    "    verbose=True\n",
    ")\n",
    "\n",
    "# Extract results for comparison\n",
    "edge_train_losses = edge_history['train_loss']\n",
    "edge_test_accs = [acc for acc in edge_history['test_acc'] if acc is not None]\n",
    "best_edge_acc = max(edge_test_accs) if edge_test_accs else 0.0\n",
    "\n",
    "print(f\"\\nEdge-Weighted Model Training Complete!\")\n",
    "print(f\"Best Test Accuracy: {best_edge_acc:.4f}\")\n",
    "print(f\"Final Training Loss: {edge_train_losses[-1]:.4f}\")\n",
    "print(f\"Total epochs: {len(edge_train_losses)}\")"
   ]
  },
  {
   "cell_type": "markdown",
   "id": "9afbb61b",
   "metadata": {},
   "source": [
    "## 8. Compare Results"
   ]
  },
  {
   "cell_type": "code",
   "execution_count": null,
   "id": "7f976928",
   "metadata": {},
   "outputs": [],
   "source": [
    "# Comprehensive model comparison\n",
    "print(\"Model Comparison Results\")\n",
    "print(\"=\" * 60)\n",
    "\n",
    "# Performance comparison\n",
    "print(f\"📊 PERFORMANCE METRICS\")\n",
    "print(f\"{'Metric':<25} {'Base GCN':<15} {'Edge-Weighted':<15} {'Improvement':<15}\")\n",
    "print(\"-\" * 70)\n",
    "print(f\"{'Best Test Accuracy':<25} {best_base_acc:<15.4f} {best_edge_acc:<15.4f} {((best_edge_acc - best_base_acc) / best_base_acc * 100):+.2f}%\")\n",
    "print(f\"{'Final Train Loss':<25} {base_train_losses[-1]:<15.4f} {edge_train_losses[-1]:<15.4f} {((edge_train_losses[-1] - base_train_losses[-1]) / base_train_losses[-1] * 100):+.2f}%\")\n",
    "print(f\"{'Training Epochs':<25} {len(base_train_losses):<15} {len(edge_train_losses):<15}\")\n",
    "\n",
    "# Statistical significance test (simple t-test on test accuracies)\n",
    "from scipy import stats\n",
    "if len(base_test_accs) >= 3 and len(edge_test_accs) >= 3:\n",
    "    t_stat, p_value = stats.ttest_ind(base_test_accs, edge_test_accs)\n",
    "    print(f\"{'P-value (t-test)':<25} {p_value:<15.4f} {'Significant' if p_value < 0.05 else 'Not significant'}\")\n",
    "\n",
    "print(f\"\\n🏆 WINNER: {'Edge-Weighted GCN' if best_edge_acc > best_base_acc else 'Base GCN'}\")\n",
    "\n",
    "# Model complexity comparison\n",
    "print(f\"\\n📈 MODEL COMPLEXITY\")\n",
    "base_params = sum(p.numel() for p in base_model.parameters())\n",
    "edge_params = sum(p.numel() for p in edge_model.parameters())\n",
    "sample_base_graph = base_train_graphs[0]\n",
    "sample_edge_graph = edge_train_graphs[0]\n",
    "print(f\"{'Model':<25} {'Parameters':<15} {'Graph Edges':<15} {'Edge Features':<15}\")\n",
    "print(\"-\" * 70)\n",
    "print(f\"{'Base GCN':<25} {base_params:<15} {sample_base_graph.edge_index.shape[1]:<15} {'None':<15}\")\n",
    "print(f\"{'Edge-Weighted GCN':<25} {edge_params:<15} {sample_edge_graph.edge_index.shape[1]:<15} {'Temporal weights':<15}\")\n",
    "\n",
    "# Training stability analysis\n",
    "print(f\"\\n📉 TRAINING STABILITY\")\n",
    "base_acc_std = np.std(base_test_accs) if len(base_test_accs) > 1 else 0.0\n",
    "edge_acc_std = np.std(edge_test_accs) if len(edge_test_accs) > 1 else 0.0\n",
    "print(f\"{'Model':<25} {'Test Acc Std':<20} {'Convergence':<15}\")\n",
    "print(\"-\" * 60)\n",
    "print(f\"{'Base GCN':<25} {base_acc_std:<20.4f} {'Stable' if base_acc_std < 0.01 else 'Unstable'}\")\n",
    "print(f\"{'Edge-Weighted GCN':<25} {edge_acc_std:<20.4f} {'Stable' if edge_acc_std < 0.01 else 'Unstable'}\")\n",
    "\n",
    "# Summary insights\n",
    "print(f\"\\n💡 KEY INSIGHTS\")\n",
    "improvement = (best_edge_acc - best_base_acc) / best_base_acc * 100\n",
    "if improvement > 2:\n",
    "    print(f\"✅ Edge weighting provides significant improvement ({improvement:.2f}%)\")\n",
    "    print(\"✅ Temporal information enhances GCN performance for transaction classification\")\n",
    "elif improvement > 0:\n",
    "    print(f\"⚠️  Edge weighting provides modest improvement ({improvement:.2f}%)\")\n",
    "    print(\"⚠️  Temporal information has limited benefit for this task\")\n",
    "else:\n",
    "    print(f\"❌ Edge weighting decreases performance ({improvement:.2f}%)\")\n",
    "    print(\"❌ Temporal information may be adding noise or the decay parameters need tuning\")\n",
    "\n",
    "if edge_acc_std < base_acc_std:\n",
    "    print(\"✅ Edge weighting improves training stability\")\n",
    "else:\n",
    "    print(\"⚠️  Edge weighting may reduce training stability\")"
   ]
  },
  {
   "cell_type": "markdown",
   "id": "08c90ecb",
   "metadata": {},
   "source": [
    "## 9. Visualize Training Progress and Results"
   ]
  },
  {
   "cell_type": "code",
   "execution_count": null,
   "id": "1c0ef41b",
   "metadata": {},
   "outputs": [],
   "source": [
    "import matplotlib.pyplot as plt\n",
    "\n",
    "# Create comprehensive visualization\n",
    "fig, axes = plt.subplots(2, 3, figsize=(18, 12))\n",
    "fig.suptitle('Base GCN vs Edge-Weighted GCN Comparison', fontsize=16, fontweight='bold')\n",
    "\n",
    "# 1. Training Loss Comparison\n",
    "axes[0, 0].plot(base_train_losses, label='Base GCN', linewidth=2, alpha=0.8)\n",
    "axes[0, 0].plot(edge_train_losses, label='Edge-Weighted GCN', linewidth=2, alpha=0.8)\n",
    "axes[0, 0].set_title('Training Loss Over Time')\n",
    "axes[0, 0].set_xlabel('Epoch')\n",
    "axes[0, 0].set_ylabel('Loss')\n",
    "axes[0, 0].legend()\n",
    "axes[0, 0].grid(True, alpha=0.3)\n",
    "\n",
    "# 2. Training Accuracy Comparison\n",
    "base_train_accs = base_history['train_acc']\n",
    "edge_train_accs = edge_history['train_acc']\n",
    "axes[0, 1].plot(base_train_accs, label='Base GCN', linewidth=2, alpha=0.8)\n",
    "axes[0, 1].plot(edge_train_accs, label='Edge-Weighted GCN', linewidth=2, alpha=0.8)\n",
    "axes[0, 1].set_title('Training Accuracy Over Time')\n",
    "axes[0, 1].set_xlabel('Epoch')\n",
    "axes[0, 1].set_ylabel('Accuracy')\n",
    "axes[0, 1].legend()\n",
    "axes[0, 1].grid(True, alpha=0.3)\n",
    "\n",
    "# 3. Performance Bar Chart\n",
    "models = ['Base GCN', 'Edge-Weighted GCN']\n",
    "accs = [best_base_acc, best_edge_acc]\n",
    "colors = ['lightblue', 'lightcoral']\n",
    "bars = axes[0, 2].bar(models, accs, color=colors, alpha=0.7, edgecolor='black')\n",
    "axes[0, 2].set_title('Best Test Accuracy Comparison')\n",
    "axes[0, 2].set_ylabel('Accuracy')\n",
    "axes[0, 2].set_ylim(min(accs) - 0.02, max(accs) + 0.02)\n",
    "# Add value labels on bars\n",
    "for bar, acc in zip(bars, accs):\n",
    "    axes[0, 2].text(bar.get_x() + bar.get_width()/2, bar.get_height() + 0.001, \n",
    "                    f'{acc:.4f}', ha='center', va='bottom', fontweight='bold')\n",
    "\n",
    "# 4. Edge Weight Distribution\n",
    "if edge_train_graphs:\n",
    "    sample_edge_graph = edge_train_graphs[0]\n",
    "    axes[1, 0].hist(sample_edge_graph.edge_attr.cpu().numpy(), bins=50, alpha=0.7, color='orange', edgecolor='black')\n",
    "    axes[1, 0].set_title('Edge Weight Distribution')\n",
    "    axes[1, 0].set_xlabel('Edge Weight')\n",
    "    axes[1, 0].set_ylabel('Frequency')\n",
    "    axes[1, 0].grid(True, alpha=0.3)\n",
    "else:\n",
    "    axes[1, 0].text(0.5, 0.5, 'No edge-weighted graphs', ha='center', va='center', transform=axes[1, 0].transAxes)\n",
    "\n",
    "# 5. Test Accuracy Comparison (with evaluation points)\n",
    "base_test_epochs = [i for i, acc in enumerate(base_history['test_acc']) if acc is not None]\n",
    "base_test_values = [acc for acc in base_history['test_acc'] if acc is not None]\n",
    "edge_test_epochs = [i for i, acc in enumerate(edge_history['test_acc']) if acc is not None]\n",
    "edge_test_values = [acc for acc in edge_history['test_acc'] if acc is not None]\n",
    "\n",
    "if base_test_values and edge_test_values:\n",
    "    axes[1, 1].plot(base_test_epochs, base_test_values, 'o-', label='Base GCN', linewidth=2, markersize=6)\n",
    "    axes[1, 1].plot(edge_test_epochs, edge_test_values, 's-', label='Edge-Weighted GCN', linewidth=2, markersize=6)\n",
    "    axes[1, 1].set_title('Test Accuracy at Evaluation Points')\n",
    "    axes[1, 1].set_xlabel('Epoch')\n",
    "    axes[1, 1].set_ylabel('Test Accuracy')\n",
    "    axes[1, 1].legend()\n",
    "    axes[1, 1].grid(True, alpha=0.3)\n",
    "\n",
    "# 6. Training Loss Smoothed\n",
    "def smooth_curve(points, factor=0.9):\n",
    "    smoothed_points = []\n",
    "    for point in points:\n",
    "        if smoothed_points:\n",
    "            previous = smoothed_points[-1]\n",
    "            smoothed_points.append(previous * factor + point * (1 - factor))\n",
    "        else:\n",
    "            smoothed_points.append(point)\n",
    "    return smoothed_points\n",
    "\n",
    "base_smooth = smooth_curve(base_train_losses)\n",
    "edge_smooth = smooth_curve(edge_train_losses)\n",
    "\n",
    "axes[1, 2].plot(base_train_losses, alpha=0.3, color='blue', label='Base (raw)')\n",
    "axes[1, 2].plot(base_smooth, color='blue', linewidth=2, label='Base (smoothed)')\n",
    "axes[1, 2].plot(edge_train_losses, alpha=0.3, color='red', label='Edge-weighted (raw)')\n",
    "axes[1, 2].plot(edge_smooth, color='red', linewidth=2, label='Edge-weighted (smoothed)')\n",
    "axes[1, 2].set_title('Smoothed Training Loss')\n",
    "axes[1, 2].set_xlabel('Epoch')\n",
    "axes[1, 2].set_ylabel('Loss')\n",
    "axes[1, 2].legend()\n",
    "axes[1, 2].grid(True, alpha=0.3)\n",
    "\n",
    "plt.tight_layout()\n",
    "plt.show()\n",
    "\n",
    "# Summary statistics table\n",
    "print(\"\\n📊 FINAL SUMMARY TABLE\")\n",
    "print(\"=\" * 80)\n",
    "summary_data = {\n",
    "    'Metric': ['Best Test Acc', 'Final Train Loss', 'Training Epochs', 'Test Acc Std', 'Parameters'],\n",
    "    'Base GCN': [f\"{best_base_acc:.4f}\", f\"{base_train_losses[-1]:.4f}\", \n",
    "                 len(base_train_losses), f\"{base_acc_std:.4f}\", f\"{base_params:,}\"],\n",
    "    'Edge-Weighted': [f\"{best_edge_acc:.4f}\", f\"{edge_train_losses[-1]:.4f}\", \n",
    "                      len(edge_train_losses), f\"{edge_acc_std:.4f}\", f\"{edge_params:,}\"],\n",
    "    'Improvement': [f\"{((best_edge_acc - best_base_acc) / best_base_acc * 100):+.2f}%\",\n",
    "                    f\"{((edge_train_losses[-1] - base_train_losses[-1]) / base_train_losses[-1] * 100):+.2f}%\",\n",
    "                    f\"{len(edge_train_losses) - len(base_train_losses):+d}\",\n",
    "                    f\"{((edge_acc_std - base_acc_std) / max(base_acc_std, 1e-6) * 100):+.2f}%\",\n",
    "                    \"Same\"]\n",
    "}\n",
    "\n",
    "for i, metric in enumerate(summary_data['Metric']):\n",
    "    print(f\"{metric:<15} | {summary_data['Base GCN'][i]:<12} | {summary_data['Edge-Weighted'][i]:<12} | {summary_data['Improvement'][i]:<12}\")\n",
    "\n",
    "print(\"\\n🎯 CONCLUSION:\")\n",
    "if best_edge_acc > best_base_acc:\n",
    "    improvement = (best_edge_acc - best_base_acc) / best_base_acc * 100\n",
    "    print(f\"✅ Edge-weighted GCN outperforms base GCN by {improvement:.2f}%\")\n",
    "    print(\"✅ Temporal edge weighting successfully captures important patterns in transaction data\")\n",
    "else:\n",
    "    decline = (best_base_acc - best_edge_acc) / best_base_acc * 100\n",
    "    print(f\"❌ Base GCN outperforms edge-weighted GCN by {decline:.2f}%\")\n",
    "    print(\"❌ Current temporal weighting parameters may need tuning or temporal info is not beneficial\")"
   ]
  }
 ],
 "metadata": {
  "kernelspec": {
   "display_name": "graph_ml",
   "language": "python",
   "name": "python3"
  },
  "language_info": {
   "codemirror_mode": {
    "name": "ipython",
    "version": 3
   },
   "file_extension": ".py",
   "mimetype": "text/x-python",
   "name": "python",
   "nbconvert_exporter": "python",
   "pygments_lexer": "ipython3",
   "version": "3.10.15"
  }
 },
 "nbformat": 4,
 "nbformat_minor": 5
}
