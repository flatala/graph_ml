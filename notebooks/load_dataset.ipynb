{
 "cells": [
  {
   "cell_type": "code",
   "execution_count": 1,
   "id": "98b5d483-acb8-46ae-992c-ba69f5620725",
   "metadata": {},
   "outputs": [],
   "source": [
    "import os\n",
    "import pandas as pd\n",
    "import numpy as np\n",
    "from pathlib import Path"
   ]
  },
  {
   "cell_type": "code",
   "execution_count": 2,
   "id": "de50d402-ece2-4ee2-a910-7fd91f0fc253",
   "metadata": {},
   "outputs": [],
   "source": [
    "DATA_DIR = \"../elliptic_dataset\"\n",
    "\n",
    "# wallet data\n",
    "WALLETS_FEATURES = \"wallets_features.csv\"\n",
    "WALLETS_CLASSES = \"wallets_classes.csv\"\n",
    "\n",
    "# wallet to wallet edges\n",
    "ADDRESS_TO_ADDRESS = \"AddrAddr_edgelist.csv\"\n"
   ]
  },
  {
   "cell_type": "markdown",
   "id": "8fb3f4a6-af3d-45a7-b477-e9add40f2929",
   "metadata": {},
   "source": [
    "## 1. Load and inspect the actors dataset"
   ]
  },
  {
   "cell_type": "markdown",
   "id": "e59c2357-d5e3-4db4-8585-821ff622e690",
   "metadata": {},
   "source": [
    "#### 1.1.Let's first inspect the features of wallets"
   ]
  },
  {
   "cell_type": "code",
   "execution_count": 4,
   "id": "60a89fdd-6567-41cd-bb6b-b95ce9d82a2e",
   "metadata": {},
   "outputs": [
    {
     "name": "stdout",
     "output_type": "stream",
     "text": [
      "1268260\n"
     ]
    }
   ],
   "source": [
    "wallet_features = pd.read_csv(os.path.join(DATA_DIR, WALLETS_FEATURES))\n",
    "print(wallet_features.shape[0])"
   ]
  },
  {
   "cell_type": "code",
   "execution_count": 5,
   "id": "0b07153d-50dd-4cc7-a2cc-aa19b4ab348f",
   "metadata": {},
   "outputs": [
    {
     "data": {
      "application/vnd.microsoft.datawrangler.viewer.v0+json": {
       "columns": [
        {
         "name": "index",
         "rawType": "int64",
         "type": "integer"
        },
        {
         "name": "address",
         "rawType": "object",
         "type": "string"
        },
        {
         "name": "Time step",
         "rawType": "int64",
         "type": "integer"
        },
        {
         "name": "num_txs_as_sender",
         "rawType": "float64",
         "type": "float"
        },
        {
         "name": "num_txs_as receiver",
         "rawType": "float64",
         "type": "float"
        },
        {
         "name": "first_block_appeared_in",
         "rawType": "float64",
         "type": "float"
        },
        {
         "name": "last_block_appeared_in",
         "rawType": "float64",
         "type": "float"
        },
        {
         "name": "lifetime_in_blocks",
         "rawType": "float64",
         "type": "float"
        },
        {
         "name": "total_txs",
         "rawType": "float64",
         "type": "float"
        },
        {
         "name": "first_sent_block",
         "rawType": "float64",
         "type": "float"
        },
        {
         "name": "first_received_block",
         "rawType": "float64",
         "type": "float"
        },
        {
         "name": "num_timesteps_appeared_in",
         "rawType": "float64",
         "type": "float"
        },
        {
         "name": "btc_transacted_total",
         "rawType": "float64",
         "type": "float"
        },
        {
         "name": "btc_transacted_min",
         "rawType": "float64",
         "type": "float"
        },
        {
         "name": "btc_transacted_max",
         "rawType": "float64",
         "type": "float"
        },
        {
         "name": "btc_transacted_mean",
         "rawType": "float64",
         "type": "float"
        },
        {
         "name": "btc_transacted_median",
         "rawType": "float64",
         "type": "float"
        },
        {
         "name": "btc_sent_total",
         "rawType": "float64",
         "type": "float"
        },
        {
         "name": "btc_sent_min",
         "rawType": "float64",
         "type": "float"
        },
        {
         "name": "btc_sent_max",
         "rawType": "float64",
         "type": "float"
        },
        {
         "name": "btc_sent_mean",
         "rawType": "float64",
         "type": "float"
        },
        {
         "name": "btc_sent_median",
         "rawType": "float64",
         "type": "float"
        },
        {
         "name": "btc_received_total",
         "rawType": "float64",
         "type": "float"
        },
        {
         "name": "btc_received_min",
         "rawType": "float64",
         "type": "float"
        },
        {
         "name": "btc_received_max",
         "rawType": "float64",
         "type": "float"
        },
        {
         "name": "btc_received_mean",
         "rawType": "float64",
         "type": "float"
        },
        {
         "name": "btc_received_median",
         "rawType": "float64",
         "type": "float"
        },
        {
         "name": "fees_total",
         "rawType": "float64",
         "type": "float"
        },
        {
         "name": "fees_min",
         "rawType": "float64",
         "type": "float"
        },
        {
         "name": "fees_max",
         "rawType": "float64",
         "type": "float"
        },
        {
         "name": "fees_mean",
         "rawType": "float64",
         "type": "float"
        },
        {
         "name": "fees_median",
         "rawType": "float64",
         "type": "float"
        },
        {
         "name": "fees_as_share_total",
         "rawType": "float64",
         "type": "float"
        },
        {
         "name": "fees_as_share_min",
         "rawType": "float64",
         "type": "float"
        },
        {
         "name": "fees_as_share_max",
         "rawType": "float64",
         "type": "float"
        },
        {
         "name": "fees_as_share_mean",
         "rawType": "float64",
         "type": "float"
        },
        {
         "name": "fees_as_share_median",
         "rawType": "float64",
         "type": "float"
        },
        {
         "name": "blocks_btwn_txs_total",
         "rawType": "float64",
         "type": "float"
        },
        {
         "name": "blocks_btwn_txs_min",
         "rawType": "float64",
         "type": "float"
        },
        {
         "name": "blocks_btwn_txs_max",
         "rawType": "float64",
         "type": "float"
        },
        {
         "name": "blocks_btwn_txs_mean",
         "rawType": "float64",
         "type": "float"
        },
        {
         "name": "blocks_btwn_txs_median",
         "rawType": "float64",
         "type": "float"
        },
        {
         "name": "blocks_btwn_input_txs_total",
         "rawType": "float64",
         "type": "float"
        },
        {
         "name": "blocks_btwn_input_txs_min",
         "rawType": "float64",
         "type": "float"
        },
        {
         "name": "blocks_btwn_input_txs_max",
         "rawType": "float64",
         "type": "float"
        },
        {
         "name": "blocks_btwn_input_txs_mean",
         "rawType": "float64",
         "type": "float"
        },
        {
         "name": "blocks_btwn_input_txs_median",
         "rawType": "float64",
         "type": "float"
        },
        {
         "name": "blocks_btwn_output_txs_total",
         "rawType": "float64",
         "type": "float"
        },
        {
         "name": "blocks_btwn_output_txs_min",
         "rawType": "float64",
         "type": "float"
        },
        {
         "name": "blocks_btwn_output_txs_max",
         "rawType": "float64",
         "type": "float"
        },
        {
         "name": "blocks_btwn_output_txs_mean",
         "rawType": "float64",
         "type": "float"
        },
        {
         "name": "blocks_btwn_output_txs_median",
         "rawType": "float64",
         "type": "float"
        },
        {
         "name": "num_addr_transacted_multiple",
         "rawType": "float64",
         "type": "float"
        },
        {
         "name": "transacted_w_address_total",
         "rawType": "float64",
         "type": "float"
        },
        {
         "name": "transacted_w_address_min",
         "rawType": "float64",
         "type": "float"
        },
        {
         "name": "transacted_w_address_max",
         "rawType": "float64",
         "type": "float"
        },
        {
         "name": "transacted_w_address_mean",
         "rawType": "float64",
         "type": "float"
        },
        {
         "name": "transacted_w_address_median",
         "rawType": "float64",
         "type": "float"
        }
       ],
       "ref": "5019a16a-becc-49f6-b49f-47288d9c365b",
       "rows": [
        [
         "0",
         "111112TykSw72ztDN2WJger4cynzWYC5w",
         "25",
         "0.0",
         "1.0",
         "439586.0",
         "439586.0",
         "0.0",
         "1.0",
         "0.0",
         "439586.0",
         "1.0",
         "0.0106281",
         "0.0106281",
         "0.0106281",
         "0.0106281",
         "0.0106281",
         "0.0",
         "0.0",
         "0.0",
         "0.0",
         "0.0",
         "0.0106281",
         "0.0106281",
         "0.0106281",
         "0.0106281",
         "0.0106281",
         "0.00704228",
         "0.00704228",
         "0.00704228",
         "0.00704228",
         "0.00704228",
         "1.16237288734953e-05",
         "1.16237288734953e-05",
         "1.16237288734953e-05",
         "1.16237288734953e-05",
         "1.16237288734953e-05",
         "0.0",
         "0.0",
         "0.0",
         "0.0",
         "0.0",
         "0.0",
         "0.0",
         "0.0",
         "0.0",
         "0.0",
         "0.0",
         "0.0",
         "0.0",
         "0.0",
         "0.0",
         "0.0",
         "24.0",
         "1.0",
         "1.0",
         "1.0",
         "1.0"
        ],
        [
         "1",
         "1111DAYXhoxZx2tsRnzimfozo783x1yC2",
         "25",
         "0.0",
         "8.0",
         "439589.0",
         "485959.0",
         "46370.0",
         "8.0",
         "0.0",
         "439589.0",
         "6.0",
         "0.27304573",
         "0.00390045",
         "0.13377712",
         "0.03413071625",
         "0.01435218",
         "0.0",
         "0.0",
         "0.0",
         "0.0",
         "0.0",
         "0.27304573",
         "0.00390045",
         "0.13377712",
         "0.03413071625",
         "0.01435218",
         "0.00237122",
         "0.00012224",
         "0.00057984",
         "0.0002964025",
         "0.00024192",
         "0.0022170327743116",
         "0.0001214933074285",
         "0.0005230928421983",
         "0.0002771290967889",
         "0.0002374776409273",
         "46370.0",
         "0.0",
         "20164.0",
         "6624.28571428571",
         "8060.0",
         "0.0",
         "0.0",
         "0.0",
         "0.0",
         "0.0",
         "46370.0",
         "0.0",
         "20164.0",
         "6624.28571428571",
         "8060.0",
         "0.0",
         "8.0",
         "1.0",
         "1.0",
         "1.0",
         "1.0"
        ],
        [
         "2",
         "1111DAYXhoxZx2tsRnzimfozo783x1yC2",
         "29",
         "0.0",
         "8.0",
         "439589.0",
         "485959.0",
         "46370.0",
         "8.0",
         "0.0",
         "439589.0",
         "6.0",
         "0.27304573",
         "0.00390045",
         "0.13377712",
         "0.03413071625",
         "0.01435218",
         "0.0",
         "0.0",
         "0.0",
         "0.0",
         "0.0",
         "0.27304573",
         "0.00390045",
         "0.13377712",
         "0.03413071625",
         "0.01435218",
         "0.00237122",
         "0.00012224",
         "0.00057984",
         "0.0002964025",
         "0.00024192",
         "0.0022170327743116",
         "0.0001214933074285",
         "0.0005230928421983",
         "0.0002771290967889",
         "0.0002374776409273",
         "46370.0",
         "0.0",
         "20164.0",
         "6624.28571428571",
         "8060.0",
         "0.0",
         "0.0",
         "0.0",
         "0.0",
         "0.0",
         "46370.0",
         "0.0",
         "20164.0",
         "6624.28571428571",
         "8060.0",
         "0.0",
         "8.0",
         "1.0",
         "1.0",
         "1.0",
         "1.0"
        ],
        [
         "3",
         "1111DAYXhoxZx2tsRnzimfozo783x1yC2",
         "39",
         "0.0",
         "8.0",
         "439589.0",
         "485959.0",
         "46370.0",
         "8.0",
         "0.0",
         "439589.0",
         "6.0",
         "0.27304573",
         "0.00390045",
         "0.13377712",
         "0.03413071625",
         "0.01435218",
         "0.0",
         "0.0",
         "0.0",
         "0.0",
         "0.0",
         "0.27304573",
         "0.00390045",
         "0.13377712",
         "0.03413071625",
         "0.01435218",
         "0.00237122",
         "0.00012224",
         "0.00057984",
         "0.0002964025",
         "0.00024192",
         "0.0022170327743116",
         "0.0001214933074285",
         "0.0005230928421983",
         "0.0002771290967889",
         "0.0002374776409273",
         "46370.0",
         "0.0",
         "20164.0",
         "6624.28571428571",
         "8060.0",
         "0.0",
         "0.0",
         "0.0",
         "0.0",
         "0.0",
         "46370.0",
         "0.0",
         "20164.0",
         "6624.28571428571",
         "8060.0",
         "0.0",
         "8.0",
         "1.0",
         "1.0",
         "1.0",
         "1.0"
        ],
        [
         "4",
         "1111DAYXhoxZx2tsRnzimfozo783x1yC2",
         "39",
         "0.0",
         "8.0",
         "439589.0",
         "485959.0",
         "46370.0",
         "8.0",
         "0.0",
         "439589.0",
         "6.0",
         "0.27304573",
         "0.00390045",
         "0.13377712",
         "0.03413071625",
         "0.01435218",
         "0.0",
         "0.0",
         "0.0",
         "0.0",
         "0.0",
         "0.27304573",
         "0.00390045",
         "0.13377712",
         "0.03413071625",
         "0.01435218",
         "0.00237122",
         "0.00012224",
         "0.00057984",
         "0.0002964025",
         "0.00024192",
         "0.0022170327743116",
         "0.0001214933074285",
         "0.0005230928421983",
         "0.0002771290967889",
         "0.0002374776409273",
         "46370.0",
         "0.0",
         "20164.0",
         "6624.28571428571",
         "8060.0",
         "0.0",
         "0.0",
         "0.0",
         "0.0",
         "0.0",
         "46370.0",
         "0.0",
         "20164.0",
         "6624.28571428571",
         "8060.0",
         "0.0",
         "8.0",
         "1.0",
         "1.0",
         "1.0",
         "1.0"
        ]
       ],
       "shape": {
        "columns": 57,
        "rows": 5
       }
      },
      "text/html": [
       "<div>\n",
       "<style scoped>\n",
       "    .dataframe tbody tr th:only-of-type {\n",
       "        vertical-align: middle;\n",
       "    }\n",
       "\n",
       "    .dataframe tbody tr th {\n",
       "        vertical-align: top;\n",
       "    }\n",
       "\n",
       "    .dataframe thead th {\n",
       "        text-align: right;\n",
       "    }\n",
       "</style>\n",
       "<table border=\"1\" class=\"dataframe\">\n",
       "  <thead>\n",
       "    <tr style=\"text-align: right;\">\n",
       "      <th></th>\n",
       "      <th>address</th>\n",
       "      <th>Time step</th>\n",
       "      <th>num_txs_as_sender</th>\n",
       "      <th>num_txs_as receiver</th>\n",
       "      <th>first_block_appeared_in</th>\n",
       "      <th>last_block_appeared_in</th>\n",
       "      <th>lifetime_in_blocks</th>\n",
       "      <th>total_txs</th>\n",
       "      <th>first_sent_block</th>\n",
       "      <th>first_received_block</th>\n",
       "      <th>...</th>\n",
       "      <th>blocks_btwn_output_txs_min</th>\n",
       "      <th>blocks_btwn_output_txs_max</th>\n",
       "      <th>blocks_btwn_output_txs_mean</th>\n",
       "      <th>blocks_btwn_output_txs_median</th>\n",
       "      <th>num_addr_transacted_multiple</th>\n",
       "      <th>transacted_w_address_total</th>\n",
       "      <th>transacted_w_address_min</th>\n",
       "      <th>transacted_w_address_max</th>\n",
       "      <th>transacted_w_address_mean</th>\n",
       "      <th>transacted_w_address_median</th>\n",
       "    </tr>\n",
       "  </thead>\n",
       "  <tbody>\n",
       "    <tr>\n",
       "      <th>0</th>\n",
       "      <td>111112TykSw72ztDN2WJger4cynzWYC5w</td>\n",
       "      <td>25</td>\n",
       "      <td>0.0</td>\n",
       "      <td>1.0</td>\n",
       "      <td>439586.0</td>\n",
       "      <td>439586.0</td>\n",
       "      <td>0.0</td>\n",
       "      <td>1.0</td>\n",
       "      <td>0.0</td>\n",
       "      <td>439586.0</td>\n",
       "      <td>...</td>\n",
       "      <td>0.0</td>\n",
       "      <td>0.0</td>\n",
       "      <td>0.000000</td>\n",
       "      <td>0.0</td>\n",
       "      <td>0.0</td>\n",
       "      <td>24.0</td>\n",
       "      <td>1.0</td>\n",
       "      <td>1.0</td>\n",
       "      <td>1.0</td>\n",
       "      <td>1.0</td>\n",
       "    </tr>\n",
       "    <tr>\n",
       "      <th>1</th>\n",
       "      <td>1111DAYXhoxZx2tsRnzimfozo783x1yC2</td>\n",
       "      <td>25</td>\n",
       "      <td>0.0</td>\n",
       "      <td>8.0</td>\n",
       "      <td>439589.0</td>\n",
       "      <td>485959.0</td>\n",
       "      <td>46370.0</td>\n",
       "      <td>8.0</td>\n",
       "      <td>0.0</td>\n",
       "      <td>439589.0</td>\n",
       "      <td>...</td>\n",
       "      <td>0.0</td>\n",
       "      <td>20164.0</td>\n",
       "      <td>6624.285714</td>\n",
       "      <td>8060.0</td>\n",
       "      <td>0.0</td>\n",
       "      <td>8.0</td>\n",
       "      <td>1.0</td>\n",
       "      <td>1.0</td>\n",
       "      <td>1.0</td>\n",
       "      <td>1.0</td>\n",
       "    </tr>\n",
       "    <tr>\n",
       "      <th>2</th>\n",
       "      <td>1111DAYXhoxZx2tsRnzimfozo783x1yC2</td>\n",
       "      <td>29</td>\n",
       "      <td>0.0</td>\n",
       "      <td>8.0</td>\n",
       "      <td>439589.0</td>\n",
       "      <td>485959.0</td>\n",
       "      <td>46370.0</td>\n",
       "      <td>8.0</td>\n",
       "      <td>0.0</td>\n",
       "      <td>439589.0</td>\n",
       "      <td>...</td>\n",
       "      <td>0.0</td>\n",
       "      <td>20164.0</td>\n",
       "      <td>6624.285714</td>\n",
       "      <td>8060.0</td>\n",
       "      <td>0.0</td>\n",
       "      <td>8.0</td>\n",
       "      <td>1.0</td>\n",
       "      <td>1.0</td>\n",
       "      <td>1.0</td>\n",
       "      <td>1.0</td>\n",
       "    </tr>\n",
       "    <tr>\n",
       "      <th>3</th>\n",
       "      <td>1111DAYXhoxZx2tsRnzimfozo783x1yC2</td>\n",
       "      <td>39</td>\n",
       "      <td>0.0</td>\n",
       "      <td>8.0</td>\n",
       "      <td>439589.0</td>\n",
       "      <td>485959.0</td>\n",
       "      <td>46370.0</td>\n",
       "      <td>8.0</td>\n",
       "      <td>0.0</td>\n",
       "      <td>439589.0</td>\n",
       "      <td>...</td>\n",
       "      <td>0.0</td>\n",
       "      <td>20164.0</td>\n",
       "      <td>6624.285714</td>\n",
       "      <td>8060.0</td>\n",
       "      <td>0.0</td>\n",
       "      <td>8.0</td>\n",
       "      <td>1.0</td>\n",
       "      <td>1.0</td>\n",
       "      <td>1.0</td>\n",
       "      <td>1.0</td>\n",
       "    </tr>\n",
       "    <tr>\n",
       "      <th>4</th>\n",
       "      <td>1111DAYXhoxZx2tsRnzimfozo783x1yC2</td>\n",
       "      <td>39</td>\n",
       "      <td>0.0</td>\n",
       "      <td>8.0</td>\n",
       "      <td>439589.0</td>\n",
       "      <td>485959.0</td>\n",
       "      <td>46370.0</td>\n",
       "      <td>8.0</td>\n",
       "      <td>0.0</td>\n",
       "      <td>439589.0</td>\n",
       "      <td>...</td>\n",
       "      <td>0.0</td>\n",
       "      <td>20164.0</td>\n",
       "      <td>6624.285714</td>\n",
       "      <td>8060.0</td>\n",
       "      <td>0.0</td>\n",
       "      <td>8.0</td>\n",
       "      <td>1.0</td>\n",
       "      <td>1.0</td>\n",
       "      <td>1.0</td>\n",
       "      <td>1.0</td>\n",
       "    </tr>\n",
       "  </tbody>\n",
       "</table>\n",
       "<p>5 rows × 57 columns</p>\n",
       "</div>"
      ],
      "text/plain": [
       "                             address  Time step  num_txs_as_sender  \\\n",
       "0  111112TykSw72ztDN2WJger4cynzWYC5w         25                0.0   \n",
       "1  1111DAYXhoxZx2tsRnzimfozo783x1yC2         25                0.0   \n",
       "2  1111DAYXhoxZx2tsRnzimfozo783x1yC2         29                0.0   \n",
       "3  1111DAYXhoxZx2tsRnzimfozo783x1yC2         39                0.0   \n",
       "4  1111DAYXhoxZx2tsRnzimfozo783x1yC2         39                0.0   \n",
       "\n",
       "   num_txs_as receiver  first_block_appeared_in  last_block_appeared_in  \\\n",
       "0                  1.0                 439586.0                439586.0   \n",
       "1                  8.0                 439589.0                485959.0   \n",
       "2                  8.0                 439589.0                485959.0   \n",
       "3                  8.0                 439589.0                485959.0   \n",
       "4                  8.0                 439589.0                485959.0   \n",
       "\n",
       "   lifetime_in_blocks  total_txs  first_sent_block  first_received_block  ...  \\\n",
       "0                 0.0        1.0               0.0              439586.0  ...   \n",
       "1             46370.0        8.0               0.0              439589.0  ...   \n",
       "2             46370.0        8.0               0.0              439589.0  ...   \n",
       "3             46370.0        8.0               0.0              439589.0  ...   \n",
       "4             46370.0        8.0               0.0              439589.0  ...   \n",
       "\n",
       "   blocks_btwn_output_txs_min  blocks_btwn_output_txs_max  \\\n",
       "0                         0.0                         0.0   \n",
       "1                         0.0                     20164.0   \n",
       "2                         0.0                     20164.0   \n",
       "3                         0.0                     20164.0   \n",
       "4                         0.0                     20164.0   \n",
       "\n",
       "   blocks_btwn_output_txs_mean  blocks_btwn_output_txs_median  \\\n",
       "0                     0.000000                            0.0   \n",
       "1                  6624.285714                         8060.0   \n",
       "2                  6624.285714                         8060.0   \n",
       "3                  6624.285714                         8060.0   \n",
       "4                  6624.285714                         8060.0   \n",
       "\n",
       "   num_addr_transacted_multiple  transacted_w_address_total  \\\n",
       "0                           0.0                        24.0   \n",
       "1                           0.0                         8.0   \n",
       "2                           0.0                         8.0   \n",
       "3                           0.0                         8.0   \n",
       "4                           0.0                         8.0   \n",
       "\n",
       "   transacted_w_address_min  transacted_w_address_max  \\\n",
       "0                       1.0                       1.0   \n",
       "1                       1.0                       1.0   \n",
       "2                       1.0                       1.0   \n",
       "3                       1.0                       1.0   \n",
       "4                       1.0                       1.0   \n",
       "\n",
       "   transacted_w_address_mean  transacted_w_address_median  \n",
       "0                        1.0                          1.0  \n",
       "1                        1.0                          1.0  \n",
       "2                        1.0                          1.0  \n",
       "3                        1.0                          1.0  \n",
       "4                        1.0                          1.0  \n",
       "\n",
       "[5 rows x 57 columns]"
      ]
     },
     "execution_count": 5,
     "metadata": {},
     "output_type": "execute_result"
    }
   ],
   "source": [
    "wallet_features.head(5)"
   ]
  },
  {
   "cell_type": "markdown",
   "id": "1734de90-f85b-45ef-891a-841b37a72edc",
   "metadata": {},
   "source": [
    "#### 1.2. Lets now look at the wallet labels:\n",
    "- Class 1 - Illicit (should be 14,266, so 2%)\n",
    "- Class 2 - Licit (should be 251,088, so 31%)\n",
    "- Class 3 - Unknown (the rest)"
   ]
  },
  {
   "cell_type": "code",
   "execution_count": 6,
   "id": "a16ee3b6-5a64-4467-9745-7edab73953c4",
   "metadata": {},
   "outputs": [
    {
     "name": "stdout",
     "output_type": "stream",
     "text": [
      "822942\n"
     ]
    }
   ],
   "source": [
    "wallet_classes = pd.read_csv(os.path.join(DATA_DIR, WALLETS_CLASSES))\n",
    "print(wallet_classes.shape[0])"
   ]
  },
  {
   "cell_type": "code",
   "execution_count": 7,
   "id": "d95a855c-1f90-42cf-b45c-5416c33ba6fa",
   "metadata": {},
   "outputs": [
    {
     "data": {
      "application/vnd.microsoft.datawrangler.viewer.v0+json": {
       "columns": [
        {
         "name": "index",
         "rawType": "int64",
         "type": "integer"
        },
        {
         "name": "address",
         "rawType": "object",
         "type": "string"
        },
        {
         "name": "class",
         "rawType": "int64",
         "type": "integer"
        }
       ],
       "ref": "53d2ac8e-de5f-4b25-9c2f-e20185a9d0e4",
       "rows": [
        [
         "0",
         "111112TykSw72ztDN2WJger4cynzWYC5w",
         "2"
        ],
        [
         "1",
         "1111DAYXhoxZx2tsRnzimfozo783x1yC2",
         "3"
        ],
        [
         "2",
         "1111VHuXEzHaRCgXbVwojtaP7Co3QABb",
         "2"
        ],
        [
         "3",
         "111218KKkh1JJFRHbwM16AwCiVCc4m7he1",
         "3"
        ],
        [
         "4",
         "1115LWW3xsD9jT9VRY7viCN9S34RVAAuA",
         "2"
        ]
       ],
       "shape": {
        "columns": 2,
        "rows": 5
       }
      },
      "text/html": [
       "<div>\n",
       "<style scoped>\n",
       "    .dataframe tbody tr th:only-of-type {\n",
       "        vertical-align: middle;\n",
       "    }\n",
       "\n",
       "    .dataframe tbody tr th {\n",
       "        vertical-align: top;\n",
       "    }\n",
       "\n",
       "    .dataframe thead th {\n",
       "        text-align: right;\n",
       "    }\n",
       "</style>\n",
       "<table border=\"1\" class=\"dataframe\">\n",
       "  <thead>\n",
       "    <tr style=\"text-align: right;\">\n",
       "      <th></th>\n",
       "      <th>address</th>\n",
       "      <th>class</th>\n",
       "    </tr>\n",
       "  </thead>\n",
       "  <tbody>\n",
       "    <tr>\n",
       "      <th>0</th>\n",
       "      <td>111112TykSw72ztDN2WJger4cynzWYC5w</td>\n",
       "      <td>2</td>\n",
       "    </tr>\n",
       "    <tr>\n",
       "      <th>1</th>\n",
       "      <td>1111DAYXhoxZx2tsRnzimfozo783x1yC2</td>\n",
       "      <td>3</td>\n",
       "    </tr>\n",
       "    <tr>\n",
       "      <th>2</th>\n",
       "      <td>1111VHuXEzHaRCgXbVwojtaP7Co3QABb</td>\n",
       "      <td>2</td>\n",
       "    </tr>\n",
       "    <tr>\n",
       "      <th>3</th>\n",
       "      <td>111218KKkh1JJFRHbwM16AwCiVCc4m7he1</td>\n",
       "      <td>3</td>\n",
       "    </tr>\n",
       "    <tr>\n",
       "      <th>4</th>\n",
       "      <td>1115LWW3xsD9jT9VRY7viCN9S34RVAAuA</td>\n",
       "      <td>2</td>\n",
       "    </tr>\n",
       "  </tbody>\n",
       "</table>\n",
       "</div>"
      ],
      "text/plain": [
       "                              address  class\n",
       "0   111112TykSw72ztDN2WJger4cynzWYC5w      2\n",
       "1   1111DAYXhoxZx2tsRnzimfozo783x1yC2      3\n",
       "2    1111VHuXEzHaRCgXbVwojtaP7Co3QABb      2\n",
       "3  111218KKkh1JJFRHbwM16AwCiVCc4m7he1      3\n",
       "4   1115LWW3xsD9jT9VRY7viCN9S34RVAAuA      2"
      ]
     },
     "execution_count": 7,
     "metadata": {},
     "output_type": "execute_result"
    }
   ],
   "source": [
    "wallet_classes.head(5)"
   ]
  },
  {
   "cell_type": "markdown",
   "id": "b2dedadb-9c16-4a33-90a2-ec109560bbe5",
   "metadata": {},
   "source": [
    "Let's verify the counts"
   ]
  },
  {
   "cell_type": "code",
   "execution_count": 8,
   "id": "83f8a464-fd1b-4b40-a3a1-f6ef8069fb15",
   "metadata": {},
   "outputs": [
    {
     "name": "stdout",
     "output_type": "stream",
     "text": [
      "Illicit transaction count: 14266\n",
      "Licit transaction count: 251088\n",
      "Unknown transaction count: 557588\n"
     ]
    }
   ],
   "source": [
    "illicit_count = wallet_classes[wallet_classes[\"class\"] == 1].shape[0]\n",
    "licit_count = wallet_classes[wallet_classes[\"class\"] == 2].shape[0]\n",
    "unknown_count = wallet_classes[wallet_classes[\"class\"] == 3].shape[0]\n",
    "\n",
    "print(f\"Illicit transaction count: {illicit_count}\")\n",
    "print(f\"Licit transaction count: {licit_count}\")\n",
    "print(f\"Unknown transaction count: {unknown_count}\")"
   ]
  },
  {
   "cell_type": "markdown",
   "id": "ed576794-a4e3-480f-aa25-73b7883d508f",
   "metadata": {},
   "source": [
    "Ok so the illicit and licit counts check out. When populating over time we will see that the counts should match up ot the total of wallet_features"
   ]
  },
  {
   "cell_type": "markdown",
   "id": "21b6cb92-cc30-463c-840b-eb7e55b75c60",
   "metadata": {},
   "source": [
    "#### 1.3. Let's inspect the address to address edges"
   ]
  },
  {
   "cell_type": "code",
   "execution_count": 9,
   "id": "edd2b611-9515-44d6-9eb0-1ae6448df808",
   "metadata": {},
   "outputs": [
    {
     "name": "stdout",
     "output_type": "stream",
     "text": [
      "2868964\n"
     ]
    }
   ],
   "source": [
    "address_to_address = pd.read_csv(os.path.join(DATA_DIR, ADDRESS_TO_ADDRESS))\n",
    "print(address_to_address.shape[0])"
   ]
  },
  {
   "cell_type": "code",
   "execution_count": 10,
   "id": "a8910519-4bab-4a40-b509-92054d84bc60",
   "metadata": {},
   "outputs": [
    {
     "data": {
      "application/vnd.microsoft.datawrangler.viewer.v0+json": {
       "columns": [
        {
         "name": "index",
         "rawType": "int64",
         "type": "integer"
        },
        {
         "name": "input_address",
         "rawType": "object",
         "type": "string"
        },
        {
         "name": "output_address",
         "rawType": "object",
         "type": "string"
        }
       ],
       "ref": "24467542-46f6-402d-92eb-a99ae4a562ee",
       "rows": [
        [
         "0",
         "14YRXHHof4BY1TVxN5FqYPcEdpmXiYT78a",
         "1GASxu5nMntiRKdVtTVRvEbP965G51bhHH"
        ],
        [
         "1",
         "14YRXHHof4BY1TVxN5FqYPcEdpmXiYT78a",
         "14YRXHHof4BY1TVxN5FqYPcEdpmXiYT78a"
        ],
        [
         "2",
         "13Lhad3SAmu2vqYg2dxbNcxH7LE77kJu2w",
         "1GFdrdgtG34GChM8SMpMwcXFc4nYbH1A5G"
        ],
        [
         "3",
         "1MAQQZn7EHP6J3erXByCciFiVcgS8ZhWqz",
         "19q57SeCEzTnWrWVXA43nZzhSiXkYggh7c"
        ],
        [
         "4",
         "1MAQQZn7EHP6J3erXByCciFiVcgS8ZhWqz",
         "1Kk1NVYnCE8ALXDhgMM6HqTt1jDSvi6QBA"
        ]
       ],
       "shape": {
        "columns": 2,
        "rows": 5
       }
      },
      "text/html": [
       "<div>\n",
       "<style scoped>\n",
       "    .dataframe tbody tr th:only-of-type {\n",
       "        vertical-align: middle;\n",
       "    }\n",
       "\n",
       "    .dataframe tbody tr th {\n",
       "        vertical-align: top;\n",
       "    }\n",
       "\n",
       "    .dataframe thead th {\n",
       "        text-align: right;\n",
       "    }\n",
       "</style>\n",
       "<table border=\"1\" class=\"dataframe\">\n",
       "  <thead>\n",
       "    <tr style=\"text-align: right;\">\n",
       "      <th></th>\n",
       "      <th>input_address</th>\n",
       "      <th>output_address</th>\n",
       "    </tr>\n",
       "  </thead>\n",
       "  <tbody>\n",
       "    <tr>\n",
       "      <th>0</th>\n",
       "      <td>14YRXHHof4BY1TVxN5FqYPcEdpmXiYT78a</td>\n",
       "      <td>1GASxu5nMntiRKdVtTVRvEbP965G51bhHH</td>\n",
       "    </tr>\n",
       "    <tr>\n",
       "      <th>1</th>\n",
       "      <td>14YRXHHof4BY1TVxN5FqYPcEdpmXiYT78a</td>\n",
       "      <td>14YRXHHof4BY1TVxN5FqYPcEdpmXiYT78a</td>\n",
       "    </tr>\n",
       "    <tr>\n",
       "      <th>2</th>\n",
       "      <td>13Lhad3SAmu2vqYg2dxbNcxH7LE77kJu2w</td>\n",
       "      <td>1GFdrdgtG34GChM8SMpMwcXFc4nYbH1A5G</td>\n",
       "    </tr>\n",
       "    <tr>\n",
       "      <th>3</th>\n",
       "      <td>1MAQQZn7EHP6J3erXByCciFiVcgS8ZhWqz</td>\n",
       "      <td>19q57SeCEzTnWrWVXA43nZzhSiXkYggh7c</td>\n",
       "    </tr>\n",
       "    <tr>\n",
       "      <th>4</th>\n",
       "      <td>1MAQQZn7EHP6J3erXByCciFiVcgS8ZhWqz</td>\n",
       "      <td>1Kk1NVYnCE8ALXDhgMM6HqTt1jDSvi6QBA</td>\n",
       "    </tr>\n",
       "  </tbody>\n",
       "</table>\n",
       "</div>"
      ],
      "text/plain": [
       "                        input_address                      output_address\n",
       "0  14YRXHHof4BY1TVxN5FqYPcEdpmXiYT78a  1GASxu5nMntiRKdVtTVRvEbP965G51bhHH\n",
       "1  14YRXHHof4BY1TVxN5FqYPcEdpmXiYT78a  14YRXHHof4BY1TVxN5FqYPcEdpmXiYT78a\n",
       "2  13Lhad3SAmu2vqYg2dxbNcxH7LE77kJu2w  1GFdrdgtG34GChM8SMpMwcXFc4nYbH1A5G\n",
       "3  1MAQQZn7EHP6J3erXByCciFiVcgS8ZhWqz  19q57SeCEzTnWrWVXA43nZzhSiXkYggh7c\n",
       "4  1MAQQZn7EHP6J3erXByCciFiVcgS8ZhWqz  1Kk1NVYnCE8ALXDhgMM6HqTt1jDSvi6QBA"
      ]
     },
     "execution_count": 10,
     "metadata": {},
     "output_type": "execute_result"
    }
   ],
   "source": [
    "address_to_address.head(5)"
   ]
  },
  {
   "cell_type": "markdown",
   "id": "d439bae1-3813-46fd-8569-09bd8f2f040c",
   "metadata": {},
   "source": [
    "Ok this is not enough, we want to have some edge features. Lets build this ourselves and include transaction features such as amount etc."
   ]
  },
  {
   "cell_type": "markdown",
   "id": "2f17d47d-a1ad-4316-9297-d51772f70cb2",
   "metadata": {},
   "source": [
    "## 2. Prepare an address-address transaction list with extra features (amount time etc)"
   ]
  },
  {
   "cell_type": "code",
   "execution_count": 11,
   "id": "dcca45d8-4b02-4788-9b09-d575bb0311ef",
   "metadata": {},
   "outputs": [],
   "source": [
    "TRANSACTION_FEATURES = \"txs_features.csv\"\n",
    "TRANSACTION_CLASSES = \"txs_classes.csv\"\n",
    "TRANSACTION_EDGE_LIST = \"txs_edgelist.csv\"\n",
    "ADDRESES_TO_TRANSACTIONS = \"AddrTx_edgelist.csv\"\n",
    "TRANSACTIONS_TO_ADDRESSES = \"TxAddr_edgelist.csv\"\n",
    "\n",
    "transaction_edges = pd.read_csv(os.path.join(DATA_DIR, TRANSACTION_EDGE_LIST))\n",
    "transaction_features = pd.read_csv(os.path.join(DATA_DIR, TRANSACTION_FEATURES))\n",
    "transaction_classes = pd.read_csv(os.path.join(DATA_DIR, TRANSACTION_CLASSES))\n",
    "address_transaction = pd.read_csv(os.path.join(DATA_DIR, ADDRESES_TO_TRANSACTIONS))\n",
    "transaction_address = pd.read_csv(os.path.join(DATA_DIR, TRANSACTIONS_TO_ADDRESSES))"
   ]
  },
  {
   "cell_type": "code",
   "execution_count": 12,
   "id": "05a6612f",
   "metadata": {},
   "outputs": [
    {
     "data": {
      "application/vnd.microsoft.datawrangler.viewer.v0+json": {
       "columns": [
        {
         "name": "index",
         "rawType": "int64",
         "type": "integer"
        },
        {
         "name": "txId1",
         "rawType": "int64",
         "type": "integer"
        },
        {
         "name": "txId2",
         "rawType": "int64",
         "type": "integer"
        }
       ],
       "ref": "50a6abff-bdaa-43aa-9089-f19c0987e36e",
       "rows": [
        [
         "0",
         "230425980",
         "5530458"
        ],
        [
         "1",
         "232022460",
         "232438397"
        ],
        [
         "2",
         "230460314",
         "230459870"
        ],
        [
         "3",
         "230333930",
         "230595899"
        ],
        [
         "4",
         "232013274",
         "232029206"
        ]
       ],
       "shape": {
        "columns": 2,
        "rows": 5
       }
      },
      "text/html": [
       "<div>\n",
       "<style scoped>\n",
       "    .dataframe tbody tr th:only-of-type {\n",
       "        vertical-align: middle;\n",
       "    }\n",
       "\n",
       "    .dataframe tbody tr th {\n",
       "        vertical-align: top;\n",
       "    }\n",
       "\n",
       "    .dataframe thead th {\n",
       "        text-align: right;\n",
       "    }\n",
       "</style>\n",
       "<table border=\"1\" class=\"dataframe\">\n",
       "  <thead>\n",
       "    <tr style=\"text-align: right;\">\n",
       "      <th></th>\n",
       "      <th>txId1</th>\n",
       "      <th>txId2</th>\n",
       "    </tr>\n",
       "  </thead>\n",
       "  <tbody>\n",
       "    <tr>\n",
       "      <th>0</th>\n",
       "      <td>230425980</td>\n",
       "      <td>5530458</td>\n",
       "    </tr>\n",
       "    <tr>\n",
       "      <th>1</th>\n",
       "      <td>232022460</td>\n",
       "      <td>232438397</td>\n",
       "    </tr>\n",
       "    <tr>\n",
       "      <th>2</th>\n",
       "      <td>230460314</td>\n",
       "      <td>230459870</td>\n",
       "    </tr>\n",
       "    <tr>\n",
       "      <th>3</th>\n",
       "      <td>230333930</td>\n",
       "      <td>230595899</td>\n",
       "    </tr>\n",
       "    <tr>\n",
       "      <th>4</th>\n",
       "      <td>232013274</td>\n",
       "      <td>232029206</td>\n",
       "    </tr>\n",
       "  </tbody>\n",
       "</table>\n",
       "</div>"
      ],
      "text/plain": [
       "       txId1      txId2\n",
       "0  230425980    5530458\n",
       "1  232022460  232438397\n",
       "2  230460314  230459870\n",
       "3  230333930  230595899\n",
       "4  232013274  232029206"
      ]
     },
     "execution_count": 12,
     "metadata": {},
     "output_type": "execute_result"
    }
   ],
   "source": [
    "transaction_edges.head(5)"
   ]
  },
  {
   "cell_type": "code",
   "execution_count": 13,
   "id": "cjaps5uyos4",
   "metadata": {},
   "outputs": [
    {
     "data": {
      "text/plain": [
       "((203769, 184), (203769, 2))"
      ]
     },
     "execution_count": 13,
     "metadata": {},
     "output_type": "execute_result"
    }
   ],
   "source": [
    "transaction_features.shape, transaction_classes.shape"
   ]
  },
  {
   "cell_type": "code",
   "execution_count": 14,
   "id": "f8f2a4f8",
   "metadata": {},
   "outputs": [
    {
     "data": {
      "application/vnd.microsoft.datawrangler.viewer.v0+json": {
       "columns": [
        {
         "name": "index",
         "rawType": "int64",
         "type": "integer"
        },
        {
         "name": "txId",
         "rawType": "int64",
         "type": "integer"
        },
        {
         "name": "Time step",
         "rawType": "int64",
         "type": "integer"
        },
        {
         "name": "in_txs_degree",
         "rawType": "float64",
         "type": "float"
        },
        {
         "name": "out_txs_degree",
         "rawType": "float64",
         "type": "float"
        },
        {
         "name": "total_BTC",
         "rawType": "float64",
         "type": "float"
        },
        {
         "name": "fees",
         "rawType": "float64",
         "type": "float"
        },
        {
         "name": "size",
         "rawType": "float64",
         "type": "float"
        },
        {
         "name": "num_input_addresses",
         "rawType": "float64",
         "type": "float"
        },
        {
         "name": "num_output_addresses",
         "rawType": "float64",
         "type": "float"
        },
        {
         "name": "in_BTC_total",
         "rawType": "float64",
         "type": "float"
        },
        {
         "name": "out_BTC_total",
         "rawType": "float64",
         "type": "float"
        }
       ],
       "ref": "2bd3c436-d49c-4e57-888e-325fa22f71b8",
       "rows": [
        [
         "0",
         "3321",
         "1",
         "1.0",
         "0.0",
         "0.53397248",
         "0.0001",
         "225.0",
         "1.0",
         "2.0",
         "0.53407248",
         "0.53397248"
        ],
        [
         "1",
         "11108",
         "1",
         "1.0",
         "1.0",
         "5.61177786",
         "0.0001",
         "225.0",
         "1.0",
         "2.0",
         "5.61187786",
         "5.61177786"
        ],
        [
         "2",
         "51816",
         "1",
         "1.0",
         "1.0",
         "0.45650843",
         "0.0001",
         "226.0",
         "1.0",
         "2.0",
         "0.45660843",
         "0.45650843"
        ],
        [
         "3",
         "68869",
         "1",
         "0.0",
         "1.0",
         "9.3088",
         "0.0001",
         "853.0",
         "3.0",
         "2.0",
         "9.3089",
         "9.3088"
        ],
        [
         "4",
         "89273",
         "1",
         "1.0",
         "288.0",
         "852.16467964",
         "0.0",
         "445268.0",
         "1.0",
         "13107.0",
         "852.16467964",
         "852.16467964"
        ]
       ],
       "shape": {
        "columns": 11,
        "rows": 5
       }
      },
      "text/html": [
       "<div>\n",
       "<style scoped>\n",
       "    .dataframe tbody tr th:only-of-type {\n",
       "        vertical-align: middle;\n",
       "    }\n",
       "\n",
       "    .dataframe tbody tr th {\n",
       "        vertical-align: top;\n",
       "    }\n",
       "\n",
       "    .dataframe thead th {\n",
       "        text-align: right;\n",
       "    }\n",
       "</style>\n",
       "<table border=\"1\" class=\"dataframe\">\n",
       "  <thead>\n",
       "    <tr style=\"text-align: right;\">\n",
       "      <th></th>\n",
       "      <th>txId</th>\n",
       "      <th>Time step</th>\n",
       "      <th>in_txs_degree</th>\n",
       "      <th>out_txs_degree</th>\n",
       "      <th>total_BTC</th>\n",
       "      <th>fees</th>\n",
       "      <th>size</th>\n",
       "      <th>num_input_addresses</th>\n",
       "      <th>num_output_addresses</th>\n",
       "      <th>in_BTC_total</th>\n",
       "      <th>out_BTC_total</th>\n",
       "    </tr>\n",
       "  </thead>\n",
       "  <tbody>\n",
       "    <tr>\n",
       "      <th>0</th>\n",
       "      <td>3321</td>\n",
       "      <td>1</td>\n",
       "      <td>1.0</td>\n",
       "      <td>0.0</td>\n",
       "      <td>0.533972</td>\n",
       "      <td>0.0001</td>\n",
       "      <td>225.0</td>\n",
       "      <td>1.0</td>\n",
       "      <td>2.0</td>\n",
       "      <td>0.534072</td>\n",
       "      <td>0.533972</td>\n",
       "    </tr>\n",
       "    <tr>\n",
       "      <th>1</th>\n",
       "      <td>11108</td>\n",
       "      <td>1</td>\n",
       "      <td>1.0</td>\n",
       "      <td>1.0</td>\n",
       "      <td>5.611778</td>\n",
       "      <td>0.0001</td>\n",
       "      <td>225.0</td>\n",
       "      <td>1.0</td>\n",
       "      <td>2.0</td>\n",
       "      <td>5.611878</td>\n",
       "      <td>5.611778</td>\n",
       "    </tr>\n",
       "    <tr>\n",
       "      <th>2</th>\n",
       "      <td>51816</td>\n",
       "      <td>1</td>\n",
       "      <td>1.0</td>\n",
       "      <td>1.0</td>\n",
       "      <td>0.456508</td>\n",
       "      <td>0.0001</td>\n",
       "      <td>226.0</td>\n",
       "      <td>1.0</td>\n",
       "      <td>2.0</td>\n",
       "      <td>0.456608</td>\n",
       "      <td>0.456508</td>\n",
       "    </tr>\n",
       "    <tr>\n",
       "      <th>3</th>\n",
       "      <td>68869</td>\n",
       "      <td>1</td>\n",
       "      <td>0.0</td>\n",
       "      <td>1.0</td>\n",
       "      <td>9.308800</td>\n",
       "      <td>0.0001</td>\n",
       "      <td>853.0</td>\n",
       "      <td>3.0</td>\n",
       "      <td>2.0</td>\n",
       "      <td>9.308900</td>\n",
       "      <td>9.308800</td>\n",
       "    </tr>\n",
       "    <tr>\n",
       "      <th>4</th>\n",
       "      <td>89273</td>\n",
       "      <td>1</td>\n",
       "      <td>1.0</td>\n",
       "      <td>288.0</td>\n",
       "      <td>852.164680</td>\n",
       "      <td>0.0000</td>\n",
       "      <td>445268.0</td>\n",
       "      <td>1.0</td>\n",
       "      <td>13107.0</td>\n",
       "      <td>852.164680</td>\n",
       "      <td>852.164680</td>\n",
       "    </tr>\n",
       "  </tbody>\n",
       "</table>\n",
       "</div>"
      ],
      "text/plain": [
       "    txId  Time step  in_txs_degree  out_txs_degree   total_BTC    fees  \\\n",
       "0   3321          1            1.0             0.0    0.533972  0.0001   \n",
       "1  11108          1            1.0             1.0    5.611778  0.0001   \n",
       "2  51816          1            1.0             1.0    0.456508  0.0001   \n",
       "3  68869          1            0.0             1.0    9.308800  0.0001   \n",
       "4  89273          1            1.0           288.0  852.164680  0.0000   \n",
       "\n",
       "       size  num_input_addresses  num_output_addresses  in_BTC_total  \\\n",
       "0     225.0                  1.0                   2.0      0.534072   \n",
       "1     225.0                  1.0                   2.0      5.611878   \n",
       "2     226.0                  1.0                   2.0      0.456608   \n",
       "3     853.0                  3.0                   2.0      9.308900   \n",
       "4  445268.0                  1.0               13107.0    852.164680   \n",
       "\n",
       "   out_BTC_total  \n",
       "0       0.533972  \n",
       "1       5.611778  \n",
       "2       0.456508  \n",
       "3       9.308800  \n",
       "4     852.164680  "
      ]
     },
     "execution_count": 14,
     "metadata": {},
     "output_type": "execute_result"
    }
   ],
   "source": [
    "key_transaction_cols = ['txId', 'Time step', 'in_txs_degree', 'out_txs_degree', 'total_BTC', \n",
    "                        'fees', 'size', 'num_input_addresses', 'num_output_addresses',\n",
    "                        'in_BTC_total', 'out_BTC_total']\n",
    "                        \n",
    "transaction_features[key_transaction_cols].head()"
   ]
  },
  {
   "cell_type": "code",
   "execution_count": 17,
   "id": "d7b15fa7",
   "metadata": {},
   "outputs": [
    {
     "data": {
      "application/vnd.microsoft.datawrangler.viewer.v0+json": {
       "columns": [
        {
         "name": "index",
         "rawType": "int64",
         "type": "integer"
        },
        {
         "name": "input_address",
         "rawType": "object",
         "type": "string"
        },
        {
         "name": "txId",
         "rawType": "int64",
         "type": "integer"
        }
       ],
       "ref": "e8be81bc-17ff-42fc-8064-c6d94922af50",
       "rows": [
        [
         "0",
         "14YRXHHof4BY1TVxN5FqYPcEdpmXiYT78a",
         "230325127"
        ],
        [
         "1",
         "13Lhad3SAmu2vqYg2dxbNcxH7LE77kJu2w",
         "230325139"
        ],
        [
         "2",
         "1MAQQZn7EHP6J3erXByCciFiVcgS8ZhWqz",
         "86875675"
        ],
        [
         "3",
         "16zs5SVSyADh5WrLNbZbpRLsBsN5uEzgeK",
         "230325147"
        ],
        [
         "4",
         "1QJpwtUorBKPGUJkSyrRcBKTAHq4CXrdYh",
         "230325154"
        ]
       ],
       "shape": {
        "columns": 2,
        "rows": 5
       }
      },
      "text/html": [
       "<div>\n",
       "<style scoped>\n",
       "    .dataframe tbody tr th:only-of-type {\n",
       "        vertical-align: middle;\n",
       "    }\n",
       "\n",
       "    .dataframe tbody tr th {\n",
       "        vertical-align: top;\n",
       "    }\n",
       "\n",
       "    .dataframe thead th {\n",
       "        text-align: right;\n",
       "    }\n",
       "</style>\n",
       "<table border=\"1\" class=\"dataframe\">\n",
       "  <thead>\n",
       "    <tr style=\"text-align: right;\">\n",
       "      <th></th>\n",
       "      <th>input_address</th>\n",
       "      <th>txId</th>\n",
       "    </tr>\n",
       "  </thead>\n",
       "  <tbody>\n",
       "    <tr>\n",
       "      <th>0</th>\n",
       "      <td>14YRXHHof4BY1TVxN5FqYPcEdpmXiYT78a</td>\n",
       "      <td>230325127</td>\n",
       "    </tr>\n",
       "    <tr>\n",
       "      <th>1</th>\n",
       "      <td>13Lhad3SAmu2vqYg2dxbNcxH7LE77kJu2w</td>\n",
       "      <td>230325139</td>\n",
       "    </tr>\n",
       "    <tr>\n",
       "      <th>2</th>\n",
       "      <td>1MAQQZn7EHP6J3erXByCciFiVcgS8ZhWqz</td>\n",
       "      <td>86875675</td>\n",
       "    </tr>\n",
       "    <tr>\n",
       "      <th>3</th>\n",
       "      <td>16zs5SVSyADh5WrLNbZbpRLsBsN5uEzgeK</td>\n",
       "      <td>230325147</td>\n",
       "    </tr>\n",
       "    <tr>\n",
       "      <th>4</th>\n",
       "      <td>1QJpwtUorBKPGUJkSyrRcBKTAHq4CXrdYh</td>\n",
       "      <td>230325154</td>\n",
       "    </tr>\n",
       "  </tbody>\n",
       "</table>\n",
       "</div>"
      ],
      "text/plain": [
       "                        input_address       txId\n",
       "0  14YRXHHof4BY1TVxN5FqYPcEdpmXiYT78a  230325127\n",
       "1  13Lhad3SAmu2vqYg2dxbNcxH7LE77kJu2w  230325139\n",
       "2  1MAQQZn7EHP6J3erXByCciFiVcgS8ZhWqz   86875675\n",
       "3  16zs5SVSyADh5WrLNbZbpRLsBsN5uEzgeK  230325147\n",
       "4  1QJpwtUorBKPGUJkSyrRcBKTAHq4CXrdYh  230325154"
      ]
     },
     "execution_count": 17,
     "metadata": {},
     "output_type": "execute_result"
    }
   ],
   "source": [
    "address_transaction.head()"
   ]
  },
  {
   "cell_type": "markdown",
   "id": "9e1539c8",
   "metadata": {},
   "source": [
    "Build the complete address-to-address transaction dataframe"
   ]
  },
  {
   "cell_type": "code",
   "execution_count": 15,
   "id": "ff60cb51",
   "metadata": {},
   "outputs": [
    {
     "data": {
      "text/plain": [
       "(2868964, 187)"
      ]
     },
     "execution_count": 15,
     "metadata": {},
     "output_type": "execute_result"
    }
   ],
   "source": [
    "# merge address_transaction with transaction_features\n",
    "address_transaction_with_features = address_transaction.merge(\n",
    "    transaction_features, \n",
    "    on='txId', \n",
    "    how='left'\n",
    ")\n",
    "\n",
    "# merge with transaction_address to get output addresses\n",
    "address_address_transactions = address_transaction_with_features.merge(\n",
    "    transaction_address, \n",
    "    on='txId', \n",
    "    how='inner'\n",
    ")\n",
    "\n",
    "# merge with transaction classes (we might want to drop that later)\n",
    "address_address_transactions = address_address_transactions.merge(\n",
    "    transaction_classes, \n",
    "    on='txId', \n",
    "    how='left'\n",
    ")\n",
    "\n",
    "# sort index\n",
    "address_address_transactions['class'].value_counts().sort_index()\n",
    "address_address_transactions.shape"
   ]
  },
  {
   "cell_type": "markdown",
   "id": "26e7949a",
   "metadata": {},
   "source": [
    "We can see that the number of entries is same as for address-address. This checks out. We also have more entries than transaction features - thsi is because each BTC transaction can include mutliple actors. So a transaction with N inputs and M outputs will have NxM entries added to addresse_address_transactions table."
   ]
  },
  {
   "cell_type": "code",
   "execution_count": 122,
   "id": "6839b8fb",
   "metadata": {},
   "outputs": [
    {
     "data": {
      "application/vnd.microsoft.datawrangler.viewer.v0+json": {
       "columns": [
        {
         "name": "index",
         "rawType": "object",
         "type": "string"
        },
        {
         "name": "0",
         "rawType": "float64",
         "type": "float"
        }
       ],
       "ref": "ca2ad510-28ad-4dbe-a158-6862a4bc7663",
       "rows": [
        [
         "count",
         "49.0"
        ],
        [
         "mean",
         "58550.28571428572"
        ],
        [
         "std",
         "40317.169123402"
        ],
        [
         "min",
         "9932.0"
        ],
        [
         "25%",
         "26861.0"
        ],
        [
         "50%",
         "59974.0"
        ],
        [
         "75%",
         "73202.0"
        ],
        [
         "max",
         "190334.0"
        ]
       ],
       "shape": {
        "columns": 1,
        "rows": 8
       }
      },
      "text/plain": [
       "count        49.000000\n",
       "mean      58550.285714\n",
       "std       40317.169123\n",
       "min        9932.000000\n",
       "25%       26861.000000\n",
       "50%       59974.000000\n",
       "75%       73202.000000\n",
       "max      190334.000000\n",
       "dtype: float64"
      ]
     },
     "execution_count": 122,
     "metadata": {},
     "output_type": "execute_result"
    }
   ],
   "source": [
    "address_address_transactions.groupby('Time step').size().describe()"
   ]
  },
  {
   "cell_type": "markdown",
   "id": "40c8088f",
   "metadata": {},
   "source": [
    "Let's have a look if the BTC amount features differ - also the amounts are misleading as this is a total amount of transactions, and those could include multiple addresses and a bunch of sub-flows -w e coudl scrape this data (painful) on rely on diff features or maybe normalize by using the num_***_addresses features."
   ]
  },
  {
   "cell_type": "code",
   "execution_count": 17,
   "id": "de94913c",
   "metadata": {},
   "outputs": [
    {
     "data": {
      "application/vnd.microsoft.datawrangler.viewer.v0+json": {
       "columns": [
        {
         "name": "index",
         "rawType": "int64",
         "type": "integer"
        },
        {
         "name": "input_address",
         "rawType": "object",
         "type": "string"
        },
        {
         "name": "txId",
         "rawType": "int64",
         "type": "integer"
        },
        {
         "name": "Time step",
         "rawType": "int64",
         "type": "integer"
        },
        {
         "name": "Local_feature_1",
         "rawType": "float64",
         "type": "float"
        },
        {
         "name": "Local_feature_2",
         "rawType": "float64",
         "type": "float"
        },
        {
         "name": "Local_feature_3",
         "rawType": "float64",
         "type": "float"
        },
        {
         "name": "Local_feature_4",
         "rawType": "float64",
         "type": "float"
        },
        {
         "name": "Local_feature_5",
         "rawType": "float64",
         "type": "float"
        },
        {
         "name": "Local_feature_6",
         "rawType": "float64",
         "type": "float"
        },
        {
         "name": "Local_feature_7",
         "rawType": "float64",
         "type": "float"
        },
        {
         "name": "Local_feature_8",
         "rawType": "float64",
         "type": "float"
        },
        {
         "name": "Local_feature_9",
         "rawType": "float64",
         "type": "float"
        },
        {
         "name": "Local_feature_10",
         "rawType": "float64",
         "type": "float"
        },
        {
         "name": "Local_feature_11",
         "rawType": "float64",
         "type": "float"
        },
        {
         "name": "Local_feature_12",
         "rawType": "float64",
         "type": "float"
        },
        {
         "name": "Local_feature_13",
         "rawType": "float64",
         "type": "float"
        },
        {
         "name": "Local_feature_14",
         "rawType": "float64",
         "type": "float"
        },
        {
         "name": "Local_feature_15",
         "rawType": "float64",
         "type": "float"
        },
        {
         "name": "Local_feature_16",
         "rawType": "float64",
         "type": "float"
        },
        {
         "name": "Local_feature_17",
         "rawType": "float64",
         "type": "float"
        },
        {
         "name": "Local_feature_18",
         "rawType": "float64",
         "type": "float"
        },
        {
         "name": "Local_feature_19",
         "rawType": "float64",
         "type": "float"
        },
        {
         "name": "Local_feature_20",
         "rawType": "float64",
         "type": "float"
        },
        {
         "name": "Local_feature_21",
         "rawType": "float64",
         "type": "float"
        },
        {
         "name": "Local_feature_22",
         "rawType": "float64",
         "type": "float"
        },
        {
         "name": "Local_feature_23",
         "rawType": "float64",
         "type": "float"
        },
        {
         "name": "Local_feature_24",
         "rawType": "float64",
         "type": "float"
        },
        {
         "name": "Local_feature_25",
         "rawType": "float64",
         "type": "float"
        },
        {
         "name": "Local_feature_26",
         "rawType": "float64",
         "type": "float"
        },
        {
         "name": "Local_feature_27",
         "rawType": "float64",
         "type": "float"
        },
        {
         "name": "Local_feature_28",
         "rawType": "float64",
         "type": "float"
        },
        {
         "name": "Local_feature_29",
         "rawType": "float64",
         "type": "float"
        },
        {
         "name": "Local_feature_30",
         "rawType": "float64",
         "type": "float"
        },
        {
         "name": "Local_feature_31",
         "rawType": "float64",
         "type": "float"
        },
        {
         "name": "Local_feature_32",
         "rawType": "float64",
         "type": "float"
        },
        {
         "name": "Local_feature_33",
         "rawType": "float64",
         "type": "float"
        },
        {
         "name": "Local_feature_34",
         "rawType": "float64",
         "type": "float"
        },
        {
         "name": "Local_feature_35",
         "rawType": "float64",
         "type": "float"
        },
        {
         "name": "Local_feature_36",
         "rawType": "float64",
         "type": "float"
        },
        {
         "name": "Local_feature_37",
         "rawType": "float64",
         "type": "float"
        },
        {
         "name": "Local_feature_38",
         "rawType": "float64",
         "type": "float"
        },
        {
         "name": "Local_feature_39",
         "rawType": "float64",
         "type": "float"
        },
        {
         "name": "Local_feature_40",
         "rawType": "float64",
         "type": "float"
        },
        {
         "name": "Local_feature_41",
         "rawType": "float64",
         "type": "float"
        },
        {
         "name": "Local_feature_42",
         "rawType": "float64",
         "type": "float"
        },
        {
         "name": "Local_feature_43",
         "rawType": "float64",
         "type": "float"
        },
        {
         "name": "Local_feature_44",
         "rawType": "float64",
         "type": "float"
        },
        {
         "name": "Local_feature_45",
         "rawType": "float64",
         "type": "float"
        },
        {
         "name": "Local_feature_46",
         "rawType": "float64",
         "type": "float"
        },
        {
         "name": "Local_feature_47",
         "rawType": "float64",
         "type": "float"
        },
        {
         "name": "Local_feature_48",
         "rawType": "float64",
         "type": "float"
        },
        {
         "name": "Local_feature_49",
         "rawType": "float64",
         "type": "float"
        },
        {
         "name": "Local_feature_50",
         "rawType": "float64",
         "type": "float"
        },
        {
         "name": "Local_feature_51",
         "rawType": "float64",
         "type": "float"
        },
        {
         "name": "Local_feature_52",
         "rawType": "float64",
         "type": "float"
        },
        {
         "name": "Local_feature_53",
         "rawType": "float64",
         "type": "float"
        },
        {
         "name": "Local_feature_54",
         "rawType": "float64",
         "type": "float"
        },
        {
         "name": "Local_feature_55",
         "rawType": "float64",
         "type": "float"
        },
        {
         "name": "Local_feature_56",
         "rawType": "float64",
         "type": "float"
        },
        {
         "name": "Local_feature_57",
         "rawType": "float64",
         "type": "float"
        },
        {
         "name": "Local_feature_58",
         "rawType": "float64",
         "type": "float"
        },
        {
         "name": "Local_feature_59",
         "rawType": "float64",
         "type": "float"
        },
        {
         "name": "Local_feature_60",
         "rawType": "float64",
         "type": "float"
        },
        {
         "name": "Local_feature_61",
         "rawType": "float64",
         "type": "float"
        },
        {
         "name": "Local_feature_62",
         "rawType": "float64",
         "type": "float"
        },
        {
         "name": "Local_feature_63",
         "rawType": "float64",
         "type": "float"
        },
        {
         "name": "Local_feature_64",
         "rawType": "float64",
         "type": "float"
        },
        {
         "name": "Local_feature_65",
         "rawType": "float64",
         "type": "float"
        },
        {
         "name": "Local_feature_66",
         "rawType": "float64",
         "type": "float"
        },
        {
         "name": "Local_feature_67",
         "rawType": "float64",
         "type": "float"
        },
        {
         "name": "Local_feature_68",
         "rawType": "float64",
         "type": "float"
        },
        {
         "name": "Local_feature_69",
         "rawType": "float64",
         "type": "float"
        },
        {
         "name": "Local_feature_70",
         "rawType": "float64",
         "type": "float"
        },
        {
         "name": "Local_feature_71",
         "rawType": "float64",
         "type": "float"
        },
        {
         "name": "Local_feature_72",
         "rawType": "float64",
         "type": "float"
        },
        {
         "name": "Local_feature_73",
         "rawType": "float64",
         "type": "float"
        },
        {
         "name": "Local_feature_74",
         "rawType": "float64",
         "type": "float"
        },
        {
         "name": "Local_feature_75",
         "rawType": "float64",
         "type": "float"
        },
        {
         "name": "Local_feature_76",
         "rawType": "float64",
         "type": "float"
        },
        {
         "name": "Local_feature_77",
         "rawType": "float64",
         "type": "float"
        },
        {
         "name": "Local_feature_78",
         "rawType": "float64",
         "type": "float"
        },
        {
         "name": "Local_feature_79",
         "rawType": "float64",
         "type": "float"
        },
        {
         "name": "Local_feature_80",
         "rawType": "float64",
         "type": "float"
        },
        {
         "name": "Local_feature_81",
         "rawType": "float64",
         "type": "float"
        },
        {
         "name": "Local_feature_82",
         "rawType": "float64",
         "type": "float"
        },
        {
         "name": "Local_feature_83",
         "rawType": "float64",
         "type": "float"
        },
        {
         "name": "Local_feature_84",
         "rawType": "float64",
         "type": "float"
        },
        {
         "name": "Local_feature_85",
         "rawType": "float64",
         "type": "float"
        },
        {
         "name": "Local_feature_86",
         "rawType": "float64",
         "type": "float"
        },
        {
         "name": "Local_feature_87",
         "rawType": "float64",
         "type": "float"
        },
        {
         "name": "Local_feature_88",
         "rawType": "float64",
         "type": "float"
        },
        {
         "name": "Local_feature_89",
         "rawType": "float64",
         "type": "float"
        },
        {
         "name": "Local_feature_90",
         "rawType": "float64",
         "type": "float"
        },
        {
         "name": "Local_feature_91",
         "rawType": "float64",
         "type": "float"
        },
        {
         "name": "Local_feature_92",
         "rawType": "float64",
         "type": "float"
        },
        {
         "name": "Local_feature_93",
         "rawType": "float64",
         "type": "float"
        },
        {
         "name": "Aggregate_feature_1",
         "rawType": "float64",
         "type": "float"
        },
        {
         "name": "Aggregate_feature_2",
         "rawType": "float64",
         "type": "float"
        },
        {
         "name": "Aggregate_feature_3",
         "rawType": "float64",
         "type": "float"
        },
        {
         "name": "Aggregate_feature_4",
         "rawType": "float64",
         "type": "float"
        },
        {
         "name": "Aggregate_feature_5",
         "rawType": "float64",
         "type": "float"
        },
        {
         "name": "Aggregate_feature_6",
         "rawType": "float64",
         "type": "float"
        },
        {
         "name": "Aggregate_feature_7",
         "rawType": "float64",
         "type": "float"
        },
        {
         "name": "Aggregate_feature_8",
         "rawType": "float64",
         "type": "float"
        },
        {
         "name": "Aggregate_feature_9",
         "rawType": "float64",
         "type": "float"
        },
        {
         "name": "Aggregate_feature_10",
         "rawType": "float64",
         "type": "float"
        },
        {
         "name": "Aggregate_feature_11",
         "rawType": "float64",
         "type": "float"
        },
        {
         "name": "Aggregate_feature_12",
         "rawType": "float64",
         "type": "float"
        },
        {
         "name": "Aggregate_feature_13",
         "rawType": "float64",
         "type": "float"
        },
        {
         "name": "Aggregate_feature_14",
         "rawType": "float64",
         "type": "float"
        },
        {
         "name": "Aggregate_feature_15",
         "rawType": "float64",
         "type": "float"
        },
        {
         "name": "Aggregate_feature_16",
         "rawType": "float64",
         "type": "float"
        },
        {
         "name": "Aggregate_feature_17",
         "rawType": "float64",
         "type": "float"
        },
        {
         "name": "Aggregate_feature_18",
         "rawType": "float64",
         "type": "float"
        },
        {
         "name": "Aggregate_feature_19",
         "rawType": "float64",
         "type": "float"
        },
        {
         "name": "Aggregate_feature_20",
         "rawType": "float64",
         "type": "float"
        },
        {
         "name": "Aggregate_feature_21",
         "rawType": "float64",
         "type": "float"
        },
        {
         "name": "Aggregate_feature_22",
         "rawType": "float64",
         "type": "float"
        },
        {
         "name": "Aggregate_feature_23",
         "rawType": "float64",
         "type": "float"
        },
        {
         "name": "Aggregate_feature_24",
         "rawType": "float64",
         "type": "float"
        },
        {
         "name": "Aggregate_feature_25",
         "rawType": "float64",
         "type": "float"
        },
        {
         "name": "Aggregate_feature_26",
         "rawType": "float64",
         "type": "float"
        },
        {
         "name": "Aggregate_feature_27",
         "rawType": "float64",
         "type": "float"
        },
        {
         "name": "Aggregate_feature_28",
         "rawType": "float64",
         "type": "float"
        },
        {
         "name": "Aggregate_feature_29",
         "rawType": "float64",
         "type": "float"
        },
        {
         "name": "Aggregate_feature_30",
         "rawType": "float64",
         "type": "float"
        },
        {
         "name": "Aggregate_feature_31",
         "rawType": "float64",
         "type": "float"
        },
        {
         "name": "Aggregate_feature_32",
         "rawType": "float64",
         "type": "float"
        },
        {
         "name": "Aggregate_feature_33",
         "rawType": "float64",
         "type": "float"
        },
        {
         "name": "Aggregate_feature_34",
         "rawType": "float64",
         "type": "float"
        },
        {
         "name": "Aggregate_feature_35",
         "rawType": "float64",
         "type": "float"
        },
        {
         "name": "Aggregate_feature_36",
         "rawType": "float64",
         "type": "float"
        },
        {
         "name": "Aggregate_feature_37",
         "rawType": "float64",
         "type": "float"
        },
        {
         "name": "Aggregate_feature_38",
         "rawType": "float64",
         "type": "float"
        },
        {
         "name": "Aggregate_feature_39",
         "rawType": "float64",
         "type": "float"
        },
        {
         "name": "Aggregate_feature_40",
         "rawType": "float64",
         "type": "float"
        },
        {
         "name": "Aggregate_feature_41",
         "rawType": "float64",
         "type": "float"
        },
        {
         "name": "Aggregate_feature_42",
         "rawType": "float64",
         "type": "float"
        },
        {
         "name": "Aggregate_feature_43",
         "rawType": "float64",
         "type": "float"
        },
        {
         "name": "Aggregate_feature_44",
         "rawType": "float64",
         "type": "float"
        },
        {
         "name": "Aggregate_feature_45",
         "rawType": "float64",
         "type": "float"
        },
        {
         "name": "Aggregate_feature_46",
         "rawType": "float64",
         "type": "float"
        },
        {
         "name": "Aggregate_feature_47",
         "rawType": "float64",
         "type": "float"
        },
        {
         "name": "Aggregate_feature_48",
         "rawType": "float64",
         "type": "float"
        },
        {
         "name": "Aggregate_feature_49",
         "rawType": "float64",
         "type": "float"
        },
        {
         "name": "Aggregate_feature_50",
         "rawType": "float64",
         "type": "float"
        },
        {
         "name": "Aggregate_feature_51",
         "rawType": "float64",
         "type": "float"
        },
        {
         "name": "Aggregate_feature_52",
         "rawType": "float64",
         "type": "float"
        },
        {
         "name": "Aggregate_feature_53",
         "rawType": "float64",
         "type": "float"
        },
        {
         "name": "Aggregate_feature_54",
         "rawType": "float64",
         "type": "float"
        },
        {
         "name": "Aggregate_feature_55",
         "rawType": "float64",
         "type": "float"
        },
        {
         "name": "Aggregate_feature_56",
         "rawType": "float64",
         "type": "float"
        },
        {
         "name": "Aggregate_feature_57",
         "rawType": "float64",
         "type": "float"
        },
        {
         "name": "Aggregate_feature_58",
         "rawType": "float64",
         "type": "float"
        },
        {
         "name": "Aggregate_feature_59",
         "rawType": "float64",
         "type": "float"
        },
        {
         "name": "Aggregate_feature_60",
         "rawType": "float64",
         "type": "float"
        },
        {
         "name": "Aggregate_feature_61",
         "rawType": "float64",
         "type": "float"
        },
        {
         "name": "Aggregate_feature_62",
         "rawType": "float64",
         "type": "float"
        },
        {
         "name": "Aggregate_feature_63",
         "rawType": "float64",
         "type": "float"
        },
        {
         "name": "Aggregate_feature_64",
         "rawType": "float64",
         "type": "float"
        },
        {
         "name": "Aggregate_feature_65",
         "rawType": "float64",
         "type": "float"
        },
        {
         "name": "Aggregate_feature_66",
         "rawType": "float64",
         "type": "float"
        },
        {
         "name": "Aggregate_feature_67",
         "rawType": "float64",
         "type": "float"
        },
        {
         "name": "Aggregate_feature_68",
         "rawType": "float64",
         "type": "float"
        },
        {
         "name": "Aggregate_feature_69",
         "rawType": "float64",
         "type": "float"
        },
        {
         "name": "Aggregate_feature_70",
         "rawType": "float64",
         "type": "float"
        },
        {
         "name": "Aggregate_feature_71",
         "rawType": "float64",
         "type": "float"
        },
        {
         "name": "Aggregate_feature_72",
         "rawType": "float64",
         "type": "float"
        },
        {
         "name": "in_txs_degree",
         "rawType": "float64",
         "type": "float"
        },
        {
         "name": "out_txs_degree",
         "rawType": "float64",
         "type": "float"
        },
        {
         "name": "total_BTC",
         "rawType": "float64",
         "type": "float"
        },
        {
         "name": "fees",
         "rawType": "float64",
         "type": "float"
        },
        {
         "name": "size",
         "rawType": "float64",
         "type": "float"
        },
        {
         "name": "num_input_addresses",
         "rawType": "float64",
         "type": "float"
        },
        {
         "name": "num_output_addresses",
         "rawType": "float64",
         "type": "float"
        },
        {
         "name": "in_BTC_min",
         "rawType": "float64",
         "type": "float"
        },
        {
         "name": "in_BTC_max",
         "rawType": "float64",
         "type": "float"
        },
        {
         "name": "in_BTC_mean",
         "rawType": "float64",
         "type": "float"
        },
        {
         "name": "in_BTC_median",
         "rawType": "float64",
         "type": "float"
        },
        {
         "name": "in_BTC_total",
         "rawType": "float64",
         "type": "float"
        },
        {
         "name": "out_BTC_min",
         "rawType": "float64",
         "type": "float"
        },
        {
         "name": "out_BTC_max",
         "rawType": "float64",
         "type": "float"
        },
        {
         "name": "out_BTC_mean",
         "rawType": "float64",
         "type": "float"
        },
        {
         "name": "out_BTC_median",
         "rawType": "float64",
         "type": "float"
        },
        {
         "name": "out_BTC_total",
         "rawType": "float64",
         "type": "float"
        },
        {
         "name": "output_address",
         "rawType": "object",
         "type": "string"
        },
        {
         "name": "class",
         "rawType": "int64",
         "type": "integer"
        }
       ],
       "ref": "c700007e-9367-4383-b8d8-94b1cdbbc7a6",
       "rows": [
        [
         "0",
         "14YRXHHof4BY1TVxN5FqYPcEdpmXiYT78a",
         "230325127",
         "1",
         "-0.1288340639094888",
         "0.0482976988285552",
         "-1.2013688016765636",
         "-0.1219695997591005",
         "-0.0438745479173489",
         "-0.1130020092847624",
         "-0.0615837940730322",
         "-0.1184688690067229",
         "-0.1249165395189251",
         "-0.0497069643940398",
         "-0.1208229300864529",
         "-0.0287412858566647",
         "-0.0353905526008135",
         "-0.0429552992580282",
         "-0.0132816148700588",
         "-0.0415818917496741",
         "-0.1268862681475941",
         "-0.1233284261876109",
         "-0.123996980551247",
         "0.8870578724766534",
         "0.8845565252702963",
         "-0.1375173685323106",
         "-0.1474992596292841",
         "-0.0801472696533522",
         "-0.1537855480570747",
         "-0.010763009512837",
         "-0.0121074517774784",
         "-0.1375188367819831",
         "-0.1474944674854527",
         "-0.0801467358465918",
         "-0.1537853213269412",
         "-0.0106685610738475",
         "-0.0120051821184178",
         "-0.0246626319827783",
         "-0.0312665832985876",
         "-0.0230451563960962",
         "-0.0262086141801215",
         "0.0014278137097094",
         "0.0014826437872997",
         "-0.2212360395092624",
         "-0.2337383938835453",
         "-0.0752555315462277",
         "-0.2290988659858201",
         "0.0374680287743863",
         "0.0434442213339417",
         "-0.2245544670601839",
         "-0.2406452376926195",
         "-0.0978946778840727",
         "-0.2332634342513683",
         "0.0365766503766988",
         "0.0423451348069101",
         "0.2489279374596784",
         "0.0630187532618784",
         "-0.2325526205785921",
         "0.1685574878535049",
         "0.0487668178548852",
         "0.0529560645235839",
         "-0.0391492412969542",
         "-0.1715942048337082",
         "-0.1617406459959664",
         "-0.1596354152149387",
         "0.9234729775583688",
         "0.9230107104495158",
         "-0.0391445254542907",
         "-0.1715830647919789",
         "-0.1617292978167746",
         "-0.1596284833977741",
         "0.9235162990740676",
         "0.9231101257685776",
         "-0.0170316758803496",
         "-0.0300232667583133",
         "-0.0176369657703434",
         "-0.0150678014549448",
         "2.14689907836121",
         "2.148395778478105",
         "-0.0954026892728408",
         "-0.2592727627033271",
         "-0.2452742227694349",
         "-0.2585549703843992",
         "1.1335266830129689",
         "1.1359467007331423",
         "-0.0590130547854711",
         "-0.2599144757510652",
         "-0.2525900668788381",
         "-0.256695530852181",
         "1.1255896087380572",
         "1.1280380290020882",
         "-0.2937849659479051",
         "-0.3063270968705459",
         "-0.1432400686764545",
         "-0.3145669692180806",
         "1.135522751490673",
         "1.135278702458467",
         "-0.1423305864800789",
         "-0.180521277976283",
         "-0.1168167152870516",
         "-0.1652192002146073",
         "-0.0146587756915064",
         "-0.0188487129543817",
         "-1.5156034866860153",
         "-1.5526796681440334",
         "-0.0834587840195169",
         "-1.5444354086927548",
         "-0.0887977253698474",
         "-0.0904370818830761",
         "-0.1665499485646899",
         "-0.216536378578222",
         "-0.1345464749557279",
         "-0.1948166106854253",
         "-0.0031749902209437",
         "-0.0040940903633603",
         "-1.0963356939258175",
         "-1.2673399140326196",
         "-0.3499327749819623",
         "-1.230440801051298",
         "-0.004357614038573",
         "-0.0041943702405639",
         "-0.1164246038907396",
         "-0.1766172824237854",
         "-0.1373232770907919",
         "-0.1524643713004826",
         "-0.0260596888205881",
         "-0.0276597140284855",
         "-0.0955592697148178",
         "-0.145125943418047",
         "-0.0977185991261648",
         "-0.1294956950866637",
         "0.0031432964315106",
         "0.0024263098865888",
         "-0.1214739607101709",
         "-0.0584183869482074",
         "-0.00920259922564",
         "-0.0513147372515649",
         "1.0642045463479908",
         "1.0637874876466933",
         "-1.3739921936669055",
         "-1.2693672585952804",
         "-0.0747929952440541",
         "-1.356313752844657",
         "1.342003002186918",
         "1.3407327277377104",
         "-0.1687415525999319",
         "-0.4293516901441981",
         "-0.3894436937758358",
         "-0.4120585576555255",
         "1.3019661836934409",
         "1.3012808488633716",
         "-0.968902874660573",
         "-1.943849738146609",
         "-1.0598683976058427",
         "-1.6789973509416565",
         "0.1855973669005454",
         "0.1854920038455318",
         "-0.1694718597851629",
         "-0.4399014401216476",
         "-0.3753297803533347",
         "-0.4180832228420664",
         "1.4613303209554889",
         "1.4613689382001922",
         "0.0182794000374458",
         "-0.0682656984136311",
         "-0.0846742330262522",
         "-0.0544501090363941",
         "-1.7609264293068194",
         "-1.760984402318598",
         "0.0",
         "1.0",
         "6.999303",
         "0.001",
         "225.0",
         "1.0",
         "2.0",
         "7.000303",
         "7.000303",
         "7.000303",
         "7.000303",
         "7.000303",
         "0.173495",
         "6.825808",
         "3.4996515",
         "3.4996515",
         "6.999303",
         "1GASxu5nMntiRKdVtTVRvEbP965G51bhHH",
         "3"
        ],
        [
         "1",
         "14YRXHHof4BY1TVxN5FqYPcEdpmXiYT78a",
         "230325127",
         "1",
         "-0.1288340639094888",
         "0.0482976988285552",
         "-1.2013688016765636",
         "-0.1219695997591005",
         "-0.0438745479173489",
         "-0.1130020092847624",
         "-0.0615837940730322",
         "-0.1184688690067229",
         "-0.1249165395189251",
         "-0.0497069643940398",
         "-0.1208229300864529",
         "-0.0287412858566647",
         "-0.0353905526008135",
         "-0.0429552992580282",
         "-0.0132816148700588",
         "-0.0415818917496741",
         "-0.1268862681475941",
         "-0.1233284261876109",
         "-0.123996980551247",
         "0.8870578724766534",
         "0.8845565252702963",
         "-0.1375173685323106",
         "-0.1474992596292841",
         "-0.0801472696533522",
         "-0.1537855480570747",
         "-0.010763009512837",
         "-0.0121074517774784",
         "-0.1375188367819831",
         "-0.1474944674854527",
         "-0.0801467358465918",
         "-0.1537853213269412",
         "-0.0106685610738475",
         "-0.0120051821184178",
         "-0.0246626319827783",
         "-0.0312665832985876",
         "-0.0230451563960962",
         "-0.0262086141801215",
         "0.0014278137097094",
         "0.0014826437872997",
         "-0.2212360395092624",
         "-0.2337383938835453",
         "-0.0752555315462277",
         "-0.2290988659858201",
         "0.0374680287743863",
         "0.0434442213339417",
         "-0.2245544670601839",
         "-0.2406452376926195",
         "-0.0978946778840727",
         "-0.2332634342513683",
         "0.0365766503766988",
         "0.0423451348069101",
         "0.2489279374596784",
         "0.0630187532618784",
         "-0.2325526205785921",
         "0.1685574878535049",
         "0.0487668178548852",
         "0.0529560645235839",
         "-0.0391492412969542",
         "-0.1715942048337082",
         "-0.1617406459959664",
         "-0.1596354152149387",
         "0.9234729775583688",
         "0.9230107104495158",
         "-0.0391445254542907",
         "-0.1715830647919789",
         "-0.1617292978167746",
         "-0.1596284833977741",
         "0.9235162990740676",
         "0.9231101257685776",
         "-0.0170316758803496",
         "-0.0300232667583133",
         "-0.0176369657703434",
         "-0.0150678014549448",
         "2.14689907836121",
         "2.148395778478105",
         "-0.0954026892728408",
         "-0.2592727627033271",
         "-0.2452742227694349",
         "-0.2585549703843992",
         "1.1335266830129689",
         "1.1359467007331423",
         "-0.0590130547854711",
         "-0.2599144757510652",
         "-0.2525900668788381",
         "-0.256695530852181",
         "1.1255896087380572",
         "1.1280380290020882",
         "-0.2937849659479051",
         "-0.3063270968705459",
         "-0.1432400686764545",
         "-0.3145669692180806",
         "1.135522751490673",
         "1.135278702458467",
         "-0.1423305864800789",
         "-0.180521277976283",
         "-0.1168167152870516",
         "-0.1652192002146073",
         "-0.0146587756915064",
         "-0.0188487129543817",
         "-1.5156034866860153",
         "-1.5526796681440334",
         "-0.0834587840195169",
         "-1.5444354086927548",
         "-0.0887977253698474",
         "-0.0904370818830761",
         "-0.1665499485646899",
         "-0.216536378578222",
         "-0.1345464749557279",
         "-0.1948166106854253",
         "-0.0031749902209437",
         "-0.0040940903633603",
         "-1.0963356939258175",
         "-1.2673399140326196",
         "-0.3499327749819623",
         "-1.230440801051298",
         "-0.004357614038573",
         "-0.0041943702405639",
         "-0.1164246038907396",
         "-0.1766172824237854",
         "-0.1373232770907919",
         "-0.1524643713004826",
         "-0.0260596888205881",
         "-0.0276597140284855",
         "-0.0955592697148178",
         "-0.145125943418047",
         "-0.0977185991261648",
         "-0.1294956950866637",
         "0.0031432964315106",
         "0.0024263098865888",
         "-0.1214739607101709",
         "-0.0584183869482074",
         "-0.00920259922564",
         "-0.0513147372515649",
         "1.0642045463479908",
         "1.0637874876466933",
         "-1.3739921936669055",
         "-1.2693672585952804",
         "-0.0747929952440541",
         "-1.356313752844657",
         "1.342003002186918",
         "1.3407327277377104",
         "-0.1687415525999319",
         "-0.4293516901441981",
         "-0.3894436937758358",
         "-0.4120585576555255",
         "1.3019661836934409",
         "1.3012808488633716",
         "-0.968902874660573",
         "-1.943849738146609",
         "-1.0598683976058427",
         "-1.6789973509416565",
         "0.1855973669005454",
         "0.1854920038455318",
         "-0.1694718597851629",
         "-0.4399014401216476",
         "-0.3753297803533347",
         "-0.4180832228420664",
         "1.4613303209554889",
         "1.4613689382001922",
         "0.0182794000374458",
         "-0.0682656984136311",
         "-0.0846742330262522",
         "-0.0544501090363941",
         "-1.7609264293068194",
         "-1.760984402318598",
         "0.0",
         "1.0",
         "6.999303",
         "0.001",
         "225.0",
         "1.0",
         "2.0",
         "7.000303",
         "7.000303",
         "7.000303",
         "7.000303",
         "7.000303",
         "0.173495",
         "6.825808",
         "3.4996515",
         "3.4996515",
         "6.999303",
         "14YRXHHof4BY1TVxN5FqYPcEdpmXiYT78a",
         "3"
        ],
        [
         "2",
         "13Lhad3SAmu2vqYg2dxbNcxH7LE77kJu2w",
         "230325139",
         "1",
         "-0.1381282793603939",
         "-0.1846675514329143",
         "-1.2013688016765636",
         "0.0281054169871445",
         "-0.0637245732388369",
         "-0.1130020092847624",
         "0.5470084673526912",
         "-0.1635953790716198",
         "-0.1419503101221807",
         "0.1335442028260672",
         "-0.1540754913792055",
         "2.3792993395391715",
         "2.415324919421781",
         "-0.0631999532943942",
         "-0.0132816148700588",
         "0.4464427850588296",
         "-0.1353165676635196",
         "-0.1729081406182527",
         "-0.0937364555841318",
         "-0.2432996524586214",
         "-0.2434516511662217",
         "-0.1396730473857373",
         "-0.1488747791529013",
         "-0.0801472696533522",
         "-0.1556121474869759",
         "-0.010763009512837",
         "-0.0121074517774784",
         "-0.1396748382859951",
         "-0.1488700757320751",
         "-0.0801467358465918",
         "-0.155612112196092",
         "-0.0106685610738475",
         "-0.0120051821184178",
         "-0.0246688306562535",
         "-0.0312723904866303",
         "-0.0230451563960962",
         "-0.0262146551774309",
         "0.0014278137097094",
         "0.0014826437872997",
         "-0.2271113744916131",
         "-0.2392703786461123",
         "-0.0752555315462277",
         "-0.2348496517953575",
         "0.0374680287743863",
         "0.0434442213339417",
         "-0.2271147003670631",
         "-0.2431494096663828",
         "-0.0978946778840727",
         "-0.2358083308932229",
         "0.0365766503766988",
         "0.0423451348069101",
         "-0.3056279589910386",
         "-0.3982032644383066",
         "-0.2325526205785921",
         "-0.3635617249444307",
         "0.0487668178548852",
         "0.0529560645235839",
         "-0.0329357259310946",
         "-0.1719811236798671",
         "-0.1631259900993975",
         "-0.1591098744384074",
         "-0.1964346530529631",
         "-0.1961888389129267",
         "-0.0329297295265775",
         "-0.1719700113930419",
         "-0.1631146528780142",
         "-0.1591029202846983",
         "-0.1964085394766894",
         "-0.1961326277610877",
         "-0.0170314576856661",
         "-0.0300262254870894",
         "-0.0176401196299049",
         "-0.0150708795627189",
         "-0.1407632224600331",
         "-0.140334623887323",
         "-0.0903985764303105",
         "-0.2638784384875191",
         "-0.250573517311816",
         "-0.2626505689093332",
         "-0.1691189058033812",
         "-0.1671653815026433",
         "-0.0509484546596699",
         "-0.2618081954248495",
         "-0.2551681497514608",
         "-0.2579970385854755",
         "-0.1871909645279049",
         "-0.1852736257916989",
         "6.657052487333857",
         "1.789158137010907",
         "-0.6942351992761703",
         "3.82969525040456",
         "0.0253079828897598",
         "0.0252169034660526",
         "-0.1683706726405989",
         "-0.1870264087325055",
         "-0.0900306825978226",
         "-0.1818199018176999",
         "2.534880646398745",
         "2.5322881393975263",
         "-1.6474625015008242",
         "-1.5261691186260524",
         "1.536348811536957",
         "-1.571393546745218",
         "2.39731063314085",
         "2.769335857986752",
         "-0.1665499485646899",
         "-0.216536378578222",
         "-0.1345464749557279",
         "-0.1948166106854253",
         "-0.0031749902209437",
         "-0.0040940903633603",
         "-1.0963356939258175",
         "-1.2673399140326196",
         "-0.3499327749819623",
         "-1.230440801051298",
         "-0.004357614038573",
         "-0.0041943702405639",
         "-0.1164246038907396",
         "-0.1766172824237854",
         "-0.1373232770907919",
         "-0.1524643713004826",
         "-0.0260596888205881",
         "-0.0276597140284855",
         "-0.0931447270142624",
         "-0.1437067244867594",
         "-0.0977185991261648",
         "-0.1274622504830055",
         "0.0031432964315106",
         "0.0024263098865888",
         "-0.0187247645441285",
         "-0.1813566819031443",
         "-0.1887158089232799",
         "-0.1714039228119809",
         "-0.047722125340837",
         "-0.0481706839301534",
         "-1.3737225777247042",
         "-1.3561307847790067",
         "-0.301754266335682",
         "-1.4044453536592538",
         "0.1831327449045568",
         "0.1827480852580912",
         "-0.1687415525999319",
         "-0.4581618412195745",
         "-0.4246718150208637",
         "-0.4400224713687433",
         "0.1430014050880673",
         "0.1425252107913369",
         "-0.968902874660573",
         "-1.943849738146609",
         "-1.0598683976058427",
         "-1.6789973509416565",
         "0.1855973669005454",
         "0.1854920038455318",
         "-0.1931431102017976",
         "-0.6117691918423745",
         "-0.5770993762832375",
         "-0.6009988905192808",
         "0.241128277049832",
         "0.2414064458179459",
         "0.0182794000374458",
         "-0.0874901561101501",
         "-0.1311553038955873",
         "-0.0975235937715251",
         "-0.1206134067031157",
         "-0.1197924596125166",
         "0.0",
         "1.0",
         "5.52580165",
         "0.0001",
         "486.0",
         "3.0",
         "1.0",
         "0.00782155",
         "4.32335432",
         "1.841967216666667",
         "1.19472578",
         "5.52590165",
         "5.52580165",
         "5.52580165",
         "5.52580165",
         "5.52580165",
         "5.52580165",
         "1GFdrdgtG34GChM8SMpMwcXFc4nYbH1A5G",
         "3"
        ],
        [
         "3",
         "1MAQQZn7EHP6J3erXByCciFiVcgS8ZhWqz",
         "86875675",
         "1",
         "-0.0984828413137844",
         "-0.1846675514329143",
         "-1.2013688016765636",
         "0.0281054169871445",
         "-0.0438745479173489",
         "-0.1130020092847624",
         "0.5470084673526912",
         "-0.1398703078976837",
         "-0.1422584709386725",
         "-0.0246845235266972",
         "-0.1405695375160166",
         "-2.443165386925209",
         "-2.486106024623408",
         "-0.0429552992580282",
         "-0.0132816148700588",
         "0.0581107568438123",
         "-0.1027724006476755",
         "-0.1037631327235704",
         "-0.0880643651967206",
         "-1.373657177393896",
         "-1.37145982760274",
         "-0.1394913439818009",
         "-0.1487588358252461",
         "-0.0801472696533522",
         "-0.1554581823759327",
         "-0.010763009512837",
         "-0.0121074517774784",
         "-0.1394931073034617",
         "-0.1487541246820528",
         "-0.0801467358465918",
         "-0.1554581306246896",
         "-0.0106685610738475",
         "-0.0120051821184178",
         "-0.0246688306562535",
         "-0.0312723904866303",
         "-0.0230451563960962",
         "-0.0262146551774309",
         "0.0014278137097094",
         "0.0014826437872997",
         "-0.2270546079700445",
         "-0.2392169295179715",
         "-0.0752555315462277",
         "-0.2347940886474393",
         "0.0374680287743863",
         "0.0434442213339417",
         "-0.2271048533158828",
         "-0.2431397782357145",
         "-0.0978946778840727",
         "-0.2357985428292158",
         "0.0365766503766988",
         "0.0423451348069101",
         "-0.1066523339907783",
         "-0.2327159982796803",
         "-0.2325526205785921",
         "-0.1726364212577082",
         "0.0487668178548852",
         "0.0529560645235839",
         "-0.0391372812955146",
         "-0.1728088634961885",
         "-0.163035916003909",
         "-0.16084456336335",
         "-1.316342283664295",
         "-1.3153883882753692",
         "-0.0391325629878639",
         "-0.1727978162577921",
         "-0.1630245778856134",
         "-0.160837674211248",
         "-1.3163333780274464",
         "-1.315375381290753",
         "-0.0170316758803496",
         "-0.0300262352777919",
         "-0.0176401196299049",
         "-0.0150709000018306",
         "-0.1407632224600331",
         "-0.140334623887323",
         "-0.0954026892728408",
         "-0.2642289589454311",
         "-0.250372278278561",
         "-0.263555219185925",
         "-1.4717644946197317",
         "-1.470277463738429",
         "-0.0590130547854711",
         "-0.2622279855003189",
         "-0.2549668867762746",
         "-0.2590515448511375",
         "-1.4999715377938674",
         "-1.498585280585486",
         "-0.2600143117116737",
         "-0.1818828202802487",
         "-0.0077326858970672",
         "-0.1925211962734816",
         "-1.0849067857111534",
         "-1.0848448955263614",
         "-0.1456374836814286",
         "0.2011694635122816",
         "0.6666031464887922",
         "0.1203062450065903",
         "2.3887690089348856",
         "2.5322881393975263",
         "-1.4780347171019077",
         "-1.502296596762809",
         "0.0318222672159313",
         "-1.501724623706021",
         "2.5606914918381354",
         "2.769335857986752",
         "-0.1665499485646899",
         "-0.124656502266334",
         "0.0405631876855558",
         "-0.1244780937296429",
         "2.335724664674563",
         "1.509203518052827",
         "-1.0963356939258175",
         "0.7874346980684294",
         "3.7804047179464737",
         "-0.5072585594510751",
         "-0.004357614038573",
         "-0.0041943702405639",
         "-0.1164246038907396",
         "-0.115534281150478",
         "-0.0217303814500346",
         "-0.1201946665764866",
         "-0.0260596888205881",
         "-0.0276597140284855",
         "-0.0931447270142624",
         "-0.059972807540792",
         "0.0121075866693378",
         "-0.087471173277728",
         "0.0031432964315106",
         "0.0024263098865888",
         "0.1867295956485091",
         "-0.0130698343994724",
         "-0.0218975606731953",
         "0.0644179805269894",
         "-1.159648797029665",
         "-1.1601288555070002",
         "-1.3739921936669055",
         "-1.3321088248884303",
         "-0.2384689709450101",
         "-1.3912146579102185",
         "1.342003002186918",
         "1.3407327277377104",
         "-0.1584131277500237",
         "-0.2020716094384511",
         "-0.1154471952033965",
         "-0.1883472479497832",
         "-1.015963373517306",
         "-1.0162304272806977",
         "-0.968902874660573",
         "-1.4211380025686302",
         "-0.4533295316850304",
         "-1.3754413186377648",
         "-1.1169181674273414",
         "-1.116948469117354",
         "-0.0747868581186243",
         "0.3703322465617789",
         "0.5812075633143524",
         "0.4397281841959045",
         "-0.979073766855825",
         "-0.9785560465643004",
         "-0.098888736679456",
         "-0.0874901561101501",
         "-0.0846742330262522",
         "-0.1405970785066562",
         "1.5196996159005878",
         "1.5213994830935649",
         "0.0",
         "1.0",
         "11.81117418",
         "0.0001",
         "521.0",
         "3.0",
         "2.0",
         "3.684089",
         "4.27492519",
         "3.937091393333333",
         "3.85225999",
         "11.81127418",
         "1.26685288",
         "10.5443213",
         "5.90558709",
         "5.90558709",
         "11.81117418",
         "19q57SeCEzTnWrWVXA43nZzhSiXkYggh7c",
         "3"
        ],
        [
         "4",
         "1MAQQZn7EHP6J3erXByCciFiVcgS8ZhWqz",
         "86875675",
         "1",
         "-0.0984828413137844",
         "-0.1846675514329143",
         "-1.2013688016765636",
         "0.0281054169871445",
         "-0.0438745479173489",
         "-0.1130020092847624",
         "0.5470084673526912",
         "-0.1398703078976837",
         "-0.1422584709386725",
         "-0.0246845235266972",
         "-0.1405695375160166",
         "-2.443165386925209",
         "-2.486106024623408",
         "-0.0429552992580282",
         "-0.0132816148700588",
         "0.0581107568438123",
         "-0.1027724006476755",
         "-0.1037631327235704",
         "-0.0880643651967206",
         "-1.373657177393896",
         "-1.37145982760274",
         "-0.1394913439818009",
         "-0.1487588358252461",
         "-0.0801472696533522",
         "-0.1554581823759327",
         "-0.010763009512837",
         "-0.0121074517774784",
         "-0.1394931073034617",
         "-0.1487541246820528",
         "-0.0801467358465918",
         "-0.1554581306246896",
         "-0.0106685610738475",
         "-0.0120051821184178",
         "-0.0246688306562535",
         "-0.0312723904866303",
         "-0.0230451563960962",
         "-0.0262146551774309",
         "0.0014278137097094",
         "0.0014826437872997",
         "-0.2270546079700445",
         "-0.2392169295179715",
         "-0.0752555315462277",
         "-0.2347940886474393",
         "0.0374680287743863",
         "0.0434442213339417",
         "-0.2271048533158828",
         "-0.2431397782357145",
         "-0.0978946778840727",
         "-0.2357985428292158",
         "0.0365766503766988",
         "0.0423451348069101",
         "-0.1066523339907783",
         "-0.2327159982796803",
         "-0.2325526205785921",
         "-0.1726364212577082",
         "0.0487668178548852",
         "0.0529560645235839",
         "-0.0391372812955146",
         "-0.1728088634961885",
         "-0.163035916003909",
         "-0.16084456336335",
         "-1.316342283664295",
         "-1.3153883882753692",
         "-0.0391325629878639",
         "-0.1727978162577921",
         "-0.1630245778856134",
         "-0.160837674211248",
         "-1.3163333780274464",
         "-1.315375381290753",
         "-0.0170316758803496",
         "-0.0300262352777919",
         "-0.0176401196299049",
         "-0.0150709000018306",
         "-0.1407632224600331",
         "-0.140334623887323",
         "-0.0954026892728408",
         "-0.2642289589454311",
         "-0.250372278278561",
         "-0.263555219185925",
         "-1.4717644946197317",
         "-1.470277463738429",
         "-0.0590130547854711",
         "-0.2622279855003189",
         "-0.2549668867762746",
         "-0.2590515448511375",
         "-1.4999715377938674",
         "-1.498585280585486",
         "-0.2600143117116737",
         "-0.1818828202802487",
         "-0.0077326858970672",
         "-0.1925211962734816",
         "-1.0849067857111534",
         "-1.0848448955263614",
         "-0.1456374836814286",
         "0.2011694635122816",
         "0.6666031464887922",
         "0.1203062450065903",
         "2.3887690089348856",
         "2.5322881393975263",
         "-1.4780347171019077",
         "-1.502296596762809",
         "0.0318222672159313",
         "-1.501724623706021",
         "2.5606914918381354",
         "2.769335857986752",
         "-0.1665499485646899",
         "-0.124656502266334",
         "0.0405631876855558",
         "-0.1244780937296429",
         "2.335724664674563",
         "1.509203518052827",
         "-1.0963356939258175",
         "0.7874346980684294",
         "3.7804047179464737",
         "-0.5072585594510751",
         "-0.004357614038573",
         "-0.0041943702405639",
         "-0.1164246038907396",
         "-0.115534281150478",
         "-0.0217303814500346",
         "-0.1201946665764866",
         "-0.0260596888205881",
         "-0.0276597140284855",
         "-0.0931447270142624",
         "-0.059972807540792",
         "0.0121075866693378",
         "-0.087471173277728",
         "0.0031432964315106",
         "0.0024263098865888",
         "0.1867295956485091",
         "-0.0130698343994724",
         "-0.0218975606731953",
         "0.0644179805269894",
         "-1.159648797029665",
         "-1.1601288555070002",
         "-1.3739921936669055",
         "-1.3321088248884303",
         "-0.2384689709450101",
         "-1.3912146579102185",
         "1.342003002186918",
         "1.3407327277377104",
         "-0.1584131277500237",
         "-0.2020716094384511",
         "-0.1154471952033965",
         "-0.1883472479497832",
         "-1.015963373517306",
         "-1.0162304272806977",
         "-0.968902874660573",
         "-1.4211380025686302",
         "-0.4533295316850304",
         "-1.3754413186377648",
         "-1.1169181674273414",
         "-1.116948469117354",
         "-0.0747868581186243",
         "0.3703322465617789",
         "0.5812075633143524",
         "0.4397281841959045",
         "-0.979073766855825",
         "-0.9785560465643004",
         "-0.098888736679456",
         "-0.0874901561101501",
         "-0.0846742330262522",
         "-0.1405970785066562",
         "1.5196996159005878",
         "1.5213994830935649",
         "0.0",
         "1.0",
         "11.81117418",
         "0.0001",
         "521.0",
         "3.0",
         "2.0",
         "3.684089",
         "4.27492519",
         "3.937091393333333",
         "3.85225999",
         "11.81127418",
         "1.26685288",
         "10.5443213",
         "5.90558709",
         "5.90558709",
         "11.81117418",
         "1Kk1NVYnCE8ALXDhgMM6HqTt1jDSvi6QBA",
         "3"
        ]
       ],
       "shape": {
        "columns": 187,
        "rows": 5
       }
      },
      "text/html": [
       "<div>\n",
       "<style scoped>\n",
       "    .dataframe tbody tr th:only-of-type {\n",
       "        vertical-align: middle;\n",
       "    }\n",
       "\n",
       "    .dataframe tbody tr th {\n",
       "        vertical-align: top;\n",
       "    }\n",
       "\n",
       "    .dataframe thead th {\n",
       "        text-align: right;\n",
       "    }\n",
       "</style>\n",
       "<table border=\"1\" class=\"dataframe\">\n",
       "  <thead>\n",
       "    <tr style=\"text-align: right;\">\n",
       "      <th></th>\n",
       "      <th>input_address</th>\n",
       "      <th>txId</th>\n",
       "      <th>Time step</th>\n",
       "      <th>Local_feature_1</th>\n",
       "      <th>Local_feature_2</th>\n",
       "      <th>Local_feature_3</th>\n",
       "      <th>Local_feature_4</th>\n",
       "      <th>Local_feature_5</th>\n",
       "      <th>Local_feature_6</th>\n",
       "      <th>Local_feature_7</th>\n",
       "      <th>...</th>\n",
       "      <th>in_BTC_mean</th>\n",
       "      <th>in_BTC_median</th>\n",
       "      <th>in_BTC_total</th>\n",
       "      <th>out_BTC_min</th>\n",
       "      <th>out_BTC_max</th>\n",
       "      <th>out_BTC_mean</th>\n",
       "      <th>out_BTC_median</th>\n",
       "      <th>out_BTC_total</th>\n",
       "      <th>output_address</th>\n",
       "      <th>class</th>\n",
       "    </tr>\n",
       "  </thead>\n",
       "  <tbody>\n",
       "    <tr>\n",
       "      <th>0</th>\n",
       "      <td>14YRXHHof4BY1TVxN5FqYPcEdpmXiYT78a</td>\n",
       "      <td>230325127</td>\n",
       "      <td>1</td>\n",
       "      <td>-0.128834</td>\n",
       "      <td>0.048298</td>\n",
       "      <td>-1.201369</td>\n",
       "      <td>-0.121970</td>\n",
       "      <td>-0.043875</td>\n",
       "      <td>-0.113002</td>\n",
       "      <td>-0.061584</td>\n",
       "      <td>...</td>\n",
       "      <td>7.000303</td>\n",
       "      <td>7.000303</td>\n",
       "      <td>7.000303</td>\n",
       "      <td>0.173495</td>\n",
       "      <td>6.825808</td>\n",
       "      <td>3.499652</td>\n",
       "      <td>3.499652</td>\n",
       "      <td>6.999303</td>\n",
       "      <td>1GASxu5nMntiRKdVtTVRvEbP965G51bhHH</td>\n",
       "      <td>3</td>\n",
       "    </tr>\n",
       "    <tr>\n",
       "      <th>1</th>\n",
       "      <td>14YRXHHof4BY1TVxN5FqYPcEdpmXiYT78a</td>\n",
       "      <td>230325127</td>\n",
       "      <td>1</td>\n",
       "      <td>-0.128834</td>\n",
       "      <td>0.048298</td>\n",
       "      <td>-1.201369</td>\n",
       "      <td>-0.121970</td>\n",
       "      <td>-0.043875</td>\n",
       "      <td>-0.113002</td>\n",
       "      <td>-0.061584</td>\n",
       "      <td>...</td>\n",
       "      <td>7.000303</td>\n",
       "      <td>7.000303</td>\n",
       "      <td>7.000303</td>\n",
       "      <td>0.173495</td>\n",
       "      <td>6.825808</td>\n",
       "      <td>3.499652</td>\n",
       "      <td>3.499652</td>\n",
       "      <td>6.999303</td>\n",
       "      <td>14YRXHHof4BY1TVxN5FqYPcEdpmXiYT78a</td>\n",
       "      <td>3</td>\n",
       "    </tr>\n",
       "    <tr>\n",
       "      <th>2</th>\n",
       "      <td>13Lhad3SAmu2vqYg2dxbNcxH7LE77kJu2w</td>\n",
       "      <td>230325139</td>\n",
       "      <td>1</td>\n",
       "      <td>-0.138128</td>\n",
       "      <td>-0.184668</td>\n",
       "      <td>-1.201369</td>\n",
       "      <td>0.028105</td>\n",
       "      <td>-0.063725</td>\n",
       "      <td>-0.113002</td>\n",
       "      <td>0.547008</td>\n",
       "      <td>...</td>\n",
       "      <td>1.841967</td>\n",
       "      <td>1.194726</td>\n",
       "      <td>5.525902</td>\n",
       "      <td>5.525802</td>\n",
       "      <td>5.525802</td>\n",
       "      <td>5.525802</td>\n",
       "      <td>5.525802</td>\n",
       "      <td>5.525802</td>\n",
       "      <td>1GFdrdgtG34GChM8SMpMwcXFc4nYbH1A5G</td>\n",
       "      <td>3</td>\n",
       "    </tr>\n",
       "    <tr>\n",
       "      <th>3</th>\n",
       "      <td>1MAQQZn7EHP6J3erXByCciFiVcgS8ZhWqz</td>\n",
       "      <td>86875675</td>\n",
       "      <td>1</td>\n",
       "      <td>-0.098483</td>\n",
       "      <td>-0.184668</td>\n",
       "      <td>-1.201369</td>\n",
       "      <td>0.028105</td>\n",
       "      <td>-0.043875</td>\n",
       "      <td>-0.113002</td>\n",
       "      <td>0.547008</td>\n",
       "      <td>...</td>\n",
       "      <td>3.937091</td>\n",
       "      <td>3.852260</td>\n",
       "      <td>11.811274</td>\n",
       "      <td>1.266853</td>\n",
       "      <td>10.544321</td>\n",
       "      <td>5.905587</td>\n",
       "      <td>5.905587</td>\n",
       "      <td>11.811174</td>\n",
       "      <td>19q57SeCEzTnWrWVXA43nZzhSiXkYggh7c</td>\n",
       "      <td>3</td>\n",
       "    </tr>\n",
       "    <tr>\n",
       "      <th>4</th>\n",
       "      <td>1MAQQZn7EHP6J3erXByCciFiVcgS8ZhWqz</td>\n",
       "      <td>86875675</td>\n",
       "      <td>1</td>\n",
       "      <td>-0.098483</td>\n",
       "      <td>-0.184668</td>\n",
       "      <td>-1.201369</td>\n",
       "      <td>0.028105</td>\n",
       "      <td>-0.043875</td>\n",
       "      <td>-0.113002</td>\n",
       "      <td>0.547008</td>\n",
       "      <td>...</td>\n",
       "      <td>3.937091</td>\n",
       "      <td>3.852260</td>\n",
       "      <td>11.811274</td>\n",
       "      <td>1.266853</td>\n",
       "      <td>10.544321</td>\n",
       "      <td>5.905587</td>\n",
       "      <td>5.905587</td>\n",
       "      <td>11.811174</td>\n",
       "      <td>1Kk1NVYnCE8ALXDhgMM6HqTt1jDSvi6QBA</td>\n",
       "      <td>3</td>\n",
       "    </tr>\n",
       "  </tbody>\n",
       "</table>\n",
       "<p>5 rows × 187 columns</p>\n",
       "</div>"
      ],
      "text/plain": [
       "                        input_address       txId  Time step  Local_feature_1  \\\n",
       "0  14YRXHHof4BY1TVxN5FqYPcEdpmXiYT78a  230325127          1        -0.128834   \n",
       "1  14YRXHHof4BY1TVxN5FqYPcEdpmXiYT78a  230325127          1        -0.128834   \n",
       "2  13Lhad3SAmu2vqYg2dxbNcxH7LE77kJu2w  230325139          1        -0.138128   \n",
       "3  1MAQQZn7EHP6J3erXByCciFiVcgS8ZhWqz   86875675          1        -0.098483   \n",
       "4  1MAQQZn7EHP6J3erXByCciFiVcgS8ZhWqz   86875675          1        -0.098483   \n",
       "\n",
       "   Local_feature_2  Local_feature_3  Local_feature_4  Local_feature_5  \\\n",
       "0         0.048298        -1.201369        -0.121970        -0.043875   \n",
       "1         0.048298        -1.201369        -0.121970        -0.043875   \n",
       "2        -0.184668        -1.201369         0.028105        -0.063725   \n",
       "3        -0.184668        -1.201369         0.028105        -0.043875   \n",
       "4        -0.184668        -1.201369         0.028105        -0.043875   \n",
       "\n",
       "   Local_feature_6  Local_feature_7  ...  in_BTC_mean  in_BTC_median  \\\n",
       "0        -0.113002        -0.061584  ...     7.000303       7.000303   \n",
       "1        -0.113002        -0.061584  ...     7.000303       7.000303   \n",
       "2        -0.113002         0.547008  ...     1.841967       1.194726   \n",
       "3        -0.113002         0.547008  ...     3.937091       3.852260   \n",
       "4        -0.113002         0.547008  ...     3.937091       3.852260   \n",
       "\n",
       "   in_BTC_total  out_BTC_min  out_BTC_max  out_BTC_mean  out_BTC_median  \\\n",
       "0      7.000303     0.173495     6.825808      3.499652        3.499652   \n",
       "1      7.000303     0.173495     6.825808      3.499652        3.499652   \n",
       "2      5.525902     5.525802     5.525802      5.525802        5.525802   \n",
       "3     11.811274     1.266853    10.544321      5.905587        5.905587   \n",
       "4     11.811274     1.266853    10.544321      5.905587        5.905587   \n",
       "\n",
       "   out_BTC_total                      output_address  class  \n",
       "0       6.999303  1GASxu5nMntiRKdVtTVRvEbP965G51bhHH      3  \n",
       "1       6.999303  14YRXHHof4BY1TVxN5FqYPcEdpmXiYT78a      3  \n",
       "2       5.525802  1GFdrdgtG34GChM8SMpMwcXFc4nYbH1A5G      3  \n",
       "3      11.811174  19q57SeCEzTnWrWVXA43nZzhSiXkYggh7c      3  \n",
       "4      11.811174  1Kk1NVYnCE8ALXDhgMM6HqTt1jDSvi6QBA      3  \n",
       "\n",
       "[5 rows x 187 columns]"
      ]
     },
     "execution_count": 17,
     "metadata": {},
     "output_type": "execute_result"
    }
   ],
   "source": [
    "address_address_transactions.head(5)"
   ]
  },
  {
   "cell_type": "code",
   "execution_count": 123,
   "id": "51b0173e",
   "metadata": {},
   "outputs": [
    {
     "name": "stdout",
     "output_type": "stream",
     "text": [
      "All wallet addresses in transactions: True\n",
      "Wallet count: 822942 | In transactions: 822942 | Missing: 0\n",
      "Sample missing: []\n"
     ]
    }
   ],
   "source": [
    "for col in [\"input_address\", \"output_address\"]:\n",
    "    address_address_transactions[col] = address_address_transactions[col].astype(str).str.strip()\n",
    "\n",
    "wallet_features[\"address\"] = wallet_features[\"address\"].astype(str).str.strip()\n",
    "\n",
    "\n",
    "tx_addrs = set(address_address_transactions[\"input_address\"]) | set(address_address_transactions[\"output_address\"])\n",
    "wallet_addrs = set(wallet_features[\"address\"])\n",
    "\n",
    "all_present = wallet_addrs.issubset(tx_addrs)\n",
    "missing = wallet_addrs - tx_addrs\n",
    "\n",
    "print(\"All wallet addresses in transactions:\", all_present)\n",
    "print(\"Wallet count:\", len(wallet_addrs), \"| In transactions:\", len(tx_addrs), \"| Missing:\", len(missing))\n",
    "print(\"Sample missing:\", list(sorted(missing))[:10])"
   ]
  },
  {
   "cell_type": "markdown",
   "id": "71d93fe7",
   "metadata": {},
   "source": [
    "Prepeare a version iwth the known subset of features"
   ]
  },
  {
   "cell_type": "code",
   "execution_count": 89,
   "id": "25a3f397",
   "metadata": {},
   "outputs": [],
   "source": [
    "address_address_transactions_known_features = address_address_transactions.loc[\n",
    "    :, ~address_address_transactions.columns.str.startswith((\"Aggregate_feature\", \"Local_feature\"))\n",
    "]"
   ]
  },
  {
   "cell_type": "code",
   "execution_count": 90,
   "id": "7129909e",
   "metadata": {},
   "outputs": [
    {
     "data": {
      "application/vnd.microsoft.datawrangler.viewer.v0+json": {
       "columns": [
        {
         "name": "index",
         "rawType": "int64",
         "type": "integer"
        },
        {
         "name": "input_address",
         "rawType": "object",
         "type": "string"
        },
        {
         "name": "txId",
         "rawType": "int64",
         "type": "integer"
        },
        {
         "name": "Time step",
         "rawType": "int64",
         "type": "integer"
        },
        {
         "name": "in_txs_degree",
         "rawType": "float64",
         "type": "float"
        },
        {
         "name": "out_txs_degree",
         "rawType": "float64",
         "type": "float"
        },
        {
         "name": "total_BTC",
         "rawType": "float64",
         "type": "float"
        },
        {
         "name": "fees",
         "rawType": "float64",
         "type": "float"
        },
        {
         "name": "size",
         "rawType": "float64",
         "type": "float"
        },
        {
         "name": "num_input_addresses",
         "rawType": "float64",
         "type": "float"
        },
        {
         "name": "num_output_addresses",
         "rawType": "float64",
         "type": "float"
        },
        {
         "name": "in_BTC_min",
         "rawType": "float64",
         "type": "float"
        },
        {
         "name": "in_BTC_max",
         "rawType": "float64",
         "type": "float"
        },
        {
         "name": "in_BTC_mean",
         "rawType": "float64",
         "type": "float"
        },
        {
         "name": "in_BTC_median",
         "rawType": "float64",
         "type": "float"
        },
        {
         "name": "in_BTC_total",
         "rawType": "float64",
         "type": "float"
        },
        {
         "name": "out_BTC_min",
         "rawType": "float64",
         "type": "float"
        },
        {
         "name": "out_BTC_max",
         "rawType": "float64",
         "type": "float"
        },
        {
         "name": "out_BTC_mean",
         "rawType": "float64",
         "type": "float"
        },
        {
         "name": "out_BTC_median",
         "rawType": "float64",
         "type": "float"
        },
        {
         "name": "out_BTC_total",
         "rawType": "float64",
         "type": "float"
        },
        {
         "name": "output_address",
         "rawType": "object",
         "type": "string"
        },
        {
         "name": "class",
         "rawType": "int64",
         "type": "integer"
        }
       ],
       "ref": "feb0586a-2492-4c9f-b5d5-45a3e38b8174",
       "rows": [
        [
         "0",
         "14YRXHHof4BY1TVxN5FqYPcEdpmXiYT78a",
         "230325127",
         "1",
         "0.0",
         "1.0",
         "6.999303",
         "0.001",
         "225.0",
         "1.0",
         "2.0",
         "7.000303",
         "7.000303",
         "7.000303",
         "7.000303",
         "7.000303",
         "0.173495",
         "6.825808",
         "3.4996515",
         "3.4996515",
         "6.999303",
         "1GASxu5nMntiRKdVtTVRvEbP965G51bhHH",
         "3"
        ],
        [
         "1",
         "14YRXHHof4BY1TVxN5FqYPcEdpmXiYT78a",
         "230325127",
         "1",
         "0.0",
         "1.0",
         "6.999303",
         "0.001",
         "225.0",
         "1.0",
         "2.0",
         "7.000303",
         "7.000303",
         "7.000303",
         "7.000303",
         "7.000303",
         "0.173495",
         "6.825808",
         "3.4996515",
         "3.4996515",
         "6.999303",
         "14YRXHHof4BY1TVxN5FqYPcEdpmXiYT78a",
         "3"
        ],
        [
         "2",
         "13Lhad3SAmu2vqYg2dxbNcxH7LE77kJu2w",
         "230325139",
         "1",
         "0.0",
         "1.0",
         "5.52580165",
         "0.0001",
         "486.0",
         "3.0",
         "1.0",
         "0.00782155",
         "4.32335432",
         "1.841967216666667",
         "1.19472578",
         "5.52590165",
         "5.52580165",
         "5.52580165",
         "5.52580165",
         "5.52580165",
         "5.52580165",
         "1GFdrdgtG34GChM8SMpMwcXFc4nYbH1A5G",
         "3"
        ],
        [
         "3",
         "1MAQQZn7EHP6J3erXByCciFiVcgS8ZhWqz",
         "86875675",
         "1",
         "0.0",
         "1.0",
         "11.81117418",
         "0.0001",
         "521.0",
         "3.0",
         "2.0",
         "3.684089",
         "4.27492519",
         "3.937091393333333",
         "3.85225999",
         "11.81127418",
         "1.26685288",
         "10.5443213",
         "5.90558709",
         "5.90558709",
         "11.81117418",
         "19q57SeCEzTnWrWVXA43nZzhSiXkYggh7c",
         "3"
        ],
        [
         "4",
         "1MAQQZn7EHP6J3erXByCciFiVcgS8ZhWqz",
         "86875675",
         "1",
         "0.0",
         "1.0",
         "11.81117418",
         "0.0001",
         "521.0",
         "3.0",
         "2.0",
         "3.684089",
         "4.27492519",
         "3.937091393333333",
         "3.85225999",
         "11.81127418",
         "1.26685288",
         "10.5443213",
         "5.90558709",
         "5.90558709",
         "11.81117418",
         "1Kk1NVYnCE8ALXDhgMM6HqTt1jDSvi6QBA",
         "3"
        ]
       ],
       "shape": {
        "columns": 22,
        "rows": 5
       }
      },
      "text/html": [
       "<div>\n",
       "<style scoped>\n",
       "    .dataframe tbody tr th:only-of-type {\n",
       "        vertical-align: middle;\n",
       "    }\n",
       "\n",
       "    .dataframe tbody tr th {\n",
       "        vertical-align: top;\n",
       "    }\n",
       "\n",
       "    .dataframe thead th {\n",
       "        text-align: right;\n",
       "    }\n",
       "</style>\n",
       "<table border=\"1\" class=\"dataframe\">\n",
       "  <thead>\n",
       "    <tr style=\"text-align: right;\">\n",
       "      <th></th>\n",
       "      <th>input_address</th>\n",
       "      <th>txId</th>\n",
       "      <th>Time step</th>\n",
       "      <th>in_txs_degree</th>\n",
       "      <th>out_txs_degree</th>\n",
       "      <th>total_BTC</th>\n",
       "      <th>fees</th>\n",
       "      <th>size</th>\n",
       "      <th>num_input_addresses</th>\n",
       "      <th>num_output_addresses</th>\n",
       "      <th>...</th>\n",
       "      <th>in_BTC_mean</th>\n",
       "      <th>in_BTC_median</th>\n",
       "      <th>in_BTC_total</th>\n",
       "      <th>out_BTC_min</th>\n",
       "      <th>out_BTC_max</th>\n",
       "      <th>out_BTC_mean</th>\n",
       "      <th>out_BTC_median</th>\n",
       "      <th>out_BTC_total</th>\n",
       "      <th>output_address</th>\n",
       "      <th>class</th>\n",
       "    </tr>\n",
       "  </thead>\n",
       "  <tbody>\n",
       "    <tr>\n",
       "      <th>0</th>\n",
       "      <td>14YRXHHof4BY1TVxN5FqYPcEdpmXiYT78a</td>\n",
       "      <td>230325127</td>\n",
       "      <td>1</td>\n",
       "      <td>0.0</td>\n",
       "      <td>1.0</td>\n",
       "      <td>6.999303</td>\n",
       "      <td>0.0010</td>\n",
       "      <td>225.0</td>\n",
       "      <td>1.0</td>\n",
       "      <td>2.0</td>\n",
       "      <td>...</td>\n",
       "      <td>7.000303</td>\n",
       "      <td>7.000303</td>\n",
       "      <td>7.000303</td>\n",
       "      <td>0.173495</td>\n",
       "      <td>6.825808</td>\n",
       "      <td>3.499652</td>\n",
       "      <td>3.499652</td>\n",
       "      <td>6.999303</td>\n",
       "      <td>1GASxu5nMntiRKdVtTVRvEbP965G51bhHH</td>\n",
       "      <td>3</td>\n",
       "    </tr>\n",
       "    <tr>\n",
       "      <th>1</th>\n",
       "      <td>14YRXHHof4BY1TVxN5FqYPcEdpmXiYT78a</td>\n",
       "      <td>230325127</td>\n",
       "      <td>1</td>\n",
       "      <td>0.0</td>\n",
       "      <td>1.0</td>\n",
       "      <td>6.999303</td>\n",
       "      <td>0.0010</td>\n",
       "      <td>225.0</td>\n",
       "      <td>1.0</td>\n",
       "      <td>2.0</td>\n",
       "      <td>...</td>\n",
       "      <td>7.000303</td>\n",
       "      <td>7.000303</td>\n",
       "      <td>7.000303</td>\n",
       "      <td>0.173495</td>\n",
       "      <td>6.825808</td>\n",
       "      <td>3.499652</td>\n",
       "      <td>3.499652</td>\n",
       "      <td>6.999303</td>\n",
       "      <td>14YRXHHof4BY1TVxN5FqYPcEdpmXiYT78a</td>\n",
       "      <td>3</td>\n",
       "    </tr>\n",
       "    <tr>\n",
       "      <th>2</th>\n",
       "      <td>13Lhad3SAmu2vqYg2dxbNcxH7LE77kJu2w</td>\n",
       "      <td>230325139</td>\n",
       "      <td>1</td>\n",
       "      <td>0.0</td>\n",
       "      <td>1.0</td>\n",
       "      <td>5.525802</td>\n",
       "      <td>0.0001</td>\n",
       "      <td>486.0</td>\n",
       "      <td>3.0</td>\n",
       "      <td>1.0</td>\n",
       "      <td>...</td>\n",
       "      <td>1.841967</td>\n",
       "      <td>1.194726</td>\n",
       "      <td>5.525902</td>\n",
       "      <td>5.525802</td>\n",
       "      <td>5.525802</td>\n",
       "      <td>5.525802</td>\n",
       "      <td>5.525802</td>\n",
       "      <td>5.525802</td>\n",
       "      <td>1GFdrdgtG34GChM8SMpMwcXFc4nYbH1A5G</td>\n",
       "      <td>3</td>\n",
       "    </tr>\n",
       "    <tr>\n",
       "      <th>3</th>\n",
       "      <td>1MAQQZn7EHP6J3erXByCciFiVcgS8ZhWqz</td>\n",
       "      <td>86875675</td>\n",
       "      <td>1</td>\n",
       "      <td>0.0</td>\n",
       "      <td>1.0</td>\n",
       "      <td>11.811174</td>\n",
       "      <td>0.0001</td>\n",
       "      <td>521.0</td>\n",
       "      <td>3.0</td>\n",
       "      <td>2.0</td>\n",
       "      <td>...</td>\n",
       "      <td>3.937091</td>\n",
       "      <td>3.852260</td>\n",
       "      <td>11.811274</td>\n",
       "      <td>1.266853</td>\n",
       "      <td>10.544321</td>\n",
       "      <td>5.905587</td>\n",
       "      <td>5.905587</td>\n",
       "      <td>11.811174</td>\n",
       "      <td>19q57SeCEzTnWrWVXA43nZzhSiXkYggh7c</td>\n",
       "      <td>3</td>\n",
       "    </tr>\n",
       "    <tr>\n",
       "      <th>4</th>\n",
       "      <td>1MAQQZn7EHP6J3erXByCciFiVcgS8ZhWqz</td>\n",
       "      <td>86875675</td>\n",
       "      <td>1</td>\n",
       "      <td>0.0</td>\n",
       "      <td>1.0</td>\n",
       "      <td>11.811174</td>\n",
       "      <td>0.0001</td>\n",
       "      <td>521.0</td>\n",
       "      <td>3.0</td>\n",
       "      <td>2.0</td>\n",
       "      <td>...</td>\n",
       "      <td>3.937091</td>\n",
       "      <td>3.852260</td>\n",
       "      <td>11.811274</td>\n",
       "      <td>1.266853</td>\n",
       "      <td>10.544321</td>\n",
       "      <td>5.905587</td>\n",
       "      <td>5.905587</td>\n",
       "      <td>11.811174</td>\n",
       "      <td>1Kk1NVYnCE8ALXDhgMM6HqTt1jDSvi6QBA</td>\n",
       "      <td>3</td>\n",
       "    </tr>\n",
       "  </tbody>\n",
       "</table>\n",
       "<p>5 rows × 22 columns</p>\n",
       "</div>"
      ],
      "text/plain": [
       "                        input_address       txId  Time step  in_txs_degree  \\\n",
       "0  14YRXHHof4BY1TVxN5FqYPcEdpmXiYT78a  230325127          1            0.0   \n",
       "1  14YRXHHof4BY1TVxN5FqYPcEdpmXiYT78a  230325127          1            0.0   \n",
       "2  13Lhad3SAmu2vqYg2dxbNcxH7LE77kJu2w  230325139          1            0.0   \n",
       "3  1MAQQZn7EHP6J3erXByCciFiVcgS8ZhWqz   86875675          1            0.0   \n",
       "4  1MAQQZn7EHP6J3erXByCciFiVcgS8ZhWqz   86875675          1            0.0   \n",
       "\n",
       "   out_txs_degree  total_BTC    fees   size  num_input_addresses  \\\n",
       "0             1.0   6.999303  0.0010  225.0                  1.0   \n",
       "1             1.0   6.999303  0.0010  225.0                  1.0   \n",
       "2             1.0   5.525802  0.0001  486.0                  3.0   \n",
       "3             1.0  11.811174  0.0001  521.0                  3.0   \n",
       "4             1.0  11.811174  0.0001  521.0                  3.0   \n",
       "\n",
       "   num_output_addresses  ...  in_BTC_mean  in_BTC_median  in_BTC_total  \\\n",
       "0                   2.0  ...     7.000303       7.000303      7.000303   \n",
       "1                   2.0  ...     7.000303       7.000303      7.000303   \n",
       "2                   1.0  ...     1.841967       1.194726      5.525902   \n",
       "3                   2.0  ...     3.937091       3.852260     11.811274   \n",
       "4                   2.0  ...     3.937091       3.852260     11.811274   \n",
       "\n",
       "   out_BTC_min  out_BTC_max  out_BTC_mean  out_BTC_median  out_BTC_total  \\\n",
       "0     0.173495     6.825808      3.499652        3.499652       6.999303   \n",
       "1     0.173495     6.825808      3.499652        3.499652       6.999303   \n",
       "2     5.525802     5.525802      5.525802        5.525802       5.525802   \n",
       "3     1.266853    10.544321      5.905587        5.905587      11.811174   \n",
       "4     1.266853    10.544321      5.905587        5.905587      11.811174   \n",
       "\n",
       "                       output_address  class  \n",
       "0  1GASxu5nMntiRKdVtTVRvEbP965G51bhHH      3  \n",
       "1  14YRXHHof4BY1TVxN5FqYPcEdpmXiYT78a      3  \n",
       "2  1GFdrdgtG34GChM8SMpMwcXFc4nYbH1A5G      3  \n",
       "3  19q57SeCEzTnWrWVXA43nZzhSiXkYggh7c      3  \n",
       "4  1Kk1NVYnCE8ALXDhgMM6HqTt1jDSvi6QBA      3  \n",
       "\n",
       "[5 rows x 22 columns]"
      ]
     },
     "execution_count": 90,
     "metadata": {},
     "output_type": "execute_result"
    }
   ],
   "source": [
    "address_address_transactions_known_features.head(5)"
   ]
  },
  {
   "cell_type": "code",
   "execution_count": 91,
   "id": "cf95ef0d",
   "metadata": {},
   "outputs": [
    {
     "name": "stdout",
     "output_type": "stream",
     "text": [
      "['input_address', 'txId', 'Time step', 'in_txs_degree', 'out_txs_degree', 'total_BTC', 'fees', 'size', 'num_input_addresses', 'num_output_addresses', 'in_BTC_min', 'in_BTC_max', 'in_BTC_mean', 'in_BTC_median', 'in_BTC_total', 'out_BTC_min', 'out_BTC_max', 'out_BTC_mean', 'out_BTC_median', 'out_BTC_total', 'output_address', 'class']\n"
     ]
    }
   ],
   "source": [
    "print(address_address_transactions_known_features.columns.to_list())"
   ]
  },
  {
   "cell_type": "markdown",
   "id": "3943508f",
   "metadata": {},
   "source": [
    "### Calculate properly agregated per-timestep features"
   ]
  },
  {
   "cell_type": "code",
   "execution_count": 92,
   "id": "b384407a",
   "metadata": {},
   "outputs": [
    {
     "name": "stdout",
     "output_type": "stream",
     "text": [
      "202804\n",
      "2868964\n"
     ]
    }
   ],
   "source": [
    "print(address_address_transactions_known_features[\"txId\"].nunique())\n",
    "print(address_address_transactions_known_features.shape[0])\n",
    "\n",
    "# transactions include multiple adresses"
   ]
  },
  {
   "cell_type": "code",
   "execution_count": 93,
   "id": "a48d3b64",
   "metadata": {},
   "outputs": [
    {
     "name": "stdout",
     "output_type": "stream",
     "text": [
      "822942\n"
     ]
    }
   ],
   "source": [
    "adresses_list = address_address_transactions_known_features['input_address'].unique().tolist() + address_address_transactions_known_features['output_address'].unique().tolist()\n",
    "addresses_unique = list(set(adresses_list))\n",
    "print(len(addresses_unique))"
   ]
  },
  {
   "cell_type": "code",
   "execution_count": 94,
   "id": "fa31063e",
   "metadata": {},
   "outputs": [],
   "source": [
    "address_address_transactions_known_features.insert(0, \"id\", range(0, address_address_transactions_known_features.shape[0]))"
   ]
  },
  {
   "cell_type": "code",
   "execution_count": null,
   "id": "ca594815",
   "metadata": {},
   "outputs": [
    {
     "data": {
      "application/vnd.microsoft.datawrangler.viewer.v0+json": {
       "columns": [
        {
         "name": "id",
         "rawType": "int64",
         "type": "integer"
        },
        {
         "name": "id",
         "rawType": "int64",
         "type": "integer"
        },
        {
         "name": "input_address",
         "rawType": "object",
         "type": "string"
        },
        {
         "name": "txId",
         "rawType": "int64",
         "type": "integer"
        },
        {
         "name": "Time step",
         "rawType": "int64",
         "type": "integer"
        },
        {
         "name": "in_txs_degree",
         "rawType": "float64",
         "type": "float"
        },
        {
         "name": "out_txs_degree",
         "rawType": "float64",
         "type": "float"
        },
        {
         "name": "total_BTC",
         "rawType": "float64",
         "type": "float"
        },
        {
         "name": "fees",
         "rawType": "float64",
         "type": "float"
        },
        {
         "name": "size",
         "rawType": "float64",
         "type": "float"
        },
        {
         "name": "num_input_addresses",
         "rawType": "float64",
         "type": "float"
        },
        {
         "name": "num_output_addresses",
         "rawType": "float64",
         "type": "float"
        },
        {
         "name": "in_BTC_min",
         "rawType": "float64",
         "type": "float"
        },
        {
         "name": "in_BTC_max",
         "rawType": "float64",
         "type": "float"
        },
        {
         "name": "in_BTC_mean",
         "rawType": "float64",
         "type": "float"
        },
        {
         "name": "in_BTC_median",
         "rawType": "float64",
         "type": "float"
        },
        {
         "name": "in_BTC_total",
         "rawType": "float64",
         "type": "float"
        },
        {
         "name": "out_BTC_min",
         "rawType": "float64",
         "type": "float"
        },
        {
         "name": "out_BTC_max",
         "rawType": "float64",
         "type": "float"
        },
        {
         "name": "out_BTC_mean",
         "rawType": "float64",
         "type": "float"
        },
        {
         "name": "out_BTC_median",
         "rawType": "float64",
         "type": "float"
        },
        {
         "name": "out_BTC_total",
         "rawType": "float64",
         "type": "float"
        },
        {
         "name": "output_address",
         "rawType": "object",
         "type": "string"
        },
        {
         "name": "class",
         "rawType": "int64",
         "type": "integer"
        }
       ],
       "ref": "f0a97075-5e39-4e75-a3f7-7f4b63f0b878",
       "rows": [
        [
         "0",
         "0",
         "14YRXHHof4BY1TVxN5FqYPcEdpmXiYT78a",
         "230325127",
         "1",
         "0.0",
         "1.0",
         "6.999303",
         "0.001",
         "225.0",
         "1.0",
         "2.0",
         "7.000303",
         "7.000303",
         "7.000303",
         "7.000303",
         "7.000303",
         "0.173495",
         "6.825808",
         "3.4996515",
         "3.4996515",
         "6.999303",
         "1GASxu5nMntiRKdVtTVRvEbP965G51bhHH",
         "3"
        ],
        [
         "1",
         "1",
         "14YRXHHof4BY1TVxN5FqYPcEdpmXiYT78a",
         "230325127",
         "1",
         "0.0",
         "1.0",
         "6.999303",
         "0.001",
         "225.0",
         "1.0",
         "2.0",
         "7.000303",
         "7.000303",
         "7.000303",
         "7.000303",
         "7.000303",
         "0.173495",
         "6.825808",
         "3.4996515",
         "3.4996515",
         "6.999303",
         "14YRXHHof4BY1TVxN5FqYPcEdpmXiYT78a",
         "3"
        ]
       ],
       "shape": {
        "columns": 23,
        "rows": 2
       }
      },
      "text/html": [
       "<div>\n",
       "<style scoped>\n",
       "    .dataframe tbody tr th:only-of-type {\n",
       "        vertical-align: middle;\n",
       "    }\n",
       "\n",
       "    .dataframe tbody tr th {\n",
       "        vertical-align: top;\n",
       "    }\n",
       "\n",
       "    .dataframe thead th {\n",
       "        text-align: right;\n",
       "    }\n",
       "</style>\n",
       "<table border=\"1\" class=\"dataframe\">\n",
       "  <thead>\n",
       "    <tr style=\"text-align: right;\">\n",
       "      <th></th>\n",
       "      <th>id</th>\n",
       "      <th>input_address</th>\n",
       "      <th>txId</th>\n",
       "      <th>Time step</th>\n",
       "      <th>in_txs_degree</th>\n",
       "      <th>out_txs_degree</th>\n",
       "      <th>total_BTC</th>\n",
       "      <th>fees</th>\n",
       "      <th>size</th>\n",
       "      <th>num_input_addresses</th>\n",
       "      <th>...</th>\n",
       "      <th>in_BTC_mean</th>\n",
       "      <th>in_BTC_median</th>\n",
       "      <th>in_BTC_total</th>\n",
       "      <th>out_BTC_min</th>\n",
       "      <th>out_BTC_max</th>\n",
       "      <th>out_BTC_mean</th>\n",
       "      <th>out_BTC_median</th>\n",
       "      <th>out_BTC_total</th>\n",
       "      <th>output_address</th>\n",
       "      <th>class</th>\n",
       "    </tr>\n",
       "    <tr>\n",
       "      <th>id</th>\n",
       "      <th></th>\n",
       "      <th></th>\n",
       "      <th></th>\n",
       "      <th></th>\n",
       "      <th></th>\n",
       "      <th></th>\n",
       "      <th></th>\n",
       "      <th></th>\n",
       "      <th></th>\n",
       "      <th></th>\n",
       "      <th></th>\n",
       "      <th></th>\n",
       "      <th></th>\n",
       "      <th></th>\n",
       "      <th></th>\n",
       "      <th></th>\n",
       "      <th></th>\n",
       "      <th></th>\n",
       "      <th></th>\n",
       "      <th></th>\n",
       "      <th></th>\n",
       "    </tr>\n",
       "  </thead>\n",
       "  <tbody>\n",
       "    <tr>\n",
       "      <th>0</th>\n",
       "      <td>0</td>\n",
       "      <td>14YRXHHof4BY1TVxN5FqYPcEdpmXiYT78a</td>\n",
       "      <td>230325127</td>\n",
       "      <td>1</td>\n",
       "      <td>0.0</td>\n",
       "      <td>1.0</td>\n",
       "      <td>6.999303</td>\n",
       "      <td>0.001</td>\n",
       "      <td>225.0</td>\n",
       "      <td>1.0</td>\n",
       "      <td>...</td>\n",
       "      <td>7.000303</td>\n",
       "      <td>7.000303</td>\n",
       "      <td>7.000303</td>\n",
       "      <td>0.173495</td>\n",
       "      <td>6.825808</td>\n",
       "      <td>3.499652</td>\n",
       "      <td>3.499652</td>\n",
       "      <td>6.999303</td>\n",
       "      <td>1GASxu5nMntiRKdVtTVRvEbP965G51bhHH</td>\n",
       "      <td>3</td>\n",
       "    </tr>\n",
       "    <tr>\n",
       "      <th>1</th>\n",
       "      <td>1</td>\n",
       "      <td>14YRXHHof4BY1TVxN5FqYPcEdpmXiYT78a</td>\n",
       "      <td>230325127</td>\n",
       "      <td>1</td>\n",
       "      <td>0.0</td>\n",
       "      <td>1.0</td>\n",
       "      <td>6.999303</td>\n",
       "      <td>0.001</td>\n",
       "      <td>225.0</td>\n",
       "      <td>1.0</td>\n",
       "      <td>...</td>\n",
       "      <td>7.000303</td>\n",
       "      <td>7.000303</td>\n",
       "      <td>7.000303</td>\n",
       "      <td>0.173495</td>\n",
       "      <td>6.825808</td>\n",
       "      <td>3.499652</td>\n",
       "      <td>3.499652</td>\n",
       "      <td>6.999303</td>\n",
       "      <td>14YRXHHof4BY1TVxN5FqYPcEdpmXiYT78a</td>\n",
       "      <td>3</td>\n",
       "    </tr>\n",
       "  </tbody>\n",
       "</table>\n",
       "<p>2 rows × 23 columns</p>\n",
       "</div>"
      ],
      "text/plain": [
       "    id                       input_address       txId  Time step  \\\n",
       "id                                                                 \n",
       "0    0  14YRXHHof4BY1TVxN5FqYPcEdpmXiYT78a  230325127          1   \n",
       "1    1  14YRXHHof4BY1TVxN5FqYPcEdpmXiYT78a  230325127          1   \n",
       "\n",
       "    in_txs_degree  out_txs_degree  total_BTC   fees   size  \\\n",
       "id                                                           \n",
       "0             0.0             1.0   6.999303  0.001  225.0   \n",
       "1             0.0             1.0   6.999303  0.001  225.0   \n",
       "\n",
       "    num_input_addresses  ...  in_BTC_mean  in_BTC_median  in_BTC_total  \\\n",
       "id                       ...                                             \n",
       "0                   1.0  ...     7.000303       7.000303      7.000303   \n",
       "1                   1.0  ...     7.000303       7.000303      7.000303   \n",
       "\n",
       "    out_BTC_min  out_BTC_max  out_BTC_mean  out_BTC_median  out_BTC_total  \\\n",
       "id                                                                          \n",
       "0      0.173495     6.825808      3.499652        3.499652       6.999303   \n",
       "1      0.173495     6.825808      3.499652        3.499652       6.999303   \n",
       "\n",
       "                        output_address  class  \n",
       "id                                             \n",
       "0   1GASxu5nMntiRKdVtTVRvEbP965G51bhHH      3  \n",
       "1   14YRXHHof4BY1TVxN5FqYPcEdpmXiYT78a      3  \n",
       "\n",
       "[2 rows x 23 columns]"
      ]
     },
     "execution_count": 95,
     "metadata": {},
     "output_type": "execute_result"
    }
   ],
   "source": [
    "address_address_transactions_known_features.set_index(\"id\", drop=False, inplace=True)\n",
    "address_address_transactions_known_features.head(2)"
   ]
  },
  {
   "cell_type": "code",
   "execution_count": null,
   "id": "13c075a8",
   "metadata": {},
   "outputs": [
    {
     "name": "stdout",
     "output_type": "stream",
     "text": [
      "(417525, 2)\n",
      "(721887, 2)\n"
     ]
    }
   ],
   "source": [
    "input_adddress_time_steps_ids = address_address_transactions_known_features[['input_address', 'Time step', 'id']].drop_duplicates()\n",
    "output_adddress_time_steps_ids = address_address_transactions_known_features[['output_address', 'Time step', 'id']].drop_duplicates()"
   ]
  },
  {
   "cell_type": "code",
   "execution_count": 109,
   "id": "8e9e8c03",
   "metadata": {},
   "outputs": [],
   "source": [
    "rows = []\n",
    "numeric_cols = [\n",
    "    \"fees\",\"size\",\"in_txs_degree\",\"out_txs_degree\",\"num_input_addresses\",\"num_output_addresses\",\n",
    "    \"total_BTC\",\"in_BTC_min\",\"in_BTC_max\",\"in_BTC_mean\",\"in_BTC_median\",\"in_BTC_total\",\n",
    "    \"out_BTC_min\",\"out_BTC_max\",\"out_BTC_mean\",\"out_BTC_median\",\"out_BTC_total\",\n",
    "]\n",
    "numeric_cols = [c for c in numeric_cols if c in address_address_transactions_known_features.columns]"
   ]
  },
  {
   "cell_type": "code",
   "execution_count": 110,
   "id": "a07ccae8",
   "metadata": {},
   "outputs": [],
   "source": [
    "def _agg(df, prefix):\n",
    "    out = {}\n",
    "    if df is None or df.empty:\n",
    "        out[f\"{prefix}num\"] = 0\n",
    "        out[f\"{prefix}total_fees\"] = 0.0\n",
    "        out[f\"{prefix}mean_fees\"] = float(\"nan\")\n",
    "        out[f\"{prefix}median_fees\"] = float(\"nan\")\n",
    "        for col in numeric_cols:\n",
    "            out[f\"{prefix}{col}_sum\"] = 0.0\n",
    "            out[f\"{prefix}{col}_mean\"] = float(\"nan\")\n",
    "            out[f\"{prefix}{col}_median\"] = float(\"nan\")\n",
    "        # btc convenience\n",
    "        base = \"btc_in\" if prefix==\"in_\" else \"btc_out\"\n",
    "        out[f\"{prefix}total_{base}\"] = 0.0\n",
    "        out[f\"{prefix}mean_{base}\"] = float(\"nan\")\n",
    "        out[f\"{prefix}median_{base}\"] = float(\"nan\")\n",
    "        return out\n",
    "\n",
    "    out[f\"{prefix}num\"] = int(df[\"txId\"].nunique()) if \"txId\" in df.columns else int(len(df))\n",
    "\n",
    "    fees = df[\"fees\"] if \"fees\" in df.columns else pd.Series(dtype=float)\n",
    "    out[f\"{prefix}total_fees\"]  = float(fees.sum()) if not fees.empty else 0.0\n",
    "    out[f\"{prefix}mean_fees\"]   = float(fees.mean()) if not fees.empty else float(\"nan\")\n",
    "    out[f\"{prefix}median_fees\"] = float(fees.median()) if not fees.empty else float(\"nan\")\n",
    "\n",
    "    if prefix == \"in_\":   # wallet receives -> summarize tx total out\n",
    "        btc_series, base = df.get(\"out_BTC_total\", pd.Series(dtype=float)), \"btc_in\"\n",
    "    else:                  # wallet sends   -> summarize tx total in\n",
    "        btc_series, base = df.get(\"in_BTC_total\",  pd.Series(dtype=float)), \"btc_out\"\n",
    "    out[f\"{prefix}total_{base}\"]  = float(btc_series.sum()) if not btc_series.empty else 0.0\n",
    "    out[f\"{prefix}mean_{base}\"]   = float(btc_series.mean()) if not btc_series.empty else float(\"nan\")\n",
    "    out[f\"{prefix}median_{base}\"] = float(btc_series.median()) if not btc_series.empty else float(\"nan\")\n",
    "\n",
    "    for col in numeric_cols:\n",
    "        if col in df.columns:\n",
    "            out[f\"{prefix}{col}_sum\"]    = float(df[col].sum())\n",
    "            out[f\"{prefix}{col}_mean\"]   = float(df[col].mean())\n",
    "            out[f\"{prefix}{col}_median\"] = float(df[col].median())\n",
    "        else:\n",
    "            out[f\"{prefix}{col}_sum\"]    = 0.0\n",
    "            out[f\"{prefix}{col}_mean\"]   = float(\"nan\")\n",
    "            out[f\"{prefix}{col}_median\"] = float(\"nan\")\n",
    "    return out"
   ]
  },
  {
   "cell_type": "code",
   "execution_count": null,
   "id": "8e719c02",
   "metadata": {},
   "outputs": [
    {
     "name": "stderr",
     "output_type": "stream",
     "text": [
      "100%|██████████| 822942/822942 [21:07<00:00, 649.25it/s]\n"
     ]
    }
   ],
   "source": [
    "inp_map = input_adddress_time_steps_ids.groupby(\"input_address\", sort=False).indices\n",
    "out_map = output_adddress_time_steps_ids.groupby(\"output_address\", sort=False).indices\n",
    "\n",
    "from tqdm import tqdm\n",
    "for address in tqdm(addresses_unique):\n",
    "    inp_rows = input_adddress_time_steps_ids.take(inp_map.get(address, []))\n",
    "    out_rows = output_adddress_time_steps_ids.take(out_map.get(address, []))\n",
    "\n",
    "    unqiue_time_steps = set(inp_rows['Time step'].tolist() + out_rows['Time step'].tolist()) \n",
    "    for time_step in unqiue_time_steps:\n",
    "        inp_rows_ts = inp_rows[inp_rows['Time step'] <= time_step]\n",
    "        out_rows_ts = out_rows[out_rows['Time step'] <= time_step] \n",
    "\n",
    "        input_data_df  = address_address_transactions_known_features.loc[inp_rows_ts['id'].to_numpy()]\n",
    "        output_data_df = address_address_transactions_known_features.loc[out_rows_ts['id'].to_numpy()]\n",
    "\n",
    "        row = {\"address\": address, \"Time step\": time_step}\n",
    "        row.update(_agg(output_data_df, prefix=\"in_\"))\n",
    "        row.update(_agg(input_data_df,  prefix=\"out_\"))\n",
    "        rows.append(row)\n",
    "\n"
   ]
  },
  {
   "cell_type": "code",
   "execution_count": 112,
   "id": "1f1153a1",
   "metadata": {},
   "outputs": [
    {
     "data": {
      "application/vnd.microsoft.datawrangler.viewer.v0+json": {
       "columns": [
        {
         "name": "index",
         "rawType": "int64",
         "type": "integer"
        },
        {
         "name": "address",
         "rawType": "object",
         "type": "string"
        },
        {
         "name": "Time step",
         "rawType": "int64",
         "type": "integer"
        },
        {
         "name": "appears_at_t",
         "rawType": "bool",
         "type": "boolean"
        },
        {
         "name": "in_num",
         "rawType": "int64",
         "type": "integer"
        },
        {
         "name": "in_total_fees",
         "rawType": "float64",
         "type": "float"
        },
        {
         "name": "in_mean_fees",
         "rawType": "float64",
         "type": "float"
        },
        {
         "name": "in_median_fees",
         "rawType": "float64",
         "type": "float"
        },
        {
         "name": "in_total_btc_in",
         "rawType": "float64",
         "type": "float"
        },
        {
         "name": "in_mean_btc_in",
         "rawType": "float64",
         "type": "float"
        },
        {
         "name": "in_median_btc_in",
         "rawType": "float64",
         "type": "float"
        },
        {
         "name": "in_fees_sum",
         "rawType": "float64",
         "type": "float"
        },
        {
         "name": "in_fees_mean",
         "rawType": "float64",
         "type": "float"
        },
        {
         "name": "in_fees_median",
         "rawType": "float64",
         "type": "float"
        },
        {
         "name": "in_size_sum",
         "rawType": "float64",
         "type": "float"
        },
        {
         "name": "in_size_mean",
         "rawType": "float64",
         "type": "float"
        },
        {
         "name": "in_size_median",
         "rawType": "float64",
         "type": "float"
        },
        {
         "name": "in_in_txs_degree_sum",
         "rawType": "float64",
         "type": "float"
        },
        {
         "name": "in_in_txs_degree_mean",
         "rawType": "float64",
         "type": "float"
        },
        {
         "name": "in_in_txs_degree_median",
         "rawType": "float64",
         "type": "float"
        },
        {
         "name": "in_out_txs_degree_sum",
         "rawType": "float64",
         "type": "float"
        },
        {
         "name": "in_out_txs_degree_mean",
         "rawType": "float64",
         "type": "float"
        },
        {
         "name": "in_out_txs_degree_median",
         "rawType": "float64",
         "type": "float"
        },
        {
         "name": "in_num_input_addresses_sum",
         "rawType": "float64",
         "type": "float"
        },
        {
         "name": "in_num_input_addresses_mean",
         "rawType": "float64",
         "type": "float"
        },
        {
         "name": "in_num_input_addresses_median",
         "rawType": "float64",
         "type": "float"
        },
        {
         "name": "in_num_output_addresses_sum",
         "rawType": "float64",
         "type": "float"
        },
        {
         "name": "in_num_output_addresses_mean",
         "rawType": "float64",
         "type": "float"
        },
        {
         "name": "in_num_output_addresses_median",
         "rawType": "float64",
         "type": "float"
        },
        {
         "name": "in_total_BTC_sum",
         "rawType": "float64",
         "type": "float"
        },
        {
         "name": "in_total_BTC_mean",
         "rawType": "float64",
         "type": "float"
        },
        {
         "name": "in_total_BTC_median",
         "rawType": "float64",
         "type": "float"
        },
        {
         "name": "in_in_BTC_min_sum",
         "rawType": "float64",
         "type": "float"
        },
        {
         "name": "in_in_BTC_min_mean",
         "rawType": "float64",
         "type": "float"
        },
        {
         "name": "in_in_BTC_min_median",
         "rawType": "float64",
         "type": "float"
        },
        {
         "name": "in_in_BTC_max_sum",
         "rawType": "float64",
         "type": "float"
        },
        {
         "name": "in_in_BTC_max_mean",
         "rawType": "float64",
         "type": "float"
        },
        {
         "name": "in_in_BTC_max_median",
         "rawType": "float64",
         "type": "float"
        },
        {
         "name": "in_in_BTC_mean_sum",
         "rawType": "float64",
         "type": "float"
        },
        {
         "name": "in_in_BTC_mean_mean",
         "rawType": "float64",
         "type": "float"
        },
        {
         "name": "in_in_BTC_mean_median",
         "rawType": "float64",
         "type": "float"
        },
        {
         "name": "in_in_BTC_median_sum",
         "rawType": "float64",
         "type": "float"
        },
        {
         "name": "in_in_BTC_median_mean",
         "rawType": "float64",
         "type": "float"
        },
        {
         "name": "in_in_BTC_median_median",
         "rawType": "float64",
         "type": "float"
        },
        {
         "name": "in_in_BTC_total_sum",
         "rawType": "float64",
         "type": "float"
        },
        {
         "name": "in_in_BTC_total_mean",
         "rawType": "float64",
         "type": "float"
        },
        {
         "name": "in_in_BTC_total_median",
         "rawType": "float64",
         "type": "float"
        },
        {
         "name": "in_out_BTC_min_sum",
         "rawType": "float64",
         "type": "float"
        },
        {
         "name": "in_out_BTC_min_mean",
         "rawType": "float64",
         "type": "float"
        },
        {
         "name": "in_out_BTC_min_median",
         "rawType": "float64",
         "type": "float"
        },
        {
         "name": "in_out_BTC_max_sum",
         "rawType": "float64",
         "type": "float"
        },
        {
         "name": "in_out_BTC_max_mean",
         "rawType": "float64",
         "type": "float"
        },
        {
         "name": "in_out_BTC_max_median",
         "rawType": "float64",
         "type": "float"
        },
        {
         "name": "in_out_BTC_mean_sum",
         "rawType": "float64",
         "type": "float"
        },
        {
         "name": "in_out_BTC_mean_mean",
         "rawType": "float64",
         "type": "float"
        },
        {
         "name": "in_out_BTC_mean_median",
         "rawType": "float64",
         "type": "float"
        },
        {
         "name": "in_out_BTC_median_sum",
         "rawType": "float64",
         "type": "float"
        },
        {
         "name": "in_out_BTC_median_mean",
         "rawType": "float64",
         "type": "float"
        },
        {
         "name": "in_out_BTC_median_median",
         "rawType": "float64",
         "type": "float"
        },
        {
         "name": "in_out_BTC_total_sum",
         "rawType": "float64",
         "type": "float"
        },
        {
         "name": "in_out_BTC_total_mean",
         "rawType": "float64",
         "type": "float"
        },
        {
         "name": "in_out_BTC_total_median",
         "rawType": "float64",
         "type": "float"
        },
        {
         "name": "out_num",
         "rawType": "int64",
         "type": "integer"
        },
        {
         "name": "out_total_fees",
         "rawType": "float64",
         "type": "float"
        },
        {
         "name": "out_mean_fees",
         "rawType": "float64",
         "type": "float"
        },
        {
         "name": "out_median_fees",
         "rawType": "float64",
         "type": "float"
        },
        {
         "name": "out_total_btc_out",
         "rawType": "float64",
         "type": "float"
        },
        {
         "name": "out_mean_btc_out",
         "rawType": "float64",
         "type": "float"
        },
        {
         "name": "out_median_btc_out",
         "rawType": "float64",
         "type": "float"
        },
        {
         "name": "out_fees_sum",
         "rawType": "float64",
         "type": "float"
        },
        {
         "name": "out_fees_mean",
         "rawType": "float64",
         "type": "float"
        },
        {
         "name": "out_fees_median",
         "rawType": "float64",
         "type": "float"
        },
        {
         "name": "out_size_sum",
         "rawType": "float64",
         "type": "float"
        },
        {
         "name": "out_size_mean",
         "rawType": "float64",
         "type": "float"
        },
        {
         "name": "out_size_median",
         "rawType": "float64",
         "type": "float"
        },
        {
         "name": "out_in_txs_degree_sum",
         "rawType": "float64",
         "type": "float"
        },
        {
         "name": "out_in_txs_degree_mean",
         "rawType": "float64",
         "type": "float"
        },
        {
         "name": "out_in_txs_degree_median",
         "rawType": "float64",
         "type": "float"
        },
        {
         "name": "out_out_txs_degree_sum",
         "rawType": "float64",
         "type": "float"
        },
        {
         "name": "out_out_txs_degree_mean",
         "rawType": "float64",
         "type": "float"
        },
        {
         "name": "out_out_txs_degree_median",
         "rawType": "float64",
         "type": "float"
        },
        {
         "name": "out_num_input_addresses_sum",
         "rawType": "float64",
         "type": "float"
        },
        {
         "name": "out_num_input_addresses_mean",
         "rawType": "float64",
         "type": "float"
        },
        {
         "name": "out_num_input_addresses_median",
         "rawType": "float64",
         "type": "float"
        },
        {
         "name": "out_num_output_addresses_sum",
         "rawType": "float64",
         "type": "float"
        },
        {
         "name": "out_num_output_addresses_mean",
         "rawType": "float64",
         "type": "float"
        },
        {
         "name": "out_num_output_addresses_median",
         "rawType": "float64",
         "type": "float"
        },
        {
         "name": "out_total_BTC_sum",
         "rawType": "float64",
         "type": "float"
        },
        {
         "name": "out_total_BTC_mean",
         "rawType": "float64",
         "type": "float"
        },
        {
         "name": "out_total_BTC_median",
         "rawType": "float64",
         "type": "float"
        },
        {
         "name": "out_in_BTC_min_sum",
         "rawType": "float64",
         "type": "float"
        },
        {
         "name": "out_in_BTC_min_mean",
         "rawType": "float64",
         "type": "float"
        },
        {
         "name": "out_in_BTC_min_median",
         "rawType": "float64",
         "type": "float"
        },
        {
         "name": "out_in_BTC_max_sum",
         "rawType": "float64",
         "type": "float"
        },
        {
         "name": "out_in_BTC_max_mean",
         "rawType": "float64",
         "type": "float"
        },
        {
         "name": "out_in_BTC_max_median",
         "rawType": "float64",
         "type": "float"
        },
        {
         "name": "out_in_BTC_mean_sum",
         "rawType": "float64",
         "type": "float"
        },
        {
         "name": "out_in_BTC_mean_mean",
         "rawType": "float64",
         "type": "float"
        },
        {
         "name": "out_in_BTC_mean_median",
         "rawType": "float64",
         "type": "float"
        },
        {
         "name": "out_in_BTC_median_sum",
         "rawType": "float64",
         "type": "float"
        },
        {
         "name": "out_in_BTC_median_mean",
         "rawType": "float64",
         "type": "float"
        },
        {
         "name": "out_in_BTC_median_median",
         "rawType": "float64",
         "type": "float"
        },
        {
         "name": "out_in_BTC_total_sum",
         "rawType": "float64",
         "type": "float"
        },
        {
         "name": "out_in_BTC_total_mean",
         "rawType": "float64",
         "type": "float"
        },
        {
         "name": "out_in_BTC_total_median",
         "rawType": "float64",
         "type": "float"
        },
        {
         "name": "out_out_BTC_min_sum",
         "rawType": "float64",
         "type": "float"
        },
        {
         "name": "out_out_BTC_min_mean",
         "rawType": "float64",
         "type": "float"
        },
        {
         "name": "out_out_BTC_min_median",
         "rawType": "float64",
         "type": "float"
        },
        {
         "name": "out_out_BTC_max_sum",
         "rawType": "float64",
         "type": "float"
        },
        {
         "name": "out_out_BTC_max_mean",
         "rawType": "float64",
         "type": "float"
        },
        {
         "name": "out_out_BTC_max_median",
         "rawType": "float64",
         "type": "float"
        },
        {
         "name": "out_out_BTC_mean_sum",
         "rawType": "float64",
         "type": "float"
        },
        {
         "name": "out_out_BTC_mean_mean",
         "rawType": "float64",
         "type": "float"
        },
        {
         "name": "out_out_BTC_mean_median",
         "rawType": "float64",
         "type": "float"
        },
        {
         "name": "out_out_BTC_median_sum",
         "rawType": "float64",
         "type": "float"
        },
        {
         "name": "out_out_BTC_median_mean",
         "rawType": "float64",
         "type": "float"
        },
        {
         "name": "out_out_BTC_median_median",
         "rawType": "float64",
         "type": "float"
        },
        {
         "name": "out_out_BTC_total_sum",
         "rawType": "float64",
         "type": "float"
        },
        {
         "name": "out_out_BTC_total_mean",
         "rawType": "float64",
         "type": "float"
        },
        {
         "name": "out_out_BTC_total_median",
         "rawType": "float64",
         "type": "float"
        }
       ],
       "ref": "209a1d23-e0b0-4095-b9e8-76cd381197ed",
       "rows": [
        [
         "0",
         "111112TykSw72ztDN2WJger4cynzWYC5w",
         "25",
         "True",
         "1",
         "0.16901472",
         "0.007042280000000001",
         "0.00704228",
         "154.36877304",
         "6.43203221",
         "6.43203221",
         "0.16901472",
         "0.007042280000000001",
         "0.00704228",
         "381840.0",
         "15910.0",
         "15910.0",
         "0.0",
         "0.0",
         "0.0",
         "408.0",
         "17.0",
         "17.0",
         "600.0",
         "25.0",
         "25.0",
         "6024.0",
         "251.0",
         "251.0",
         "154.36877304",
         "6.43203221",
         "6.43203221",
         "0.48551015999999997",
         "0.02022959",
         "0.02022959",
         "64.7976",
         "2.6999",
         "2.6999",
         "6.1815115104",
         "0.2575629796",
         "0.2575629796",
         "1.01577336",
         "0.04232389",
         "0.04232389",
         "154.53778776000001",
         "6.43907449",
         "6.43907449",
         "0.23287584",
         "0.00970316",
         "0.00970316",
         "57.749746079999994",
         "2.40623942",
         "2.40623942",
         "0.6150150320318712",
         "0.0256256263346613",
         "0.0256256263346613",
         "0.31008816",
         "0.01292034",
         "0.01292034",
         "154.36877304",
         "6.43203221",
         "6.43203221",
         "0",
         "0.0",
         null,
         null,
         "0.0",
         null,
         null,
         "0.0",
         null,
         null,
         "0.0",
         null,
         null,
         "0.0",
         null,
         null,
         "0.0",
         null,
         null,
         "0.0",
         null,
         null,
         "0.0",
         null,
         null,
         "0.0",
         null,
         null,
         "0.0",
         null,
         null,
         "0.0",
         null,
         null,
         "0.0",
         null,
         null,
         "0.0",
         null,
         null,
         "0.0",
         null,
         null,
         "0.0",
         null,
         null,
         "0.0",
         null,
         null,
         "0.0",
         null,
         null,
         "0.0",
         null,
         null,
         "0.0",
         null,
         null
        ],
        [
         "1",
         "1111DAYXhoxZx2tsRnzimfozo783x1yC2",
         "25",
         "True",
         "1",
         "0.00012224",
         "0.00012224",
         "0.00012224",
         "0.0198895",
         "0.0198895",
         "0.0198895",
         "0.00012224",
         "0.00012224",
         "0.00012224",
         "191.0",
         "191.0",
         "191.0",
         "1.0",
         "1.0",
         "1.0",
         "0.0",
         "0.0",
         "0.0",
         "1.0",
         "1.0",
         "1.0",
         "1.0",
         "1.0",
         "1.0",
         "0.0198895",
         "0.0198895",
         "0.0198895",
         "0.02001174",
         "0.02001174",
         "0.02001174",
         "0.02001174",
         "0.02001174",
         "0.02001174",
         "0.02001174",
         "0.02001174",
         "0.02001174",
         "0.02001174",
         "0.02001174",
         "0.02001174",
         "0.02001174",
         "0.02001174",
         "0.02001174",
         "0.0198895",
         "0.0198895",
         "0.0198895",
         "0.0198895",
         "0.0198895",
         "0.0198895",
         "0.0198895",
         "0.0198895",
         "0.0198895",
         "0.0198895",
         "0.0198895",
         "0.0198895",
         "0.0198895",
         "0.0198895",
         "0.0198895",
         "0",
         "0.0",
         null,
         null,
         "0.0",
         null,
         null,
         "0.0",
         null,
         null,
         "0.0",
         null,
         null,
         "0.0",
         null,
         null,
         "0.0",
         null,
         null,
         "0.0",
         null,
         null,
         "0.0",
         null,
         null,
         "0.0",
         null,
         null,
         "0.0",
         null,
         null,
         "0.0",
         null,
         null,
         "0.0",
         null,
         null,
         "0.0",
         null,
         null,
         "0.0",
         null,
         null,
         "0.0",
         null,
         null,
         "0.0",
         null,
         null,
         "0.0",
         null,
         null,
         "0.0",
         null,
         null,
         "0.0",
         null,
         null
        ],
        [
         "2",
         "1111DAYXhoxZx2tsRnzimfozo783x1yC2",
         "29",
         "True",
         "2",
         "0.00024512",
         "0.00012256",
         "0.00012256",
         "0.15366662",
         "0.07683331",
         "0.07683331",
         "0.00024512",
         "0.00012256",
         "0.00012256",
         "382.0",
         "191.0",
         "191.0",
         "2.0",
         "1.0",
         "1.0",
         "0.0",
         "0.0",
         "0.0",
         "2.0",
         "1.0",
         "1.0",
         "2.0",
         "1.0",
         "1.0",
         "0.15366662",
         "0.07683331",
         "0.07683331",
         "0.15391174",
         "0.07695587",
         "0.07695587",
         "0.15391174",
         "0.07695587",
         "0.07695587",
         "0.15391174",
         "0.07695587",
         "0.07695587",
         "0.15391174",
         "0.07695587",
         "0.07695587",
         "0.15391174",
         "0.07695587",
         "0.07695587",
         "0.15366662",
         "0.07683331",
         "0.07683331",
         "0.15366662",
         "0.07683331",
         "0.07683331",
         "0.15366662",
         "0.07683331",
         "0.07683331",
         "0.15366662",
         "0.07683331",
         "0.07683331",
         "0.15366662",
         "0.07683331",
         "0.07683331",
         "0",
         "0.0",
         null,
         null,
         "0.0",
         null,
         null,
         "0.0",
         null,
         null,
         "0.0",
         null,
         null,
         "0.0",
         null,
         null,
         "0.0",
         null,
         null,
         "0.0",
         null,
         null,
         "0.0",
         null,
         null,
         "0.0",
         null,
         null,
         "0.0",
         null,
         null,
         "0.0",
         null,
         null,
         "0.0",
         null,
         null,
         "0.0",
         null,
         null,
         "0.0",
         null,
         null,
         "0.0",
         null,
         null,
         "0.0",
         null,
         null,
         "0.0",
         null,
         null,
         "0.0",
         null,
         null,
         "0.0",
         null,
         null
        ],
        [
         "3",
         "1111DAYXhoxZx2tsRnzimfozo783x1yC2",
         "39",
         "True",
         "4",
         "0.0014047999999999999",
         "0.00035119999999999997",
         "0.00035136",
         "0.16291201",
         "0.0407280025",
         "0.01261722",
         "0.0014047999999999999",
         "0.00035119999999999997",
         "0.00035136",
         "765.0",
         "191.25",
         "191.0",
         "4.0",
         "1.0",
         "1.0",
         "0.0",
         "0.0",
         "0.0",
         "4.0",
         "1.0",
         "1.0",
         "4.0",
         "1.0",
         "1.0",
         "0.16291201",
         "0.0407280025",
         "0.01261722",
         "0.16431680999999998",
         "0.041079202499999995",
         "0.01296826",
         "0.16431680999999998",
         "0.041079202499999995",
         "0.01296826",
         "0.16431680999999998",
         "0.041079202499999995",
         "0.01296826",
         "0.16431680999999998",
         "0.041079202499999995",
         "0.01296826",
         "0.16431680999999998",
         "0.041079202499999995",
         "0.01296826",
         "0.16291201",
         "0.0407280025",
         "0.01261722",
         "0.16291201",
         "0.0407280025",
         "0.01261722",
         "0.16291201",
         "0.0407280025",
         "0.01261722",
         "0.16291201",
         "0.0407280025",
         "0.01261722",
         "0.16291201",
         "0.0407280025",
         "0.01261722",
         "0",
         "0.0",
         null,
         null,
         "0.0",
         null,
         null,
         "0.0",
         null,
         null,
         "0.0",
         null,
         null,
         "0.0",
         null,
         null,
         "0.0",
         null,
         null,
         "0.0",
         null,
         null,
         "0.0",
         null,
         null,
         "0.0",
         null,
         null,
         "0.0",
         null,
         null,
         "0.0",
         null,
         null,
         "0.0",
         null,
         null,
         "0.0",
         null,
         null,
         "0.0",
         null,
         null,
         "0.0",
         null,
         null,
         "0.0",
         null,
         null,
         "0.0",
         null,
         null,
         "0.0",
         null,
         null,
         "0.0",
         null,
         null
        ],
        [
         "4",
         "1111DAYXhoxZx2tsRnzimfozo783x1yC2",
         "43",
         "True",
         "6",
         "0.00188864",
         "0.00031477333333333334",
         "0.00024192",
         "0.21910042000000002",
         "0.03651673666666667",
         "0.01435218",
         "0.00188864",
         "0.00031477333333333334",
         "0.00024192",
         "1147.0",
         "191.16666666666666",
         "191.0",
         "6.0",
         "1.0",
         "1.0",
         "0.0",
         "0.0",
         "0.0",
         "6.0",
         "1.0",
         "1.0",
         "6.0",
         "1.0",
         "1.0",
         "0.21910042000000002",
         "0.03651673666666667",
         "0.01435218",
         "0.22098905999999996",
         "0.03683150999999999",
         "0.01453426",
         "0.22098905999999996",
         "0.03683150999999999",
         "0.01453426",
         "0.22098905999999996",
         "0.03683150999999999",
         "0.01453426",
         "0.22098905999999996",
         "0.03683150999999999",
         "0.01453426",
         "0.22098905999999996",
         "0.03683150999999999",
         "0.01453426",
         "0.21910042000000002",
         "0.03651673666666667",
         "0.01435218",
         "0.21910042000000002",
         "0.03651673666666667",
         "0.01435218",
         "0.21910042000000002",
         "0.03651673666666667",
         "0.01435218",
         "0.21910042000000002",
         "0.03651673666666667",
         "0.01435218",
         "0.21910042000000002",
         "0.03651673666666667",
         "0.01435218",
         "0",
         "0.0",
         null,
         null,
         "0.0",
         null,
         null,
         "0.0",
         null,
         null,
         "0.0",
         null,
         null,
         "0.0",
         null,
         null,
         "0.0",
         null,
         null,
         "0.0",
         null,
         null,
         "0.0",
         null,
         null,
         "0.0",
         null,
         null,
         "0.0",
         null,
         null,
         "0.0",
         null,
         null,
         "0.0",
         null,
         null,
         "0.0",
         null,
         null,
         "0.0",
         null,
         null,
         "0.0",
         null,
         null,
         "0.0",
         null,
         null,
         "0.0",
         null,
         null,
         "0.0",
         null,
         null,
         "0.0",
         null,
         null
        ]
       ],
       "shape": {
        "columns": 119,
        "rows": 5
       }
      },
      "text/html": [
       "<div>\n",
       "<style scoped>\n",
       "    .dataframe tbody tr th:only-of-type {\n",
       "        vertical-align: middle;\n",
       "    }\n",
       "\n",
       "    .dataframe tbody tr th {\n",
       "        vertical-align: top;\n",
       "    }\n",
       "\n",
       "    .dataframe thead th {\n",
       "        text-align: right;\n",
       "    }\n",
       "</style>\n",
       "<table border=\"1\" class=\"dataframe\">\n",
       "  <thead>\n",
       "    <tr style=\"text-align: right;\">\n",
       "      <th></th>\n",
       "      <th>address</th>\n",
       "      <th>Time step</th>\n",
       "      <th>appears_at_t</th>\n",
       "      <th>in_num</th>\n",
       "      <th>in_total_fees</th>\n",
       "      <th>in_mean_fees</th>\n",
       "      <th>in_median_fees</th>\n",
       "      <th>in_total_btc_in</th>\n",
       "      <th>in_mean_btc_in</th>\n",
       "      <th>in_median_btc_in</th>\n",
       "      <th>...</th>\n",
       "      <th>out_out_BTC_max_median</th>\n",
       "      <th>out_out_BTC_mean_sum</th>\n",
       "      <th>out_out_BTC_mean_mean</th>\n",
       "      <th>out_out_BTC_mean_median</th>\n",
       "      <th>out_out_BTC_median_sum</th>\n",
       "      <th>out_out_BTC_median_mean</th>\n",
       "      <th>out_out_BTC_median_median</th>\n",
       "      <th>out_out_BTC_total_sum</th>\n",
       "      <th>out_out_BTC_total_mean</th>\n",
       "      <th>out_out_BTC_total_median</th>\n",
       "    </tr>\n",
       "  </thead>\n",
       "  <tbody>\n",
       "    <tr>\n",
       "      <th>0</th>\n",
       "      <td>111112TykSw72ztDN2WJger4cynzWYC5w</td>\n",
       "      <td>25</td>\n",
       "      <td>True</td>\n",
       "      <td>1</td>\n",
       "      <td>0.169015</td>\n",
       "      <td>0.007042</td>\n",
       "      <td>0.007042</td>\n",
       "      <td>154.368773</td>\n",
       "      <td>6.432032</td>\n",
       "      <td>6.432032</td>\n",
       "      <td>...</td>\n",
       "      <td>NaN</td>\n",
       "      <td>0.0</td>\n",
       "      <td>NaN</td>\n",
       "      <td>NaN</td>\n",
       "      <td>0.0</td>\n",
       "      <td>NaN</td>\n",
       "      <td>NaN</td>\n",
       "      <td>0.0</td>\n",
       "      <td>NaN</td>\n",
       "      <td>NaN</td>\n",
       "    </tr>\n",
       "    <tr>\n",
       "      <th>1</th>\n",
       "      <td>1111DAYXhoxZx2tsRnzimfozo783x1yC2</td>\n",
       "      <td>25</td>\n",
       "      <td>True</td>\n",
       "      <td>1</td>\n",
       "      <td>0.000122</td>\n",
       "      <td>0.000122</td>\n",
       "      <td>0.000122</td>\n",
       "      <td>0.019890</td>\n",
       "      <td>0.019890</td>\n",
       "      <td>0.019890</td>\n",
       "      <td>...</td>\n",
       "      <td>NaN</td>\n",
       "      <td>0.0</td>\n",
       "      <td>NaN</td>\n",
       "      <td>NaN</td>\n",
       "      <td>0.0</td>\n",
       "      <td>NaN</td>\n",
       "      <td>NaN</td>\n",
       "      <td>0.0</td>\n",
       "      <td>NaN</td>\n",
       "      <td>NaN</td>\n",
       "    </tr>\n",
       "    <tr>\n",
       "      <th>2</th>\n",
       "      <td>1111DAYXhoxZx2tsRnzimfozo783x1yC2</td>\n",
       "      <td>29</td>\n",
       "      <td>True</td>\n",
       "      <td>2</td>\n",
       "      <td>0.000245</td>\n",
       "      <td>0.000123</td>\n",
       "      <td>0.000123</td>\n",
       "      <td>0.153667</td>\n",
       "      <td>0.076833</td>\n",
       "      <td>0.076833</td>\n",
       "      <td>...</td>\n",
       "      <td>NaN</td>\n",
       "      <td>0.0</td>\n",
       "      <td>NaN</td>\n",
       "      <td>NaN</td>\n",
       "      <td>0.0</td>\n",
       "      <td>NaN</td>\n",
       "      <td>NaN</td>\n",
       "      <td>0.0</td>\n",
       "      <td>NaN</td>\n",
       "      <td>NaN</td>\n",
       "    </tr>\n",
       "    <tr>\n",
       "      <th>3</th>\n",
       "      <td>1111DAYXhoxZx2tsRnzimfozo783x1yC2</td>\n",
       "      <td>39</td>\n",
       "      <td>True</td>\n",
       "      <td>4</td>\n",
       "      <td>0.001405</td>\n",
       "      <td>0.000351</td>\n",
       "      <td>0.000351</td>\n",
       "      <td>0.162912</td>\n",
       "      <td>0.040728</td>\n",
       "      <td>0.012617</td>\n",
       "      <td>...</td>\n",
       "      <td>NaN</td>\n",
       "      <td>0.0</td>\n",
       "      <td>NaN</td>\n",
       "      <td>NaN</td>\n",
       "      <td>0.0</td>\n",
       "      <td>NaN</td>\n",
       "      <td>NaN</td>\n",
       "      <td>0.0</td>\n",
       "      <td>NaN</td>\n",
       "      <td>NaN</td>\n",
       "    </tr>\n",
       "    <tr>\n",
       "      <th>4</th>\n",
       "      <td>1111DAYXhoxZx2tsRnzimfozo783x1yC2</td>\n",
       "      <td>43</td>\n",
       "      <td>True</td>\n",
       "      <td>6</td>\n",
       "      <td>0.001889</td>\n",
       "      <td>0.000315</td>\n",
       "      <td>0.000242</td>\n",
       "      <td>0.219100</td>\n",
       "      <td>0.036517</td>\n",
       "      <td>0.014352</td>\n",
       "      <td>...</td>\n",
       "      <td>NaN</td>\n",
       "      <td>0.0</td>\n",
       "      <td>NaN</td>\n",
       "      <td>NaN</td>\n",
       "      <td>0.0</td>\n",
       "      <td>NaN</td>\n",
       "      <td>NaN</td>\n",
       "      <td>0.0</td>\n",
       "      <td>NaN</td>\n",
       "      <td>NaN</td>\n",
       "    </tr>\n",
       "  </tbody>\n",
       "</table>\n",
       "<p>5 rows × 119 columns</p>\n",
       "</div>"
      ],
      "text/plain": [
       "                             address  Time step  appears_at_t  in_num  \\\n",
       "0  111112TykSw72ztDN2WJger4cynzWYC5w         25          True       1   \n",
       "1  1111DAYXhoxZx2tsRnzimfozo783x1yC2         25          True       1   \n",
       "2  1111DAYXhoxZx2tsRnzimfozo783x1yC2         29          True       2   \n",
       "3  1111DAYXhoxZx2tsRnzimfozo783x1yC2         39          True       4   \n",
       "4  1111DAYXhoxZx2tsRnzimfozo783x1yC2         43          True       6   \n",
       "\n",
       "   in_total_fees  in_mean_fees  in_median_fees  in_total_btc_in  \\\n",
       "0       0.169015      0.007042        0.007042       154.368773   \n",
       "1       0.000122      0.000122        0.000122         0.019890   \n",
       "2       0.000245      0.000123        0.000123         0.153667   \n",
       "3       0.001405      0.000351        0.000351         0.162912   \n",
       "4       0.001889      0.000315        0.000242         0.219100   \n",
       "\n",
       "   in_mean_btc_in  in_median_btc_in  ...  out_out_BTC_max_median  \\\n",
       "0        6.432032          6.432032  ...                     NaN   \n",
       "1        0.019890          0.019890  ...                     NaN   \n",
       "2        0.076833          0.076833  ...                     NaN   \n",
       "3        0.040728          0.012617  ...                     NaN   \n",
       "4        0.036517          0.014352  ...                     NaN   \n",
       "\n",
       "   out_out_BTC_mean_sum  out_out_BTC_mean_mean  out_out_BTC_mean_median  \\\n",
       "0                   0.0                    NaN                      NaN   \n",
       "1                   0.0                    NaN                      NaN   \n",
       "2                   0.0                    NaN                      NaN   \n",
       "3                   0.0                    NaN                      NaN   \n",
       "4                   0.0                    NaN                      NaN   \n",
       "\n",
       "   out_out_BTC_median_sum  out_out_BTC_median_mean  out_out_BTC_median_median  \\\n",
       "0                     0.0                      NaN                        NaN   \n",
       "1                     0.0                      NaN                        NaN   \n",
       "2                     0.0                      NaN                        NaN   \n",
       "3                     0.0                      NaN                        NaN   \n",
       "4                     0.0                      NaN                        NaN   \n",
       "\n",
       "   out_out_BTC_total_sum  out_out_BTC_total_mean  out_out_BTC_total_median  \n",
       "0                    0.0                     NaN                       NaN  \n",
       "1                    0.0                     NaN                       NaN  \n",
       "2                    0.0                     NaN                       NaN  \n",
       "3                    0.0                     NaN                       NaN  \n",
       "4                    0.0                     NaN                       NaN  \n",
       "\n",
       "[5 rows x 119 columns]"
      ]
     },
     "execution_count": 112,
     "metadata": {},
     "output_type": "execute_result"
    }
   ],
   "source": [
    "wallets_ts_final = pd.DataFrame(rows).sort_values([\"address\",\"Time step\"]).reset_index(drop=True)\n",
    "wallets_ts_final.head(5)"
   ]
  },
  {
   "cell_type": "code",
   "execution_count": 113,
   "id": "4357a887",
   "metadata": {},
   "outputs": [
    {
     "name": "stdout",
     "output_type": "stream",
     "text": [
      "Number of rows where address does not appear at time step: 0\n"
     ]
    }
   ],
   "source": [
    "count_non_t = wallets_ts_final[wallets_ts_final[\"appears_at_t\"]==False].shape[0]\n",
    "print(f\"Number of rows where address does not appear at time step: {count_non_t}\")"
   ]
  },
  {
   "cell_type": "code",
   "execution_count": 114,
   "id": "64e97261",
   "metadata": {},
   "outputs": [],
   "source": [
    "wallets_ts_final = wallets_ts_final.drop(columns=[\"appears_at_t\"])"
   ]
  },
  {
   "cell_type": "code",
   "execution_count": 117,
   "id": "3466dd0e",
   "metadata": {},
   "outputs": [
    {
     "name": "stdout",
     "output_type": "stream",
     "text": [
      "Number of rows where address has both in and out transactions: 247522\n"
     ]
    }
   ],
   "source": [
    "num_both_in_out = ((wallets_ts_final[\"in_num\"]>0) & (wallets_ts_final[\"out_num\"]>0)).sum()\n",
    "print(f\"Number of rows where address has both in and out transactions: {num_both_in_out}\")"
   ]
  },
  {
   "cell_type": "code",
   "execution_count": 119,
   "id": "30d51c4b",
   "metadata": {},
   "outputs": [
    {
     "data": {
      "application/vnd.microsoft.datawrangler.viewer.v0+json": {
       "columns": [
        {
         "name": "index",
         "rawType": "int64",
         "type": "integer"
        },
        {
         "name": "address",
         "rawType": "object",
         "type": "string"
        },
        {
         "name": "Time step",
         "rawType": "int64",
         "type": "integer"
        },
        {
         "name": "in_num",
         "rawType": "int64",
         "type": "integer"
        },
        {
         "name": "in_total_fees",
         "rawType": "float64",
         "type": "float"
        },
        {
         "name": "in_mean_fees",
         "rawType": "float64",
         "type": "float"
        },
        {
         "name": "in_median_fees",
         "rawType": "float64",
         "type": "float"
        },
        {
         "name": "in_total_btc_in",
         "rawType": "float64",
         "type": "float"
        },
        {
         "name": "in_mean_btc_in",
         "rawType": "float64",
         "type": "float"
        },
        {
         "name": "in_median_btc_in",
         "rawType": "float64",
         "type": "float"
        },
        {
         "name": "in_fees_sum",
         "rawType": "float64",
         "type": "float"
        },
        {
         "name": "in_fees_mean",
         "rawType": "float64",
         "type": "float"
        },
        {
         "name": "in_fees_median",
         "rawType": "float64",
         "type": "float"
        },
        {
         "name": "in_size_sum",
         "rawType": "float64",
         "type": "float"
        },
        {
         "name": "in_size_mean",
         "rawType": "float64",
         "type": "float"
        },
        {
         "name": "in_size_median",
         "rawType": "float64",
         "type": "float"
        },
        {
         "name": "in_in_txs_degree_sum",
         "rawType": "float64",
         "type": "float"
        },
        {
         "name": "in_in_txs_degree_mean",
         "rawType": "float64",
         "type": "float"
        },
        {
         "name": "in_in_txs_degree_median",
         "rawType": "float64",
         "type": "float"
        },
        {
         "name": "in_out_txs_degree_sum",
         "rawType": "float64",
         "type": "float"
        },
        {
         "name": "in_out_txs_degree_mean",
         "rawType": "float64",
         "type": "float"
        },
        {
         "name": "in_out_txs_degree_median",
         "rawType": "float64",
         "type": "float"
        },
        {
         "name": "in_num_input_addresses_sum",
         "rawType": "float64",
         "type": "float"
        },
        {
         "name": "in_num_input_addresses_mean",
         "rawType": "float64",
         "type": "float"
        },
        {
         "name": "in_num_input_addresses_median",
         "rawType": "float64",
         "type": "float"
        },
        {
         "name": "in_num_output_addresses_sum",
         "rawType": "float64",
         "type": "float"
        },
        {
         "name": "in_num_output_addresses_mean",
         "rawType": "float64",
         "type": "float"
        },
        {
         "name": "in_num_output_addresses_median",
         "rawType": "float64",
         "type": "float"
        },
        {
         "name": "in_total_BTC_sum",
         "rawType": "float64",
         "type": "float"
        },
        {
         "name": "in_total_BTC_mean",
         "rawType": "float64",
         "type": "float"
        },
        {
         "name": "in_total_BTC_median",
         "rawType": "float64",
         "type": "float"
        },
        {
         "name": "in_in_BTC_min_sum",
         "rawType": "float64",
         "type": "float"
        },
        {
         "name": "in_in_BTC_min_mean",
         "rawType": "float64",
         "type": "float"
        },
        {
         "name": "in_in_BTC_min_median",
         "rawType": "float64",
         "type": "float"
        },
        {
         "name": "in_in_BTC_max_sum",
         "rawType": "float64",
         "type": "float"
        },
        {
         "name": "in_in_BTC_max_mean",
         "rawType": "float64",
         "type": "float"
        },
        {
         "name": "in_in_BTC_max_median",
         "rawType": "float64",
         "type": "float"
        },
        {
         "name": "in_in_BTC_mean_sum",
         "rawType": "float64",
         "type": "float"
        },
        {
         "name": "in_in_BTC_mean_mean",
         "rawType": "float64",
         "type": "float"
        },
        {
         "name": "in_in_BTC_mean_median",
         "rawType": "float64",
         "type": "float"
        },
        {
         "name": "in_in_BTC_median_sum",
         "rawType": "float64",
         "type": "float"
        },
        {
         "name": "in_in_BTC_median_mean",
         "rawType": "float64",
         "type": "float"
        },
        {
         "name": "in_in_BTC_median_median",
         "rawType": "float64",
         "type": "float"
        },
        {
         "name": "in_in_BTC_total_sum",
         "rawType": "float64",
         "type": "float"
        },
        {
         "name": "in_in_BTC_total_mean",
         "rawType": "float64",
         "type": "float"
        },
        {
         "name": "in_in_BTC_total_median",
         "rawType": "float64",
         "type": "float"
        },
        {
         "name": "in_out_BTC_min_sum",
         "rawType": "float64",
         "type": "float"
        },
        {
         "name": "in_out_BTC_min_mean",
         "rawType": "float64",
         "type": "float"
        },
        {
         "name": "in_out_BTC_min_median",
         "rawType": "float64",
         "type": "float"
        },
        {
         "name": "in_out_BTC_max_sum",
         "rawType": "float64",
         "type": "float"
        },
        {
         "name": "in_out_BTC_max_mean",
         "rawType": "float64",
         "type": "float"
        },
        {
         "name": "in_out_BTC_max_median",
         "rawType": "float64",
         "type": "float"
        },
        {
         "name": "in_out_BTC_mean_sum",
         "rawType": "float64",
         "type": "float"
        },
        {
         "name": "in_out_BTC_mean_mean",
         "rawType": "float64",
         "type": "float"
        },
        {
         "name": "in_out_BTC_mean_median",
         "rawType": "float64",
         "type": "float"
        },
        {
         "name": "in_out_BTC_median_sum",
         "rawType": "float64",
         "type": "float"
        },
        {
         "name": "in_out_BTC_median_mean",
         "rawType": "float64",
         "type": "float"
        },
        {
         "name": "in_out_BTC_median_median",
         "rawType": "float64",
         "type": "float"
        },
        {
         "name": "in_out_BTC_total_sum",
         "rawType": "float64",
         "type": "float"
        },
        {
         "name": "in_out_BTC_total_mean",
         "rawType": "float64",
         "type": "float"
        },
        {
         "name": "in_out_BTC_total_median",
         "rawType": "float64",
         "type": "float"
        },
        {
         "name": "out_num",
         "rawType": "int64",
         "type": "integer"
        },
        {
         "name": "out_total_fees",
         "rawType": "float64",
         "type": "float"
        },
        {
         "name": "out_mean_fees",
         "rawType": "float64",
         "type": "float"
        },
        {
         "name": "out_median_fees",
         "rawType": "float64",
         "type": "float"
        },
        {
         "name": "out_total_btc_out",
         "rawType": "float64",
         "type": "float"
        },
        {
         "name": "out_mean_btc_out",
         "rawType": "float64",
         "type": "float"
        },
        {
         "name": "out_median_btc_out",
         "rawType": "float64",
         "type": "float"
        },
        {
         "name": "out_fees_sum",
         "rawType": "float64",
         "type": "float"
        },
        {
         "name": "out_fees_mean",
         "rawType": "float64",
         "type": "float"
        },
        {
         "name": "out_fees_median",
         "rawType": "float64",
         "type": "float"
        },
        {
         "name": "out_size_sum",
         "rawType": "float64",
         "type": "float"
        },
        {
         "name": "out_size_mean",
         "rawType": "float64",
         "type": "float"
        },
        {
         "name": "out_size_median",
         "rawType": "float64",
         "type": "float"
        },
        {
         "name": "out_in_txs_degree_sum",
         "rawType": "float64",
         "type": "float"
        },
        {
         "name": "out_in_txs_degree_mean",
         "rawType": "float64",
         "type": "float"
        },
        {
         "name": "out_in_txs_degree_median",
         "rawType": "float64",
         "type": "float"
        },
        {
         "name": "out_out_txs_degree_sum",
         "rawType": "float64",
         "type": "float"
        },
        {
         "name": "out_out_txs_degree_mean",
         "rawType": "float64",
         "type": "float"
        },
        {
         "name": "out_out_txs_degree_median",
         "rawType": "float64",
         "type": "float"
        },
        {
         "name": "out_num_input_addresses_sum",
         "rawType": "float64",
         "type": "float"
        },
        {
         "name": "out_num_input_addresses_mean",
         "rawType": "float64",
         "type": "float"
        },
        {
         "name": "out_num_input_addresses_median",
         "rawType": "float64",
         "type": "float"
        },
        {
         "name": "out_num_output_addresses_sum",
         "rawType": "float64",
         "type": "float"
        },
        {
         "name": "out_num_output_addresses_mean",
         "rawType": "float64",
         "type": "float"
        },
        {
         "name": "out_num_output_addresses_median",
         "rawType": "float64",
         "type": "float"
        },
        {
         "name": "out_total_BTC_sum",
         "rawType": "float64",
         "type": "float"
        },
        {
         "name": "out_total_BTC_mean",
         "rawType": "float64",
         "type": "float"
        },
        {
         "name": "out_total_BTC_median",
         "rawType": "float64",
         "type": "float"
        },
        {
         "name": "out_in_BTC_min_sum",
         "rawType": "float64",
         "type": "float"
        },
        {
         "name": "out_in_BTC_min_mean",
         "rawType": "float64",
         "type": "float"
        },
        {
         "name": "out_in_BTC_min_median",
         "rawType": "float64",
         "type": "float"
        },
        {
         "name": "out_in_BTC_max_sum",
         "rawType": "float64",
         "type": "float"
        },
        {
         "name": "out_in_BTC_max_mean",
         "rawType": "float64",
         "type": "float"
        },
        {
         "name": "out_in_BTC_max_median",
         "rawType": "float64",
         "type": "float"
        },
        {
         "name": "out_in_BTC_mean_sum",
         "rawType": "float64",
         "type": "float"
        },
        {
         "name": "out_in_BTC_mean_mean",
         "rawType": "float64",
         "type": "float"
        },
        {
         "name": "out_in_BTC_mean_median",
         "rawType": "float64",
         "type": "float"
        },
        {
         "name": "out_in_BTC_median_sum",
         "rawType": "float64",
         "type": "float"
        },
        {
         "name": "out_in_BTC_median_mean",
         "rawType": "float64",
         "type": "float"
        },
        {
         "name": "out_in_BTC_median_median",
         "rawType": "float64",
         "type": "float"
        },
        {
         "name": "out_in_BTC_total_sum",
         "rawType": "float64",
         "type": "float"
        },
        {
         "name": "out_in_BTC_total_mean",
         "rawType": "float64",
         "type": "float"
        },
        {
         "name": "out_in_BTC_total_median",
         "rawType": "float64",
         "type": "float"
        },
        {
         "name": "out_out_BTC_min_sum",
         "rawType": "float64",
         "type": "float"
        },
        {
         "name": "out_out_BTC_min_mean",
         "rawType": "float64",
         "type": "float"
        },
        {
         "name": "out_out_BTC_min_median",
         "rawType": "float64",
         "type": "float"
        },
        {
         "name": "out_out_BTC_max_sum",
         "rawType": "float64",
         "type": "float"
        },
        {
         "name": "out_out_BTC_max_mean",
         "rawType": "float64",
         "type": "float"
        },
        {
         "name": "out_out_BTC_max_median",
         "rawType": "float64",
         "type": "float"
        },
        {
         "name": "out_out_BTC_mean_sum",
         "rawType": "float64",
         "type": "float"
        },
        {
         "name": "out_out_BTC_mean_mean",
         "rawType": "float64",
         "type": "float"
        },
        {
         "name": "out_out_BTC_mean_median",
         "rawType": "float64",
         "type": "float"
        },
        {
         "name": "out_out_BTC_median_sum",
         "rawType": "float64",
         "type": "float"
        },
        {
         "name": "out_out_BTC_median_mean",
         "rawType": "float64",
         "type": "float"
        },
        {
         "name": "out_out_BTC_median_median",
         "rawType": "float64",
         "type": "float"
        },
        {
         "name": "out_out_BTC_total_sum",
         "rawType": "float64",
         "type": "float"
        },
        {
         "name": "out_out_BTC_total_mean",
         "rawType": "float64",
         "type": "float"
        },
        {
         "name": "out_out_BTC_total_median",
         "rawType": "float64",
         "type": "float"
        }
       ],
       "ref": "959fd158-058c-423e-91c3-020aefd2bf62",
       "rows": [
        [
         "0",
         "111112TykSw72ztDN2WJger4cynzWYC5w",
         "25",
         "1",
         "0.16901472",
         "0.007042280000000001",
         "0.00704228",
         "154.36877304",
         "6.43203221",
         "6.43203221",
         "0.16901472",
         "0.007042280000000001",
         "0.00704228",
         "381840.0",
         "15910.0",
         "15910.0",
         "0.0",
         "0.0",
         "0.0",
         "408.0",
         "17.0",
         "17.0",
         "600.0",
         "25.0",
         "25.0",
         "6024.0",
         "251.0",
         "251.0",
         "154.36877304",
         "6.43203221",
         "6.43203221",
         "0.48551015999999997",
         "0.02022959",
         "0.02022959",
         "64.7976",
         "2.6999",
         "2.6999",
         "6.1815115104",
         "0.2575629796",
         "0.2575629796",
         "1.01577336",
         "0.04232389",
         "0.04232389",
         "154.53778776000001",
         "6.43907449",
         "6.43907449",
         "0.23287584",
         "0.00970316",
         "0.00970316",
         "57.749746079999994",
         "2.40623942",
         "2.40623942",
         "0.6150150320318712",
         "0.0256256263346613",
         "0.0256256263346613",
         "0.31008816",
         "0.01292034",
         "0.01292034",
         "154.36877304",
         "6.43203221",
         "6.43203221",
         "0",
         "0.0",
         "0.0",
         "0.0",
         "0.0",
         "0.0",
         "0.0",
         "0.0",
         "0.0",
         "0.0",
         "0.0",
         "0.0",
         "0.0",
         "0.0",
         "0.0",
         "0.0",
         "0.0",
         "0.0",
         "0.0",
         "0.0",
         "0.0",
         "0.0",
         "0.0",
         "0.0",
         "0.0",
         "0.0",
         "0.0",
         "0.0",
         "0.0",
         "0.0",
         "0.0",
         "0.0",
         "0.0",
         "0.0",
         "0.0",
         "0.0",
         "0.0",
         "0.0",
         "0.0",
         "0.0",
         "0.0",
         "0.0",
         "0.0",
         "0.0",
         "0.0",
         "0.0",
         "0.0",
         "0.0",
         "0.0",
         "0.0",
         "0.0",
         "0.0",
         "0.0",
         "0.0",
         "0.0",
         "0.0",
         "0.0",
         "0.0"
        ],
        [
         "1",
         "1111DAYXhoxZx2tsRnzimfozo783x1yC2",
         "25",
         "1",
         "0.00012224",
         "0.00012224",
         "0.00012224",
         "0.0198895",
         "0.0198895",
         "0.0198895",
         "0.00012224",
         "0.00012224",
         "0.00012224",
         "191.0",
         "191.0",
         "191.0",
         "1.0",
         "1.0",
         "1.0",
         "0.0",
         "0.0",
         "0.0",
         "1.0",
         "1.0",
         "1.0",
         "1.0",
         "1.0",
         "1.0",
         "0.0198895",
         "0.0198895",
         "0.0198895",
         "0.02001174",
         "0.02001174",
         "0.02001174",
         "0.02001174",
         "0.02001174",
         "0.02001174",
         "0.02001174",
         "0.02001174",
         "0.02001174",
         "0.02001174",
         "0.02001174",
         "0.02001174",
         "0.02001174",
         "0.02001174",
         "0.02001174",
         "0.0198895",
         "0.0198895",
         "0.0198895",
         "0.0198895",
         "0.0198895",
         "0.0198895",
         "0.0198895",
         "0.0198895",
         "0.0198895",
         "0.0198895",
         "0.0198895",
         "0.0198895",
         "0.0198895",
         "0.0198895",
         "0.0198895",
         "0",
         "0.0",
         "0.0",
         "0.0",
         "0.0",
         "0.0",
         "0.0",
         "0.0",
         "0.0",
         "0.0",
         "0.0",
         "0.0",
         "0.0",
         "0.0",
         "0.0",
         "0.0",
         "0.0",
         "0.0",
         "0.0",
         "0.0",
         "0.0",
         "0.0",
         "0.0",
         "0.0",
         "0.0",
         "0.0",
         "0.0",
         "0.0",
         "0.0",
         "0.0",
         "0.0",
         "0.0",
         "0.0",
         "0.0",
         "0.0",
         "0.0",
         "0.0",
         "0.0",
         "0.0",
         "0.0",
         "0.0",
         "0.0",
         "0.0",
         "0.0",
         "0.0",
         "0.0",
         "0.0",
         "0.0",
         "0.0",
         "0.0",
         "0.0",
         "0.0",
         "0.0",
         "0.0",
         "0.0",
         "0.0",
         "0.0",
         "0.0"
        ],
        [
         "2",
         "1111DAYXhoxZx2tsRnzimfozo783x1yC2",
         "29",
         "2",
         "0.00024512",
         "0.00012256",
         "0.00012256",
         "0.15366662",
         "0.07683331",
         "0.07683331",
         "0.00024512",
         "0.00012256",
         "0.00012256",
         "382.0",
         "191.0",
         "191.0",
         "2.0",
         "1.0",
         "1.0",
         "0.0",
         "0.0",
         "0.0",
         "2.0",
         "1.0",
         "1.0",
         "2.0",
         "1.0",
         "1.0",
         "0.15366662",
         "0.07683331",
         "0.07683331",
         "0.15391174",
         "0.07695587",
         "0.07695587",
         "0.15391174",
         "0.07695587",
         "0.07695587",
         "0.15391174",
         "0.07695587",
         "0.07695587",
         "0.15391174",
         "0.07695587",
         "0.07695587",
         "0.15391174",
         "0.07695587",
         "0.07695587",
         "0.15366662",
         "0.07683331",
         "0.07683331",
         "0.15366662",
         "0.07683331",
         "0.07683331",
         "0.15366662",
         "0.07683331",
         "0.07683331",
         "0.15366662",
         "0.07683331",
         "0.07683331",
         "0.15366662",
         "0.07683331",
         "0.07683331",
         "0",
         "0.0",
         "0.0",
         "0.0",
         "0.0",
         "0.0",
         "0.0",
         "0.0",
         "0.0",
         "0.0",
         "0.0",
         "0.0",
         "0.0",
         "0.0",
         "0.0",
         "0.0",
         "0.0",
         "0.0",
         "0.0",
         "0.0",
         "0.0",
         "0.0",
         "0.0",
         "0.0",
         "0.0",
         "0.0",
         "0.0",
         "0.0",
         "0.0",
         "0.0",
         "0.0",
         "0.0",
         "0.0",
         "0.0",
         "0.0",
         "0.0",
         "0.0",
         "0.0",
         "0.0",
         "0.0",
         "0.0",
         "0.0",
         "0.0",
         "0.0",
         "0.0",
         "0.0",
         "0.0",
         "0.0",
         "0.0",
         "0.0",
         "0.0",
         "0.0",
         "0.0",
         "0.0",
         "0.0",
         "0.0",
         "0.0",
         "0.0"
        ],
        [
         "3",
         "1111DAYXhoxZx2tsRnzimfozo783x1yC2",
         "39",
         "4",
         "0.0014047999999999999",
         "0.00035119999999999997",
         "0.00035136",
         "0.16291201",
         "0.0407280025",
         "0.01261722",
         "0.0014047999999999999",
         "0.00035119999999999997",
         "0.00035136",
         "765.0",
         "191.25",
         "191.0",
         "4.0",
         "1.0",
         "1.0",
         "0.0",
         "0.0",
         "0.0",
         "4.0",
         "1.0",
         "1.0",
         "4.0",
         "1.0",
         "1.0",
         "0.16291201",
         "0.0407280025",
         "0.01261722",
         "0.16431680999999998",
         "0.041079202499999995",
         "0.01296826",
         "0.16431680999999998",
         "0.041079202499999995",
         "0.01296826",
         "0.16431680999999998",
         "0.041079202499999995",
         "0.01296826",
         "0.16431680999999998",
         "0.041079202499999995",
         "0.01296826",
         "0.16431680999999998",
         "0.041079202499999995",
         "0.01296826",
         "0.16291201",
         "0.0407280025",
         "0.01261722",
         "0.16291201",
         "0.0407280025",
         "0.01261722",
         "0.16291201",
         "0.0407280025",
         "0.01261722",
         "0.16291201",
         "0.0407280025",
         "0.01261722",
         "0.16291201",
         "0.0407280025",
         "0.01261722",
         "0",
         "0.0",
         "0.0",
         "0.0",
         "0.0",
         "0.0",
         "0.0",
         "0.0",
         "0.0",
         "0.0",
         "0.0",
         "0.0",
         "0.0",
         "0.0",
         "0.0",
         "0.0",
         "0.0",
         "0.0",
         "0.0",
         "0.0",
         "0.0",
         "0.0",
         "0.0",
         "0.0",
         "0.0",
         "0.0",
         "0.0",
         "0.0",
         "0.0",
         "0.0",
         "0.0",
         "0.0",
         "0.0",
         "0.0",
         "0.0",
         "0.0",
         "0.0",
         "0.0",
         "0.0",
         "0.0",
         "0.0",
         "0.0",
         "0.0",
         "0.0",
         "0.0",
         "0.0",
         "0.0",
         "0.0",
         "0.0",
         "0.0",
         "0.0",
         "0.0",
         "0.0",
         "0.0",
         "0.0",
         "0.0",
         "0.0",
         "0.0"
        ],
        [
         "4",
         "1111DAYXhoxZx2tsRnzimfozo783x1yC2",
         "43",
         "6",
         "0.00188864",
         "0.00031477333333333334",
         "0.00024192",
         "0.21910042000000002",
         "0.03651673666666667",
         "0.01435218",
         "0.00188864",
         "0.00031477333333333334",
         "0.00024192",
         "1147.0",
         "191.16666666666666",
         "191.0",
         "6.0",
         "1.0",
         "1.0",
         "0.0",
         "0.0",
         "0.0",
         "6.0",
         "1.0",
         "1.0",
         "6.0",
         "1.0",
         "1.0",
         "0.21910042000000002",
         "0.03651673666666667",
         "0.01435218",
         "0.22098905999999996",
         "0.03683150999999999",
         "0.01453426",
         "0.22098905999999996",
         "0.03683150999999999",
         "0.01453426",
         "0.22098905999999996",
         "0.03683150999999999",
         "0.01453426",
         "0.22098905999999996",
         "0.03683150999999999",
         "0.01453426",
         "0.22098905999999996",
         "0.03683150999999999",
         "0.01453426",
         "0.21910042000000002",
         "0.03651673666666667",
         "0.01435218",
         "0.21910042000000002",
         "0.03651673666666667",
         "0.01435218",
         "0.21910042000000002",
         "0.03651673666666667",
         "0.01435218",
         "0.21910042000000002",
         "0.03651673666666667",
         "0.01435218",
         "0.21910042000000002",
         "0.03651673666666667",
         "0.01435218",
         "0",
         "0.0",
         "0.0",
         "0.0",
         "0.0",
         "0.0",
         "0.0",
         "0.0",
         "0.0",
         "0.0",
         "0.0",
         "0.0",
         "0.0",
         "0.0",
         "0.0",
         "0.0",
         "0.0",
         "0.0",
         "0.0",
         "0.0",
         "0.0",
         "0.0",
         "0.0",
         "0.0",
         "0.0",
         "0.0",
         "0.0",
         "0.0",
         "0.0",
         "0.0",
         "0.0",
         "0.0",
         "0.0",
         "0.0",
         "0.0",
         "0.0",
         "0.0",
         "0.0",
         "0.0",
         "0.0",
         "0.0",
         "0.0",
         "0.0",
         "0.0",
         "0.0",
         "0.0",
         "0.0",
         "0.0",
         "0.0",
         "0.0",
         "0.0",
         "0.0",
         "0.0",
         "0.0",
         "0.0",
         "0.0",
         "0.0",
         "0.0"
        ]
       ],
       "shape": {
        "columns": 118,
        "rows": 5
       }
      },
      "text/html": [
       "<div>\n",
       "<style scoped>\n",
       "    .dataframe tbody tr th:only-of-type {\n",
       "        vertical-align: middle;\n",
       "    }\n",
       "\n",
       "    .dataframe tbody tr th {\n",
       "        vertical-align: top;\n",
       "    }\n",
       "\n",
       "    .dataframe thead th {\n",
       "        text-align: right;\n",
       "    }\n",
       "</style>\n",
       "<table border=\"1\" class=\"dataframe\">\n",
       "  <thead>\n",
       "    <tr style=\"text-align: right;\">\n",
       "      <th></th>\n",
       "      <th>address</th>\n",
       "      <th>Time step</th>\n",
       "      <th>in_num</th>\n",
       "      <th>in_total_fees</th>\n",
       "      <th>in_mean_fees</th>\n",
       "      <th>in_median_fees</th>\n",
       "      <th>in_total_btc_in</th>\n",
       "      <th>in_mean_btc_in</th>\n",
       "      <th>in_median_btc_in</th>\n",
       "      <th>in_fees_sum</th>\n",
       "      <th>...</th>\n",
       "      <th>out_out_BTC_max_median</th>\n",
       "      <th>out_out_BTC_mean_sum</th>\n",
       "      <th>out_out_BTC_mean_mean</th>\n",
       "      <th>out_out_BTC_mean_median</th>\n",
       "      <th>out_out_BTC_median_sum</th>\n",
       "      <th>out_out_BTC_median_mean</th>\n",
       "      <th>out_out_BTC_median_median</th>\n",
       "      <th>out_out_BTC_total_sum</th>\n",
       "      <th>out_out_BTC_total_mean</th>\n",
       "      <th>out_out_BTC_total_median</th>\n",
       "    </tr>\n",
       "  </thead>\n",
       "  <tbody>\n",
       "    <tr>\n",
       "      <th>0</th>\n",
       "      <td>111112TykSw72ztDN2WJger4cynzWYC5w</td>\n",
       "      <td>25</td>\n",
       "      <td>1</td>\n",
       "      <td>0.169015</td>\n",
       "      <td>0.007042</td>\n",
       "      <td>0.007042</td>\n",
       "      <td>154.368773</td>\n",
       "      <td>6.432032</td>\n",
       "      <td>6.432032</td>\n",
       "      <td>0.169015</td>\n",
       "      <td>...</td>\n",
       "      <td>0.0</td>\n",
       "      <td>0.0</td>\n",
       "      <td>0.0</td>\n",
       "      <td>0.0</td>\n",
       "      <td>0.0</td>\n",
       "      <td>0.0</td>\n",
       "      <td>0.0</td>\n",
       "      <td>0.0</td>\n",
       "      <td>0.0</td>\n",
       "      <td>0.0</td>\n",
       "    </tr>\n",
       "    <tr>\n",
       "      <th>1</th>\n",
       "      <td>1111DAYXhoxZx2tsRnzimfozo783x1yC2</td>\n",
       "      <td>25</td>\n",
       "      <td>1</td>\n",
       "      <td>0.000122</td>\n",
       "      <td>0.000122</td>\n",
       "      <td>0.000122</td>\n",
       "      <td>0.019890</td>\n",
       "      <td>0.019890</td>\n",
       "      <td>0.019890</td>\n",
       "      <td>0.000122</td>\n",
       "      <td>...</td>\n",
       "      <td>0.0</td>\n",
       "      <td>0.0</td>\n",
       "      <td>0.0</td>\n",
       "      <td>0.0</td>\n",
       "      <td>0.0</td>\n",
       "      <td>0.0</td>\n",
       "      <td>0.0</td>\n",
       "      <td>0.0</td>\n",
       "      <td>0.0</td>\n",
       "      <td>0.0</td>\n",
       "    </tr>\n",
       "    <tr>\n",
       "      <th>2</th>\n",
       "      <td>1111DAYXhoxZx2tsRnzimfozo783x1yC2</td>\n",
       "      <td>29</td>\n",
       "      <td>2</td>\n",
       "      <td>0.000245</td>\n",
       "      <td>0.000123</td>\n",
       "      <td>0.000123</td>\n",
       "      <td>0.153667</td>\n",
       "      <td>0.076833</td>\n",
       "      <td>0.076833</td>\n",
       "      <td>0.000245</td>\n",
       "      <td>...</td>\n",
       "      <td>0.0</td>\n",
       "      <td>0.0</td>\n",
       "      <td>0.0</td>\n",
       "      <td>0.0</td>\n",
       "      <td>0.0</td>\n",
       "      <td>0.0</td>\n",
       "      <td>0.0</td>\n",
       "      <td>0.0</td>\n",
       "      <td>0.0</td>\n",
       "      <td>0.0</td>\n",
       "    </tr>\n",
       "    <tr>\n",
       "      <th>3</th>\n",
       "      <td>1111DAYXhoxZx2tsRnzimfozo783x1yC2</td>\n",
       "      <td>39</td>\n",
       "      <td>4</td>\n",
       "      <td>0.001405</td>\n",
       "      <td>0.000351</td>\n",
       "      <td>0.000351</td>\n",
       "      <td>0.162912</td>\n",
       "      <td>0.040728</td>\n",
       "      <td>0.012617</td>\n",
       "      <td>0.001405</td>\n",
       "      <td>...</td>\n",
       "      <td>0.0</td>\n",
       "      <td>0.0</td>\n",
       "      <td>0.0</td>\n",
       "      <td>0.0</td>\n",
       "      <td>0.0</td>\n",
       "      <td>0.0</td>\n",
       "      <td>0.0</td>\n",
       "      <td>0.0</td>\n",
       "      <td>0.0</td>\n",
       "      <td>0.0</td>\n",
       "    </tr>\n",
       "    <tr>\n",
       "      <th>4</th>\n",
       "      <td>1111DAYXhoxZx2tsRnzimfozo783x1yC2</td>\n",
       "      <td>43</td>\n",
       "      <td>6</td>\n",
       "      <td>0.001889</td>\n",
       "      <td>0.000315</td>\n",
       "      <td>0.000242</td>\n",
       "      <td>0.219100</td>\n",
       "      <td>0.036517</td>\n",
       "      <td>0.014352</td>\n",
       "      <td>0.001889</td>\n",
       "      <td>...</td>\n",
       "      <td>0.0</td>\n",
       "      <td>0.0</td>\n",
       "      <td>0.0</td>\n",
       "      <td>0.0</td>\n",
       "      <td>0.0</td>\n",
       "      <td>0.0</td>\n",
       "      <td>0.0</td>\n",
       "      <td>0.0</td>\n",
       "      <td>0.0</td>\n",
       "      <td>0.0</td>\n",
       "    </tr>\n",
       "  </tbody>\n",
       "</table>\n",
       "<p>5 rows × 118 columns</p>\n",
       "</div>"
      ],
      "text/plain": [
       "                             address  Time step  in_num  in_total_fees  \\\n",
       "0  111112TykSw72ztDN2WJger4cynzWYC5w         25       1       0.169015   \n",
       "1  1111DAYXhoxZx2tsRnzimfozo783x1yC2         25       1       0.000122   \n",
       "2  1111DAYXhoxZx2tsRnzimfozo783x1yC2         29       2       0.000245   \n",
       "3  1111DAYXhoxZx2tsRnzimfozo783x1yC2         39       4       0.001405   \n",
       "4  1111DAYXhoxZx2tsRnzimfozo783x1yC2         43       6       0.001889   \n",
       "\n",
       "   in_mean_fees  in_median_fees  in_total_btc_in  in_mean_btc_in  \\\n",
       "0      0.007042        0.007042       154.368773        6.432032   \n",
       "1      0.000122        0.000122         0.019890        0.019890   \n",
       "2      0.000123        0.000123         0.153667        0.076833   \n",
       "3      0.000351        0.000351         0.162912        0.040728   \n",
       "4      0.000315        0.000242         0.219100        0.036517   \n",
       "\n",
       "   in_median_btc_in  in_fees_sum  ...  out_out_BTC_max_median  \\\n",
       "0          6.432032     0.169015  ...                     0.0   \n",
       "1          0.019890     0.000122  ...                     0.0   \n",
       "2          0.076833     0.000245  ...                     0.0   \n",
       "3          0.012617     0.001405  ...                     0.0   \n",
       "4          0.014352     0.001889  ...                     0.0   \n",
       "\n",
       "   out_out_BTC_mean_sum  out_out_BTC_mean_mean  out_out_BTC_mean_median  \\\n",
       "0                   0.0                    0.0                      0.0   \n",
       "1                   0.0                    0.0                      0.0   \n",
       "2                   0.0                    0.0                      0.0   \n",
       "3                   0.0                    0.0                      0.0   \n",
       "4                   0.0                    0.0                      0.0   \n",
       "\n",
       "   out_out_BTC_median_sum  out_out_BTC_median_mean  out_out_BTC_median_median  \\\n",
       "0                     0.0                      0.0                        0.0   \n",
       "1                     0.0                      0.0                        0.0   \n",
       "2                     0.0                      0.0                        0.0   \n",
       "3                     0.0                      0.0                        0.0   \n",
       "4                     0.0                      0.0                        0.0   \n",
       "\n",
       "   out_out_BTC_total_sum  out_out_BTC_total_mean  out_out_BTC_total_median  \n",
       "0                    0.0                     0.0                       0.0  \n",
       "1                    0.0                     0.0                       0.0  \n",
       "2                    0.0                     0.0                       0.0  \n",
       "3                    0.0                     0.0                       0.0  \n",
       "4                    0.0                     0.0                       0.0  \n",
       "\n",
       "[5 rows x 118 columns]"
      ]
     },
     "execution_count": 119,
     "metadata": {},
     "output_type": "execute_result"
    }
   ],
   "source": [
    "wallets_ts_final_filled = wallets_ts_final.fillna(0)\n",
    "wallets_ts_final_filled.head(5)"
   ]
  },
  {
   "cell_type": "code",
   "execution_count": 120,
   "id": "5e5e12fc",
   "metadata": {},
   "outputs": [],
   "source": [
    "wallets_ts_final_filled.to_csv(os.path.join(DATA_DIR, \"wallets_features_until_t.csv\"), index=False)"
   ]
  },
  {
   "cell_type": "code",
   "execution_count": 125,
   "id": "15b75737",
   "metadata": {},
   "outputs": [
    {
     "name": "stdout",
     "output_type": "stream",
     "text": [
      "All (address, t) covered: True\n",
      "Missing pairs: 0\n",
      "Extra pairs: 0\n",
      "Sample missing: []\n"
     ]
    }
   ],
   "source": [
    "expected_pairs = set(map(tuple, wallet_features[[\"address\",\"Time step\"]]\n",
    "                         .drop_duplicates()\n",
    "                         .to_records(index=False)))\n",
    "\n",
    "built_pairs = set(map(tuple, wallets_ts_final[[\"address\",\"Time step\"]]\n",
    "                      .drop_duplicates()\n",
    "                      .to_records(index=False)))\n",
    "\n",
    "print(\"All (address, t) covered:\", expected_pairs.issubset(built_pairs))\n",
    "print(\"Missing pairs:\", len(expected_pairs - built_pairs))\n",
    "print(\"Extra pairs:\", len(built_pairs - expected_pairs))\n",
    "print(\"Sample missing:\", list(expected_pairs - built_pairs)[:10])"
   ]
  },
  {
   "cell_type": "code",
   "execution_count": 127,
   "id": "ce823ecc",
   "metadata": {},
   "outputs": [
    {
     "name": "stdout",
     "output_type": "stream",
     "text": [
      "1268260\n",
      "920691\n"
     ]
    }
   ],
   "source": [
    "print(len(wallet_features))\n",
    "print(len(wallets_ts_final))"
   ]
  },
  {
   "cell_type": "code",
   "execution_count": 128,
   "id": "4b81c8e1",
   "metadata": {},
   "outputs": [
    {
     "name": "stdout",
     "output_type": "stream",
     "text": [
      "unique pairs in wallet_features: 920691\n",
      "rows in wallets_ts_final: 920691\n",
      "duplicated (address,t) rows in wallet_features: 594114\n",
      "top duplicate groups:\n",
      " address                             Time step\n",
      "3P9wZeSQN44aozpCzjvCzW3bkM8RdZnYng  10           568\n",
      "366Dgw4pi3rnvu5zizVWZF6nijWxZWc6RA  19           479\n",
      "3QBEjSdESMK2puAvs7J8d15e8SBnsX1pN1  33           397\n",
      "13vHWR3iLsHeYwT42RnuKYNBoVPrKKZgRv  39           393\n",
      "1JS2HEY2WgesydnEBTxKnTWUVe6SccXPuL  10           372\n",
      "366Dgw4pi3rnvu5zizVWZF6nijWxZWc6RA  20           348\n",
      "33fjpQKTzzyQWu6T4PcXUxgbqRbd618u8U  9            333\n",
      "1P9RQEr2XeE3PEb44ZE35sfZRRW1JHU8qx  45           313\n",
      "3Kd1EUax2vjYNL1Hg1i11SoSd8brvKcrHp  14           260\n",
      "3GjVjz9Rx3Vq97C5NnonsfZdzRV7LLa9LR  33           237\n",
      "dtype: int64\n"
     ]
    }
   ],
   "source": [
    "wf_pairs = wallet_features[[\"address\",\"Time step\"]]\n",
    "n_unique_pairs = len(wf_pairs.drop_duplicates())\n",
    "print(\"unique pairs in wallet_features:\", n_unique_pairs)\n",
    "print(\"rows in wallets_ts_final:\", len(wallets_ts_final))\n",
    "\n",
    "dups_mask = wf_pairs.duplicated(keep=False)\n",
    "print(\"duplicated (address,t) rows in wallet_features:\", dups_mask.sum())\n",
    "\n",
    "\n",
    "dup_groups = (wallet_features[dups_mask]\n",
    "              .groupby([\"address\",\"Time step\"])\n",
    "              .size()\n",
    "              .sort_values(ascending=False)\n",
    "              .head(10))\n",
    "print(\"top duplicate groups:\\n\", dup_groups)\n",
    "\n",
    "assert n_unique_pairs == len(wallets_ts_final)"
   ]
  },
  {
   "cell_type": "markdown",
   "id": "d20dbd60",
   "metadata": {},
   "source": [
    "Write to csv - the edgelist is divided into 8 parts so that LFS doesnt bitch abt it"
   ]
  },
  {
   "cell_type": "code",
   "execution_count": 33,
   "id": "9c9bb9f7",
   "metadata": {},
   "outputs": [
    {
     "name": "stderr",
     "output_type": "stream",
     "text": [
      "/Users/franciszeklatala/mamba/envs/graph-ml/lib/python3.11/site-packages/numpy/_core/fromnumeric.py:57: FutureWarning: 'DataFrame.swapaxes' is deprecated and will be removed in a future version. Please use 'DataFrame.transpose' instead.\n",
      "  return bound(*args, **kwds)\n"
     ]
    }
   ],
   "source": [
    "def split_into_n_parts(df, n, out_dir, base):\n",
    "    parts = np.array_split(df, n)\n",
    "    paths = []\n",
    "    for i, part in enumerate(parts, 1):\n",
    "        p = os.path.join(out_dir, f\"{base}_part_{i}.csv\")\n",
    "        part.to_csv(p, index=False)\n",
    "\n",
    "split_into_n_parts(address_address_transactions, n=8, out_dir=DATA_DIR, base=\"AddrTxAddr_edgelist\")"
   ]
  },
  {
   "cell_type": "markdown",
   "id": "99d0b60e",
   "metadata": {},
   "source": [
    "The rest is good to go at once"
   ]
  },
  {
   "cell_type": "code",
   "execution_count": null,
   "id": "7f467ed9",
   "metadata": {},
   "outputs": [],
   "source": [
    "# address_address_transactions.to_csv(os.path.join(DATA_DIR, \"AddrTxAddr_edgelist.csv\"), index=False)\n",
    "address_pair_aggregated.to_csv(os.path.join(DATA_DIR, \"AddrTxAddr_edgelist_aggregated.csv\"), index=False)\n",
    "address_address_transactions_known_features.to_csv(os.path.join(DATA_DIR, \"AddrTxAddr_edgelist_known_features.csv\"), index=False)"
   ]
  }
 ],
 "metadata": {
  "kernelspec": {
   "display_name": "graph-ml",
   "language": "python",
   "name": "python3"
  },
  "language_info": {
   "codemirror_mode": {
    "name": "ipython",
    "version": 3
   },
   "file_extension": ".py",
   "mimetype": "text/x-python",
   "name": "python",
   "nbconvert_exporter": "python",
   "pygments_lexer": "ipython3",
   "version": "3.11.13"
  }
 },
 "nbformat": 4,
 "nbformat_minor": 5
}
