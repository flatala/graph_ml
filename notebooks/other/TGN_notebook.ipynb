{
 "cells": [
  {
   "cell_type": "code",
   "execution_count": 1,
   "id": "6557c357",
   "metadata": {},
   "outputs": [],
   "source": [
    "from pathlib import Path\n",
    "import sys\n",
    "\n",
    "ROOT = Path.cwd().parent\n",
    "sys.path.append(str(ROOT))\n",
    "\n",
    "import os, glob, re\n",
    "import pandas as pd\n",
    "import numpy as np\n",
    "\n",
    "from pathlib import Path\n",
    "import torch\n",
    "import math\n",
    "import torch.nn as nn\n",
    "import torch.nn.functional as F\n",
    "\n",
    "import matplotlib.pyplot as plt\n",
    "from sklearn.metrics import precision_recall_curve, average_precision_score\n",
    "\n",
    "\n",
    "from tqdm import tqdm\n",
    "from pathlib import Path\n",
    "from torch_geometric.data import Data\n",
    "from torch_geometric.loader import TemporalDataLoader\n",
    "from code_lib.graph_builder import build_emergence_graphs_for_time_range\n",
    "from code_lib.utils import load_parts\n",
    "from torch_geometric.nn.models.tgn import LastNeighborLoader\n"
   ]
  },
  {
   "cell_type": "code",
   "execution_count": 2,
   "id": "f57607ff",
   "metadata": {},
   "outputs": [
    {
     "name": "stdout",
     "output_type": "stream",
     "text": [
      "Loaded 46 graphs spanning 46 time steps\n"
     ]
    }
   ],
   "source": [
    "shard_dir = Path(\"../artifacts/graph_shards\")\n",
    "shards = sorted(shard_dir.glob(\"emergence_graphs_shard_*.pt\"))\n",
    "\n",
    "graphs = []\n",
    "time_steps = []\n",
    "config = None\n",
    "\n",
    "for shard_path in shards:\n",
    "    payload = torch.load(shard_path, weights_only=False)\n",
    "\n",
    "    if config is None:\n",
    "        config = payload[\"config\"]\n",
    "    else:\n",
    "        if payload[\"config\"] != config:\n",
    "            raise ValueError(f\"Config mismatch in {shard_path}\")\n",
    "\n",
    "    graphs.extend(payload[\"graphs\"])\n",
    "    time_steps.extend(payload[\"time_steps\"])\n",
    "\n",
    "print(f\"Loaded {len(graphs)} graphs spanning {len(time_steps)} time steps\")"
   ]
  },
  {
   "cell_type": "code",
   "execution_count": 3,
   "id": "b24af9f8",
   "metadata": {},
   "outputs": [],
   "source": [
    "DATA_DIR = \"../elliptic_dataset\"\n",
    "WALLETS_FEATURES = \"wallets_features.csv\"\n",
    "WALLETS_CLASSES = \"wallets_classes.csv\"\n",
    "EDGES_PREFIX = \"AddrTxAddr_edgelist_part_\""
   ]
  },
  {
   "cell_type": "code",
   "execution_count": 4,
   "id": "512b0070",
   "metadata": {},
   "outputs": [],
   "source": [
    "nodes = pd.read_csv(os.path.join(DATA_DIR, WALLETS_FEATURES))\n",
    "node_labels = pd.read_csv(os.path.join(DATA_DIR, WALLETS_CLASSES))\n",
    "edges_with_edge_labels = load_parts(DATA_DIR, EDGES_PREFIX)\n",
    "nodes_with_labels = nodes.merge(node_labels, on='address', how='left')"
   ]
  },
  {
   "cell_type": "code",
   "execution_count": 19,
   "id": "4a446f3c",
   "metadata": {},
   "outputs": [
    {
     "data": {
      "text/plain": [
       "Data(x=[34853, 1], edge_index=[2, 66836], y=[34853], node_class=[34853], num_nodes=34853, time_step=1)"
      ]
     },
     "execution_count": 19,
     "metadata": {},
     "output_type": "execute_result"
    }
   ],
   "source": [
    "graphs[0]"
   ]
  },
  {
   "cell_type": "code",
   "execution_count": 5,
   "id": "a3e8d35e",
   "metadata": {},
   "outputs": [],
   "source": [
    "from code_lib.temporal_graph_builder import convert_to_event_stream\n",
    "dataset = convert_to_event_stream(graphs, True)"
   ]
  },
  {
   "cell_type": "code",
   "execution_count": 6,
   "id": "addb8c60",
   "metadata": {},
   "outputs": [
    {
     "name": "stdout",
     "output_type": "stream",
     "text": [
      "TemporalData(src=[2557831], dst=[2557831], t=[2557831], msg=[2557831, 2], y=[2557831], event_type=[2557831])\n"
     ]
    }
   ],
   "source": [
    "print(dataset)"
   ]
  },
  {
   "cell_type": "code",
   "execution_count": 30,
   "id": "7638b5e6",
   "metadata": {},
   "outputs": [
    {
     "name": "stdout",
     "output_type": "stream",
     "text": [
      "822942\n",
      "2\n"
     ]
    }
   ],
   "source": [
    "from torch_geometric.nn.models.tgn import TGNMemory, IdentityMessage, MeanAggregator\n",
    "from torch_geometric.data import TemporalData\n",
    "num_nodes = nodes['address'].nunique()\n",
    "raw_msg_dim = (dataset[0].msg.size(-1))\n",
    "memory_dim = 3\n",
    "time_dim = 8\n",
    "print(num_nodes)\n",
    "print(raw_msg_dim)"
   ]
  },
  {
   "cell_type": "code",
   "execution_count": 73,
   "id": "415d5255",
   "metadata": {},
   "outputs": [],
   "source": [
    "import torch\n",
    "import torch.nn as nn\n",
    "from torch_geometric.nn.models.tgn import TGNMemory, MeanAggregator\n",
    "\n",
    "class MLPMessage(nn.Module):\n",
    "    def __init__(self, raw_msg_dim, memory_dim, time_dim,\n",
    "                 hidden_dim=128, out_dim=128):\n",
    "        super().__init__()\n",
    "        in_dim = raw_msg_dim + 2 * memory_dim + time_dim\n",
    "        self.out_channels = out_dim\n",
    "        self.net = nn.Sequential(\n",
    "            nn.Linear(in_dim, hidden_dim),\n",
    "            nn.ReLU(),\n",
    "            nn.Linear(hidden_dim, out_dim),\n",
    "        )\n",
    "\n",
    "    def forward(self, z_src, z_dst, raw_msg, t_enc):\n",
    "        inputs = torch.cat([z_src, z_dst, raw_msg, t_enc], dim=-1)\n",
    "        return self.net(inputs)\n"
   ]
  },
  {
   "cell_type": "code",
   "execution_count": 74,
   "id": "39a49017",
   "metadata": {},
   "outputs": [],
   "source": [
    "message_module = MLPMessage(raw_msg_dim, memory_dim, time_dim, hidden_dim=8, out_dim=8)\n",
    "DEVICE = torch.device(\"cuda:0\")\n",
    "\n",
    "neighbor_loader = LastNeighborLoader(\n",
    "    num_nodes=num_nodes,\n",
    "    size=50,            # keep only the latest 50 neighbors per node\n",
    "    device=DEVICE,\n",
    ")\n",
    "\n",
    "model = TGNMemory(\n",
    "    num_nodes = num_nodes,\n",
    "    raw_msg_dim = raw_msg_dim,\n",
    "    memory_dim = memory_dim,\n",
    "    time_dim = time_dim,\n",
    "    message_module = message_module,\n",
    "    aggregator_module= MeanAggregator()\n",
    ").to(DEVICE)\n",
    "model.reset_state()\n",
    "\n",
    "decoder = nn.Sequential(nn.Linear(memory_dim*2, 4), nn.ReLU(), nn.Linear(4,1)).to(DEVICE)\n",
    "opt = torch.optim.Adam(list(model.parameters()) + list(decoder.parameters()), lr=1e-3)\n",
    "\n",
    "t_cut = torch.quantile(dataset.t.float(), 0.8).long()\n",
    "\n",
    "train_mask = dataset.t < t_cut\n",
    "test_mask = dataset.t >= t_cut\n",
    "\n",
    "train_data = TemporalData(\n",
    "    src=dataset.src[train_mask],\n",
    "    dst=dataset.dst[train_mask],\n",
    "    msg=dataset.msg[train_mask],\n",
    "    t=dataset.t[train_mask],\n",
    "    y=(dataset.y[train_mask] if hasattr(dataset, \"y\") else None)\n",
    ")\n",
    "\n",
    "test_data = TemporalData(\n",
    "    src=dataset.src[test_mask],\n",
    "    dst=dataset.dst[test_mask],\n",
    "    msg=dataset.msg[test_mask],\n",
    "    t=dataset.t[test_mask],\n",
    "    y=(dataset.y[test_mask] if hasattr(dataset, \"y\") else None)\n",
    ")\n",
    "\n",
    "train_loader = TemporalDataLoader(train_data, batch_size=16000, shuffle=False)\n",
    "test_loader = TemporalDataLoader(test_data, batch_size=16000, shuffle=False)\n",
    "    "
   ]
  },
  {
   "cell_type": "code",
   "execution_count": 75,
   "id": "7cdfc4c4",
   "metadata": {},
   "outputs": [
    {
     "name": "stdout",
     "output_type": "stream",
     "text": [
      "3\n",
      "8\n",
      "2\n"
     ]
    }
   ],
   "source": [
    "print(memory_dim)\n",
    "print(time_dim)\n",
    "print(raw_msg_dim)"
   ]
  },
  {
   "cell_type": "code",
   "execution_count": 76,
   "id": "15632449",
   "metadata": {},
   "outputs": [
    {
     "name": "stdout",
     "output_type": "stream",
     "text": [
      "TemporalData(src=[16000], dst=[16000], t=[16000], msg=[16000, 2], y=[16000], n_id=[9052])\n",
      "TemporalData(src=[16000], dst=[16000], t=[16000], msg=[16000, 2], y=[16000], n_id=[14466])\n",
      "TemporalData(src=[16000], dst=[16000], t=[16000], msg=[16000, 2], y=[16000], n_id=[11844])\n",
      "TemporalData(src=[16000], dst=[16000], t=[16000], msg=[16000, 2], y=[16000], n_id=[7477])\n",
      "TemporalData(src=[16000], dst=[16000], t=[16000], msg=[16000, 2], y=[16000], n_id=[2673])\n",
      "TemporalData(src=[16000], dst=[16000], t=[16000], msg=[16000, 2], y=[16000], n_id=[3638])\n",
      "TemporalData(src=[16000], dst=[16000], t=[16000], msg=[16000, 2], y=[16000], n_id=[2696])\n",
      "TemporalData(src=[16000], dst=[16000], t=[16000], msg=[16000, 2], y=[16000], n_id=[2028])\n",
      "TemporalData(src=[16000], dst=[16000], t=[16000], msg=[16000, 2], y=[16000], n_id=[2535])\n",
      "TemporalData(src=[16000], dst=[16000], t=[16000], msg=[16000, 2], y=[16000], n_id=[2227])\n",
      "TemporalData(src=[16000], dst=[16000], t=[16000], msg=[16000, 2], y=[16000], n_id=[2478])\n",
      "TemporalData(src=[16000], dst=[16000], t=[16000], msg=[16000, 2], y=[16000], n_id=[8729])\n",
      "TemporalData(src=[16000], dst=[16000], t=[16000], msg=[16000, 2], y=[16000], n_id=[7391])\n",
      "TemporalData(src=[16000], dst=[16000], t=[16000], msg=[16000, 2], y=[16000], n_id=[3544])\n",
      "TemporalData(src=[16000], dst=[16000], t=[16000], msg=[16000, 2], y=[16000], n_id=[7142])\n",
      "TemporalData(src=[16000], dst=[16000], t=[16000], msg=[16000, 2], y=[16000], n_id=[5037])\n",
      "TemporalData(src=[16000], dst=[16000], t=[16000], msg=[16000, 2], y=[16000], n_id=[6958])\n",
      "TemporalData(src=[16000], dst=[16000], t=[16000], msg=[16000, 2], y=[16000], n_id=[7439])\n",
      "TemporalData(src=[16000], dst=[16000], t=[16000], msg=[16000, 2], y=[16000], n_id=[7433])\n",
      "TemporalData(src=[16000], dst=[16000], t=[16000], msg=[16000, 2], y=[16000], n_id=[5691])\n",
      "[step 20] loss=0.9086, acc=0.0223\n",
      "TemporalData(src=[16000], dst=[16000], t=[16000], msg=[16000, 2], y=[16000], n_id=[10377])\n",
      "TemporalData(src=[16000], dst=[16000], t=[16000], msg=[16000, 2], y=[16000], n_id=[8301])\n",
      "TemporalData(src=[16000], dst=[16000], t=[16000], msg=[16000, 2], y=[16000], n_id=[2304])\n",
      "TemporalData(src=[16000], dst=[16000], t=[16000], msg=[16000, 2], y=[16000], n_id=[5456])\n",
      "TemporalData(src=[16000], dst=[16000], t=[16000], msg=[16000, 2], y=[16000], n_id=[7508])\n",
      "TemporalData(src=[16000], dst=[16000], t=[16000], msg=[16000, 2], y=[16000], n_id=[2960])\n",
      "TemporalData(src=[16000], dst=[16000], t=[16000], msg=[16000, 2], y=[16000], n_id=[8609])\n",
      "TemporalData(src=[16000], dst=[16000], t=[16000], msg=[16000, 2], y=[16000], n_id=[7100])\n",
      "TemporalData(src=[16000], dst=[16000], t=[16000], msg=[16000, 2], y=[16000], n_id=[7562])\n",
      "TemporalData(src=[16000], dst=[16000], t=[16000], msg=[16000, 2], y=[16000], n_id=[6668])\n",
      "TemporalData(src=[16000], dst=[16000], t=[16000], msg=[16000, 2], y=[16000], n_id=[4593])\n",
      "TemporalData(src=[16000], dst=[16000], t=[16000], msg=[16000, 2], y=[16000], n_id=[4539])\n",
      "TemporalData(src=[16000], dst=[16000], t=[16000], msg=[16000, 2], y=[16000], n_id=[5228])\n",
      "TemporalData(src=[16000], dst=[16000], t=[16000], msg=[16000, 2], y=[16000], n_id=[4968])\n",
      "TemporalData(src=[16000], dst=[16000], t=[16000], msg=[16000, 2], y=[16000], n_id=[8119])\n",
      "TemporalData(src=[16000], dst=[16000], t=[16000], msg=[16000, 2], y=[16000], n_id=[5595])\n",
      "TemporalData(src=[16000], dst=[16000], t=[16000], msg=[16000, 2], y=[16000], n_id=[5534])\n",
      "TemporalData(src=[16000], dst=[16000], t=[16000], msg=[16000, 2], y=[16000], n_id=[7881])\n",
      "TemporalData(src=[16000], dst=[16000], t=[16000], msg=[16000, 2], y=[16000], n_id=[6523])\n",
      "TemporalData(src=[16000], dst=[16000], t=[16000], msg=[16000, 2], y=[16000], n_id=[5514])\n",
      "[step 40] loss=0.8698, acc=0.0328\n",
      "TemporalData(src=[16000], dst=[16000], t=[16000], msg=[16000, 2], y=[16000], n_id=[13309])\n",
      "TemporalData(src=[16000], dst=[16000], t=[16000], msg=[16000, 2], y=[16000], n_id=[9153])\n",
      "TemporalData(src=[16000], dst=[16000], t=[16000], msg=[16000, 2], y=[16000], n_id=[12226])\n",
      "TemporalData(src=[16000], dst=[16000], t=[16000], msg=[16000, 2], y=[16000], n_id=[10794])\n",
      "TemporalData(src=[16000], dst=[16000], t=[16000], msg=[16000, 2], y=[16000], n_id=[3540])\n",
      "TemporalData(src=[16000], dst=[16000], t=[16000], msg=[16000, 2], y=[16000], n_id=[3037])\n",
      "TemporalData(src=[16000], dst=[16000], t=[16000], msg=[16000, 2], y=[16000], n_id=[9437])\n",
      "TemporalData(src=[16000], dst=[16000], t=[16000], msg=[16000, 2], y=[16000], n_id=[6975])\n",
      "TemporalData(src=[16000], dst=[16000], t=[16000], msg=[16000, 2], y=[16000], n_id=[8008])\n",
      "TemporalData(src=[16000], dst=[16000], t=[16000], msg=[16000, 2], y=[16000], n_id=[9401])\n",
      "TemporalData(src=[16000], dst=[16000], t=[16000], msg=[16000, 2], y=[16000], n_id=[11153])\n",
      "TemporalData(src=[16000], dst=[16000], t=[16000], msg=[16000, 2], y=[16000], n_id=[8134])\n",
      "TemporalData(src=[16000], dst=[16000], t=[16000], msg=[16000, 2], y=[16000], n_id=[3149])\n",
      "TemporalData(src=[16000], dst=[16000], t=[16000], msg=[16000, 2], y=[16000], n_id=[4092])\n",
      "TemporalData(src=[16000], dst=[16000], t=[16000], msg=[16000, 2], y=[16000], n_id=[534])\n",
      "TemporalData(src=[16000], dst=[16000], t=[16000], msg=[16000, 2], y=[16000], n_id=[1536])\n",
      "TemporalData(src=[16000], dst=[16000], t=[16000], msg=[16000, 2], y=[16000], n_id=[4946])\n",
      "TemporalData(src=[16000], dst=[16000], t=[16000], msg=[16000, 2], y=[16000], n_id=[7971])\n",
      "TemporalData(src=[16000], dst=[16000], t=[16000], msg=[16000, 2], y=[16000], n_id=[10405])\n",
      "TemporalData(src=[16000], dst=[16000], t=[16000], msg=[16000, 2], y=[16000], n_id=[9080])\n",
      "[step 60] loss=0.8330, acc=0.0511\n",
      "TemporalData(src=[16000], dst=[16000], t=[16000], msg=[16000, 2], y=[16000], n_id=[7771])\n",
      "TemporalData(src=[16000], dst=[16000], t=[16000], msg=[16000, 2], y=[16000], n_id=[10681])\n",
      "TemporalData(src=[16000], dst=[16000], t=[16000], msg=[16000, 2], y=[16000], n_id=[10961])\n",
      "TemporalData(src=[16000], dst=[16000], t=[16000], msg=[16000, 2], y=[16000], n_id=[8826])\n",
      "TemporalData(src=[16000], dst=[16000], t=[16000], msg=[16000, 2], y=[16000], n_id=[4026])\n",
      "TemporalData(src=[16000], dst=[16000], t=[16000], msg=[16000, 2], y=[16000], n_id=[4379])\n",
      "TemporalData(src=[16000], dst=[16000], t=[16000], msg=[16000, 2], y=[16000], n_id=[2046])\n",
      "TemporalData(src=[16000], dst=[16000], t=[16000], msg=[16000, 2], y=[16000], n_id=[1547])\n",
      "TemporalData(src=[16000], dst=[16000], t=[16000], msg=[16000, 2], y=[16000], n_id=[1035])\n",
      "TemporalData(src=[16000], dst=[16000], t=[16000], msg=[16000, 2], y=[16000], n_id=[1735])\n",
      "TemporalData(src=[16000], dst=[16000], t=[16000], msg=[16000, 2], y=[16000], n_id=[12656])\n",
      "TemporalData(src=[16000], dst=[16000], t=[16000], msg=[16000, 2], y=[16000], n_id=[8493])\n",
      "TemporalData(src=[16000], dst=[16000], t=[16000], msg=[16000, 2], y=[16000], n_id=[1821])\n",
      "TemporalData(src=[16000], dst=[16000], t=[16000], msg=[16000, 2], y=[16000], n_id=[806])\n",
      "TemporalData(src=[16000], dst=[16000], t=[16000], msg=[16000, 2], y=[16000], n_id=[8259])\n",
      "TemporalData(src=[16000], dst=[16000], t=[16000], msg=[16000, 2], y=[16000], n_id=[10317])\n",
      "TemporalData(src=[16000], dst=[16000], t=[16000], msg=[16000, 2], y=[16000], n_id=[6483])\n",
      "TemporalData(src=[16000], dst=[16000], t=[16000], msg=[16000, 2], y=[16000], n_id=[5851])\n",
      "TemporalData(src=[16000], dst=[16000], t=[16000], msg=[16000, 2], y=[16000], n_id=[8163])\n",
      "TemporalData(src=[16000], dst=[16000], t=[16000], msg=[16000, 2], y=[16000], n_id=[9945])\n",
      "[step 80] loss=0.7985, acc=0.1484\n",
      "TemporalData(src=[16000], dst=[16000], t=[16000], msg=[16000, 2], y=[16000], n_id=[9817])\n",
      "TemporalData(src=[16000], dst=[16000], t=[16000], msg=[16000, 2], y=[16000], n_id=[9656])\n",
      "TemporalData(src=[16000], dst=[16000], t=[16000], msg=[16000, 2], y=[16000], n_id=[7163])\n",
      "TemporalData(src=[16000], dst=[16000], t=[16000], msg=[16000, 2], y=[16000], n_id=[1328])\n",
      "TemporalData(src=[16000], dst=[16000], t=[16000], msg=[16000, 2], y=[16000], n_id=[1397])\n",
      "TemporalData(src=[16000], dst=[16000], t=[16000], msg=[16000, 2], y=[16000], n_id=[5456])\n",
      "TemporalData(src=[16000], dst=[16000], t=[16000], msg=[16000, 2], y=[16000], n_id=[8757])\n",
      "TemporalData(src=[16000], dst=[16000], t=[16000], msg=[16000, 2], y=[16000], n_id=[9510])\n",
      "TemporalData(src=[16000], dst=[16000], t=[16000], msg=[16000, 2], y=[16000], n_id=[10227])\n",
      "TemporalData(src=[16000], dst=[16000], t=[16000], msg=[16000, 2], y=[16000], n_id=[6792])\n",
      "TemporalData(src=[16000], dst=[16000], t=[16000], msg=[16000, 2], y=[16000], n_id=[8882])\n",
      "TemporalData(src=[16000], dst=[16000], t=[16000], msg=[16000, 2], y=[16000], n_id=[9156])\n",
      "TemporalData(src=[16000], dst=[16000], t=[16000], msg=[16000, 2], y=[16000], n_id=[8314])\n",
      "TemporalData(src=[16000], dst=[16000], t=[16000], msg=[16000, 2], y=[16000], n_id=[8546])\n",
      "TemporalData(src=[16000], dst=[16000], t=[16000], msg=[16000, 2], y=[16000], n_id=[9912])\n",
      "TemporalData(src=[16000], dst=[16000], t=[16000], msg=[16000, 2], y=[16000], n_id=[6375])\n",
      "TemporalData(src=[16000], dst=[16000], t=[16000], msg=[16000, 2], y=[16000], n_id=[4762])\n",
      "TemporalData(src=[16000], dst=[16000], t=[16000], msg=[16000, 2], y=[16000], n_id=[3413])\n",
      "TemporalData(src=[16000], dst=[16000], t=[16000], msg=[16000, 2], y=[16000], n_id=[560])\n",
      "TemporalData(src=[16000], dst=[16000], t=[16000], msg=[16000, 2], y=[16000], n_id=[713])\n",
      "[step 100] loss=0.7648, acc=0.2930\n",
      "TemporalData(src=[16000], dst=[16000], t=[16000], msg=[16000, 2], y=[16000], n_id=[1072])\n",
      "TemporalData(src=[16000], dst=[16000], t=[16000], msg=[16000, 2], y=[16000], n_id=[818])\n",
      "TemporalData(src=[16000], dst=[16000], t=[16000], msg=[16000, 2], y=[16000], n_id=[807])\n",
      "TemporalData(src=[16000], dst=[16000], t=[16000], msg=[16000, 2], y=[16000], n_id=[1055])\n",
      "TemporalData(src=[16000], dst=[16000], t=[16000], msg=[16000, 2], y=[16000], n_id=[560])\n",
      "TemporalData(src=[16000], dst=[16000], t=[16000], msg=[16000, 2], y=[16000], n_id=[2275])\n",
      "TemporalData(src=[16000], dst=[16000], t=[16000], msg=[16000, 2], y=[16000], n_id=[817])\n",
      "TemporalData(src=[16000], dst=[16000], t=[16000], msg=[16000, 2], y=[16000], n_id=[709])\n",
      "TemporalData(src=[16000], dst=[16000], t=[16000], msg=[16000, 2], y=[16000], n_id=[6732])\n",
      "TemporalData(src=[16000], dst=[16000], t=[16000], msg=[16000, 2], y=[16000], n_id=[10085])\n",
      "TemporalData(src=[16000], dst=[16000], t=[16000], msg=[16000, 2], y=[16000], n_id=[7110])\n",
      "TemporalData(src=[16000], dst=[16000], t=[16000], msg=[16000, 2], y=[16000], n_id=[8689])\n",
      "TemporalData(src=[16000], dst=[16000], t=[16000], msg=[16000, 2], y=[16000], n_id=[9245])\n",
      "TemporalData(src=[16000], dst=[16000], t=[16000], msg=[16000, 2], y=[16000], n_id=[10492])\n",
      "TemporalData(src=[16000], dst=[16000], t=[16000], msg=[16000, 2], y=[16000], n_id=[7072])\n",
      "TemporalData(src=[16000], dst=[16000], t=[16000], msg=[16000, 2], y=[16000], n_id=[8283])\n",
      "TemporalData(src=[16000], dst=[16000], t=[16000], msg=[16000, 2], y=[16000], n_id=[4235])\n",
      "TemporalData(src=[16000], dst=[16000], t=[16000], msg=[16000, 2], y=[16000], n_id=[9143])\n",
      "TemporalData(src=[16000], dst=[16000], t=[16000], msg=[16000, 2], y=[16000], n_id=[8784])\n",
      "TemporalData(src=[16000], dst=[16000], t=[16000], msg=[16000, 2], y=[16000], n_id=[9113])\n",
      "[step 120] loss=0.7369, acc=0.3853\n",
      "TemporalData(src=[16000], dst=[16000], t=[16000], msg=[16000, 2], y=[16000], n_id=[11722])\n",
      "TemporalData(src=[16000], dst=[16000], t=[16000], msg=[16000, 2], y=[16000], n_id=[9093])\n",
      "TemporalData(src=[16000], dst=[16000], t=[16000], msg=[16000, 2], y=[16000], n_id=[8690])\n",
      "TemporalData(src=[16000], dst=[16000], t=[16000], msg=[16000, 2], y=[16000], n_id=[5926])\n",
      "TemporalData(src=[16000], dst=[16000], t=[16000], msg=[16000, 2], y=[16000], n_id=[10023])\n",
      "TemporalData(src=[16000], dst=[16000], t=[16000], msg=[16000, 2], y=[16000], n_id=[6032])\n",
      "TemporalData(src=[16000], dst=[16000], t=[16000], msg=[16000, 2], y=[16000], n_id=[5370])\n",
      "TemporalData(src=[1964], dst=[1964], t=[1964], msg=[1964, 2], y=[1964], n_id=[1254])\n",
      "Epoch done: loss=0.7320, acc=0.4008\n"
     ]
    }
   ],
   "source": [
    "running_loss = 0.0\n",
    "running_correct = 0\n",
    "running_examples = 0\n",
    "\n",
    "for t, batch in enumerate(train_loader):\n",
    "    print(batch)\n",
    "    batch = batch.to(DEVICE)\n",
    "\n",
    "    n_id, edge_index, e_id = neighbor_loader(batch.n_id)\n",
    "    model.update_state(batch.src, batch.dst, batch.t, batch.msg)\n",
    "    h, _ = model(n_id)\n",
    "\n",
    "    h_src = h[neighbor_loader._assoc[batch.src]]\n",
    "    h_dst = h[neighbor_loader._assoc[batch.dst]]\n",
    "    logits = decoder(torch.cat([h_src, h_dst], dim = -1)).view(-1)\n",
    "\n",
    "    neighbor_loader.insert(batch.src, batch.dst)\n",
    "\n",
    "    y = batch.y.float().view(-1)\n",
    "    loss = F.binary_cross_entropy_with_logits(logits, y)\n",
    "\n",
    "    running_loss += loss.item() * y.numel()\n",
    "\n",
    "    preds = (logits.sigmoid() >= 0.5).float()\n",
    "    running_correct += (preds == y).sum().item()\n",
    "    running_examples += y.numel()\n",
    "\n",
    "    if (t + 1) % 20 == 0:   # e.g., every 20 mini-batches\n",
    "        avg_loss = running_loss / running_examples\n",
    "        avg_acc = running_correct / running_examples\n",
    "        print(f\"[step {t+1}] loss={avg_loss:.4f}, acc={avg_acc:.4f}\")\n",
    "\n",
    "    opt.zero_grad()\n",
    "    loss.backward()\n",
    "    opt.step()\n",
    "    model.detach()\n",
    "\n",
    "epoch_loss = running_loss / running_examples\n",
    "epoch_acc = running_correct / running_examples\n",
    "print(f\"Epoch done: loss={epoch_loss:.4f}, acc={epoch_acc:.4f}\")"
   ]
  },
  {
   "cell_type": "code",
   "execution_count": 77,
   "id": "0b9ce4a3",
   "metadata": {},
   "outputs": [],
   "source": [
    "checkpoint = {\n",
    "    \"model_state\": model.state_dict(),\n",
    "    \"decoder_state\": decoder.state_dict(),\n",
    "    \"optimizer_state\": opt.state_dict(),\n",
    "    \"config\": {\n",
    "        \"raw_msg_dim\": raw_msg_dim,\n",
    "        \"memory_dim\": memory_dim,\n",
    "        \"time_dim\": time_dim,\n",
    "        \"neighbor_size\": neighbor_loader.size,\n",
    "    },\n",
    "}\n",
    "\n",
    "Path(\"artifacts\").mkdir(parents=True, exist_ok=True)\n",
    "torch.save(checkpoint, \"artifacts/tgn_checkpoint_dense.pt\")\n"
   ]
  },
  {
   "cell_type": "code",
   "execution_count": null,
   "id": "69ac3ebf",
   "metadata": {},
   "outputs": [
    {
     "ename": "RuntimeError",
     "evalue": "Error(s) in loading state_dict for TGNMemory:\n\tUnexpected key(s) in state_dict: \"msg_s_module.net.0.weight\", \"msg_s_module.net.0.bias\", \"msg_s_module.net.2.weight\", \"msg_s_module.net.2.bias\", \"msg_d_module.net.0.weight\", \"msg_d_module.net.0.bias\", \"msg_d_module.net.2.weight\", \"msg_d_module.net.2.bias\". \n\tsize mismatch for gru.weight_ih: copying a param with shape torch.Size([9, 8]) from checkpoint, the shape in current model is torch.Size([9, 16]).",
     "output_type": "error",
     "traceback": [
      "\u001b[31m---------------------------------------------------------------------------\u001b[39m",
      "\u001b[31mRuntimeError\u001b[39m                              Traceback (most recent call last)",
      "\u001b[36mCell\u001b[39m\u001b[36m \u001b[39m\u001b[32mIn[78]\u001b[39m\u001b[32m, line 19\u001b[39m\n\u001b[32m     10\u001b[39m model = TGNMemory(\n\u001b[32m     11\u001b[39m     num_nodes=num_nodes,\n\u001b[32m     12\u001b[39m     raw_msg_dim=cfg[\u001b[33m\"\u001b[39m\u001b[33mraw_msg_dim\u001b[39m\u001b[33m\"\u001b[39m],\n\u001b[32m   (...)\u001b[39m\u001b[32m     16\u001b[39m     aggregator_module=MeanAggregator(),\n\u001b[32m     17\u001b[39m ).to(DEVICE)\n\u001b[32m     18\u001b[39m model.reset_state()  \u001b[38;5;66;03m# clears buffers on the correct device\u001b[39;00m\n\u001b[32m---> \u001b[39m\u001b[32m19\u001b[39m \u001b[43mmodel\u001b[49m\u001b[43m.\u001b[49m\u001b[43mload_state_dict\u001b[49m\u001b[43m(\u001b[49m\u001b[43mckpt\u001b[49m\u001b[43m[\u001b[49m\u001b[33;43m\"\u001b[39;49m\u001b[33;43mmodel_state\u001b[39;49m\u001b[33;43m\"\u001b[39;49m\u001b[43m]\u001b[49m\u001b[43m)\u001b[49m\n\u001b[32m     21\u001b[39m decoder = nn.Sequential(\n\u001b[32m     22\u001b[39m     nn.Linear(cfg[\u001b[33m\"\u001b[39m\u001b[33mmemory_dim\u001b[39m\u001b[33m\"\u001b[39m] * \u001b[32m2\u001b[39m,\u001b[32m4\u001b[39m),\n\u001b[32m     23\u001b[39m     nn.ReLU(),\n\u001b[32m     24\u001b[39m     nn.Linear(\u001b[32m4\u001b[39m, \u001b[32m1\u001b[39m),\n\u001b[32m     25\u001b[39m ).to(DEVICE)\n\u001b[32m     26\u001b[39m decoder.load_state_dict(ckpt[\u001b[33m\"\u001b[39m\u001b[33mdecoder_state\u001b[39m\u001b[33m\"\u001b[39m])\n",
      "\u001b[36mFile \u001b[39m\u001b[32mc:\\Users\\luket\\Documents\\Fork\\graph_ml\\.venv\\Lib\\site-packages\\torch\\nn\\modules\\module.py:2629\u001b[39m, in \u001b[36mModule.load_state_dict\u001b[39m\u001b[34m(self, state_dict, strict, assign)\u001b[39m\n\u001b[32m   2621\u001b[39m         error_msgs.insert(\n\u001b[32m   2622\u001b[39m             \u001b[32m0\u001b[39m,\n\u001b[32m   2623\u001b[39m             \u001b[33m\"\u001b[39m\u001b[33mMissing key(s) in state_dict: \u001b[39m\u001b[38;5;132;01m{}\u001b[39;00m\u001b[33m. \u001b[39m\u001b[33m\"\u001b[39m.format(\n\u001b[32m   2624\u001b[39m                 \u001b[33m\"\u001b[39m\u001b[33m, \u001b[39m\u001b[33m\"\u001b[39m.join(\u001b[33mf\u001b[39m\u001b[33m'\u001b[39m\u001b[33m\"\u001b[39m\u001b[38;5;132;01m{\u001b[39;00mk\u001b[38;5;132;01m}\u001b[39;00m\u001b[33m\"\u001b[39m\u001b[33m'\u001b[39m \u001b[38;5;28;01mfor\u001b[39;00m k \u001b[38;5;129;01min\u001b[39;00m missing_keys)\n\u001b[32m   2625\u001b[39m             ),\n\u001b[32m   2626\u001b[39m         )\n\u001b[32m   2628\u001b[39m \u001b[38;5;28;01mif\u001b[39;00m \u001b[38;5;28mlen\u001b[39m(error_msgs) > \u001b[32m0\u001b[39m:\n\u001b[32m-> \u001b[39m\u001b[32m2629\u001b[39m     \u001b[38;5;28;01mraise\u001b[39;00m \u001b[38;5;167;01mRuntimeError\u001b[39;00m(\n\u001b[32m   2630\u001b[39m         \u001b[33m\"\u001b[39m\u001b[33mError(s) in loading state_dict for \u001b[39m\u001b[38;5;132;01m{}\u001b[39;00m\u001b[33m:\u001b[39m\u001b[38;5;130;01m\\n\u001b[39;00m\u001b[38;5;130;01m\\t\u001b[39;00m\u001b[38;5;132;01m{}\u001b[39;00m\u001b[33m\"\u001b[39m.format(\n\u001b[32m   2631\u001b[39m             \u001b[38;5;28mself\u001b[39m.\u001b[34m__class__\u001b[39m.\u001b[34m__name__\u001b[39m, \u001b[33m\"\u001b[39m\u001b[38;5;130;01m\\n\u001b[39;00m\u001b[38;5;130;01m\\t\u001b[39;00m\u001b[33m\"\u001b[39m.join(error_msgs)\n\u001b[32m   2632\u001b[39m         )\n\u001b[32m   2633\u001b[39m     )\n\u001b[32m   2634\u001b[39m \u001b[38;5;28;01mreturn\u001b[39;00m _IncompatibleKeys(missing_keys, unexpected_keys)\n",
      "\u001b[31mRuntimeError\u001b[39m: Error(s) in loading state_dict for TGNMemory:\n\tUnexpected key(s) in state_dict: \"msg_s_module.net.0.weight\", \"msg_s_module.net.0.bias\", \"msg_s_module.net.2.weight\", \"msg_s_module.net.2.bias\", \"msg_d_module.net.0.weight\", \"msg_d_module.net.0.bias\", \"msg_d_module.net.2.weight\", \"msg_d_module.net.2.bias\". \n\tsize mismatch for gru.weight_ih: copying a param with shape torch.Size([9, 8]) from checkpoint, the shape in current model is torch.Size([9, 16])."
     ]
    }
   ],
   "source": [
    "from torch_geometric.nn.models.tgn import TGNMemory, IdentityMessage, MeanAggregator\n",
    "from torch_geometric.nn.models.tgn import LastNeighborLoader\n",
    "\n",
    "DEVICE = torch.device(\"cuda:0\")\n",
    "ckpt = torch.load(\"artifacts/tgn_checkpoint_dense.pt\", map_location=DEVICE)\n",
    "\n",
    "cfg = ckpt[\"config\"]\n",
    "message_module = MLPMessage(cfg[\"raw_msg_dim\"], cfg[\"memory_dim\"], cfg[\"time_dim\"])\n",
    "\n",
    "model = TGNMemory(\n",
    "    num_nodes=num_nodes,\n",
    "    raw_msg_dim=cfg[\"raw_msg_dim\"],\n",
    "    memory_dim=cfg[\"memory_dim\"],\n",
    "    time_dim=cfg[\"time_dim\"],\n",
    "    message_module=message_module,\n",
    "    aggregator_module=MeanAggregator(),\n",
    ").to(DEVICE)\n",
    "model.reset_state()  # clears buffers on the correct device\n",
    "model.load_state_dict(ckpt[\"model_state\"])\n",
    "\n",
    "decoder = nn.Sequential(\n",
    "    nn.Linear(cfg[\"memory_dim\"] * 2,4),\n",
    "    nn.ReLU(),\n",
    "    nn.Linear(4, 1),\n",
    ").to(DEVICE)\n",
    "decoder.load_state_dict(ckpt[\"decoder_state\"])\n",
    "\n",
    "opt = torch.optim.Adam(list(model.parameters()) + list(decoder.parameters()), lr=1e-3)\n",
    "opt.load_state_dict(ckpt[\"optimizer_state\"])\n",
    "\n",
    "neighbor_loader = LastNeighborLoader(\n",
    "    num_nodes=num_nodes,\n",
    "    size=cfg[\"neighbor_size\"],\n",
    "    device=DEVICE,\n",
    ")\n",
    "neighbor_loader.reset_state()\n"
   ]
  },
  {
   "cell_type": "code",
   "execution_count": null,
   "id": "cbdf8bb1",
   "metadata": {},
   "outputs": [
    {
     "name": "stdout",
     "output_type": "stream",
     "text": [
      "Recall: 0.3373\n"
     ]
    }
   ],
   "source": [
    "from sklearn.metrics import recall_score\n",
    "model.eval()\n",
    "y_true, y_score = [], []\n",
    "src_ids= [] \n",
    "\n",
    "with torch.no_grad():\n",
    "    for batch in test_loader:\n",
    "        batch = batch.to(DEVICE)\n",
    "\n",
    "        # If you used LastNeighborLoader during training, reuse it here:\n",
    "        n_id, edge_index, e_id = neighbor_loader(batch.n_id)\n",
    "        model.update_state(batch.src, batch.dst, batch.t, batch.msg)\n",
    "        h, _ = model(n_id)\n",
    "\n",
    "        h_src = h[neighbor_loader._assoc[batch.src]]\n",
    "        h_dst = h[neighbor_loader._assoc[batch.dst]]\n",
    "        logits = decoder(torch.cat([h_src, h_dst], dim=-1)).view(-1)\n",
    "\n",
    "        src_ids.extend(batch.src.cpu().numpy())\n",
    "\n",
    "\n",
    "        y_score.append(logits.detach().cpu())\n",
    "        y_true.append(batch.y.detach().cpu())\n",
    "\n",
    "y_true = torch.cat(y_true).numpy()\n",
    "y_score = torch.cat(y_score).sigmoid().numpy()\n",
    "y_pred = (y_score >= 0.5).astype(int)\n",
    "recall = recall_score(y_true, y_pred, zero_division=0)\n",
    "print(f\"Recall: {recall:.4f}\")\n"
   ]
  },
  {
   "cell_type": "code",
   "execution_count": 62,
   "id": "281a1a65",
   "metadata": {},
   "outputs": [
    {
     "data": {
      "text/plain": [
       "array([0., 0., 0., ..., 0., 0., 0.], shape=(523867,), dtype=float32)"
      ]
     },
     "execution_count": 62,
     "metadata": {},
     "output_type": "execute_result"
    }
   ],
   "source": [
    "y_true"
   ]
  },
  {
   "cell_type": "code",
   "execution_count": 71,
   "id": "0f5251fe",
   "metadata": {},
   "outputs": [],
   "source": [
    "import pandas as pd\n",
    "\n",
    "df = pd.DataFrame({\n",
    "    \"node\": src_ids,              # or dst_ids, or both concatenated\n",
    "    \"score\": y_score,\n",
    "    \"label\": y_true,              # 0/1 edge label\n",
    "})\n",
    "node_scores = df.groupby(\"node\")[\"score\"].mean()\n",
    "only_true = df[df[\"label\"] == 1]\n",
    "only_false = df[df[\"label\"] == 0]"
   ]
  },
  {
   "cell_type": "code",
   "execution_count": 70,
   "id": "fe17f0cf",
   "metadata": {},
   "outputs": [
    {
     "data": {
      "text/plain": [
       "np.float32(0.3485955)"
      ]
     },
     "execution_count": 70,
     "metadata": {},
     "output_type": "execute_result"
    }
   ],
   "source": [
    "only_true[\"score\"].mean()"
   ]
  },
  {
   "cell_type": "code",
   "execution_count": 72,
   "id": "71e96c37",
   "metadata": {},
   "outputs": [
    {
     "data": {
      "text/plain": [
       "np.float32(0.34996197)"
      ]
     },
     "execution_count": 72,
     "metadata": {},
     "output_type": "execute_result"
    }
   ],
   "source": [
    "only_false[\"score\"].mean()"
   ]
  },
  {
   "cell_type": "code",
   "execution_count": 61,
   "id": "5239504c",
   "metadata": {},
   "outputs": [
    {
     "data": {
      "text/plain": [
       "node\n",
       "0    0.347162\n",
       "1    0.360979\n",
       "2    0.350448\n",
       "3    0.362521\n",
       "4    0.357726\n",
       "Name: score, dtype: float32"
      ]
     },
     "execution_count": 61,
     "metadata": {},
     "output_type": "execute_result"
    }
   ],
   "source": [
    "node_scores.head()"
   ]
  },
  {
   "cell_type": "markdown",
   "id": "3835f686",
   "metadata": {},
   "source": [
    "Looking at precision recall curve to see what the actual fuck is going on"
   ]
  },
  {
   "cell_type": "code",
   "execution_count": 46,
   "id": "0a069e16",
   "metadata": {},
   "outputs": [
    {
     "data": {
      "image/png": "[encoded data removed]",
      "text/plain": [
       "<Figure size 600x500 with 1 Axes>"
      ]
     },
     "metadata": {},
     "output_type": "display_data"
    }
   ],
   "source": [
    "from sklearn.metrics import precision_recall_curve\n",
    "\n",
    "prec, rec, thr = precision_recall_curve(y_true, y_pred)\n",
    "ap = average_precision_score(y_true, y_pred)\n",
    "\n",
    "plt.figure(figsize=(6, 5))\n",
    "plt.plot(rec, prec, label=f\"PR curve (AP = {ap:.4f})\")\n",
    "plt.xlabel(\"Recall\")\n",
    "plt.ylabel(\"Precision\")\n",
    "plt.title(\"Precision–Recall Curve\")\n",
    "plt.legend()\n",
    "plt.grid(True, linestyle=\"--\", alpha=0.4)\n",
    "plt.show()"
   ]
  },
  {
   "cell_type": "code",
   "execution_count": 47,
   "id": "4f95ca38",
   "metadata": {},
   "outputs": [
    {
     "name": "stdout",
     "output_type": "stream",
     "text": [
      "Threshold 0.373 → recall 0.0000\n"
     ]
    },
    {
     "name": "stderr",
     "output_type": "stream",
     "text": [
      "C:\\Users\\luket\\AppData\\Local\\Temp\\ipykernel_26088\\3494603980.py:4: RuntimeWarning: invalid value encountered in divide\n",
      "  best = np.argmax(2 * prec[:-1] * rec[:-1] / (prec[:-1] + rec[:-1]))  # F1 max\n"
     ]
    }
   ],
   "source": [
    "from sklearn.metrics import precision_recall_curve, recall_score\n",
    "\n",
    "prec, rec, thr = precision_recall_curve(y_true, y_score)  # y_score are probabilities\n",
    "best = np.argmax(2 * prec[:-1] * rec[:-1] / (prec[:-1] + rec[:-1]))  # F1 max\n",
    "threshold = thr[best]\n",
    "\n",
    "y_pred = (y_score >= threshold).astype(int)\n",
    "recall = recall_score(y_true, y_pred, zero_division=0)\n",
    "print(f\"Threshold {threshold:.3f} → recall {recall:.4f}\")"
   ]
  },
  {
   "cell_type": "markdown",
   "id": "a6e86b9c",
   "metadata": {},
   "source": [
    "Absolutely diabolical curve, we either have high precision and low recall or low recall and high precision, needs to be fixed by dealing with label imbalance"
   ]
  },
  {
   "cell_type": "code",
   "execution_count": 16,
   "id": "00b65b87",
   "metadata": {},
   "outputs": [
    {
     "name": "stdout",
     "output_type": "stream",
     "text": [
      "Positives in full set: 409721\n",
      "Negatives in full set: 2148110\n",
      "Positives in test split: 181055\n",
      "Negatives in test split: 342812\n"
     ]
    }
   ],
   "source": [
    "print(\"Positives in full set:\", int((dataset.y > 0.5).sum()))\n",
    "print(\"Negatives in full set:\", int((dataset.y <= 0.5).sum()))\n",
    "print(\"Positives in test split:\", int((test_data.y > 0.5).sum()))\n",
    "print(\"Negatives in test split:\", int((test_data.y <= 0.5).sum()))"
   ]
  },
  {
   "cell_type": "markdown",
   "id": "0ac8d8f3",
   "metadata": {},
   "source": [
    "It seems the train and test split are not evenly divided, lets try to fix this first"
   ]
  },
  {
   "cell_type": "code",
   "execution_count": null,
   "id": "9bee2375",
   "metadata": {},
   "outputs": [],
   "source": [
    "Before This whole escapade, got quite an improvement by simply setting conversion to dense"
   ]
  }
 ],
 "metadata": {
  "kernelspec": {
   "display_name": ".venv",
   "language": "python",
   "name": "python3"
  },
  "language_info": {
   "codemirror_mode": {
    "name": "ipython",
    "version": 3
   },
   "file_extension": ".py",
   "mimetype": "text/x-python",
   "name": "python",
   "nbconvert_exporter": "python",
   "pygments_lexer": "ipython3",
   "version": "3.11.0"
  }
 },
 "nbformat": 4,
 "nbformat_minor": 5
}
