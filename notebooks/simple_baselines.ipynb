{
 "cells": [
  {
   "cell_type": "code",
   "execution_count": 1,
   "metadata": {},
   "outputs": [],
   "source": [
    "from pathlib import Path\n",
    "import sys\n",
    "\n",
    "ROOT = Path.cwd().parent\n",
    "sys.path.append(str(ROOT))\n",
    "\n",
    "import os\n",
    "import pandas as pd\n",
    "import numpy as np\n",
    "from collections import defaultdict\n",
    "from tqdm import tqdm\n",
    "\n",
    "from sklearn.linear_model import LogisticRegression\n",
    "from sklearn.ensemble import RandomForestClassifier\n",
    "from sklearn.preprocessing import StandardScaler\n",
    "from sklearn.metrics import classification_report, confusion_matrix, roc_auc_score, roc_curve\n",
    "import matplotlib.pyplot as plt\n",
    "import seaborn as sns\n",
    "\n",
    "from code_lib.utils import load_parts\n",
    "\n",
    "sns.set_style('whitegrid')\n",
    "plt.rcParams['figure.figsize'] = (12, 6)"
   ]
  },
  {
   "cell_type": "markdown",
   "metadata": {},
   "source": [
    "## Load Data"
   ]
  },
  {
   "cell_type": "code",
   "execution_count": 14,
   "metadata": {},
   "outputs": [
    {
     "name": "stdout",
     "output_type": "stream",
     "text": [
      "Nodes: 920,691\n",
      "Edges: 2,868,964\n",
      "Timesteps: 1 - 49\n"
     ]
    }
   ],
   "source": [
    "DATA_DIR = \"../elliptic_dataset\"\n",
    "WALLETS = \"wallets_features_until_t.csv\"\n",
    "EDGES_PREFIX = \"AddrTxAddr_edgelist_part_\"\n",
    "\n",
    "edges_with_edge_labels = load_parts(DATA_DIR, EDGES_PREFIX)\n",
    "nodes = pd.read_csv(os.path.join(DATA_DIR, WALLETS))\n",
    "\n",
    "print(f\"Nodes: {len(nodes):,}\")\n",
    "print(f\"Edges: {len(edges_with_edge_labels):,}\")\n",
    "print(f\"Timesteps: {nodes['Time step'].min()} - {nodes['Time step'].max()}\")"
   ]
  },
  {
   "cell_type": "code",
   "execution_count": 15,
   "metadata": {},
   "outputs": [
    {
     "name": "stdout",
     "output_type": "stream",
     "text": [
      "822942\n"
     ]
    }
   ],
   "source": [
    "labels = pd.read_csv(os.path.join(DATA_DIR, \"wallets_classes.csv\"))\n",
    "print(len(labels))\n",
    "nodes_with_classes = nodes.merge(labels, on='address', how='left')"
   ]
  },
  {
   "cell_type": "code",
   "execution_count": 16,
   "metadata": {},
   "outputs": [
    {
     "data": {
      "application/vnd.microsoft.datawrangler.viewer.v0+json": {
       "columns": [
        {
         "name": "index",
         "rawType": "int64",
         "type": "integer"
        },
        {
         "name": "address",
         "rawType": "object",
         "type": "string"
        },
        {
         "name": "Time step",
         "rawType": "int64",
         "type": "integer"
        },
        {
         "name": "in_num",
         "rawType": "int64",
         "type": "integer"
        },
        {
         "name": "in_total_fees",
         "rawType": "float64",
         "type": "float"
        },
        {
         "name": "in_mean_fees",
         "rawType": "float64",
         "type": "float"
        },
        {
         "name": "in_median_fees",
         "rawType": "float64",
         "type": "float"
        },
        {
         "name": "in_total_btc_in",
         "rawType": "float64",
         "type": "float"
        },
        {
         "name": "in_mean_btc_in",
         "rawType": "float64",
         "type": "float"
        },
        {
         "name": "in_median_btc_in",
         "rawType": "float64",
         "type": "float"
        },
        {
         "name": "in_fees_sum",
         "rawType": "float64",
         "type": "float"
        },
        {
         "name": "in_fees_mean",
         "rawType": "float64",
         "type": "float"
        },
        {
         "name": "in_fees_median",
         "rawType": "float64",
         "type": "float"
        },
        {
         "name": "in_size_sum",
         "rawType": "float64",
         "type": "float"
        },
        {
         "name": "in_size_mean",
         "rawType": "float64",
         "type": "float"
        },
        {
         "name": "in_size_median",
         "rawType": "float64",
         "type": "float"
        },
        {
         "name": "in_in_txs_degree_sum",
         "rawType": "float64",
         "type": "float"
        },
        {
         "name": "in_in_txs_degree_mean",
         "rawType": "float64",
         "type": "float"
        },
        {
         "name": "in_in_txs_degree_median",
         "rawType": "float64",
         "type": "float"
        },
        {
         "name": "in_out_txs_degree_sum",
         "rawType": "float64",
         "type": "float"
        },
        {
         "name": "in_out_txs_degree_mean",
         "rawType": "float64",
         "type": "float"
        },
        {
         "name": "in_out_txs_degree_median",
         "rawType": "float64",
         "type": "float"
        },
        {
         "name": "in_num_input_addresses_sum",
         "rawType": "float64",
         "type": "float"
        },
        {
         "name": "in_num_input_addresses_mean",
         "rawType": "float64",
         "type": "float"
        },
        {
         "name": "in_num_input_addresses_median",
         "rawType": "float64",
         "type": "float"
        },
        {
         "name": "in_num_output_addresses_sum",
         "rawType": "float64",
         "type": "float"
        },
        {
         "name": "in_num_output_addresses_mean",
         "rawType": "float64",
         "type": "float"
        },
        {
         "name": "in_num_output_addresses_median",
         "rawType": "float64",
         "type": "float"
        },
        {
         "name": "in_total_BTC_sum",
         "rawType": "float64",
         "type": "float"
        },
        {
         "name": "in_total_BTC_mean",
         "rawType": "float64",
         "type": "float"
        },
        {
         "name": "in_total_BTC_median",
         "rawType": "float64",
         "type": "float"
        },
        {
         "name": "in_in_BTC_min_sum",
         "rawType": "float64",
         "type": "float"
        },
        {
         "name": "in_in_BTC_min_mean",
         "rawType": "float64",
         "type": "float"
        },
        {
         "name": "in_in_BTC_min_median",
         "rawType": "float64",
         "type": "float"
        },
        {
         "name": "in_in_BTC_max_sum",
         "rawType": "float64",
         "type": "float"
        },
        {
         "name": "in_in_BTC_max_mean",
         "rawType": "float64",
         "type": "float"
        },
        {
         "name": "in_in_BTC_max_median",
         "rawType": "float64",
         "type": "float"
        },
        {
         "name": "in_in_BTC_mean_sum",
         "rawType": "float64",
         "type": "float"
        },
        {
         "name": "in_in_BTC_mean_mean",
         "rawType": "float64",
         "type": "float"
        },
        {
         "name": "in_in_BTC_mean_median",
         "rawType": "float64",
         "type": "float"
        },
        {
         "name": "in_in_BTC_median_sum",
         "rawType": "float64",
         "type": "float"
        },
        {
         "name": "in_in_BTC_median_mean",
         "rawType": "float64",
         "type": "float"
        },
        {
         "name": "in_in_BTC_median_median",
         "rawType": "float64",
         "type": "float"
        },
        {
         "name": "in_in_BTC_total_sum",
         "rawType": "float64",
         "type": "float"
        },
        {
         "name": "in_in_BTC_total_mean",
         "rawType": "float64",
         "type": "float"
        },
        {
         "name": "in_in_BTC_total_median",
         "rawType": "float64",
         "type": "float"
        },
        {
         "name": "in_out_BTC_min_sum",
         "rawType": "float64",
         "type": "float"
        },
        {
         "name": "in_out_BTC_min_mean",
         "rawType": "float64",
         "type": "float"
        },
        {
         "name": "in_out_BTC_min_median",
         "rawType": "float64",
         "type": "float"
        },
        {
         "name": "in_out_BTC_max_sum",
         "rawType": "float64",
         "type": "float"
        },
        {
         "name": "in_out_BTC_max_mean",
         "rawType": "float64",
         "type": "float"
        },
        {
         "name": "in_out_BTC_max_median",
         "rawType": "float64",
         "type": "float"
        },
        {
         "name": "in_out_BTC_mean_sum",
         "rawType": "float64",
         "type": "float"
        },
        {
         "name": "in_out_BTC_mean_mean",
         "rawType": "float64",
         "type": "float"
        },
        {
         "name": "in_out_BTC_mean_median",
         "rawType": "float64",
         "type": "float"
        },
        {
         "name": "in_out_BTC_median_sum",
         "rawType": "float64",
         "type": "float"
        },
        {
         "name": "in_out_BTC_median_mean",
         "rawType": "float64",
         "type": "float"
        },
        {
         "name": "in_out_BTC_median_median",
         "rawType": "float64",
         "type": "float"
        },
        {
         "name": "in_out_BTC_total_sum",
         "rawType": "float64",
         "type": "float"
        },
        {
         "name": "in_out_BTC_total_mean",
         "rawType": "float64",
         "type": "float"
        },
        {
         "name": "in_out_BTC_total_median",
         "rawType": "float64",
         "type": "float"
        },
        {
         "name": "out_num",
         "rawType": "int64",
         "type": "integer"
        },
        {
         "name": "out_total_fees",
         "rawType": "float64",
         "type": "float"
        },
        {
         "name": "out_mean_fees",
         "rawType": "float64",
         "type": "float"
        },
        {
         "name": "out_median_fees",
         "rawType": "float64",
         "type": "float"
        },
        {
         "name": "out_total_btc_out",
         "rawType": "float64",
         "type": "float"
        },
        {
         "name": "out_mean_btc_out",
         "rawType": "float64",
         "type": "float"
        },
        {
         "name": "out_median_btc_out",
         "rawType": "float64",
         "type": "float"
        },
        {
         "name": "out_fees_sum",
         "rawType": "float64",
         "type": "float"
        },
        {
         "name": "out_fees_mean",
         "rawType": "float64",
         "type": "float"
        },
        {
         "name": "out_fees_median",
         "rawType": "float64",
         "type": "float"
        },
        {
         "name": "out_size_sum",
         "rawType": "float64",
         "type": "float"
        },
        {
         "name": "out_size_mean",
         "rawType": "float64",
         "type": "float"
        },
        {
         "name": "out_size_median",
         "rawType": "float64",
         "type": "float"
        },
        {
         "name": "out_in_txs_degree_sum",
         "rawType": "float64",
         "type": "float"
        },
        {
         "name": "out_in_txs_degree_mean",
         "rawType": "float64",
         "type": "float"
        },
        {
         "name": "out_in_txs_degree_median",
         "rawType": "float64",
         "type": "float"
        },
        {
         "name": "out_out_txs_degree_sum",
         "rawType": "float64",
         "type": "float"
        },
        {
         "name": "out_out_txs_degree_mean",
         "rawType": "float64",
         "type": "float"
        },
        {
         "name": "out_out_txs_degree_median",
         "rawType": "float64",
         "type": "float"
        },
        {
         "name": "out_num_input_addresses_sum",
         "rawType": "float64",
         "type": "float"
        },
        {
         "name": "out_num_input_addresses_mean",
         "rawType": "float64",
         "type": "float"
        },
        {
         "name": "out_num_input_addresses_median",
         "rawType": "float64",
         "type": "float"
        },
        {
         "name": "out_num_output_addresses_sum",
         "rawType": "float64",
         "type": "float"
        },
        {
         "name": "out_num_output_addresses_mean",
         "rawType": "float64",
         "type": "float"
        },
        {
         "name": "out_num_output_addresses_median",
         "rawType": "float64",
         "type": "float"
        },
        {
         "name": "out_total_BTC_sum",
         "rawType": "float64",
         "type": "float"
        },
        {
         "name": "out_total_BTC_mean",
         "rawType": "float64",
         "type": "float"
        },
        {
         "name": "out_total_BTC_median",
         "rawType": "float64",
         "type": "float"
        },
        {
         "name": "out_in_BTC_min_sum",
         "rawType": "float64",
         "type": "float"
        },
        {
         "name": "out_in_BTC_min_mean",
         "rawType": "float64",
         "type": "float"
        },
        {
         "name": "out_in_BTC_min_median",
         "rawType": "float64",
         "type": "float"
        },
        {
         "name": "out_in_BTC_max_sum",
         "rawType": "float64",
         "type": "float"
        },
        {
         "name": "out_in_BTC_max_mean",
         "rawType": "float64",
         "type": "float"
        },
        {
         "name": "out_in_BTC_max_median",
         "rawType": "float64",
         "type": "float"
        },
        {
         "name": "out_in_BTC_mean_sum",
         "rawType": "float64",
         "type": "float"
        },
        {
         "name": "out_in_BTC_mean_mean",
         "rawType": "float64",
         "type": "float"
        },
        {
         "name": "out_in_BTC_mean_median",
         "rawType": "float64",
         "type": "float"
        },
        {
         "name": "out_in_BTC_median_sum",
         "rawType": "float64",
         "type": "float"
        },
        {
         "name": "out_in_BTC_median_mean",
         "rawType": "float64",
         "type": "float"
        },
        {
         "name": "out_in_BTC_median_median",
         "rawType": "float64",
         "type": "float"
        },
        {
         "name": "out_in_BTC_total_sum",
         "rawType": "float64",
         "type": "float"
        },
        {
         "name": "out_in_BTC_total_mean",
         "rawType": "float64",
         "type": "float"
        },
        {
         "name": "out_in_BTC_total_median",
         "rawType": "float64",
         "type": "float"
        },
        {
         "name": "out_out_BTC_min_sum",
         "rawType": "float64",
         "type": "float"
        },
        {
         "name": "out_out_BTC_min_mean",
         "rawType": "float64",
         "type": "float"
        },
        {
         "name": "out_out_BTC_min_median",
         "rawType": "float64",
         "type": "float"
        },
        {
         "name": "out_out_BTC_max_sum",
         "rawType": "float64",
         "type": "float"
        },
        {
         "name": "out_out_BTC_max_mean",
         "rawType": "float64",
         "type": "float"
        },
        {
         "name": "out_out_BTC_max_median",
         "rawType": "float64",
         "type": "float"
        },
        {
         "name": "out_out_BTC_mean_sum",
         "rawType": "float64",
         "type": "float"
        },
        {
         "name": "out_out_BTC_mean_mean",
         "rawType": "float64",
         "type": "float"
        },
        {
         "name": "out_out_BTC_mean_median",
         "rawType": "float64",
         "type": "float"
        },
        {
         "name": "out_out_BTC_median_sum",
         "rawType": "float64",
         "type": "float"
        },
        {
         "name": "out_out_BTC_median_mean",
         "rawType": "float64",
         "type": "float"
        },
        {
         "name": "out_out_BTC_median_median",
         "rawType": "float64",
         "type": "float"
        },
        {
         "name": "out_out_BTC_total_sum",
         "rawType": "float64",
         "type": "float"
        },
        {
         "name": "out_out_BTC_total_mean",
         "rawType": "float64",
         "type": "float"
        },
        {
         "name": "out_out_BTC_total_median",
         "rawType": "float64",
         "type": "float"
        },
        {
         "name": "class",
         "rawType": "int64",
         "type": "integer"
        }
       ],
       "ref": "efec2611-0c2b-45ee-b88c-2ea215f4a6d7",
       "rows": [
        [
         "0",
         "111112TykSw72ztDN2WJger4cynzWYC5w",
         "25",
         "1",
         "0.16901472",
         "0.00704228",
         "0.00704228",
         "154.36877304",
         "6.43203221",
         "6.43203221",
         "0.16901472",
         "0.00704228",
         "0.00704228",
         "381840.0",
         "15910.0",
         "15910.0",
         "0.0",
         "0.0",
         "0.0",
         "408.0",
         "17.0",
         "17.0",
         "600.0",
         "25.0",
         "25.0",
         "6024.0",
         "251.0",
         "251.0",
         "154.36877304",
         "6.43203221",
         "6.43203221",
         "0.4855101599999999",
         "0.02022959",
         "0.02022959",
         "64.7976",
         "2.6999",
         "2.6999",
         "6.1815115104",
         "0.2575629796",
         "0.2575629796",
         "1.01577336",
         "0.04232389",
         "0.04232389",
         "154.53778776",
         "6.43907449",
         "6.43907449",
         "0.23287584",
         "0.00970316",
         "0.00970316",
         "57.749746079999994",
         "2.40623942",
         "2.40623942",
         "0.6150150320318712",
         "0.0256256263346613",
         "0.0256256263346613",
         "0.31008816",
         "0.01292034",
         "0.01292034",
         "154.36877304",
         "6.43203221",
         "6.43203221",
         "0",
         "0.0",
         "0.0",
         "0.0",
         "0.0",
         "0.0",
         "0.0",
         "0.0",
         "0.0",
         "0.0",
         "0.0",
         "0.0",
         "0.0",
         "0.0",
         "0.0",
         "0.0",
         "0.0",
         "0.0",
         "0.0",
         "0.0",
         "0.0",
         "0.0",
         "0.0",
         "0.0",
         "0.0",
         "0.0",
         "0.0",
         "0.0",
         "0.0",
         "0.0",
         "0.0",
         "0.0",
         "0.0",
         "0.0",
         "0.0",
         "0.0",
         "0.0",
         "0.0",
         "0.0",
         "0.0",
         "0.0",
         "0.0",
         "0.0",
         "0.0",
         "0.0",
         "0.0",
         "0.0",
         "0.0",
         "0.0",
         "0.0",
         "0.0",
         "0.0",
         "0.0",
         "0.0",
         "0.0",
         "0.0",
         "0.0",
         "0.0",
         "2"
        ],
        [
         "1",
         "1111DAYXhoxZx2tsRnzimfozo783x1yC2",
         "25",
         "1",
         "0.00012224",
         "0.00012224",
         "0.00012224",
         "0.0198895",
         "0.0198895",
         "0.0198895",
         "0.00012224",
         "0.00012224",
         "0.00012224",
         "191.0",
         "191.0",
         "191.0",
         "1.0",
         "1.0",
         "1.0",
         "0.0",
         "0.0",
         "0.0",
         "1.0",
         "1.0",
         "1.0",
         "1.0",
         "1.0",
         "1.0",
         "0.0198895",
         "0.0198895",
         "0.0198895",
         "0.02001174",
         "0.02001174",
         "0.02001174",
         "0.02001174",
         "0.02001174",
         "0.02001174",
         "0.02001174",
         "0.02001174",
         "0.02001174",
         "0.02001174",
         "0.02001174",
         "0.02001174",
         "0.02001174",
         "0.02001174",
         "0.02001174",
         "0.0198895",
         "0.0198895",
         "0.0198895",
         "0.0198895",
         "0.0198895",
         "0.0198895",
         "0.0198895",
         "0.0198895",
         "0.0198895",
         "0.0198895",
         "0.0198895",
         "0.0198895",
         "0.0198895",
         "0.0198895",
         "0.0198895",
         "0",
         "0.0",
         "0.0",
         "0.0",
         "0.0",
         "0.0",
         "0.0",
         "0.0",
         "0.0",
         "0.0",
         "0.0",
         "0.0",
         "0.0",
         "0.0",
         "0.0",
         "0.0",
         "0.0",
         "0.0",
         "0.0",
         "0.0",
         "0.0",
         "0.0",
         "0.0",
         "0.0",
         "0.0",
         "0.0",
         "0.0",
         "0.0",
         "0.0",
         "0.0",
         "0.0",
         "0.0",
         "0.0",
         "0.0",
         "0.0",
         "0.0",
         "0.0",
         "0.0",
         "0.0",
         "0.0",
         "0.0",
         "0.0",
         "0.0",
         "0.0",
         "0.0",
         "0.0",
         "0.0",
         "0.0",
         "0.0",
         "0.0",
         "0.0",
         "0.0",
         "0.0",
         "0.0",
         "0.0",
         "0.0",
         "0.0",
         "0.0",
         "3"
        ],
        [
         "2",
         "1111DAYXhoxZx2tsRnzimfozo783x1yC2",
         "29",
         "2",
         "0.00024512",
         "0.00012256",
         "0.00012256",
         "0.15366662",
         "0.07683331",
         "0.07683331",
         "0.00024512",
         "0.00012256",
         "0.00012256",
         "382.0",
         "191.0",
         "191.0",
         "2.0",
         "1.0",
         "1.0",
         "0.0",
         "0.0",
         "0.0",
         "2.0",
         "1.0",
         "1.0",
         "2.0",
         "1.0",
         "1.0",
         "0.15366662",
         "0.07683331",
         "0.07683331",
         "0.15391174",
         "0.07695587",
         "0.07695587",
         "0.15391174",
         "0.07695587",
         "0.07695587",
         "0.15391174",
         "0.07695587",
         "0.07695587",
         "0.15391174",
         "0.07695587",
         "0.07695587",
         "0.15391174",
         "0.07695587",
         "0.07695587",
         "0.15366662",
         "0.07683331",
         "0.07683331",
         "0.15366662",
         "0.07683331",
         "0.07683331",
         "0.15366662",
         "0.07683331",
         "0.07683331",
         "0.15366662",
         "0.07683331",
         "0.07683331",
         "0.15366662",
         "0.07683331",
         "0.07683331",
         "0",
         "0.0",
         "0.0",
         "0.0",
         "0.0",
         "0.0",
         "0.0",
         "0.0",
         "0.0",
         "0.0",
         "0.0",
         "0.0",
         "0.0",
         "0.0",
         "0.0",
         "0.0",
         "0.0",
         "0.0",
         "0.0",
         "0.0",
         "0.0",
         "0.0",
         "0.0",
         "0.0",
         "0.0",
         "0.0",
         "0.0",
         "0.0",
         "0.0",
         "0.0",
         "0.0",
         "0.0",
         "0.0",
         "0.0",
         "0.0",
         "0.0",
         "0.0",
         "0.0",
         "0.0",
         "0.0",
         "0.0",
         "0.0",
         "0.0",
         "0.0",
         "0.0",
         "0.0",
         "0.0",
         "0.0",
         "0.0",
         "0.0",
         "0.0",
         "0.0",
         "0.0",
         "0.0",
         "0.0",
         "0.0",
         "0.0",
         "0.0",
         "3"
        ],
        [
         "3",
         "1111DAYXhoxZx2tsRnzimfozo783x1yC2",
         "39",
         "4",
         "0.0014047999999999",
         "0.0003511999999999",
         "0.00035136",
         "0.16291201",
         "0.0407280025",
         "0.01261722",
         "0.0014047999999999",
         "0.0003511999999999",
         "0.00035136",
         "765.0",
         "191.25",
         "191.0",
         "4.0",
         "1.0",
         "1.0",
         "0.0",
         "0.0",
         "0.0",
         "4.0",
         "1.0",
         "1.0",
         "4.0",
         "1.0",
         "1.0",
         "0.16291201",
         "0.0407280025",
         "0.01261722",
         "0.1643168099999999",
         "0.0410792024999999",
         "0.01296826",
         "0.1643168099999999",
         "0.0410792024999999",
         "0.01296826",
         "0.1643168099999999",
         "0.0410792024999999",
         "0.01296826",
         "0.1643168099999999",
         "0.0410792024999999",
         "0.01296826",
         "0.1643168099999999",
         "0.0410792024999999",
         "0.01296826",
         "0.16291201",
         "0.0407280025",
         "0.01261722",
         "0.16291201",
         "0.0407280025",
         "0.01261722",
         "0.16291201",
         "0.0407280025",
         "0.01261722",
         "0.16291201",
         "0.0407280025",
         "0.01261722",
         "0.16291201",
         "0.0407280025",
         "0.01261722",
         "0",
         "0.0",
         "0.0",
         "0.0",
         "0.0",
         "0.0",
         "0.0",
         "0.0",
         "0.0",
         "0.0",
         "0.0",
         "0.0",
         "0.0",
         "0.0",
         "0.0",
         "0.0",
         "0.0",
         "0.0",
         "0.0",
         "0.0",
         "0.0",
         "0.0",
         "0.0",
         "0.0",
         "0.0",
         "0.0",
         "0.0",
         "0.0",
         "0.0",
         "0.0",
         "0.0",
         "0.0",
         "0.0",
         "0.0",
         "0.0",
         "0.0",
         "0.0",
         "0.0",
         "0.0",
         "0.0",
         "0.0",
         "0.0",
         "0.0",
         "0.0",
         "0.0",
         "0.0",
         "0.0",
         "0.0",
         "0.0",
         "0.0",
         "0.0",
         "0.0",
         "0.0",
         "0.0",
         "0.0",
         "0.0",
         "0.0",
         "0.0",
         "3"
        ],
        [
         "4",
         "1111DAYXhoxZx2tsRnzimfozo783x1yC2",
         "43",
         "6",
         "0.00188864",
         "0.0003147733333333",
         "0.00024192",
         "0.21910042",
         "0.0365167366666666",
         "0.01435218",
         "0.00188864",
         "0.0003147733333333",
         "0.00024192",
         "1147.0",
         "191.16666666666663",
         "191.0",
         "6.0",
         "1.0",
         "1.0",
         "0.0",
         "0.0",
         "0.0",
         "6.0",
         "1.0",
         "1.0",
         "6.0",
         "1.0",
         "1.0",
         "0.21910042",
         "0.0365167366666666",
         "0.01435218",
         "0.2209890599999999",
         "0.0368315099999999",
         "0.01453426",
         "0.2209890599999999",
         "0.0368315099999999",
         "0.01453426",
         "0.2209890599999999",
         "0.0368315099999999",
         "0.01453426",
         "0.2209890599999999",
         "0.0368315099999999",
         "0.01453426",
         "0.2209890599999999",
         "0.0368315099999999",
         "0.01453426",
         "0.21910042",
         "0.0365167366666666",
         "0.01435218",
         "0.21910042",
         "0.0365167366666666",
         "0.01435218",
         "0.21910042",
         "0.0365167366666666",
         "0.01435218",
         "0.21910042",
         "0.0365167366666666",
         "0.01435218",
         "0.21910042",
         "0.0365167366666666",
         "0.01435218",
         "0",
         "0.0",
         "0.0",
         "0.0",
         "0.0",
         "0.0",
         "0.0",
         "0.0",
         "0.0",
         "0.0",
         "0.0",
         "0.0",
         "0.0",
         "0.0",
         "0.0",
         "0.0",
         "0.0",
         "0.0",
         "0.0",
         "0.0",
         "0.0",
         "0.0",
         "0.0",
         "0.0",
         "0.0",
         "0.0",
         "0.0",
         "0.0",
         "0.0",
         "0.0",
         "0.0",
         "0.0",
         "0.0",
         "0.0",
         "0.0",
         "0.0",
         "0.0",
         "0.0",
         "0.0",
         "0.0",
         "0.0",
         "0.0",
         "0.0",
         "0.0",
         "0.0",
         "0.0",
         "0.0",
         "0.0",
         "0.0",
         "0.0",
         "0.0",
         "0.0",
         "0.0",
         "0.0",
         "0.0",
         "0.0",
         "0.0",
         "0.0",
         "3"
        ]
       ],
       "shape": {
        "columns": 119,
        "rows": 5
       }
      },
      "text/html": [
       "<div>\n",
       "<style scoped>\n",
       "    .dataframe tbody tr th:only-of-type {\n",
       "        vertical-align: middle;\n",
       "    }\n",
       "\n",
       "    .dataframe tbody tr th {\n",
       "        vertical-align: top;\n",
       "    }\n",
       "\n",
       "    .dataframe thead th {\n",
       "        text-align: right;\n",
       "    }\n",
       "</style>\n",
       "<table border=\"1\" class=\"dataframe\">\n",
       "  <thead>\n",
       "    <tr style=\"text-align: right;\">\n",
       "      <th></th>\n",
       "      <th>address</th>\n",
       "      <th>Time step</th>\n",
       "      <th>in_num</th>\n",
       "      <th>in_total_fees</th>\n",
       "      <th>in_mean_fees</th>\n",
       "      <th>in_median_fees</th>\n",
       "      <th>in_total_btc_in</th>\n",
       "      <th>in_mean_btc_in</th>\n",
       "      <th>in_median_btc_in</th>\n",
       "      <th>in_fees_sum</th>\n",
       "      <th>...</th>\n",
       "      <th>out_out_BTC_mean_sum</th>\n",
       "      <th>out_out_BTC_mean_mean</th>\n",
       "      <th>out_out_BTC_mean_median</th>\n",
       "      <th>out_out_BTC_median_sum</th>\n",
       "      <th>out_out_BTC_median_mean</th>\n",
       "      <th>out_out_BTC_median_median</th>\n",
       "      <th>out_out_BTC_total_sum</th>\n",
       "      <th>out_out_BTC_total_mean</th>\n",
       "      <th>out_out_BTC_total_median</th>\n",
       "      <th>class</th>\n",
       "    </tr>\n",
       "  </thead>\n",
       "  <tbody>\n",
       "    <tr>\n",
       "      <th>0</th>\n",
       "      <td>111112TykSw72ztDN2WJger4cynzWYC5w</td>\n",
       "      <td>25</td>\n",
       "      <td>1</td>\n",
       "      <td>0.169015</td>\n",
       "      <td>0.007042</td>\n",
       "      <td>0.007042</td>\n",
       "      <td>154.368773</td>\n",
       "      <td>6.432032</td>\n",
       "      <td>6.432032</td>\n",
       "      <td>0.169015</td>\n",
       "      <td>...</td>\n",
       "      <td>0.0</td>\n",
       "      <td>0.0</td>\n",
       "      <td>0.0</td>\n",
       "      <td>0.0</td>\n",
       "      <td>0.0</td>\n",
       "      <td>0.0</td>\n",
       "      <td>0.0</td>\n",
       "      <td>0.0</td>\n",
       "      <td>0.0</td>\n",
       "      <td>2</td>\n",
       "    </tr>\n",
       "    <tr>\n",
       "      <th>1</th>\n",
       "      <td>1111DAYXhoxZx2tsRnzimfozo783x1yC2</td>\n",
       "      <td>25</td>\n",
       "      <td>1</td>\n",
       "      <td>0.000122</td>\n",
       "      <td>0.000122</td>\n",
       "      <td>0.000122</td>\n",
       "      <td>0.019890</td>\n",
       "      <td>0.019890</td>\n",
       "      <td>0.019890</td>\n",
       "      <td>0.000122</td>\n",
       "      <td>...</td>\n",
       "      <td>0.0</td>\n",
       "      <td>0.0</td>\n",
       "      <td>0.0</td>\n",
       "      <td>0.0</td>\n",
       "      <td>0.0</td>\n",
       "      <td>0.0</td>\n",
       "      <td>0.0</td>\n",
       "      <td>0.0</td>\n",
       "      <td>0.0</td>\n",
       "      <td>3</td>\n",
       "    </tr>\n",
       "    <tr>\n",
       "      <th>2</th>\n",
       "      <td>1111DAYXhoxZx2tsRnzimfozo783x1yC2</td>\n",
       "      <td>29</td>\n",
       "      <td>2</td>\n",
       "      <td>0.000245</td>\n",
       "      <td>0.000123</td>\n",
       "      <td>0.000123</td>\n",
       "      <td>0.153667</td>\n",
       "      <td>0.076833</td>\n",
       "      <td>0.076833</td>\n",
       "      <td>0.000245</td>\n",
       "      <td>...</td>\n",
       "      <td>0.0</td>\n",
       "      <td>0.0</td>\n",
       "      <td>0.0</td>\n",
       "      <td>0.0</td>\n",
       "      <td>0.0</td>\n",
       "      <td>0.0</td>\n",
       "      <td>0.0</td>\n",
       "      <td>0.0</td>\n",
       "      <td>0.0</td>\n",
       "      <td>3</td>\n",
       "    </tr>\n",
       "    <tr>\n",
       "      <th>3</th>\n",
       "      <td>1111DAYXhoxZx2tsRnzimfozo783x1yC2</td>\n",
       "      <td>39</td>\n",
       "      <td>4</td>\n",
       "      <td>0.001405</td>\n",
       "      <td>0.000351</td>\n",
       "      <td>0.000351</td>\n",
       "      <td>0.162912</td>\n",
       "      <td>0.040728</td>\n",
       "      <td>0.012617</td>\n",
       "      <td>0.001405</td>\n",
       "      <td>...</td>\n",
       "      <td>0.0</td>\n",
       "      <td>0.0</td>\n",
       "      <td>0.0</td>\n",
       "      <td>0.0</td>\n",
       "      <td>0.0</td>\n",
       "      <td>0.0</td>\n",
       "      <td>0.0</td>\n",
       "      <td>0.0</td>\n",
       "      <td>0.0</td>\n",
       "      <td>3</td>\n",
       "    </tr>\n",
       "    <tr>\n",
       "      <th>4</th>\n",
       "      <td>1111DAYXhoxZx2tsRnzimfozo783x1yC2</td>\n",
       "      <td>43</td>\n",
       "      <td>6</td>\n",
       "      <td>0.001889</td>\n",
       "      <td>0.000315</td>\n",
       "      <td>0.000242</td>\n",
       "      <td>0.219100</td>\n",
       "      <td>0.036517</td>\n",
       "      <td>0.014352</td>\n",
       "      <td>0.001889</td>\n",
       "      <td>...</td>\n",
       "      <td>0.0</td>\n",
       "      <td>0.0</td>\n",
       "      <td>0.0</td>\n",
       "      <td>0.0</td>\n",
       "      <td>0.0</td>\n",
       "      <td>0.0</td>\n",
       "      <td>0.0</td>\n",
       "      <td>0.0</td>\n",
       "      <td>0.0</td>\n",
       "      <td>3</td>\n",
       "    </tr>\n",
       "  </tbody>\n",
       "</table>\n",
       "<p>5 rows × 119 columns</p>\n",
       "</div>"
      ],
      "text/plain": [
       "                             address  Time step  in_num  in_total_fees  \\\n",
       "0  111112TykSw72ztDN2WJger4cynzWYC5w         25       1       0.169015   \n",
       "1  1111DAYXhoxZx2tsRnzimfozo783x1yC2         25       1       0.000122   \n",
       "2  1111DAYXhoxZx2tsRnzimfozo783x1yC2         29       2       0.000245   \n",
       "3  1111DAYXhoxZx2tsRnzimfozo783x1yC2         39       4       0.001405   \n",
       "4  1111DAYXhoxZx2tsRnzimfozo783x1yC2         43       6       0.001889   \n",
       "\n",
       "   in_mean_fees  in_median_fees  in_total_btc_in  in_mean_btc_in  \\\n",
       "0      0.007042        0.007042       154.368773        6.432032   \n",
       "1      0.000122        0.000122         0.019890        0.019890   \n",
       "2      0.000123        0.000123         0.153667        0.076833   \n",
       "3      0.000351        0.000351         0.162912        0.040728   \n",
       "4      0.000315        0.000242         0.219100        0.036517   \n",
       "\n",
       "   in_median_btc_in  in_fees_sum  ...  out_out_BTC_mean_sum  \\\n",
       "0          6.432032     0.169015  ...                   0.0   \n",
       "1          0.019890     0.000122  ...                   0.0   \n",
       "2          0.076833     0.000245  ...                   0.0   \n",
       "3          0.012617     0.001405  ...                   0.0   \n",
       "4          0.014352     0.001889  ...                   0.0   \n",
       "\n",
       "   out_out_BTC_mean_mean  out_out_BTC_mean_median  out_out_BTC_median_sum  \\\n",
       "0                    0.0                      0.0                     0.0   \n",
       "1                    0.0                      0.0                     0.0   \n",
       "2                    0.0                      0.0                     0.0   \n",
       "3                    0.0                      0.0                     0.0   \n",
       "4                    0.0                      0.0                     0.0   \n",
       "\n",
       "   out_out_BTC_median_mean  out_out_BTC_median_median  out_out_BTC_total_sum  \\\n",
       "0                      0.0                        0.0                    0.0   \n",
       "1                      0.0                        0.0                    0.0   \n",
       "2                      0.0                        0.0                    0.0   \n",
       "3                      0.0                        0.0                    0.0   \n",
       "4                      0.0                        0.0                    0.0   \n",
       "\n",
       "   out_out_BTC_total_mean  out_out_BTC_total_median  class  \n",
       "0                     0.0                       0.0      2  \n",
       "1                     0.0                       0.0      3  \n",
       "2                     0.0                       0.0      3  \n",
       "3                     0.0                       0.0      3  \n",
       "4                     0.0                       0.0      3  \n",
       "\n",
       "[5 rows x 119 columns]"
      ]
     },
     "execution_count": 16,
     "metadata": {},
     "output_type": "execute_result"
    }
   ],
   "source": [
    "nodes_with_classes.head(5)"
   ]
  },
  {
   "cell_type": "code",
   "execution_count": 17,
   "metadata": {},
   "outputs": [],
   "source": [
    "def build_future_illicit_labels(\n",
    "    nodes_df,\n",
    "    edges_df,\n",
    "    time_horizon=3,\n",
    "    min_timestep=1,\n",
    "    max_timestep=46\n",
    "):\n",
    "    \"\"\"\n",
    "    For each wallet at each timestep, determine if it will transact with a NEW illicit node.\n",
    "    \n",
    "    NEW illicit node = node that either:\n",
    "    1. Doesn't exist yet at timestep t, OR\n",
    "    2. Exists but isn't marked as illicit yet at timestep t\n",
    "    \n",
    "    Args:\n",
    "        nodes_df: DataFrame with columns ['address', 'Time step', 'class', ...features]\n",
    "        edges_df: DataFrame with columns ['Time step', 'input_address', 'output_address']\n",
    "        time_horizon: How many timesteps into the future to look\n",
    "        min_timestep: First timestep to consider\n",
    "        max_timestep: Last timestep to consider (must leave room for time_horizon)\n",
    "    \n",
    "    Returns:\n",
    "        DataFrame with columns ['address', 'timestep', 'label', ...features]\n",
    "    \"\"\"\n",
    "    print(f\"Building labels with time_horizon={time_horizon}...\")\n",
    "    \n",
    "    # get all illicit addresses (across all time)\n",
    "    all_illicit = set(nodes_df[nodes_df['class'] == 1]['address'].values)\n",
    "    print(f\"Total illicit addresses: {len(all_illicit):,}\")\n",
    "    \n",
    "    # pre-group edges by timestep for faster lookup\n",
    "    print(\"Grouping edges by timestep...\")\n",
    "    edges_by_time = {}\n",
    "    for t in edges_df['Time step'].unique():\n",
    "        edges_by_time[t] = edges_df[edges_df['Time step'] == t]\n",
    "    \n",
    "    # pre-group nodes by timestep\n",
    "    print(\"Grouping nodes by timestep...\")\n",
    "    nodes_by_time = {}\n",
    "    for t in nodes_df['Time step'].unique():\n",
    "        nodes_by_time[t] = nodes_df[nodes_df['Time step'] == t]\n",
    "    \n",
    "    # for each timestep, get addresses that exist and are already illicit\n",
    "    print(\"Computing existing illicit nodes at each timestep...\")\n",
    "    existing_illicit_at_t = {}\n",
    "    for t in range(min_timestep, max_timestep + 1):\n",
    "        nodes_up_to_t = nodes_df[nodes_df['Time step'] <= t]\n",
    "        existing_addresses = set(nodes_up_to_t['address'].values)\n",
    "        existing_illicit_at_t[t] = existing_addresses & all_illicit\n",
    "    \n",
    "    # build dataset\n",
    "    data_rows = []\n",
    "    valid_timesteps = [t for t in range(min_timestep, max_timestep + 1) if t + time_horizon <= nodes_df['Time step'].max()]\n",
    "    \n",
    "    print(f\"\\nProcessing timesteps {min(valid_timesteps)} to {max(valid_timesteps)}...\")\n",
    "    \n",
    "    for t in tqdm(valid_timesteps, desc=\"Timesteps\"):\n",
    "\n",
    "        # get adresses existing at time t\n",
    "        addresses_at_t = nodes_df[nodes_df['Time step'] == t]['address'].unique()\n",
    "        \n",
    "        # get nodes up to time t for feature lookup\n",
    "        nodes_at_t = nodes_df[nodes_df['Time step'] <= t]\n",
    "        \n",
    "        # Get illicit nodes that are NEW\n",
    "        future_new_illicit = all_illicit - existing_illicit_at_t[t]\n",
    "        \n",
    "        # Find which addresses will transact with NEW illicit in the future\n",
    "        future_illicit_transactors = set()\n",
    "        \n",
    "        for future_t in range(t + 1, t + time_horizon + 1):\n",
    "            if future_t not in edges_by_time:\n",
    "                continue\n",
    "            \n",
    "            edges_future = edges_by_time[future_t]\n",
    "            \n",
    "            # find edges to/from NEW illicit nodes\n",
    "            to_new_illicit = edges_future[edges_future['output_address'].isin(future_new_illicit)]\n",
    "            from_new_illicit = edges_future[edges_future['input_address'].isin(future_new_illicit)]\n",
    "            \n",
    "            # Collect addresses that transact with NEW illicit\n",
    "            future_illicit_transactors.update(to_new_illicit['input_address'].values)\n",
    "            future_illicit_transactors.update(from_new_illicit['output_address'].values)\n",
    "        \n",
    "        # get latest features for each address at time t\n",
    "        latest_features = nodes_at_t.sort_values('Time step').groupby('address').last()\n",
    "        \n",
    "        # Create rows for each address\n",
    "        for addr in addresses_at_t:\n",
    "            if addr not in latest_features.index:\n",
    "                continue\n",
    "            \n",
    "            # skip if already illicit or has transacted with illicit\n",
    "            if addr in existing_illicit_at_t[t]:\n",
    "                continue\n",
    "            \n",
    "            # Label: 1 if will transact with NEW illicit, 0 otherwise\n",
    "            label = 1 if addr in future_illicit_transactors else 0\n",
    "            \n",
    "            # get features\n",
    "            features = latest_features.loc[addr].to_dict()\n",
    "            features['address'] = addr\n",
    "            features['timestep'] = t\n",
    "            features['label'] = label\n",
    "            \n",
    "            data_rows.append(features)\n",
    "    \n",
    "    df = pd.DataFrame(data_rows)\n",
    "    print(f\"\\nCreated dataset with {len(df):,} samples\")\n",
    "    print(f\"Positive samples: {df['label'].sum():,} ({df['label'].mean()*100:.2f}%)\")\n",
    "    print(f\"Negative samples: {(1-df['label']).sum():,} ({(1-df['label'].mean())*100:.2f}%)\")\n",
    "    \n",
    "    return df"
   ]
  },
  {
   "cell_type": "code",
   "execution_count": 18,
   "metadata": {},
   "outputs": [
    {
     "name": "stdout",
     "output_type": "stream",
     "text": [
      "Building labels with time_horizon=3...\n",
      "Total illicit addresses: 14,266\n",
      "Grouping edges by timestep...\n",
      "Grouping nodes by timestep...\n",
      "Computing existing illicit nodes at each timestep...\n",
      "\n",
      "Processing timesteps 1 to 46...\n"
     ]
    },
    {
     "name": "stderr",
     "output_type": "stream",
     "text": [
      "Timesteps: 100%|██████████| 46/46 [01:13<00:00,  1.61s/it]\n"
     ]
    },
    {
     "name": "stdout",
     "output_type": "stream",
     "text": [
      "\n",
      "Created dataset with 855,220 samples\n",
      "Positive samples: 339 (0.04%)\n",
      "Negative samples: 854,881 (99.96%)\n"
     ]
    }
   ],
   "source": [
    "TIME_HORIZON = 3\n",
    "MIN_TIMESTEP = 1\n",
    "MAX_TIMESTEP = 46\n",
    "\n",
    "df = build_future_illicit_labels(\n",
    "    nodes_with_classes,\n",
    "    edges_with_edge_labels,\n",
    "    time_horizon=TIME_HORIZON,\n",
    "    min_timestep=MIN_TIMESTEP,\n",
    "    max_timestep=MAX_TIMESTEP\n",
    ")"
   ]
  },
  {
   "cell_type": "code",
   "execution_count": 19,
   "metadata": {},
   "outputs": [],
   "source": [
    "def balanced_sample(df, label_col='label', random_state=42):\n",
    "    positive = df[df[label_col] == 1]\n",
    "    negative = df[df[label_col] == 0]\n",
    "    \n",
    "    n_positive = len(positive)\n",
    "    n_negative = len(negative)\n",
    "    \n",
    "    print(f\"Original: {n_positive:,} positive, {n_negative:,} negative\")\n",
    "    \n",
    "    # Undersample majority class\n",
    "    if n_positive < n_negative:\n",
    "        negative_sampled = negative.sample(n=n_positive, random_state=random_state)\n",
    "        balanced = pd.concat([positive, negative_sampled])\n",
    "    else:\n",
    "        positive_sampled = positive.sample(n=n_negative, random_state=random_state)\n",
    "        balanced = pd.concat([positive_sampled, negative])\n",
    "    \n",
    "\n",
    "    balanced = balanced.sample(frac=1, random_state=random_state).reset_index(drop=True)\n",
    "    \n",
    "    print(f\"Balanced: {len(balanced):,} samples ({balanced[label_col].mean()*100:.1f}% positive)\")\n",
    "    \n",
    "    return balanced\n",
    "\n"
   ]
  },
  {
   "cell_type": "code",
   "execution_count": 20,
   "metadata": {},
   "outputs": [
    {
     "data": {
      "application/vnd.microsoft.datawrangler.viewer.v0+json": {
       "columns": [
        {
         "name": "index",
         "rawType": "int64",
         "type": "integer"
        },
        {
         "name": "Time step",
         "rawType": "float64",
         "type": "float"
        },
        {
         "name": "in_num",
         "rawType": "float64",
         "type": "float"
        },
        {
         "name": "in_total_fees",
         "rawType": "float64",
         "type": "float"
        },
        {
         "name": "in_mean_fees",
         "rawType": "float64",
         "type": "float"
        },
        {
         "name": "in_median_fees",
         "rawType": "float64",
         "type": "float"
        },
        {
         "name": "in_total_btc_in",
         "rawType": "float64",
         "type": "float"
        },
        {
         "name": "in_mean_btc_in",
         "rawType": "float64",
         "type": "float"
        },
        {
         "name": "in_median_btc_in",
         "rawType": "float64",
         "type": "float"
        },
        {
         "name": "in_fees_sum",
         "rawType": "float64",
         "type": "float"
        },
        {
         "name": "in_fees_mean",
         "rawType": "float64",
         "type": "float"
        },
        {
         "name": "in_fees_median",
         "rawType": "float64",
         "type": "float"
        },
        {
         "name": "in_size_sum",
         "rawType": "float64",
         "type": "float"
        },
        {
         "name": "in_size_mean",
         "rawType": "float64",
         "type": "float"
        },
        {
         "name": "in_size_median",
         "rawType": "float64",
         "type": "float"
        },
        {
         "name": "in_in_txs_degree_sum",
         "rawType": "float64",
         "type": "float"
        },
        {
         "name": "in_in_txs_degree_mean",
         "rawType": "float64",
         "type": "float"
        },
        {
         "name": "in_in_txs_degree_median",
         "rawType": "float64",
         "type": "float"
        },
        {
         "name": "in_out_txs_degree_sum",
         "rawType": "float64",
         "type": "float"
        },
        {
         "name": "in_out_txs_degree_mean",
         "rawType": "float64",
         "type": "float"
        },
        {
         "name": "in_out_txs_degree_median",
         "rawType": "float64",
         "type": "float"
        },
        {
         "name": "in_num_input_addresses_sum",
         "rawType": "float64",
         "type": "float"
        },
        {
         "name": "in_num_input_addresses_mean",
         "rawType": "float64",
         "type": "float"
        },
        {
         "name": "in_num_input_addresses_median",
         "rawType": "float64",
         "type": "float"
        },
        {
         "name": "in_num_output_addresses_sum",
         "rawType": "float64",
         "type": "float"
        },
        {
         "name": "in_num_output_addresses_mean",
         "rawType": "float64",
         "type": "float"
        },
        {
         "name": "in_num_output_addresses_median",
         "rawType": "float64",
         "type": "float"
        },
        {
         "name": "in_total_BTC_sum",
         "rawType": "float64",
         "type": "float"
        },
        {
         "name": "in_total_BTC_mean",
         "rawType": "float64",
         "type": "float"
        },
        {
         "name": "in_total_BTC_median",
         "rawType": "float64",
         "type": "float"
        },
        {
         "name": "in_in_BTC_min_sum",
         "rawType": "float64",
         "type": "float"
        },
        {
         "name": "in_in_BTC_min_mean",
         "rawType": "float64",
         "type": "float"
        },
        {
         "name": "in_in_BTC_min_median",
         "rawType": "float64",
         "type": "float"
        },
        {
         "name": "in_in_BTC_max_sum",
         "rawType": "float64",
         "type": "float"
        },
        {
         "name": "in_in_BTC_max_mean",
         "rawType": "float64",
         "type": "float"
        },
        {
         "name": "in_in_BTC_max_median",
         "rawType": "float64",
         "type": "float"
        },
        {
         "name": "in_in_BTC_mean_sum",
         "rawType": "float64",
         "type": "float"
        },
        {
         "name": "in_in_BTC_mean_mean",
         "rawType": "float64",
         "type": "float"
        },
        {
         "name": "in_in_BTC_mean_median",
         "rawType": "float64",
         "type": "float"
        },
        {
         "name": "in_in_BTC_median_sum",
         "rawType": "float64",
         "type": "float"
        },
        {
         "name": "in_in_BTC_median_mean",
         "rawType": "float64",
         "type": "float"
        },
        {
         "name": "in_in_BTC_median_median",
         "rawType": "float64",
         "type": "float"
        },
        {
         "name": "in_in_BTC_total_sum",
         "rawType": "float64",
         "type": "float"
        },
        {
         "name": "in_in_BTC_total_mean",
         "rawType": "float64",
         "type": "float"
        },
        {
         "name": "in_in_BTC_total_median",
         "rawType": "float64",
         "type": "float"
        },
        {
         "name": "in_out_BTC_min_sum",
         "rawType": "float64",
         "type": "float"
        },
        {
         "name": "in_out_BTC_min_mean",
         "rawType": "float64",
         "type": "float"
        },
        {
         "name": "in_out_BTC_min_median",
         "rawType": "float64",
         "type": "float"
        },
        {
         "name": "in_out_BTC_max_sum",
         "rawType": "float64",
         "type": "float"
        },
        {
         "name": "in_out_BTC_max_mean",
         "rawType": "float64",
         "type": "float"
        },
        {
         "name": "in_out_BTC_max_median",
         "rawType": "float64",
         "type": "float"
        },
        {
         "name": "in_out_BTC_mean_sum",
         "rawType": "float64",
         "type": "float"
        },
        {
         "name": "in_out_BTC_mean_mean",
         "rawType": "float64",
         "type": "float"
        },
        {
         "name": "in_out_BTC_mean_median",
         "rawType": "float64",
         "type": "float"
        },
        {
         "name": "in_out_BTC_median_sum",
         "rawType": "float64",
         "type": "float"
        },
        {
         "name": "in_out_BTC_median_mean",
         "rawType": "float64",
         "type": "float"
        },
        {
         "name": "in_out_BTC_median_median",
         "rawType": "float64",
         "type": "float"
        },
        {
         "name": "in_out_BTC_total_sum",
         "rawType": "float64",
         "type": "float"
        },
        {
         "name": "in_out_BTC_total_mean",
         "rawType": "float64",
         "type": "float"
        },
        {
         "name": "in_out_BTC_total_median",
         "rawType": "float64",
         "type": "float"
        },
        {
         "name": "out_num",
         "rawType": "float64",
         "type": "float"
        },
        {
         "name": "out_total_fees",
         "rawType": "float64",
         "type": "float"
        },
        {
         "name": "out_mean_fees",
         "rawType": "float64",
         "type": "float"
        },
        {
         "name": "out_median_fees",
         "rawType": "float64",
         "type": "float"
        },
        {
         "name": "out_total_btc_out",
         "rawType": "float64",
         "type": "float"
        },
        {
         "name": "out_mean_btc_out",
         "rawType": "float64",
         "type": "float"
        },
        {
         "name": "out_median_btc_out",
         "rawType": "float64",
         "type": "float"
        },
        {
         "name": "out_fees_sum",
         "rawType": "float64",
         "type": "float"
        },
        {
         "name": "out_fees_mean",
         "rawType": "float64",
         "type": "float"
        },
        {
         "name": "out_fees_median",
         "rawType": "float64",
         "type": "float"
        },
        {
         "name": "out_size_sum",
         "rawType": "float64",
         "type": "float"
        },
        {
         "name": "out_size_mean",
         "rawType": "float64",
         "type": "float"
        },
        {
         "name": "out_size_median",
         "rawType": "float64",
         "type": "float"
        },
        {
         "name": "out_in_txs_degree_sum",
         "rawType": "float64",
         "type": "float"
        },
        {
         "name": "out_in_txs_degree_mean",
         "rawType": "float64",
         "type": "float"
        },
        {
         "name": "out_in_txs_degree_median",
         "rawType": "float64",
         "type": "float"
        },
        {
         "name": "out_out_txs_degree_sum",
         "rawType": "float64",
         "type": "float"
        },
        {
         "name": "out_out_txs_degree_mean",
         "rawType": "float64",
         "type": "float"
        },
        {
         "name": "out_out_txs_degree_median",
         "rawType": "float64",
         "type": "float"
        },
        {
         "name": "out_num_input_addresses_sum",
         "rawType": "float64",
         "type": "float"
        },
        {
         "name": "out_num_input_addresses_mean",
         "rawType": "float64",
         "type": "float"
        },
        {
         "name": "out_num_input_addresses_median",
         "rawType": "float64",
         "type": "float"
        },
        {
         "name": "out_num_output_addresses_sum",
         "rawType": "float64",
         "type": "float"
        },
        {
         "name": "out_num_output_addresses_mean",
         "rawType": "float64",
         "type": "float"
        },
        {
         "name": "out_num_output_addresses_median",
         "rawType": "float64",
         "type": "float"
        },
        {
         "name": "out_total_BTC_sum",
         "rawType": "float64",
         "type": "float"
        },
        {
         "name": "out_total_BTC_mean",
         "rawType": "float64",
         "type": "float"
        },
        {
         "name": "out_total_BTC_median",
         "rawType": "float64",
         "type": "float"
        },
        {
         "name": "out_in_BTC_min_sum",
         "rawType": "float64",
         "type": "float"
        },
        {
         "name": "out_in_BTC_min_mean",
         "rawType": "float64",
         "type": "float"
        },
        {
         "name": "out_in_BTC_min_median",
         "rawType": "float64",
         "type": "float"
        },
        {
         "name": "out_in_BTC_max_sum",
         "rawType": "float64",
         "type": "float"
        },
        {
         "name": "out_in_BTC_max_mean",
         "rawType": "float64",
         "type": "float"
        },
        {
         "name": "out_in_BTC_max_median",
         "rawType": "float64",
         "type": "float"
        },
        {
         "name": "out_in_BTC_mean_sum",
         "rawType": "float64",
         "type": "float"
        },
        {
         "name": "out_in_BTC_mean_mean",
         "rawType": "float64",
         "type": "float"
        },
        {
         "name": "out_in_BTC_mean_median",
         "rawType": "float64",
         "type": "float"
        },
        {
         "name": "out_in_BTC_median_sum",
         "rawType": "float64",
         "type": "float"
        },
        {
         "name": "out_in_BTC_median_mean",
         "rawType": "float64",
         "type": "float"
        },
        {
         "name": "out_in_BTC_median_median",
         "rawType": "float64",
         "type": "float"
        },
        {
         "name": "out_in_BTC_total_sum",
         "rawType": "float64",
         "type": "float"
        },
        {
         "name": "out_in_BTC_total_mean",
         "rawType": "float64",
         "type": "float"
        },
        {
         "name": "out_in_BTC_total_median",
         "rawType": "float64",
         "type": "float"
        },
        {
         "name": "out_out_BTC_min_sum",
         "rawType": "float64",
         "type": "float"
        },
        {
         "name": "out_out_BTC_min_mean",
         "rawType": "float64",
         "type": "float"
        },
        {
         "name": "out_out_BTC_min_median",
         "rawType": "float64",
         "type": "float"
        },
        {
         "name": "out_out_BTC_max_sum",
         "rawType": "float64",
         "type": "float"
        },
        {
         "name": "out_out_BTC_max_mean",
         "rawType": "float64",
         "type": "float"
        },
        {
         "name": "out_out_BTC_max_median",
         "rawType": "float64",
         "type": "float"
        },
        {
         "name": "out_out_BTC_mean_sum",
         "rawType": "float64",
         "type": "float"
        },
        {
         "name": "out_out_BTC_mean_mean",
         "rawType": "float64",
         "type": "float"
        },
        {
         "name": "out_out_BTC_mean_median",
         "rawType": "float64",
         "type": "float"
        },
        {
         "name": "out_out_BTC_median_sum",
         "rawType": "float64",
         "type": "float"
        },
        {
         "name": "out_out_BTC_median_mean",
         "rawType": "float64",
         "type": "float"
        },
        {
         "name": "out_out_BTC_median_median",
         "rawType": "float64",
         "type": "float"
        },
        {
         "name": "out_out_BTC_total_sum",
         "rawType": "float64",
         "type": "float"
        },
        {
         "name": "out_out_BTC_total_mean",
         "rawType": "float64",
         "type": "float"
        },
        {
         "name": "out_out_BTC_total_median",
         "rawType": "float64",
         "type": "float"
        },
        {
         "name": "class",
         "rawType": "float64",
         "type": "float"
        },
        {
         "name": "address",
         "rawType": "object",
         "type": "string"
        },
        {
         "name": "timestep",
         "rawType": "int64",
         "type": "integer"
        },
        {
         "name": "label",
         "rawType": "int64",
         "type": "integer"
        }
       ],
       "ref": "7d32fa9d-0e27-4361-b204-9938fa63f0ca",
       "rows": [
        [
         "0",
         "1.0",
         "1.0",
         "0.0",
         "0.0",
         "0.0",
         "852.16467964",
         "852.16467964",
         "852.16467964",
         "0.0",
         "0.0",
         "0.0",
         "445268.0",
         "445268.0",
         "445268.0",
         "1.0",
         "1.0",
         "1.0",
         "288.0",
         "288.0",
         "288.0",
         "1.0",
         "1.0",
         "1.0",
         "13107.0",
         "13107.0",
         "13107.0",
         "852.16467964",
         "852.16467964",
         "852.16467964",
         "852.16467964",
         "852.16467964",
         "852.16467964",
         "852.16467964",
         "852.16467964",
         "852.16467964",
         "852.16467964",
         "852.16467964",
         "852.16467964",
         "852.16467964",
         "852.16467964",
         "852.16467964",
         "852.16467964",
         "852.16467964",
         "852.16467964",
         "1.3e-07",
         "1.3e-07",
         "1.3e-07",
         "41.26403571",
         "41.26403571",
         "41.26403571",
         "0.0650159975310902",
         "0.0650159975310902",
         "0.0650159975310902",
         "0.00044065",
         "0.00044065",
         "0.00044065",
         "852.16467964",
         "852.16467964",
         "852.16467964",
         "0.0",
         "0.0",
         "0.0",
         "0.0",
         "0.0",
         "0.0",
         "0.0",
         "0.0",
         "0.0",
         "0.0",
         "0.0",
         "0.0",
         "0.0",
         "0.0",
         "0.0",
         "0.0",
         "0.0",
         "0.0",
         "0.0",
         "0.0",
         "0.0",
         "0.0",
         "0.0",
         "0.0",
         "0.0",
         "0.0",
         "0.0",
         "0.0",
         "0.0",
         "0.0",
         "0.0",
         "0.0",
         "0.0",
         "0.0",
         "0.0",
         "0.0",
         "0.0",
         "0.0",
         "0.0",
         "0.0",
         "0.0",
         "0.0",
         "0.0",
         "0.0",
         "0.0",
         "0.0",
         "0.0",
         "0.0",
         "0.0",
         "0.0",
         "0.0",
         "0.0",
         "0.0",
         "0.0",
         "0.0",
         "0.0",
         "0.0",
         "0.0",
         "2.0",
         "1125gA55bMKdCM5zuQGb2DTU1qMPnnGAcT",
         "1",
         "0"
        ],
        [
         "1",
         "1.0",
         "1.0",
         "0.0001",
         "0.0001",
         "0.0001",
         "1.15437475",
         "1.15437475",
         "1.15437475",
         "0.0001",
         "0.0001",
         "0.0001",
         "224.0",
         "224.0",
         "224.0",
         "1.0",
         "1.0",
         "1.0",
         "2.0",
         "2.0",
         "2.0",
         "1.0",
         "1.0",
         "1.0",
         "2.0",
         "2.0",
         "2.0",
         "1.15437475",
         "1.15437475",
         "1.15437475",
         "1.15447475",
         "1.15447475",
         "1.15447475",
         "1.15447475",
         "1.15447475",
         "1.15447475",
         "1.15447475",
         "1.15447475",
         "1.15447475",
         "1.15447475",
         "1.15447475",
         "1.15447475",
         "1.15447475",
         "1.15447475",
         "1.15447475",
         "0.00226574",
         "0.00226574",
         "0.00226574",
         "1.15210901",
         "1.15210901",
         "1.15210901",
         "0.5771873750000001",
         "0.5771873750000001",
         "0.5771873750000001",
         "0.5771873750000001",
         "0.5771873750000001",
         "0.5771873750000001",
         "1.15437475",
         "1.15437475",
         "1.15437475",
         "1.0",
         "0.0084",
         "0.0084",
         "0.0084",
         "53.283543550000005",
         "53.283543550000005",
         "53.283543550000005",
         "0.0084",
         "0.0084",
         "0.0084",
         "24806.0",
         "24806.0",
         "24806.0",
         "160.0",
         "160.0",
         "160.0",
         "1.0",
         "1.0",
         "1.0",
         "168.0",
         "168.0",
         "168.0",
         "1.0",
         "1.0",
         "1.0",
         "53.27514355",
         "53.27514355",
         "53.27514355",
         "0.0001",
         "0.0001",
         "0.0001",
         "8.42807196",
         "8.42807196",
         "8.42807196",
         "0.317163949702381",
         "0.317163949702381",
         "0.317163949702381",
         "0.00516129",
         "0.00516129",
         "0.00516129",
         "53.283543550000005",
         "53.283543550000005",
         "53.283543550000005",
         "53.27514355",
         "53.27514355",
         "53.27514355",
         "53.27514355",
         "53.27514355",
         "53.27514355",
         "53.27514355",
         "53.27514355",
         "53.27514355",
         "53.27514355",
         "53.27514355",
         "53.27514355",
         "53.27514355",
         "53.27514355",
         "53.27514355",
         "3.0",
         "1126APrcFVWFK4iZhg7Apm1TAiMvyX1BXK",
         "1",
         "0"
        ],
        [
         "2",
         "1.0",
         "1.0",
         "0.0",
         "0.0",
         "0.0",
         "852.16467964",
         "852.16467964",
         "852.16467964",
         "0.0",
         "0.0",
         "0.0",
         "445268.0",
         "445268.0",
         "445268.0",
         "1.0",
         "1.0",
         "1.0",
         "288.0",
         "288.0",
         "288.0",
         "1.0",
         "1.0",
         "1.0",
         "13107.0",
         "13107.0",
         "13107.0",
         "852.16467964",
         "852.16467964",
         "852.16467964",
         "852.16467964",
         "852.16467964",
         "852.16467964",
         "852.16467964",
         "852.16467964",
         "852.16467964",
         "852.16467964",
         "852.16467964",
         "852.16467964",
         "852.16467964",
         "852.16467964",
         "852.16467964",
         "852.16467964",
         "852.16467964",
         "852.16467964",
         "1.3e-07",
         "1.3e-07",
         "1.3e-07",
         "41.26403571",
         "41.26403571",
         "41.26403571",
         "0.0650159975310902",
         "0.0650159975310902",
         "0.0650159975310902",
         "0.00044065",
         "0.00044065",
         "0.00044065",
         "852.16467964",
         "852.16467964",
         "852.16467964",
         "0.0",
         "0.0",
         "0.0",
         "0.0",
         "0.0",
         "0.0",
         "0.0",
         "0.0",
         "0.0",
         "0.0",
         "0.0",
         "0.0",
         "0.0",
         "0.0",
         "0.0",
         "0.0",
         "0.0",
         "0.0",
         "0.0",
         "0.0",
         "0.0",
         "0.0",
         "0.0",
         "0.0",
         "0.0",
         "0.0",
         "0.0",
         "0.0",
         "0.0",
         "0.0",
         "0.0",
         "0.0",
         "0.0",
         "0.0",
         "0.0",
         "0.0",
         "0.0",
         "0.0",
         "0.0",
         "0.0",
         "0.0",
         "0.0",
         "0.0",
         "0.0",
         "0.0",
         "0.0",
         "0.0",
         "0.0",
         "0.0",
         "0.0",
         "0.0",
         "0.0",
         "0.0",
         "0.0",
         "0.0",
         "0.0",
         "0.0",
         "0.0",
         "2.0",
         "1127EVekJYumhffn6cG98GNaySwmxPEPqb",
         "1",
         "0"
        ],
        [
         "3",
         "1.0",
         "1.0",
         "0.0",
         "0.0",
         "0.0",
         "852.16467964",
         "852.16467964",
         "852.16467964",
         "0.0",
         "0.0",
         "0.0",
         "445268.0",
         "445268.0",
         "445268.0",
         "1.0",
         "1.0",
         "1.0",
         "288.0",
         "288.0",
         "288.0",
         "1.0",
         "1.0",
         "1.0",
         "13107.0",
         "13107.0",
         "13107.0",
         "852.16467964",
         "852.16467964",
         "852.16467964",
         "852.16467964",
         "852.16467964",
         "852.16467964",
         "852.16467964",
         "852.16467964",
         "852.16467964",
         "852.16467964",
         "852.16467964",
         "852.16467964",
         "852.16467964",
         "852.16467964",
         "852.16467964",
         "852.16467964",
         "852.16467964",
         "852.16467964",
         "1.3e-07",
         "1.3e-07",
         "1.3e-07",
         "41.26403571",
         "41.26403571",
         "41.26403571",
         "0.0650159975310902",
         "0.0650159975310902",
         "0.0650159975310902",
         "0.00044065",
         "0.00044065",
         "0.00044065",
         "852.16467964",
         "852.16467964",
         "852.16467964",
         "0.0",
         "0.0",
         "0.0",
         "0.0",
         "0.0",
         "0.0",
         "0.0",
         "0.0",
         "0.0",
         "0.0",
         "0.0",
         "0.0",
         "0.0",
         "0.0",
         "0.0",
         "0.0",
         "0.0",
         "0.0",
         "0.0",
         "0.0",
         "0.0",
         "0.0",
         "0.0",
         "0.0",
         "0.0",
         "0.0",
         "0.0",
         "0.0",
         "0.0",
         "0.0",
         "0.0",
         "0.0",
         "0.0",
         "0.0",
         "0.0",
         "0.0",
         "0.0",
         "0.0",
         "0.0",
         "0.0",
         "0.0",
         "0.0",
         "0.0",
         "0.0",
         "0.0",
         "0.0",
         "0.0",
         "0.0",
         "0.0",
         "0.0",
         "0.0",
         "0.0",
         "0.0",
         "0.0",
         "0.0",
         "0.0",
         "0.0",
         "0.0",
         "2.0",
         "1129A9dFqy4ABDsGQ8RGusbMWYBoZc4myc",
         "1",
         "0"
        ],
        [
         "4",
         "1.0",
         "1.0",
         "0.0001",
         "0.0001",
         "0.0001",
         "1.59324624",
         "1.59324624",
         "1.59324624",
         "0.0001",
         "0.0001",
         "0.0001",
         "226.0",
         "226.0",
         "226.0",
         "0.0",
         "0.0",
         "0.0",
         "2.0",
         "2.0",
         "2.0",
         "1.0",
         "1.0",
         "1.0",
         "2.0",
         "2.0",
         "2.0",
         "1.59324624",
         "1.59324624",
         "1.59324624",
         "1.59334624",
         "1.59334624",
         "1.59334624",
         "1.59334624",
         "1.59334624",
         "1.59334624",
         "1.59334624",
         "1.59334624",
         "1.59334624",
         "1.59334624",
         "1.59334624",
         "1.59334624",
         "1.59334624",
         "1.59334624",
         "1.59334624",
         "0.00080057",
         "0.00080057",
         "0.00080057",
         "1.59244567",
         "1.59244567",
         "1.59244567",
         "0.79662312",
         "0.79662312",
         "0.79662312",
         "0.79662312",
         "0.79662312",
         "0.79662312",
         "1.59324624",
         "1.59324624",
         "1.59324624",
         "1.0",
         "0.0002",
         "0.0001",
         "0.0001",
         "3.18489134",
         "1.59244567",
         "1.59244567",
         "0.0002",
         "0.0001",
         "0.0001",
         "448.0",
         "224.0",
         "224.0",
         "2.0",
         "1.0",
         "1.0",
         "2.0",
         "1.0",
         "1.0",
         "2.0",
         "1.0",
         "1.0",
         "4.0",
         "2.0",
         "2.0",
         "3.18469134",
         "1.59234567",
         "1.59234567",
         "3.18489134",
         "1.59244567",
         "1.59244567",
         "3.18489134",
         "1.59244567",
         "1.59244567",
         "3.18489134",
         "1.59244567",
         "1.59244567",
         "3.18489134",
         "1.59244567",
         "1.59244567",
         "3.18489134",
         "1.59244567",
         "1.59244567",
         "0.0004",
         "0.0002",
         "0.0002",
         "3.18429134",
         "1.59214567",
         "1.59214567",
         "1.59234567",
         "0.796172835",
         "0.796172835",
         "1.59234567",
         "0.796172835",
         "0.796172835",
         "3.18469134",
         "1.59234567",
         "1.59234567",
         "3.0",
         "112BG7qVC6MCKrCMvNkgBjSoQdXuDU2VEe",
         "1",
         "0"
        ]
       ],
       "shape": {
        "columns": 121,
        "rows": 5
       }
      },
      "text/html": [
       "<div>\n",
       "<style scoped>\n",
       "    .dataframe tbody tr th:only-of-type {\n",
       "        vertical-align: middle;\n",
       "    }\n",
       "\n",
       "    .dataframe tbody tr th {\n",
       "        vertical-align: top;\n",
       "    }\n",
       "\n",
       "    .dataframe thead th {\n",
       "        text-align: right;\n",
       "    }\n",
       "</style>\n",
       "<table border=\"1\" class=\"dataframe\">\n",
       "  <thead>\n",
       "    <tr style=\"text-align: right;\">\n",
       "      <th></th>\n",
       "      <th>Time step</th>\n",
       "      <th>in_num</th>\n",
       "      <th>in_total_fees</th>\n",
       "      <th>in_mean_fees</th>\n",
       "      <th>in_median_fees</th>\n",
       "      <th>in_total_btc_in</th>\n",
       "      <th>in_mean_btc_in</th>\n",
       "      <th>in_median_btc_in</th>\n",
       "      <th>in_fees_sum</th>\n",
       "      <th>in_fees_mean</th>\n",
       "      <th>...</th>\n",
       "      <th>out_out_BTC_median_sum</th>\n",
       "      <th>out_out_BTC_median_mean</th>\n",
       "      <th>out_out_BTC_median_median</th>\n",
       "      <th>out_out_BTC_total_sum</th>\n",
       "      <th>out_out_BTC_total_mean</th>\n",
       "      <th>out_out_BTC_total_median</th>\n",
       "      <th>class</th>\n",
       "      <th>address</th>\n",
       "      <th>timestep</th>\n",
       "      <th>label</th>\n",
       "    </tr>\n",
       "  </thead>\n",
       "  <tbody>\n",
       "    <tr>\n",
       "      <th>0</th>\n",
       "      <td>1.0</td>\n",
       "      <td>1.0</td>\n",
       "      <td>0.0000</td>\n",
       "      <td>0.0000</td>\n",
       "      <td>0.0000</td>\n",
       "      <td>852.164680</td>\n",
       "      <td>852.164680</td>\n",
       "      <td>852.164680</td>\n",
       "      <td>0.0000</td>\n",
       "      <td>0.0000</td>\n",
       "      <td>...</td>\n",
       "      <td>0.000000</td>\n",
       "      <td>0.000000</td>\n",
       "      <td>0.000000</td>\n",
       "      <td>0.000000</td>\n",
       "      <td>0.000000</td>\n",
       "      <td>0.000000</td>\n",
       "      <td>2.0</td>\n",
       "      <td>1125gA55bMKdCM5zuQGb2DTU1qMPnnGAcT</td>\n",
       "      <td>1</td>\n",
       "      <td>0</td>\n",
       "    </tr>\n",
       "    <tr>\n",
       "      <th>1</th>\n",
       "      <td>1.0</td>\n",
       "      <td>1.0</td>\n",
       "      <td>0.0001</td>\n",
       "      <td>0.0001</td>\n",
       "      <td>0.0001</td>\n",
       "      <td>1.154375</td>\n",
       "      <td>1.154375</td>\n",
       "      <td>1.154375</td>\n",
       "      <td>0.0001</td>\n",
       "      <td>0.0001</td>\n",
       "      <td>...</td>\n",
       "      <td>53.275144</td>\n",
       "      <td>53.275144</td>\n",
       "      <td>53.275144</td>\n",
       "      <td>53.275144</td>\n",
       "      <td>53.275144</td>\n",
       "      <td>53.275144</td>\n",
       "      <td>3.0</td>\n",
       "      <td>1126APrcFVWFK4iZhg7Apm1TAiMvyX1BXK</td>\n",
       "      <td>1</td>\n",
       "      <td>0</td>\n",
       "    </tr>\n",
       "    <tr>\n",
       "      <th>2</th>\n",
       "      <td>1.0</td>\n",
       "      <td>1.0</td>\n",
       "      <td>0.0000</td>\n",
       "      <td>0.0000</td>\n",
       "      <td>0.0000</td>\n",
       "      <td>852.164680</td>\n",
       "      <td>852.164680</td>\n",
       "      <td>852.164680</td>\n",
       "      <td>0.0000</td>\n",
       "      <td>0.0000</td>\n",
       "      <td>...</td>\n",
       "      <td>0.000000</td>\n",
       "      <td>0.000000</td>\n",
       "      <td>0.000000</td>\n",
       "      <td>0.000000</td>\n",
       "      <td>0.000000</td>\n",
       "      <td>0.000000</td>\n",
       "      <td>2.0</td>\n",
       "      <td>1127EVekJYumhffn6cG98GNaySwmxPEPqb</td>\n",
       "      <td>1</td>\n",
       "      <td>0</td>\n",
       "    </tr>\n",
       "    <tr>\n",
       "      <th>3</th>\n",
       "      <td>1.0</td>\n",
       "      <td>1.0</td>\n",
       "      <td>0.0000</td>\n",
       "      <td>0.0000</td>\n",
       "      <td>0.0000</td>\n",
       "      <td>852.164680</td>\n",
       "      <td>852.164680</td>\n",
       "      <td>852.164680</td>\n",
       "      <td>0.0000</td>\n",
       "      <td>0.0000</td>\n",
       "      <td>...</td>\n",
       "      <td>0.000000</td>\n",
       "      <td>0.000000</td>\n",
       "      <td>0.000000</td>\n",
       "      <td>0.000000</td>\n",
       "      <td>0.000000</td>\n",
       "      <td>0.000000</td>\n",
       "      <td>2.0</td>\n",
       "      <td>1129A9dFqy4ABDsGQ8RGusbMWYBoZc4myc</td>\n",
       "      <td>1</td>\n",
       "      <td>0</td>\n",
       "    </tr>\n",
       "    <tr>\n",
       "      <th>4</th>\n",
       "      <td>1.0</td>\n",
       "      <td>1.0</td>\n",
       "      <td>0.0001</td>\n",
       "      <td>0.0001</td>\n",
       "      <td>0.0001</td>\n",
       "      <td>1.593246</td>\n",
       "      <td>1.593246</td>\n",
       "      <td>1.593246</td>\n",
       "      <td>0.0001</td>\n",
       "      <td>0.0001</td>\n",
       "      <td>...</td>\n",
       "      <td>1.592346</td>\n",
       "      <td>0.796173</td>\n",
       "      <td>0.796173</td>\n",
       "      <td>3.184691</td>\n",
       "      <td>1.592346</td>\n",
       "      <td>1.592346</td>\n",
       "      <td>3.0</td>\n",
       "      <td>112BG7qVC6MCKrCMvNkgBjSoQdXuDU2VEe</td>\n",
       "      <td>1</td>\n",
       "      <td>0</td>\n",
       "    </tr>\n",
       "  </tbody>\n",
       "</table>\n",
       "<p>5 rows × 121 columns</p>\n",
       "</div>"
      ],
      "text/plain": [
       "   Time step  in_num  in_total_fees  in_mean_fees  in_median_fees  \\\n",
       "0        1.0     1.0         0.0000        0.0000          0.0000   \n",
       "1        1.0     1.0         0.0001        0.0001          0.0001   \n",
       "2        1.0     1.0         0.0000        0.0000          0.0000   \n",
       "3        1.0     1.0         0.0000        0.0000          0.0000   \n",
       "4        1.0     1.0         0.0001        0.0001          0.0001   \n",
       "\n",
       "   in_total_btc_in  in_mean_btc_in  in_median_btc_in  in_fees_sum  \\\n",
       "0       852.164680      852.164680        852.164680       0.0000   \n",
       "1         1.154375        1.154375          1.154375       0.0001   \n",
       "2       852.164680      852.164680        852.164680       0.0000   \n",
       "3       852.164680      852.164680        852.164680       0.0000   \n",
       "4         1.593246        1.593246          1.593246       0.0001   \n",
       "\n",
       "   in_fees_mean  ...  out_out_BTC_median_sum  out_out_BTC_median_mean  \\\n",
       "0        0.0000  ...                0.000000                 0.000000   \n",
       "1        0.0001  ...               53.275144                53.275144   \n",
       "2        0.0000  ...                0.000000                 0.000000   \n",
       "3        0.0000  ...                0.000000                 0.000000   \n",
       "4        0.0001  ...                1.592346                 0.796173   \n",
       "\n",
       "   out_out_BTC_median_median  out_out_BTC_total_sum  out_out_BTC_total_mean  \\\n",
       "0                   0.000000               0.000000                0.000000   \n",
       "1                  53.275144              53.275144               53.275144   \n",
       "2                   0.000000               0.000000                0.000000   \n",
       "3                   0.000000               0.000000                0.000000   \n",
       "4                   0.796173               3.184691                1.592346   \n",
       "\n",
       "   out_out_BTC_total_median  class                             address  \\\n",
       "0                  0.000000    2.0  1125gA55bMKdCM5zuQGb2DTU1qMPnnGAcT   \n",
       "1                 53.275144    3.0  1126APrcFVWFK4iZhg7Apm1TAiMvyX1BXK   \n",
       "2                  0.000000    2.0  1127EVekJYumhffn6cG98GNaySwmxPEPqb   \n",
       "3                  0.000000    2.0  1129A9dFqy4ABDsGQ8RGusbMWYBoZc4myc   \n",
       "4                  1.592346    3.0  112BG7qVC6MCKrCMvNkgBjSoQdXuDU2VEe   \n",
       "\n",
       "   timestep  label  \n",
       "0         1      0  \n",
       "1         1      0  \n",
       "2         1      0  \n",
       "3         1      0  \n",
       "4         1      0  \n",
       "\n",
       "[5 rows x 121 columns]"
      ]
     },
     "execution_count": 20,
     "metadata": {},
     "output_type": "execute_result"
    }
   ],
   "source": [
    "df.head(5)"
   ]
  },
  {
   "cell_type": "code",
   "execution_count": 21,
   "metadata": {},
   "outputs": [
    {
     "name": "stdout",
     "output_type": "stream",
     "text": [
      "['Time step', 'in_num', 'in_total_fees', 'in_mean_fees', 'in_median_fees', 'in_total_btc_in', 'in_mean_btc_in', 'in_median_btc_in', 'in_fees_sum', 'in_fees_mean', 'in_fees_median', 'in_size_sum', 'in_size_mean', 'in_size_median', 'in_in_txs_degree_sum', 'in_in_txs_degree_mean', 'in_in_txs_degree_median', 'in_out_txs_degree_sum', 'in_out_txs_degree_mean', 'in_out_txs_degree_median', 'in_num_input_addresses_sum', 'in_num_input_addresses_mean', 'in_num_input_addresses_median', 'in_num_output_addresses_sum', 'in_num_output_addresses_mean', 'in_num_output_addresses_median', 'in_total_BTC_sum', 'in_total_BTC_mean', 'in_total_BTC_median', 'in_in_BTC_min_sum', 'in_in_BTC_min_mean', 'in_in_BTC_min_median', 'in_in_BTC_max_sum', 'in_in_BTC_max_mean', 'in_in_BTC_max_median', 'in_in_BTC_mean_sum', 'in_in_BTC_mean_mean', 'in_in_BTC_mean_median', 'in_in_BTC_median_sum', 'in_in_BTC_median_mean', 'in_in_BTC_median_median', 'in_in_BTC_total_sum', 'in_in_BTC_total_mean', 'in_in_BTC_total_median', 'in_out_BTC_min_sum', 'in_out_BTC_min_mean', 'in_out_BTC_min_median', 'in_out_BTC_max_sum', 'in_out_BTC_max_mean', 'in_out_BTC_max_median', 'in_out_BTC_mean_sum', 'in_out_BTC_mean_mean', 'in_out_BTC_mean_median', 'in_out_BTC_median_sum', 'in_out_BTC_median_mean', 'in_out_BTC_median_median', 'in_out_BTC_total_sum', 'in_out_BTC_total_mean', 'in_out_BTC_total_median', 'out_num', 'out_total_fees', 'out_mean_fees', 'out_median_fees', 'out_total_btc_out', 'out_mean_btc_out', 'out_median_btc_out', 'out_fees_sum', 'out_fees_mean', 'out_fees_median', 'out_size_sum', 'out_size_mean', 'out_size_median', 'out_in_txs_degree_sum', 'out_in_txs_degree_mean', 'out_in_txs_degree_median', 'out_out_txs_degree_sum', 'out_out_txs_degree_mean', 'out_out_txs_degree_median', 'out_num_input_addresses_sum', 'out_num_input_addresses_mean', 'out_num_input_addresses_median', 'out_num_output_addresses_sum', 'out_num_output_addresses_mean', 'out_num_output_addresses_median', 'out_total_BTC_sum', 'out_total_BTC_mean', 'out_total_BTC_median', 'out_in_BTC_min_sum', 'out_in_BTC_min_mean', 'out_in_BTC_min_median', 'out_in_BTC_max_sum', 'out_in_BTC_max_mean', 'out_in_BTC_max_median', 'out_in_BTC_mean_sum', 'out_in_BTC_mean_mean', 'out_in_BTC_mean_median', 'out_in_BTC_median_sum', 'out_in_BTC_median_mean', 'out_in_BTC_median_median', 'out_in_BTC_total_sum', 'out_in_BTC_total_mean', 'out_in_BTC_total_median', 'out_out_BTC_min_sum', 'out_out_BTC_min_mean', 'out_out_BTC_min_median', 'out_out_BTC_max_sum', 'out_out_BTC_max_mean', 'out_out_BTC_max_median', 'out_out_BTC_mean_sum', 'out_out_BTC_mean_mean', 'out_out_BTC_mean_median', 'out_out_BTC_median_sum', 'out_out_BTC_median_mean', 'out_out_BTC_median_median', 'out_out_BTC_total_sum', 'out_out_BTC_total_mean', 'out_out_BTC_total_median', 'class', 'address', 'timestep', 'label']\n"
     ]
    }
   ],
   "source": [
    "print(df.columns.to_list())"
   ]
  },
  {
   "cell_type": "code",
   "execution_count": 23,
   "metadata": {},
   "outputs": [
    {
     "name": "stdout",
     "output_type": "stream",
     "text": [
      "0\n"
     ]
    }
   ],
   "source": [
    "illicit_count = df[df['class'] == 1].shape[0]\n",
    "print(illicit_count)"
   ]
  },
  {
   "cell_type": "code",
   "execution_count": 24,
   "metadata": {},
   "outputs": [],
   "source": [
    "TRAIN_CUTOFF = 33  # Train on t=1 to t=37\n",
    "TEST_CUTOFF = 46   # Test on t=38 to t=46\n",
    "\n",
    "train_df = df[df['timestep'] <= TRAIN_CUTOFF].copy()\n",
    "test_df = df[(df['timestep'] >= TRAIN_CUTOFF + TIME_HORIZON) & (df['timestep'] <= TEST_CUTOFF)].copy()\n",
    "\n",
    "train_df_reduced = train_df.drop(columns=[c for c in nodes_with_labels.columns if c in {'first_block_apepared_in', 'first_sent_block', 'first_received_block','last_block_appeared_in','lifetime_in_blocks','num_timesteps_appeared_in','class','label'} or __import__('re').search(r'_(total|min|max|mean|median)$', c)], errors='ignore')\n",
    "test_df_reduced = test_df.drop(columns=[c for c in nodes_with_labels.columns if c in {'first_block_apepared_in', 'first_sent_block', 'first_received_block', 'last_block_appeared_in','lifetime_in_blocks','num_timesteps_appeared_in','class','label'} or __import__('re').search(r'_(total|min|max|mean|median)$', c)], errors='ignore') "
   ]
  },
  {
   "cell_type": "code",
   "execution_count": 25,
   "metadata": {},
   "outputs": [
    {
     "name": "stdout",
     "output_type": "stream",
     "text": [
      "Original: 235 positive, 578,859 negative\n",
      "Balanced: 470 samples (50.0% positive)\n",
      "Original: 71 positive, 241,362 negative\n",
      "Balanced: 142 samples (50.0% positive)\n"
     ]
    }
   ],
   "source": [
    "train_df_balanced = balanced_sample(train_df_reduced, random_state=42)\n",
    "test_df_balanced = balanced_sample(test_df_reduced, random_state=42)"
   ]
  },
  {
   "cell_type": "code",
   "execution_count": 26,
   "metadata": {},
   "outputs": [
    {
     "data": {
      "application/vnd.microsoft.datawrangler.viewer.v0+json": {
       "columns": [
        {
         "name": "index",
         "rawType": "int64",
         "type": "integer"
        },
        {
         "name": "Time step",
         "rawType": "float64",
         "type": "float"
        },
        {
         "name": "in_num",
         "rawType": "float64",
         "type": "float"
        },
        {
         "name": "in_total_fees",
         "rawType": "float64",
         "type": "float"
        },
        {
         "name": "in_mean_fees",
         "rawType": "float64",
         "type": "float"
        },
        {
         "name": "in_median_fees",
         "rawType": "float64",
         "type": "float"
        },
        {
         "name": "in_total_btc_in",
         "rawType": "float64",
         "type": "float"
        },
        {
         "name": "in_mean_btc_in",
         "rawType": "float64",
         "type": "float"
        },
        {
         "name": "in_median_btc_in",
         "rawType": "float64",
         "type": "float"
        },
        {
         "name": "in_fees_sum",
         "rawType": "float64",
         "type": "float"
        },
        {
         "name": "in_size_sum",
         "rawType": "float64",
         "type": "float"
        },
        {
         "name": "in_in_txs_degree_sum",
         "rawType": "float64",
         "type": "float"
        },
        {
         "name": "in_out_txs_degree_sum",
         "rawType": "float64",
         "type": "float"
        },
        {
         "name": "in_num_input_addresses_sum",
         "rawType": "float64",
         "type": "float"
        },
        {
         "name": "in_num_output_addresses_sum",
         "rawType": "float64",
         "type": "float"
        },
        {
         "name": "in_total_BTC_sum",
         "rawType": "float64",
         "type": "float"
        },
        {
         "name": "in_in_BTC_min_sum",
         "rawType": "float64",
         "type": "float"
        },
        {
         "name": "in_in_BTC_max_sum",
         "rawType": "float64",
         "type": "float"
        },
        {
         "name": "in_in_BTC_mean_sum",
         "rawType": "float64",
         "type": "float"
        },
        {
         "name": "in_in_BTC_median_sum",
         "rawType": "float64",
         "type": "float"
        },
        {
         "name": "in_in_BTC_total_sum",
         "rawType": "float64",
         "type": "float"
        },
        {
         "name": "in_out_BTC_min_sum",
         "rawType": "float64",
         "type": "float"
        },
        {
         "name": "in_out_BTC_max_sum",
         "rawType": "float64",
         "type": "float"
        },
        {
         "name": "in_out_BTC_mean_sum",
         "rawType": "float64",
         "type": "float"
        },
        {
         "name": "in_out_BTC_median_sum",
         "rawType": "float64",
         "type": "float"
        },
        {
         "name": "in_out_BTC_total_sum",
         "rawType": "float64",
         "type": "float"
        },
        {
         "name": "out_num",
         "rawType": "float64",
         "type": "float"
        },
        {
         "name": "out_total_fees",
         "rawType": "float64",
         "type": "float"
        },
        {
         "name": "out_mean_fees",
         "rawType": "float64",
         "type": "float"
        },
        {
         "name": "out_median_fees",
         "rawType": "float64",
         "type": "float"
        },
        {
         "name": "out_total_btc_out",
         "rawType": "float64",
         "type": "float"
        },
        {
         "name": "out_mean_btc_out",
         "rawType": "float64",
         "type": "float"
        },
        {
         "name": "out_median_btc_out",
         "rawType": "float64",
         "type": "float"
        },
        {
         "name": "out_fees_sum",
         "rawType": "float64",
         "type": "float"
        },
        {
         "name": "out_size_sum",
         "rawType": "float64",
         "type": "float"
        },
        {
         "name": "out_in_txs_degree_sum",
         "rawType": "float64",
         "type": "float"
        },
        {
         "name": "out_out_txs_degree_sum",
         "rawType": "float64",
         "type": "float"
        },
        {
         "name": "out_num_input_addresses_sum",
         "rawType": "float64",
         "type": "float"
        },
        {
         "name": "out_num_output_addresses_sum",
         "rawType": "float64",
         "type": "float"
        },
        {
         "name": "out_total_BTC_sum",
         "rawType": "float64",
         "type": "float"
        },
        {
         "name": "out_in_BTC_min_sum",
         "rawType": "float64",
         "type": "float"
        },
        {
         "name": "out_in_BTC_max_sum",
         "rawType": "float64",
         "type": "float"
        },
        {
         "name": "out_in_BTC_mean_sum",
         "rawType": "float64",
         "type": "float"
        },
        {
         "name": "out_in_BTC_median_sum",
         "rawType": "float64",
         "type": "float"
        },
        {
         "name": "out_in_BTC_total_sum",
         "rawType": "float64",
         "type": "float"
        },
        {
         "name": "out_out_BTC_min_sum",
         "rawType": "float64",
         "type": "float"
        },
        {
         "name": "out_out_BTC_max_sum",
         "rawType": "float64",
         "type": "float"
        },
        {
         "name": "out_out_BTC_mean_sum",
         "rawType": "float64",
         "type": "float"
        },
        {
         "name": "out_out_BTC_median_sum",
         "rawType": "float64",
         "type": "float"
        },
        {
         "name": "out_out_BTC_total_sum",
         "rawType": "float64",
         "type": "float"
        },
        {
         "name": "class",
         "rawType": "float64",
         "type": "float"
        },
        {
         "name": "address",
         "rawType": "object",
         "type": "string"
        },
        {
         "name": "timestep",
         "rawType": "int64",
         "type": "integer"
        },
        {
         "name": "label",
         "rawType": "int64",
         "type": "integer"
        }
       ],
       "ref": "c086eccd-f0b8-4a51-902f-905f0671d836",
       "rows": [
        [
         "0",
         "18.0",
         "20.0",
         "0.00356",
         "0.000178",
         "0.000178",
         "254.19823895999997",
         "12.709911947999998",
         "14.597830235",
         "0.00356",
         "4509.0",
         "14.0",
         "24.0",
         "20.0",
         "40.0",
         "254.19823895999997",
         "254.20179896",
         "254.20179896",
         "254.20179896",
         "254.20179896",
         "254.20179896",
         "9.53532437",
         "244.66291459",
         "127.09911947999998",
         "127.09911947999998",
         "254.19823895999997",
         "20.0",
         "0.00712",
         "0.000178",
         "0.000178",
         "508.40359792",
         "12.710089948",
         "14.598008235",
         "0.00712",
         "9018.0",
         "28.0",
         "48.0",
         "40.0",
         "80.0",
         "508.39647792",
         "508.40359792",
         "508.40359792",
         "508.40359792",
         "508.40359792",
         "508.40359792",
         "19.070648740000003",
         "489.32582918",
         "254.19823896",
         "254.19823896",
         "508.39647792",
         "3.0",
         "18p9Ftp3m4435tdpZTvoBsm3yjUgkvTF2b",
         "18",
         "1"
        ],
        [
         "1",
         "20.0",
         "1.0",
         "0.02229744",
         "0.00202704",
         "0.00202704",
         "4685.86564171",
         "425.98778561",
         "425.98778561",
         "0.02229744",
         "28171.0",
         "110.0",
         "22.0",
         "165.0",
         "110.0",
         "4685.86564171",
         "0.0011949299999999",
         "4567.7598678800005",
         "312.39252927666666",
         "0.06510801",
         "4685.88793915",
         "0.017094",
         "4561.995703320001",
         "468.5865641710001",
         "7.016076265000001",
         "4685.86564171",
         "0.0",
         "0.0",
         "0.0",
         "0.0",
         "0.0",
         "0.0",
         "0.0",
         "0.0",
         "0.0",
         "0.0",
         "0.0",
         "0.0",
         "0.0",
         "0.0",
         "0.0",
         "0.0",
         "0.0",
         "0.0",
         "0.0",
         "0.0",
         "0.0",
         "0.0",
         "0.0",
         "0.0",
         "3.0",
         "16UgFD82KPaT4oqNkao5x66FYuNYbxpkFZ",
         "20",
         "1"
        ],
        [
         "2",
         "12.0",
         "1.0",
         "0.10461216",
         "0.01743536",
         "0.01743536",
         "35.93109888",
         "5.98851648",
         "5.98851648",
         "0.10461216",
         "386718.0",
         "0.0",
         "174.0",
         "60.0",
         "11238.0",
         "35.93109888",
         "0.00039516",
         "13.01182104",
         "3.603571104",
         "0.07563546",
         "36.03571104",
         "0.0019963199999999",
         "4.7910960000000005",
         "0.0191837153657232",
         "0.00399258",
         "35.93109888",
         "0.0",
         "0.0",
         "0.0",
         "0.0",
         "0.0",
         "0.0",
         "0.0",
         "0.0",
         "0.0",
         "0.0",
         "0.0",
         "0.0",
         "0.0",
         "0.0",
         "0.0",
         "0.0",
         "0.0",
         "0.0",
         "0.0",
         "0.0",
         "0.0",
         "0.0",
         "0.0",
         "0.0",
         "3.0",
         "1Kzx8Hc4kPwTkWfnsRAKa7FhYbRVxfH96z",
         "12",
         "1"
        ],
        [
         "3",
         "10.0",
         "2.0",
         "0.0",
         "0.0",
         "0.0",
         "1737.59191121",
         "868.795955605",
         "868.795955605",
         "0.0",
         "626842.0",
         "2.0",
         "378.0",
         "2.0",
         "18448.0",
         "1737.59191121",
         "1737.59191121",
         "1737.59191121",
         "1737.59191121",
         "1737.59191121",
         "1737.59191121",
         "0.00100042",
         "141.24881359",
         "0.230795295709334",
         "0.03394488",
         "1737.59191121",
         "0.0",
         "0.0",
         "0.0",
         "0.0",
         "0.0",
         "0.0",
         "0.0",
         "0.0",
         "0.0",
         "0.0",
         "0.0",
         "0.0",
         "0.0",
         "0.0",
         "0.0",
         "0.0",
         "0.0",
         "0.0",
         "0.0",
         "0.0",
         "0.0",
         "0.0",
         "0.0",
         "0.0",
         "2.0",
         "1PeWVMWCqhfjpYUf6q7ZeEMhTn1SCjz3nW",
         "10",
         "0"
        ],
        [
         "4",
         "7.0",
         "1.0",
         "0.0001",
         "0.0001",
         "0.0001",
         "2.33996987",
         "2.33996987",
         "2.33996987",
         "0.0001",
         "520.0",
         "3.0",
         "0.0",
         "3.0",
         "2.0",
         "2.33996987",
         "0.06128065",
         "1.94000945",
         "0.78002329",
         "0.33877977",
         "2.34006987",
         "0.01016803",
         "2.32980184",
         "1.169984935",
         "1.169984935",
         "2.33996987",
         "0.0",
         "0.0",
         "0.0",
         "0.0",
         "0.0",
         "0.0",
         "0.0",
         "0.0",
         "0.0",
         "0.0",
         "0.0",
         "0.0",
         "0.0",
         "0.0",
         "0.0",
         "0.0",
         "0.0",
         "0.0",
         "0.0",
         "0.0",
         "0.0",
         "0.0",
         "0.0",
         "0.0",
         "3.0",
         "16BrdRMyXr1fAfkjje64u7phfbK44bMvEj",
         "7",
         "0"
        ]
       ],
       "shape": {
        "columns": 53,
        "rows": 5
       }
      },
      "text/html": [
       "<div>\n",
       "<style scoped>\n",
       "    .dataframe tbody tr th:only-of-type {\n",
       "        vertical-align: middle;\n",
       "    }\n",
       "\n",
       "    .dataframe tbody tr th {\n",
       "        vertical-align: top;\n",
       "    }\n",
       "\n",
       "    .dataframe thead th {\n",
       "        text-align: right;\n",
       "    }\n",
       "</style>\n",
       "<table border=\"1\" class=\"dataframe\">\n",
       "  <thead>\n",
       "    <tr style=\"text-align: right;\">\n",
       "      <th></th>\n",
       "      <th>Time step</th>\n",
       "      <th>in_num</th>\n",
       "      <th>in_total_fees</th>\n",
       "      <th>in_mean_fees</th>\n",
       "      <th>in_median_fees</th>\n",
       "      <th>in_total_btc_in</th>\n",
       "      <th>in_mean_btc_in</th>\n",
       "      <th>in_median_btc_in</th>\n",
       "      <th>in_fees_sum</th>\n",
       "      <th>in_size_sum</th>\n",
       "      <th>...</th>\n",
       "      <th>out_in_BTC_total_sum</th>\n",
       "      <th>out_out_BTC_min_sum</th>\n",
       "      <th>out_out_BTC_max_sum</th>\n",
       "      <th>out_out_BTC_mean_sum</th>\n",
       "      <th>out_out_BTC_median_sum</th>\n",
       "      <th>out_out_BTC_total_sum</th>\n",
       "      <th>class</th>\n",
       "      <th>address</th>\n",
       "      <th>timestep</th>\n",
       "      <th>label</th>\n",
       "    </tr>\n",
       "  </thead>\n",
       "  <tbody>\n",
       "    <tr>\n",
       "      <th>0</th>\n",
       "      <td>18.0</td>\n",
       "      <td>20.0</td>\n",
       "      <td>0.003560</td>\n",
       "      <td>0.000178</td>\n",
       "      <td>0.000178</td>\n",
       "      <td>254.198239</td>\n",
       "      <td>12.709912</td>\n",
       "      <td>14.597830</td>\n",
       "      <td>0.003560</td>\n",
       "      <td>4509.0</td>\n",
       "      <td>...</td>\n",
       "      <td>508.403598</td>\n",
       "      <td>19.070649</td>\n",
       "      <td>489.325829</td>\n",
       "      <td>254.198239</td>\n",
       "      <td>254.198239</td>\n",
       "      <td>508.396478</td>\n",
       "      <td>3.0</td>\n",
       "      <td>18p9Ftp3m4435tdpZTvoBsm3yjUgkvTF2b</td>\n",
       "      <td>18</td>\n",
       "      <td>1</td>\n",
       "    </tr>\n",
       "    <tr>\n",
       "      <th>1</th>\n",
       "      <td>20.0</td>\n",
       "      <td>1.0</td>\n",
       "      <td>0.022297</td>\n",
       "      <td>0.002027</td>\n",
       "      <td>0.002027</td>\n",
       "      <td>4685.865642</td>\n",
       "      <td>425.987786</td>\n",
       "      <td>425.987786</td>\n",
       "      <td>0.022297</td>\n",
       "      <td>28171.0</td>\n",
       "      <td>...</td>\n",
       "      <td>0.000000</td>\n",
       "      <td>0.000000</td>\n",
       "      <td>0.000000</td>\n",
       "      <td>0.000000</td>\n",
       "      <td>0.000000</td>\n",
       "      <td>0.000000</td>\n",
       "      <td>3.0</td>\n",
       "      <td>16UgFD82KPaT4oqNkao5x66FYuNYbxpkFZ</td>\n",
       "      <td>20</td>\n",
       "      <td>1</td>\n",
       "    </tr>\n",
       "    <tr>\n",
       "      <th>2</th>\n",
       "      <td>12.0</td>\n",
       "      <td>1.0</td>\n",
       "      <td>0.104612</td>\n",
       "      <td>0.017435</td>\n",
       "      <td>0.017435</td>\n",
       "      <td>35.931099</td>\n",
       "      <td>5.988516</td>\n",
       "      <td>5.988516</td>\n",
       "      <td>0.104612</td>\n",
       "      <td>386718.0</td>\n",
       "      <td>...</td>\n",
       "      <td>0.000000</td>\n",
       "      <td>0.000000</td>\n",
       "      <td>0.000000</td>\n",
       "      <td>0.000000</td>\n",
       "      <td>0.000000</td>\n",
       "      <td>0.000000</td>\n",
       "      <td>3.0</td>\n",
       "      <td>1Kzx8Hc4kPwTkWfnsRAKa7FhYbRVxfH96z</td>\n",
       "      <td>12</td>\n",
       "      <td>1</td>\n",
       "    </tr>\n",
       "    <tr>\n",
       "      <th>3</th>\n",
       "      <td>10.0</td>\n",
       "      <td>2.0</td>\n",
       "      <td>0.000000</td>\n",
       "      <td>0.000000</td>\n",
       "      <td>0.000000</td>\n",
       "      <td>1737.591911</td>\n",
       "      <td>868.795956</td>\n",
       "      <td>868.795956</td>\n",
       "      <td>0.000000</td>\n",
       "      <td>626842.0</td>\n",
       "      <td>...</td>\n",
       "      <td>0.000000</td>\n",
       "      <td>0.000000</td>\n",
       "      <td>0.000000</td>\n",
       "      <td>0.000000</td>\n",
       "      <td>0.000000</td>\n",
       "      <td>0.000000</td>\n",
       "      <td>2.0</td>\n",
       "      <td>1PeWVMWCqhfjpYUf6q7ZeEMhTn1SCjz3nW</td>\n",
       "      <td>10</td>\n",
       "      <td>0</td>\n",
       "    </tr>\n",
       "    <tr>\n",
       "      <th>4</th>\n",
       "      <td>7.0</td>\n",
       "      <td>1.0</td>\n",
       "      <td>0.000100</td>\n",
       "      <td>0.000100</td>\n",
       "      <td>0.000100</td>\n",
       "      <td>2.339970</td>\n",
       "      <td>2.339970</td>\n",
       "      <td>2.339970</td>\n",
       "      <td>0.000100</td>\n",
       "      <td>520.0</td>\n",
       "      <td>...</td>\n",
       "      <td>0.000000</td>\n",
       "      <td>0.000000</td>\n",
       "      <td>0.000000</td>\n",
       "      <td>0.000000</td>\n",
       "      <td>0.000000</td>\n",
       "      <td>0.000000</td>\n",
       "      <td>3.0</td>\n",
       "      <td>16BrdRMyXr1fAfkjje64u7phfbK44bMvEj</td>\n",
       "      <td>7</td>\n",
       "      <td>0</td>\n",
       "    </tr>\n",
       "  </tbody>\n",
       "</table>\n",
       "<p>5 rows × 53 columns</p>\n",
       "</div>"
      ],
      "text/plain": [
       "   Time step  in_num  in_total_fees  in_mean_fees  in_median_fees  \\\n",
       "0       18.0    20.0       0.003560      0.000178        0.000178   \n",
       "1       20.0     1.0       0.022297      0.002027        0.002027   \n",
       "2       12.0     1.0       0.104612      0.017435        0.017435   \n",
       "3       10.0     2.0       0.000000      0.000000        0.000000   \n",
       "4        7.0     1.0       0.000100      0.000100        0.000100   \n",
       "\n",
       "   in_total_btc_in  in_mean_btc_in  in_median_btc_in  in_fees_sum  \\\n",
       "0       254.198239       12.709912         14.597830     0.003560   \n",
       "1      4685.865642      425.987786        425.987786     0.022297   \n",
       "2        35.931099        5.988516          5.988516     0.104612   \n",
       "3      1737.591911      868.795956        868.795956     0.000000   \n",
       "4         2.339970        2.339970          2.339970     0.000100   \n",
       "\n",
       "   in_size_sum  ...  out_in_BTC_total_sum  out_out_BTC_min_sum  \\\n",
       "0       4509.0  ...            508.403598            19.070649   \n",
       "1      28171.0  ...              0.000000             0.000000   \n",
       "2     386718.0  ...              0.000000             0.000000   \n",
       "3     626842.0  ...              0.000000             0.000000   \n",
       "4        520.0  ...              0.000000             0.000000   \n",
       "\n",
       "   out_out_BTC_max_sum  out_out_BTC_mean_sum  out_out_BTC_median_sum  \\\n",
       "0           489.325829            254.198239              254.198239   \n",
       "1             0.000000              0.000000                0.000000   \n",
       "2             0.000000              0.000000                0.000000   \n",
       "3             0.000000              0.000000                0.000000   \n",
       "4             0.000000              0.000000                0.000000   \n",
       "\n",
       "   out_out_BTC_total_sum  class                             address  timestep  \\\n",
       "0             508.396478    3.0  18p9Ftp3m4435tdpZTvoBsm3yjUgkvTF2b        18   \n",
       "1               0.000000    3.0  16UgFD82KPaT4oqNkao5x66FYuNYbxpkFZ        20   \n",
       "2               0.000000    3.0  1Kzx8Hc4kPwTkWfnsRAKa7FhYbRVxfH96z        12   \n",
       "3               0.000000    2.0  1PeWVMWCqhfjpYUf6q7ZeEMhTn1SCjz3nW        10   \n",
       "4               0.000000    3.0  16BrdRMyXr1fAfkjje64u7phfbK44bMvEj         7   \n",
       "\n",
       "   label  \n",
       "0      1  \n",
       "1      1  \n",
       "2      1  \n",
       "3      0  \n",
       "4      0  \n",
       "\n",
       "[5 rows x 53 columns]"
      ]
     },
     "execution_count": 26,
     "metadata": {},
     "output_type": "execute_result"
    }
   ],
   "source": [
    "train_df_balanced.head(5)"
   ]
  },
  {
   "cell_type": "code",
   "execution_count": 27,
   "metadata": {},
   "outputs": [],
   "source": [
    "\n",
    "X_train = train_balanced_reduced_features = train_df_balanced.drop(columns=['address', 'timestep', 'Time step', 'label'])\n",
    "y_train = train_df_balanced['label']\n",
    "\n",
    "X_test = test_df_reduced.drop(columns=['address', 'timestep', 'Time step', 'label'])\n",
    "y_test = test_df_reduced['label']"
   ]
  },
  {
   "cell_type": "code",
   "execution_count": 28,
   "metadata": {},
   "outputs": [
    {
     "name": "stdout",
     "output_type": "stream",
     "text": [
      "\n",
      "X_train: (470, 49)\n",
      "y_train: (470,), 50.0% positive\n",
      "X_test:  (241433, 49)\n",
      "y_test:  (241433,), 0.0% positive\n"
     ]
    }
   ],
   "source": [
    "print(f\"\\nX_train: {X_train.shape}\")\n",
    "print(f\"y_train: {y_train.shape}, {y_train.mean()*100:.1f}% positive\")\n",
    "print(f\"X_test:  {X_test.shape}\")\n",
    "print(f\"y_test:  {y_test.shape}, {y_test.mean()*100:.1f}% positive\")"
   ]
  },
  {
   "cell_type": "code",
   "execution_count": 29,
   "metadata": {},
   "outputs": [],
   "source": [
    "X_train_np = np.nan_to_num(X_train, nan=0.0, posinf=0.0, neginf=0.0)\n",
    "X_test_np = np.nan_to_num(X_test, nan=0.0, posinf=0.0, neginf=0.0)\n",
    "\n",
    "scaler = StandardScaler()\n",
    "X_train_scaled = scaler.fit_transform(X_train_np)\n",
    "X_test_scaled = scaler.transform(X_test_np)\n"
   ]
  },
  {
   "cell_type": "markdown",
   "metadata": {},
   "source": [
    "## Train Logistic Regression"
   ]
  },
  {
   "cell_type": "code",
   "execution_count": 30,
   "metadata": {},
   "outputs": [
    {
     "name": "stdout",
     "output_type": "stream",
     "text": [
      "Training Logistic Regression...\n",
      "✓ Training complete\n"
     ]
    },
    {
     "name": "stderr",
     "output_type": "stream",
     "text": [
      "/Users/franciszeklatala/mamba/envs/graph-ml/lib/python3.11/multiprocessing/queues.py:122: UserWarning: pkg_resources is deprecated as an API. See https://setuptools.pypa.io/en/latest/pkg_resources.html. The pkg_resources package is slated for removal as early as 2025-11-30. Refrain from using this package or pin to Setuptools<81.\n",
      "  return _ForkingPickler.loads(res)\n"
     ]
    }
   ],
   "source": [
    "# Train logistic regression\n",
    "print(\"Training Logistic Regression...\")\n",
    "lr_model = LogisticRegression(\n",
    "    max_iter=1000,\n",
    "    random_state=42,\n",
    "    n_jobs=-1\n",
    ")\n",
    "\n",
    "lr_model.fit(X_train_scaled, y_train)\n",
    "print(\"✓ Training complete\")\n",
    "\n",
    "# Predictions\n",
    "y_pred_train = lr_model.predict(X_train_scaled)\n",
    "y_proba_train = lr_model.predict_proba(X_train_scaled)[:, 1]\n",
    "\n",
    "y_pred_test = lr_model.predict(X_test_scaled)\n",
    "y_proba_test = lr_model.predict_proba(X_test_scaled)[:, 1]"
   ]
  },
  {
   "cell_type": "markdown",
   "metadata": {},
   "source": [
    "## Evaluation"
   ]
  },
  {
   "cell_type": "code",
   "execution_count": 31,
   "metadata": {},
   "outputs": [
    {
     "name": "stdout",
     "output_type": "stream",
     "text": [
      "============================================================\n",
      "TRAINING SET (Balanced)\n",
      "============================================================\n",
      "                   precision    recall  f1-score   support\n",
      "\n",
      "No Future Illicit       0.67      0.91      0.78       235\n",
      "   Future Illicit       0.87      0.56      0.68       235\n",
      "\n",
      "         accuracy                           0.74       470\n",
      "        macro avg       0.77      0.74      0.73       470\n",
      "     weighted avg       0.77      0.74      0.73       470\n",
      "\n",
      "ROC-AUC: 0.8487\n",
      "\n",
      "============================================================\n",
      "TEST SET (Unbalanced - Real Distribution)\n",
      "============================================================\n",
      "                   precision    recall  f1-score   support\n",
      "\n",
      "No Future Illicit       1.00      0.94      0.97    241362\n",
      "   Future Illicit       0.00      0.51      0.01        71\n",
      "\n",
      "         accuracy                           0.94    241433\n",
      "        macro avg       0.50      0.73      0.49    241433\n",
      "     weighted avg       1.00      0.94      0.97    241433\n",
      "\n",
      "ROC-AUC: 0.7546\n",
      "\n",
      "Confusion Matrix (Test):\n",
      "[[227604  13758]\n",
      " [    35     36]]\n",
      "\n",
      "True Negatives:  227,604\n",
      "False Positives: 13,758\n",
      "False Negatives: 35\n",
      "True Positives:  36\n"
     ]
    }
   ],
   "source": [
    "print(\"=\"*60)\n",
    "print(\"TRAINING SET (Balanced)\")\n",
    "print(\"=\"*60)\n",
    "print(classification_report(y_train, y_pred_train, target_names=['No Future Illicit', 'Future Illicit']))\n",
    "print(f\"ROC-AUC: {roc_auc_score(y_train, y_proba_train):.4f}\")\n",
    "\n",
    "print(\"\\n\" + \"=\"*60)\n",
    "print(\"TEST SET (Unbalanced - Real Distribution)\")\n",
    "print(\"=\"*60)\n",
    "print(classification_report(y_test, y_pred_test, target_names=['No Future Illicit', 'Future Illicit']))\n",
    "print(f\"ROC-AUC: {roc_auc_score(y_test, y_proba_test):.4f}\")\n",
    "\n",
    "print(\"\\nConfusion Matrix (Test):\")\n",
    "cm = confusion_matrix(y_test, y_pred_test)\n",
    "print(cm)\n",
    "print(f\"\\nTrue Negatives:  {cm[0,0]:,}\")\n",
    "print(f\"False Positives: {cm[0,1]:,}\")\n",
    "print(f\"False Negatives: {cm[1,0]:,}\")\n",
    "print(f\"True Positives:  {cm[1,1]:,}\")"
   ]
  },
  {
   "cell_type": "markdown",
   "metadata": {},
   "source": [
    "## ROC Curve"
   ]
  },
  {
   "cell_type": "code",
   "execution_count": 32,
   "metadata": {},
   "outputs": [
    {
     "data": {
      "image/png": "[encoded data removed]",
      "text/plain": [
       "<Figure size 1000x800 with 1 Axes>"
      ]
     },
     "metadata": {},
     "output_type": "display_data"
    }
   ],
   "source": [
    "# Plot ROC curve\n",
    "fpr, tpr, thresholds = roc_curve(y_test, y_proba_test)\n",
    "\n",
    "plt.figure(figsize=(10, 8))\n",
    "plt.plot(fpr, tpr, linewidth=2, label=f'Logistic Regression (AUC = {roc_auc_score(y_test, y_proba_test):.4f})')\n",
    "plt.plot([0, 1], [0, 1], 'k--', label='Random Baseline')\n",
    "plt.xlabel('False Positive Rate', fontsize=12)\n",
    "plt.ylabel('True Positive Rate', fontsize=12)\n",
    "plt.title('ROC Curve - Test Set', fontsize=14)\n",
    "plt.legend(fontsize=12)\n",
    "plt.grid(True, alpha=0.3)\n",
    "plt.tight_layout()\n",
    "plt.show()"
   ]
  },
  {
   "cell_type": "markdown",
   "metadata": {},
   "source": [
    "## Feature Importance"
   ]
  },
  {
   "cell_type": "code",
   "execution_count": 33,
   "metadata": {},
   "outputs": [
    {
     "name": "stdout",
     "output_type": "stream",
     "text": [
      "Top 20 Most Important Features:\n",
      "                    feature  coefficient  abs_coefficient\n",
      "                     in_num     1.644491         1.644491\n",
      "                    out_num     1.343990         1.343990\n",
      "        out_out_BTC_min_sum     1.042157         1.042157\n",
      "in_num_output_addresses_sum    -0.967431         0.967431\n",
      "         in_in_BTC_mean_sum     0.637193         0.637193\n",
      "out_num_input_addresses_sum     0.590791         0.590791\n",
      "       in_in_BTC_median_sum     0.565705         0.565705\n",
      " in_num_input_addresses_sum     0.548144         0.548144\n",
      "                in_size_sum     0.542375         0.542375\n",
      "          in_in_BTC_min_sum     0.533784         0.533784\n",
      "              out_mean_fees    -0.528640         0.528640\n",
      "          in_in_BTC_max_sum     0.506813         0.506813\n",
      "      in_out_txs_degree_sum     0.461131         0.461131\n",
      "         in_out_BTC_max_sum     0.414578         0.414578\n",
      "        in_in_BTC_total_sum     0.389548         0.389548\n",
      "           in_total_BTC_sum     0.389519         0.389519\n",
      "            in_total_btc_in     0.389519         0.389519\n",
      "       in_out_BTC_total_sum     0.389519         0.389519\n",
      "       out_out_BTC_mean_sum     0.382061         0.382061\n",
      "                in_fees_sum     0.367168         0.367168\n"
     ]
    },
    {
     "data": {
      "image/png": "[encoded data removed]",
      "text/plain": [
       "<Figure size 1200x800 with 1 Axes>"
      ]
     },
     "metadata": {},
     "output_type": "display_data"
    }
   ],
   "source": [
    "feature_cols = train_balanced_reduced_features.columns.tolist()\n",
    "\n",
    "feature_importance = pd.DataFrame({\n",
    "    'feature': feature_cols,\n",
    "    'coefficient': lr_model.coef_[0],\n",
    "    'abs_coefficient': np.abs(lr_model.coef_[0])\n",
    "}).sort_values('abs_coefficient', ascending=False)\n",
    "\n",
    "print(\"Top 20 Most Important Features:\")\n",
    "print(feature_importance.head(20).to_string(index=False))\n",
    "\n",
    "# Plot\n",
    "top_n = 20\n",
    "top_features = feature_importance.head(top_n)\n",
    "\n",
    "plt.figure(figsize=(12, 8))\n",
    "plt.barh(range(len(top_features)), top_features['coefficient'])\n",
    "plt.yticks(range(len(top_features)), top_features['feature'])\n",
    "plt.xlabel('Coefficient', fontsize=12)\n",
    "plt.title(f'Top {top_n} Feature Coefficients - Logistic Regression', fontsize=14)\n",
    "plt.axvline(x=0, color='black', linestyle='--', linewidth=0.5)\n",
    "plt.gca().invert_yaxis()\n",
    "plt.tight_layout()\n",
    "plt.show()"
   ]
  },
  {
   "cell_type": "markdown",
   "metadata": {},
   "source": [
    "## Random Forest"
   ]
  },
  {
   "cell_type": "code",
   "execution_count": 34,
   "metadata": {},
   "outputs": [
    {
     "name": "stdout",
     "output_type": "stream",
     "text": [
      "Training Random Forest...\n",
      "✓ Training complete\n",
      "\n",
      "============================================================\n",
      "RANDOM FOREST - TEST SET\n",
      "============================================================\n",
      "                   precision    recall  f1-score   support\n",
      "\n",
      "No Future Illicit       1.00      0.85      0.92    241362\n",
      "   Future Illicit       0.00      0.72      0.00        71\n",
      "\n",
      "         accuracy                           0.85    241433\n",
      "        macro avg       0.50      0.78      0.46    241433\n",
      "     weighted avg       1.00      0.85      0.92    241433\n",
      "\n",
      "ROC-AUC: 0.8554\n"
     ]
    }
   ],
   "source": [
    "# Train random forest\n",
    "print(\"Training Random Forest...\")\n",
    "rf_model = RandomForestClassifier(\n",
    "    n_estimators=100,\n",
    "    max_depth=10,\n",
    "    random_state=42,\n",
    "    n_jobs=-1\n",
    ")\n",
    "\n",
    "rf_model.fit(X_train_scaled, y_train)\n",
    "print(\"✓ Training complete\")\n",
    "\n",
    "# Predictions\n",
    "y_pred_rf = rf_model.predict(X_test_scaled)\n",
    "y_proba_rf = rf_model.predict_proba(X_test_scaled)[:, 1]\n",
    "\n",
    "print(\"\\n\" + \"=\"*60)\n",
    "print(\"RANDOM FOREST - TEST SET\")\n",
    "print(\"=\"*60)\n",
    "print(classification_report(y_test, y_pred_rf, target_names=['No Future Illicit', 'Future Illicit']))\n",
    "print(f\"ROC-AUC: {roc_auc_score(y_test, y_proba_rf):.4f}\")"
   ]
  },
  {
   "cell_type": "markdown",
   "metadata": {},
   "source": [
    "## Compare Models"
   ]
  },
  {
   "cell_type": "code",
   "execution_count": 36,
   "metadata": {},
   "outputs": [
    {
     "data": {
      "image/png": "[encoded data removed]",
      "text/plain": [
       "<Figure size 1000x800 with 1 Axes>"
      ]
     },
     "metadata": {},
     "output_type": "display_data"
    }
   ],
   "source": [
    "fpr_lr, tpr_lr, _ = roc_curve(y_test, y_proba_test)\n",
    "fpr_rf, tpr_rf, _ = roc_curve(y_test, y_proba_rf)\n",
    "\n",
    "plt.figure(figsize=(10, 8))\n",
    "plt.plot(fpr_lr, tpr_lr, linewidth=2, label=f'Logistic Regression (AUC = {roc_auc_score(y_test, y_proba_test):.4f})')\n",
    "plt.plot(fpr_rf, tpr_rf, linewidth=2, label=f'Random Forest (AUC = {roc_auc_score(y_test, y_proba_rf):.4f})')\n",
    "plt.plot([0, 1], [0, 1], 'k--', label='Random Baseline')\n",
    "plt.xlabel('False Positive Rate', fontsize=12)\n",
    "plt.ylabel('True Positive Rate', fontsize=12)\n",
    "plt.title('ROC Curve Comparison - Test Set', fontsize=14)\n",
    "plt.legend(fontsize=12)\n",
    "plt.grid(True, alpha=0.3)\n",
    "plt.tight_layout()\n",
    "plt.show()"
   ]
  }
 ],
 "metadata": {
  "kernelspec": {
   "display_name": "graph-ml",
   "language": "python",
   "name": "python3"
  },
  "language_info": {
   "codemirror_mode": {
    "name": "ipython",
    "version": 3
   },
   "file_extension": ".py",
   "mimetype": "text/x-python",
   "name": "python",
   "nbconvert_exporter": "python",
   "pygments_lexer": "ipython3",
   "version": "3.11.13"
  }
 },
 "nbformat": 4,
 "nbformat_minor": 2
}
