{
 "cells": [
  {
   "cell_type": "code",
   "execution_count": 10,
   "id": "0761bd8c",
   "metadata": {},
   "outputs": [],
   "source": [
    "from pathlib import Path\n",
    "import sys\n",
    "\n",
    "ROOT = Path.cwd().parent\n",
    "sys.path.append(str(ROOT))\n",
    "\n",
    "import os, glob, re\n",
    "import pandas as pd\n",
    "import numpy as np\n",
    "\n",
    "from tqdm import tqdm\n",
    "from pathlib import Path\n",
    "from torch_geometric.data import Data\n",
    "from code_lib.graph_builder import build_emergence_graphs_for_time_range\n",
    "from code_lib.utils import load_parts"
   ]
  },
  {
   "cell_type": "code",
   "execution_count": 11,
   "id": "5d3dc34a",
   "metadata": {},
   "outputs": [],
   "source": [
    "DATA_DIR = \"../elliptic_dataset\"\n",
    "WALLETS_FEATURES = \"wallets_features.csv\"\n",
    "WALLETS_CLASSES = \"wallets_classes.csv\"\n",
    "EDGES_PREFIX = \"AddrTxAddr_edgelist_part_\""
   ]
  },
  {
   "cell_type": "code",
   "execution_count": 12,
   "id": "0d7afb22",
   "metadata": {},
   "outputs": [],
   "source": [
    "nodes = pd.read_csv(os.path.join(DATA_DIR, WALLETS_FEATURES))\n",
    "node_labels = pd.read_csv(os.path.join(DATA_DIR, WALLETS_CLASSES))\n",
    "edges_with_edge_labels = load_parts(DATA_DIR, EDGES_PREFIX)\n",
    "nodes_with_labels = nodes.merge(node_labels, on='address', how='left')"
   ]
  },
  {
   "cell_type": "markdown",
   "id": "528566a8",
   "metadata": {},
   "source": [
    "### Building the graphs"
   ]
  },
  {
   "cell_type": "markdown",
   "id": "ca87f420",
   "metadata": {},
   "source": [
    "First let's see if the binary / distance methods are consistent."
   ]
  },
  {
   "cell_type": "code",
   "execution_count": 13,
   "id": "d67b21a8",
   "metadata": {},
   "outputs": [
    {
     "name": "stdout",
     "output_type": "stream",
     "text": [
      "Total unique addresses across all time: 822942\n",
      "Total time steps: 49\n",
      "Generating 10 graphs (time steps 1 to 10)...\n",
      "\n",
      "t=1: nodes= 34853, edges=  66836, labels={np.int64(-1): 34853}\n",
      "t=2: nodes= 59236, edges= 199129, labels={np.int64(-1): 59236}\n",
      "t=3: nodes= 78510, edges= 264124, labels={np.int64(-1): 78489, np.int64(0): 2, np.int64(1): 2, np.int64(2): 17}\n",
      "t=4: nodes= 98707, edges= 331393, labels={np.int64(-1): 98668, np.int64(0): 6, np.int64(1): 8, np.int64(2): 25}\n",
      "t=5: nodes=120865, edges= 399829, labels={np.int64(-1): 119639, np.int64(0): 10, np.int64(1): 1022, np.int64(2): 194}\n",
      "t=6: nodes=131985, edges= 436559, labels={np.int64(-1): 130744, np.int64(0): 12, np.int64(1): 1027, np.int64(2): 202}\n",
      "t=7: nodes=152051, edges= 492636, labels={np.int64(-1): 147918, np.int64(0): 10, np.int64(1): 2796, np.int64(2): 1327}\n",
      "t=8: nodes=176366, edges= 578493, labels={np.int64(-1): 171122, np.int64(0): 11, np.int64(1): 3054, np.int64(2): 2179}\n",
      "t=9: nodes=194983, edges= 638467, labels={np.int64(-1): 190355, np.int64(0): 6, np.int64(1): 2440, np.int64(2): 2182}\n",
      "t=10: nodes=220639, edges= 701970, labels={np.int64(-1): 216981, np.int64(0): 8, np.int64(1): 1373, np.int64(2): 2277}\n",
      "\n",
      "Stored 10 graphs\n"
     ]
    }
   ],
   "source": [
    "graphs = build_emergence_graphs_for_time_range(\n",
    "    edges_with_labels_df=edges_with_edge_labels,\n",
    "    nodes_with_classes_df=nodes_with_labels,\n",
    "    first_time_step=1,\n",
    "    last_time_step=10,\n",
    "    max_walk_length=2,\n",
    "    time_horizon=3,\n",
    "    use_distance_labels=True,\n",
    "    keep_class_labels_as_features=False,\n",
    "    ignore_illict=True,\n",
    "    ignore_previously_transacting_with_illicit=True\n",
    ")"
   ]
  },
  {
   "cell_type": "code",
   "execution_count": 14,
   "id": "c68f3890",
   "metadata": {},
   "outputs": [
    {
     "name": "stdout",
     "output_type": "stream",
     "text": [
      "Total unique addresses across all time: 822942\n",
      "Total time steps: 49\n",
      "Generating 10 graphs (time steps 1 to 10)...\n",
      "\n",
      "t=1: nodes= 34853, edges=  66836, labels={np.int64(0): 34853}\n",
      "t=2: nodes= 59236, edges= 199129, labels={np.int64(0): 59236}\n",
      "t=3: nodes= 78510, edges= 264124, labels={np.int64(0): 78489, np.int64(1): 21}\n",
      "t=4: nodes= 98707, edges= 331393, labels={np.int64(0): 98668, np.int64(1): 39}\n",
      "t=5: nodes=120865, edges= 399829, labels={np.int64(0): 119639, np.int64(1): 1226}\n",
      "t=6: nodes=131985, edges= 436559, labels={np.int64(0): 130744, np.int64(1): 1241}\n",
      "t=7: nodes=152051, edges= 492636, labels={np.int64(0): 147918, np.int64(1): 4133}\n",
      "t=8: nodes=176366, edges= 578493, labels={np.int64(0): 171122, np.int64(1): 5244}\n",
      "t=9: nodes=194983, edges= 638467, labels={np.int64(0): 190355, np.int64(1): 4628}\n",
      "t=10: nodes=220639, edges= 701970, labels={np.int64(0): 216981, np.int64(1): 3658}\n",
      "\n",
      "Stored 10 graphs\n"
     ]
    }
   ],
   "source": [
    "binary_graphs = build_emergence_graphs_for_time_range(\n",
    "    edges_with_labels_df=edges_with_edge_labels,\n",
    "    nodes_with_classes_df=nodes_with_labels,\n",
    "    first_time_step=1,\n",
    "    last_time_step=10,\n",
    "    max_walk_length=2,\n",
    "    time_horizon=3,\n",
    "    use_distance_labels=False,\n",
    "    keep_class_labels_as_features=False,\n",
    "    ignore_illict=True,\n",
    "    ignore_previously_transacting_with_illicit=True\n",
    ")"
   ]
  },
  {
   "cell_type": "markdown",
   "id": "edf1f2ac",
   "metadata": {},
   "source": [
    "All looks good."
   ]
  },
  {
   "cell_type": "markdown",
   "id": "a2294c2e",
   "metadata": {},
   "source": [
    "#### Comapre impact of ignore_illicit and ignore_previously_transacting_with_illicit"
   ]
  },
  {
   "cell_type": "markdown",
   "id": "3ba13a4d",
   "metadata": {},
   "source": [
    "We run same as binary_graphs above but with those params changed."
   ]
  },
  {
   "cell_type": "markdown",
   "id": "22229e0b",
   "metadata": {},
   "source": [
    "Firts let's still ignore illicit, but not the ones that have only transacted with illict but are not illict themselves."
   ]
  },
  {
   "cell_type": "code",
   "execution_count": 15,
   "id": "f0bc1f04",
   "metadata": {},
   "outputs": [
    {
     "name": "stdout",
     "output_type": "stream",
     "text": [
      "Total unique addresses across all time: 822942\n",
      "Total time steps: 49\n",
      "Generating 10 graphs (time steps 1 to 10)...\n",
      "\n",
      "t=1: nodes= 34853, edges=  66836, labels={np.int64(0): 33665, np.int64(1): 1188}\n",
      "t=2: nodes= 59236, edges= 199129, labels={np.int64(0): 57571, np.int64(1): 1665}\n",
      "t=3: nodes= 78510, edges= 264124, labels={np.int64(0): 75725, np.int64(1): 2785}\n",
      "t=4: nodes= 98707, edges= 331393, labels={np.int64(0): 95589, np.int64(1): 3118}\n",
      "t=5: nodes=120865, edges= 399829, labels={np.int64(0): 118739, np.int64(1): 2126}\n",
      "t=6: nodes=131985, edges= 436559, labels={np.int64(0): 129843, np.int64(1): 2142}\n",
      "t=7: nodes=152051, edges= 492636, labels={np.int64(0): 147908, np.int64(1): 4143}\n",
      "t=8: nodes=176366, edges= 578493, labels={np.int64(0): 171063, np.int64(1): 5303}\n",
      "t=9: nodes=194983, edges= 638467, labels={np.int64(0): 188251, np.int64(1): 6732}\n",
      "t=10: nodes=220639, edges= 701970, labels={np.int64(0): 215461, np.int64(1): 5178}\n",
      "\n",
      "Stored 10 graphs\n"
     ]
    }
   ],
   "source": [
    "binary_graphs_only_ignore_illicit = build_emergence_graphs_for_time_range(\n",
    "    edges_with_labels_df=edges_with_edge_labels,\n",
    "    nodes_with_classes_df=nodes_with_labels,\n",
    "    first_time_step=1,\n",
    "    last_time_step=10,\n",
    "    max_walk_length=2,\n",
    "    time_horizon=3,\n",
    "    use_distance_labels=False,\n",
    "    keep_class_labels_as_features=False,\n",
    "    ignore_illict=True,\n",
    "    ignore_previously_transacting_with_illicit=False\n",
    ")"
   ]
  },
  {
   "cell_type": "markdown",
   "id": "ca9ff793",
   "metadata": {},
   "source": [
    "So we can see that this yields a large increase in positive labels - so many illict transactions and edges will appear nearby previous such areas. You don't need ml to know that, all it takes is a brain. Now lets not even ignore illicit."
   ]
  },
  {
   "cell_type": "code",
   "execution_count": 16,
   "id": "5c7b218d",
   "metadata": {},
   "outputs": [
    {
     "name": "stdout",
     "output_type": "stream",
     "text": [
      "Total unique addresses across all time: 822942\n",
      "Total time steps: 49\n",
      "Generating 10 graphs (time steps 1 to 10)...\n",
      "\n",
      "t=1: nodes= 34853, edges=  66836, labels={np.int64(0): 33657, np.int64(1): 1196}\n",
      "t=2: nodes= 59236, edges= 199129, labels={np.int64(0): 57552, np.int64(1): 1684}\n",
      "t=3: nodes= 78510, edges= 264124, labels={np.int64(0): 75700, np.int64(1): 2810}\n",
      "t=4: nodes= 98707, edges= 331393, labels={np.int64(0): 95296, np.int64(1): 3411}\n",
      "t=5: nodes=120865, edges= 399829, labels={np.int64(0): 118444, np.int64(1): 2421}\n",
      "t=6: nodes=131985, edges= 436559, labels={np.int64(0): 129558, np.int64(1): 2427}\n",
      "t=7: nodes=152051, edges= 492636, labels={np.int64(0): 147752, np.int64(1): 4299}\n",
      "t=8: nodes=176366, edges= 578493, labels={np.int64(0): 170894, np.int64(1): 5472}\n",
      "t=9: nodes=194983, edges= 638467, labels={np.int64(0): 188237, np.int64(1): 6746}\n",
      "t=10: nodes=220639, edges= 701970, labels={np.int64(0): 215447, np.int64(1): 5192}\n",
      "\n",
      "Stored 10 graphs\n"
     ]
    }
   ],
   "source": [
    "binary_graphs_only_ignore_illicit = build_emergence_graphs_for_time_range(\n",
    "    edges_with_labels_df=edges_with_edge_labels,\n",
    "    nodes_with_classes_df=nodes_with_labels,\n",
    "    first_time_step=1,\n",
    "    last_time_step=10,\n",
    "    max_walk_length=2,\n",
    "    time_horizon=3,\n",
    "    use_distance_labels=False,\n",
    "    keep_class_labels_as_features=False,\n",
    "    ignore_illict=False,\n",
    "    ignore_previously_transacting_with_illicit=False\n",
    ")"
   ]
  },
  {
   "cell_type": "markdown",
   "id": "0eb675de",
   "metadata": {},
   "source": [
    "So we can see that also allowing for positive labels and treating as psoitive neighbours for nodes that previously transacted with illicit yields a rather small further increase."
   ]
  },
  {
   "cell_type": "code",
   "execution_count": 17,
   "id": "c9714818",
   "metadata": {},
   "outputs": [
    {
     "name": "stdout",
     "output_type": "stream",
     "text": [
      "Total unique addresses across all time: 822942\n",
      "Total time steps: 49\n",
      "Generating 10 graphs (time steps 1 to 10)...\n",
      "\n",
      "t=1: nodes= 34853, edges=  66836, labels={np.int64(0): 34853}\n",
      "t=2: nodes= 59236, edges= 199129, labels={np.int64(0): 59226, np.int64(1): 10}\n",
      "t=3: nodes= 78510, edges= 264124, labels={np.int64(0): 78479, np.int64(1): 31}\n",
      "t=4: nodes= 98707, edges= 331393, labels={np.int64(0): 98502, np.int64(1): 205}\n",
      "t=5: nodes=120865, edges= 399829, labels={np.int64(0): 119473, np.int64(1): 1392}\n",
      "t=6: nodes=131985, edges= 436559, labels={np.int64(0): 130581, np.int64(1): 1404}\n",
      "t=7: nodes=152051, edges= 492636, labels={np.int64(0): 147873, np.int64(1): 4178}\n",
      "t=8: nodes=176366, edges= 578493, labels={np.int64(0): 171077, np.int64(1): 5289}\n",
      "t=9: nodes=194983, edges= 638467, labels={np.int64(0): 190355, np.int64(1): 4628}\n",
      "t=10: nodes=220639, edges= 701970, labels={np.int64(0): 216981, np.int64(1): 3658}\n",
      "\n",
      "Stored 10 graphs\n"
     ]
    }
   ],
   "source": [
    "binary_graphs_only_ignore_tarnsacting_with_illicit = build_emergence_graphs_for_time_range(\n",
    "    edges_with_labels_df=edges_with_edge_labels,\n",
    "    nodes_with_classes_df=nodes_with_labels,\n",
    "    first_time_step=1,\n",
    "    last_time_step=10,\n",
    "    max_walk_length=2,\n",
    "    time_horizon=3,\n",
    "    use_distance_labels=False,\n",
    "    keep_class_labels_as_features=False,\n",
    "    ignore_illict=False,\n",
    "    ignore_previously_transacting_with_illicit=True\n",
    ")"
   ]
  }
 ],
 "metadata": {
  "kernelspec": {
   "display_name": "graph-ml",
   "language": "python",
   "name": "python3"
  },
  "language_info": {
   "codemirror_mode": {
    "name": "ipython",
    "version": 3
   },
   "file_extension": ".py",
   "mimetype": "text/x-python",
   "name": "python",
   "nbconvert_exporter": "python",
   "pygments_lexer": "ipython3",
   "version": "3.11.13"
  }
 },
 "nbformat": 4,
 "nbformat_minor": 5
}
