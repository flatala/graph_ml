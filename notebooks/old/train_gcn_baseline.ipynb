{
 "cells": [
  {
   "cell_type": "code",
   "execution_count": 1,
   "id": "0761bd8c",
   "metadata": {},
   "outputs": [],
   "source": [
    "from pathlib import Path\n",
    "import sys\n",
    "\n",
    "ROOT = Path.cwd().parent\n",
    "sys.path.append(str(ROOT))\n",
    "\n",
    "import os, glob, re\n",
    "import pandas as pd\n",
    "import numpy as np\n",
    "\n",
    "from pathlib import Path\n",
    "import torch\n",
    "import math\n",
    "import torch.nn as nn\n",
    "import torch.nn.functional as F\n",
    "\n",
    "from tqdm import tqdm\n",
    "from pathlib import Path\n",
    "from torch_geometric.data import Data\n",
    "from torch_geometric.loader import TemporalDataLoader\n",
    "from code_lib.graph_builder import build_emergence_graphs_for_time_range\n",
    "from code_lib.utils import load_parts\n",
    "from torch_geometric.nn.models.tgn import LastNeighborLoader\n"
   ]
  },
  {
   "cell_type": "code",
   "execution_count": 2,
   "id": "5d3dc34a",
   "metadata": {},
   "outputs": [],
   "source": [
    "DATA_DIR = \"../elliptic_dataset\"\n",
    "WALLETS_FEATURES = \"wallets_features_until_t.csv\"\n",
    "WALLETS_CLASSES = \"wallets_classes.csv\"\n",
    "EDGES_PREFIX = \"AddrTxAddr_edgelist_part_\""
   ]
  },
  {
   "cell_type": "code",
   "execution_count": 3,
   "id": "0d7afb22",
   "metadata": {},
   "outputs": [],
   "source": [
    "nodes = pd.read_csv(os.path.join(DATA_DIR, WALLETS_FEATURES))\n",
    "node_labels = pd.read_csv(os.path.join(DATA_DIR, WALLETS_CLASSES))\n",
    "edges_with_edge_labels = load_parts(DATA_DIR, EDGES_PREFIX)\n",
    "nodes_with_labels = nodes.merge(node_labels, on='address', how='left')"
   ]
  },
  {
   "cell_type": "markdown",
   "id": "528566a8",
   "metadata": {},
   "source": [
    "### Training a baseline\n",
    "\n",
    "Let's train a simple baseline on a bianry graph with walk length 2 and looking 3 time steps ahead.\n",
    "Let's say we train n time steps 1-37 and evaluate on 40-46 (37 + time horizon, otherwise it's cheating)"
   ]
  },
  {
   "cell_type": "code",
   "execution_count": 4,
   "id": "c68f3890",
   "metadata": {},
   "outputs": [
    {
     "name": "stdout",
     "output_type": "stream",
     "text": [
      "Building graphs only for required timesteps...\n",
      "Required timesteps: [20, 23, 30, 31, 34, 35, 39]\n"
     ]
    },
    {
     "name": "stderr",
     "output_type": "stream",
     "text": [
      "Building graphs:   0%|          | 0/7 [00:00<?, ?it/s]"
     ]
    },
    {
     "name": "stdout",
     "output_type": "stream",
     "text": [
      "Building graphs only for required timesteps...\n",
      "Required timesteps: [20, 23, 30, 31, 34, 35, 39]\n"
     ]
    },
    {
     "name": "stderr",
     "output_type": "stream",
     "text": [
      "Building graphs:   0%|          | 0/7 [00:00<?, ?it/s]"
     ]
    },
    {
     "name": "stdout",
     "output_type": "stream",
     "text": [
      "Total unique addresses across all time: 822942\n",
      "Total time steps: 49\n",
      "Generating 1 graphs (time steps 20 to 20)...\n",
      "\n",
      "Pre-processing edges by time step...\n",
      "Pre-processing edges by time step...\n",
      "\n",
      "Building graphs...\n",
      "\n",
      "Building graphs...\n"
     ]
    },
    {
     "name": "stdout",
     "output_type": "stream",
     "text": [
      "Building graphs only for required timesteps...\n",
      "Required timesteps: [20, 23, 30, 31, 34, 35, 39]\n"
     ]
    },
    {
     "name": "stderr",
     "output_type": "stream",
     "text": [
      "Building graphs:   0%|          | 0/7 [00:00<?, ?it/s]"
     ]
    },
    {
     "name": "stdout",
     "output_type": "stream",
     "text": [
      "Total unique addresses across all time: 822942\n",
      "Total time steps: 49\n",
      "Generating 1 graphs (time steps 20 to 20)...\n",
      "\n",
      "Pre-processing edges by time step...\n",
      "Pre-processing edges by time step...\n",
      "\n",
      "Building graphs...\n",
      "\n",
      "Building graphs...\n"
     ]
    },
    {
     "name": "stderr",
     "output_type": "stream",
     "text": [
      "Building graphs:  14%|█▍        | 1/7 [00:39<03:54, 39.05s/it]"
     ]
    },
    {
     "name": "stdout",
     "output_type": "stream",
     "text": [
      "Building graphs only for required timesteps...\n",
      "Required timesteps: [20, 23, 30, 31, 34, 35, 39]\n"
     ]
    },
    {
     "name": "stderr",
     "output_type": "stream",
     "text": [
      "Building graphs:   0%|          | 0/7 [00:00<?, ?it/s]"
     ]
    },
    {
     "name": "stdout",
     "output_type": "stream",
     "text": [
      "Total unique addresses across all time: 822942\n",
      "Total time steps: 49\n",
      "Generating 1 graphs (time steps 20 to 20)...\n",
      "\n",
      "Pre-processing edges by time step...\n",
      "Pre-processing edges by time step...\n",
      "\n",
      "Building graphs...\n",
      "\n",
      "Building graphs...\n"
     ]
    },
    {
     "name": "stderr",
     "output_type": "stream",
     "text": [
      "Building graphs:  14%|█▍        | 1/7 [00:39<03:54, 39.05s/it]"
     ]
    },
    {
     "name": "stdout",
     "output_type": "stream",
     "text": [
      "  t=20: nodes=345524, edges=1084995, labels={0: 299479, 1: 46045}\n",
      "\n",
      "Stored 1 graphs\n",
      "Total unique addresses across all time: 822942\n",
      "Total time steps: 49\n",
      "Generating 1 graphs (time steps 23 to 23)...\n",
      "\n",
      "Pre-processing edges by time step...\n",
      "Pre-processing edges by time step...\n",
      "\n",
      "Building graphs...\n",
      "\n",
      "Building graphs...\n"
     ]
    },
    {
     "name": "stdout",
     "output_type": "stream",
     "text": [
      "Building graphs only for required timesteps...\n",
      "Required timesteps: [20, 23, 30, 31, 34, 35, 39]\n"
     ]
    },
    {
     "name": "stderr",
     "output_type": "stream",
     "text": [
      "Building graphs:   0%|          | 0/7 [00:00<?, ?it/s]"
     ]
    },
    {
     "name": "stdout",
     "output_type": "stream",
     "text": [
      "Total unique addresses across all time: 822942\n",
      "Total time steps: 49\n",
      "Generating 1 graphs (time steps 20 to 20)...\n",
      "\n",
      "Pre-processing edges by time step...\n",
      "Pre-processing edges by time step...\n",
      "\n",
      "Building graphs...\n",
      "\n",
      "Building graphs...\n"
     ]
    },
    {
     "name": "stderr",
     "output_type": "stream",
     "text": [
      "Building graphs:  14%|█▍        | 1/7 [00:39<03:54, 39.05s/it]"
     ]
    },
    {
     "name": "stdout",
     "output_type": "stream",
     "text": [
      "  t=20: nodes=345524, edges=1084995, labels={0: 299479, 1: 46045}\n",
      "\n",
      "Stored 1 graphs\n",
      "Total unique addresses across all time: 822942\n",
      "Total time steps: 49\n",
      "Generating 1 graphs (time steps 23 to 23)...\n",
      "\n",
      "Pre-processing edges by time step...\n",
      "Pre-processing edges by time step...\n",
      "\n",
      "Building graphs...\n",
      "\n",
      "Building graphs...\n"
     ]
    },
    {
     "name": "stderr",
     "output_type": "stream",
     "text": [
      "Building graphs:  29%|██▊       | 2/7 [01:24<03:34, 42.95s/it]"
     ]
    },
    {
     "name": "stdout",
     "output_type": "stream",
     "text": [
      "Building graphs only for required timesteps...\n",
      "Required timesteps: [20, 23, 30, 31, 34, 35, 39]\n"
     ]
    },
    {
     "name": "stderr",
     "output_type": "stream",
     "text": [
      "Building graphs:   0%|          | 0/7 [00:00<?, ?it/s]"
     ]
    },
    {
     "name": "stdout",
     "output_type": "stream",
     "text": [
      "Total unique addresses across all time: 822942\n",
      "Total time steps: 49\n",
      "Generating 1 graphs (time steps 20 to 20)...\n",
      "\n",
      "Pre-processing edges by time step...\n",
      "Pre-processing edges by time step...\n",
      "\n",
      "Building graphs...\n",
      "\n",
      "Building graphs...\n"
     ]
    },
    {
     "name": "stderr",
     "output_type": "stream",
     "text": [
      "Building graphs:  14%|█▍        | 1/7 [00:39<03:54, 39.05s/it]"
     ]
    },
    {
     "name": "stdout",
     "output_type": "stream",
     "text": [
      "  t=20: nodes=345524, edges=1084995, labels={0: 299479, 1: 46045}\n",
      "\n",
      "Stored 1 graphs\n",
      "Total unique addresses across all time: 822942\n",
      "Total time steps: 49\n",
      "Generating 1 graphs (time steps 23 to 23)...\n",
      "\n",
      "Pre-processing edges by time step...\n",
      "Pre-processing edges by time step...\n",
      "\n",
      "Building graphs...\n",
      "\n",
      "Building graphs...\n"
     ]
    },
    {
     "name": "stderr",
     "output_type": "stream",
     "text": [
      "Building graphs:  29%|██▊       | 2/7 [01:24<03:34, 42.95s/it]"
     ]
    },
    {
     "name": "stdout",
     "output_type": "stream",
     "text": [
      "  t=23: nodes=408092, edges=1326365, labels={0: 358022, 1: 50070}\n",
      "\n",
      "Stored 1 graphs\n",
      "Total unique addresses across all time: 822942\n",
      "Total time steps: 49\n",
      "Generating 1 graphs (time steps 30 to 30)...\n",
      "\n",
      "Pre-processing edges by time step...\n",
      "Pre-processing edges by time step...\n",
      "\n",
      "Building graphs...\n",
      "\n",
      "Building graphs...\n"
     ]
    },
    {
     "name": "stdout",
     "output_type": "stream",
     "text": [
      "Building graphs only for required timesteps...\n",
      "Required timesteps: [20, 23, 30, 31, 34, 35, 39]\n"
     ]
    },
    {
     "name": "stderr",
     "output_type": "stream",
     "text": [
      "Building graphs:   0%|          | 0/7 [00:00<?, ?it/s]"
     ]
    },
    {
     "name": "stdout",
     "output_type": "stream",
     "text": [
      "Total unique addresses across all time: 822942\n",
      "Total time steps: 49\n",
      "Generating 1 graphs (time steps 20 to 20)...\n",
      "\n",
      "Pre-processing edges by time step...\n",
      "Pre-processing edges by time step...\n",
      "\n",
      "Building graphs...\n",
      "\n",
      "Building graphs...\n"
     ]
    },
    {
     "name": "stderr",
     "output_type": "stream",
     "text": [
      "Building graphs:  14%|█▍        | 1/7 [00:39<03:54, 39.05s/it]"
     ]
    },
    {
     "name": "stdout",
     "output_type": "stream",
     "text": [
      "  t=20: nodes=345524, edges=1084995, labels={0: 299479, 1: 46045}\n",
      "\n",
      "Stored 1 graphs\n",
      "Total unique addresses across all time: 822942\n",
      "Total time steps: 49\n",
      "Generating 1 graphs (time steps 23 to 23)...\n",
      "\n",
      "Pre-processing edges by time step...\n",
      "Pre-processing edges by time step...\n",
      "\n",
      "Building graphs...\n",
      "\n",
      "Building graphs...\n"
     ]
    },
    {
     "name": "stderr",
     "output_type": "stream",
     "text": [
      "Building graphs:  29%|██▊       | 2/7 [01:24<03:34, 42.95s/it]"
     ]
    },
    {
     "name": "stdout",
     "output_type": "stream",
     "text": [
      "  t=23: nodes=408092, edges=1326365, labels={0: 358022, 1: 50070}\n",
      "\n",
      "Stored 1 graphs\n",
      "Total unique addresses across all time: 822942\n",
      "Total time steps: 49\n",
      "Generating 1 graphs (time steps 30 to 30)...\n",
      "\n",
      "Pre-processing edges by time step...\n",
      "Pre-processing edges by time step...\n",
      "\n",
      "Building graphs...\n",
      "\n",
      "Building graphs...\n"
     ]
    },
    {
     "name": "stderr",
     "output_type": "stream",
     "text": [
      "Building graphs:  43%|████▎     | 3/7 [02:34<03:40, 55.08s/it]"
     ]
    },
    {
     "name": "stdout",
     "output_type": "stream",
     "text": [
      "Building graphs only for required timesteps...\n",
      "Required timesteps: [20, 23, 30, 31, 34, 35, 39]\n"
     ]
    },
    {
     "name": "stderr",
     "output_type": "stream",
     "text": [
      "Building graphs:   0%|          | 0/7 [00:00<?, ?it/s]"
     ]
    },
    {
     "name": "stdout",
     "output_type": "stream",
     "text": [
      "Total unique addresses across all time: 822942\n",
      "Total time steps: 49\n",
      "Generating 1 graphs (time steps 20 to 20)...\n",
      "\n",
      "Pre-processing edges by time step...\n",
      "Pre-processing edges by time step...\n",
      "\n",
      "Building graphs...\n",
      "\n",
      "Building graphs...\n"
     ]
    },
    {
     "name": "stderr",
     "output_type": "stream",
     "text": [
      "Building graphs:  14%|█▍        | 1/7 [00:39<03:54, 39.05s/it]"
     ]
    },
    {
     "name": "stdout",
     "output_type": "stream",
     "text": [
      "  t=20: nodes=345524, edges=1084995, labels={0: 299479, 1: 46045}\n",
      "\n",
      "Stored 1 graphs\n",
      "Total unique addresses across all time: 822942\n",
      "Total time steps: 49\n",
      "Generating 1 graphs (time steps 23 to 23)...\n",
      "\n",
      "Pre-processing edges by time step...\n",
      "Pre-processing edges by time step...\n",
      "\n",
      "Building graphs...\n",
      "\n",
      "Building graphs...\n"
     ]
    },
    {
     "name": "stderr",
     "output_type": "stream",
     "text": [
      "Building graphs:  29%|██▊       | 2/7 [01:24<03:34, 42.95s/it]"
     ]
    },
    {
     "name": "stdout",
     "output_type": "stream",
     "text": [
      "  t=23: nodes=408092, edges=1326365, labels={0: 358022, 1: 50070}\n",
      "\n",
      "Stored 1 graphs\n",
      "Total unique addresses across all time: 822942\n",
      "Total time steps: 49\n",
      "Generating 1 graphs (time steps 30 to 30)...\n",
      "\n",
      "Pre-processing edges by time step...\n",
      "Pre-processing edges by time step...\n",
      "\n",
      "Building graphs...\n",
      "\n",
      "Building graphs...\n"
     ]
    },
    {
     "name": "stderr",
     "output_type": "stream",
     "text": [
      "Building graphs:  43%|████▎     | 3/7 [02:34<03:40, 55.08s/it]"
     ]
    },
    {
     "name": "stdout",
     "output_type": "stream",
     "text": [
      "  t=30: nodes=482733, edges=1525398, labels={0: 431834, 1: 50899}\n",
      "\n",
      "Stored 1 graphs\n",
      "Total unique addresses across all time: 822942\n",
      "Total time steps: 49\n",
      "Generating 1 graphs (time steps 31 to 31)...\n",
      "\n",
      "Pre-processing edges by time step...\n",
      "Pre-processing edges by time step...\n",
      "\n",
      "Building graphs...\n",
      "\n",
      "Building graphs...\n"
     ]
    },
    {
     "name": "stdout",
     "output_type": "stream",
     "text": [
      "Building graphs only for required timesteps...\n",
      "Required timesteps: [20, 23, 30, 31, 34, 35, 39]\n"
     ]
    },
    {
     "name": "stderr",
     "output_type": "stream",
     "text": [
      "Building graphs:   0%|          | 0/7 [00:00<?, ?it/s]"
     ]
    },
    {
     "name": "stdout",
     "output_type": "stream",
     "text": [
      "Total unique addresses across all time: 822942\n",
      "Total time steps: 49\n",
      "Generating 1 graphs (time steps 20 to 20)...\n",
      "\n",
      "Pre-processing edges by time step...\n",
      "Pre-processing edges by time step...\n",
      "\n",
      "Building graphs...\n",
      "\n",
      "Building graphs...\n"
     ]
    },
    {
     "name": "stderr",
     "output_type": "stream",
     "text": [
      "Building graphs:  14%|█▍        | 1/7 [00:39<03:54, 39.05s/it]"
     ]
    },
    {
     "name": "stdout",
     "output_type": "stream",
     "text": [
      "  t=20: nodes=345524, edges=1084995, labels={0: 299479, 1: 46045}\n",
      "\n",
      "Stored 1 graphs\n",
      "Total unique addresses across all time: 822942\n",
      "Total time steps: 49\n",
      "Generating 1 graphs (time steps 23 to 23)...\n",
      "\n",
      "Pre-processing edges by time step...\n",
      "Pre-processing edges by time step...\n",
      "\n",
      "Building graphs...\n",
      "\n",
      "Building graphs...\n"
     ]
    },
    {
     "name": "stderr",
     "output_type": "stream",
     "text": [
      "Building graphs:  29%|██▊       | 2/7 [01:24<03:34, 42.95s/it]"
     ]
    },
    {
     "name": "stdout",
     "output_type": "stream",
     "text": [
      "  t=23: nodes=408092, edges=1326365, labels={0: 358022, 1: 50070}\n",
      "\n",
      "Stored 1 graphs\n",
      "Total unique addresses across all time: 822942\n",
      "Total time steps: 49\n",
      "Generating 1 graphs (time steps 30 to 30)...\n",
      "\n",
      "Pre-processing edges by time step...\n",
      "Pre-processing edges by time step...\n",
      "\n",
      "Building graphs...\n",
      "\n",
      "Building graphs...\n"
     ]
    },
    {
     "name": "stderr",
     "output_type": "stream",
     "text": [
      "Building graphs:  43%|████▎     | 3/7 [02:34<03:40, 55.08s/it]"
     ]
    },
    {
     "name": "stdout",
     "output_type": "stream",
     "text": [
      "  t=30: nodes=482733, edges=1525398, labels={0: 431834, 1: 50899}\n",
      "\n",
      "Stored 1 graphs\n",
      "Total unique addresses across all time: 822942\n",
      "Total time steps: 49\n",
      "Generating 1 graphs (time steps 31 to 31)...\n",
      "\n",
      "Pre-processing edges by time step...\n",
      "Pre-processing edges by time step...\n",
      "\n",
      "Building graphs...\n",
      "\n",
      "Building graphs...\n"
     ]
    },
    {
     "name": "stderr",
     "output_type": "stream",
     "text": [
      "Building graphs:  57%|█████▋    | 4/7 [03:51<03:10, 63.64s/it]"
     ]
    },
    {
     "name": "stdout",
     "output_type": "stream",
     "text": [
      "Building graphs only for required timesteps...\n",
      "Required timesteps: [20, 23, 30, 31, 34, 35, 39]\n"
     ]
    },
    {
     "name": "stderr",
     "output_type": "stream",
     "text": [
      "Building graphs:   0%|          | 0/7 [00:00<?, ?it/s]"
     ]
    },
    {
     "name": "stdout",
     "output_type": "stream",
     "text": [
      "Total unique addresses across all time: 822942\n",
      "Total time steps: 49\n",
      "Generating 1 graphs (time steps 20 to 20)...\n",
      "\n",
      "Pre-processing edges by time step...\n",
      "Pre-processing edges by time step...\n",
      "\n",
      "Building graphs...\n",
      "\n",
      "Building graphs...\n"
     ]
    },
    {
     "name": "stderr",
     "output_type": "stream",
     "text": [
      "Building graphs:  14%|█▍        | 1/7 [00:39<03:54, 39.05s/it]"
     ]
    },
    {
     "name": "stdout",
     "output_type": "stream",
     "text": [
      "  t=20: nodes=345524, edges=1084995, labels={0: 299479, 1: 46045}\n",
      "\n",
      "Stored 1 graphs\n",
      "Total unique addresses across all time: 822942\n",
      "Total time steps: 49\n",
      "Generating 1 graphs (time steps 23 to 23)...\n",
      "\n",
      "Pre-processing edges by time step...\n",
      "Pre-processing edges by time step...\n",
      "\n",
      "Building graphs...\n",
      "\n",
      "Building graphs...\n"
     ]
    },
    {
     "name": "stderr",
     "output_type": "stream",
     "text": [
      "Building graphs:  29%|██▊       | 2/7 [01:24<03:34, 42.95s/it]"
     ]
    },
    {
     "name": "stdout",
     "output_type": "stream",
     "text": [
      "  t=23: nodes=408092, edges=1326365, labels={0: 358022, 1: 50070}\n",
      "\n",
      "Stored 1 graphs\n",
      "Total unique addresses across all time: 822942\n",
      "Total time steps: 49\n",
      "Generating 1 graphs (time steps 30 to 30)...\n",
      "\n",
      "Pre-processing edges by time step...\n",
      "Pre-processing edges by time step...\n",
      "\n",
      "Building graphs...\n",
      "\n",
      "Building graphs...\n"
     ]
    },
    {
     "name": "stderr",
     "output_type": "stream",
     "text": [
      "Building graphs:  43%|████▎     | 3/7 [02:34<03:40, 55.08s/it]"
     ]
    },
    {
     "name": "stdout",
     "output_type": "stream",
     "text": [
      "  t=30: nodes=482733, edges=1525398, labels={0: 431834, 1: 50899}\n",
      "\n",
      "Stored 1 graphs\n",
      "Total unique addresses across all time: 822942\n",
      "Total time steps: 49\n",
      "Generating 1 graphs (time steps 31 to 31)...\n",
      "\n",
      "Pre-processing edges by time step...\n",
      "Pre-processing edges by time step...\n",
      "\n",
      "Building graphs...\n",
      "\n",
      "Building graphs...\n"
     ]
    },
    {
     "name": "stderr",
     "output_type": "stream",
     "text": [
      "Building graphs:  57%|█████▋    | 4/7 [03:51<03:10, 63.64s/it]"
     ]
    },
    {
     "name": "stdout",
     "output_type": "stream",
     "text": [
      "  t=31: nodes=495199, edges=1553241, labels={0: 425270, 1: 69929}\n",
      "\n",
      "Stored 1 graphs\n",
      "Total unique addresses across all time: 822942\n",
      "Total time steps: 49\n",
      "Generating 1 graphs (time steps 34 to 34)...\n",
      "\n",
      "Pre-processing edges by time step...\n",
      "Pre-processing edges by time step...\n",
      "\n",
      "Building graphs...\n",
      "\n",
      "Building graphs...\n"
     ]
    },
    {
     "name": "stdout",
     "output_type": "stream",
     "text": [
      "Building graphs only for required timesteps...\n",
      "Required timesteps: [20, 23, 30, 31, 34, 35, 39]\n"
     ]
    },
    {
     "name": "stderr",
     "output_type": "stream",
     "text": [
      "Building graphs:   0%|          | 0/7 [00:00<?, ?it/s]"
     ]
    },
    {
     "name": "stdout",
     "output_type": "stream",
     "text": [
      "Total unique addresses across all time: 822942\n",
      "Total time steps: 49\n",
      "Generating 1 graphs (time steps 20 to 20)...\n",
      "\n",
      "Pre-processing edges by time step...\n",
      "Pre-processing edges by time step...\n",
      "\n",
      "Building graphs...\n",
      "\n",
      "Building graphs...\n"
     ]
    },
    {
     "name": "stderr",
     "output_type": "stream",
     "text": [
      "Building graphs:  14%|█▍        | 1/7 [00:39<03:54, 39.05s/it]"
     ]
    },
    {
     "name": "stdout",
     "output_type": "stream",
     "text": [
      "  t=20: nodes=345524, edges=1084995, labels={0: 299479, 1: 46045}\n",
      "\n",
      "Stored 1 graphs\n",
      "Total unique addresses across all time: 822942\n",
      "Total time steps: 49\n",
      "Generating 1 graphs (time steps 23 to 23)...\n",
      "\n",
      "Pre-processing edges by time step...\n",
      "Pre-processing edges by time step...\n",
      "\n",
      "Building graphs...\n",
      "\n",
      "Building graphs...\n"
     ]
    },
    {
     "name": "stderr",
     "output_type": "stream",
     "text": [
      "Building graphs:  29%|██▊       | 2/7 [01:24<03:34, 42.95s/it]"
     ]
    },
    {
     "name": "stdout",
     "output_type": "stream",
     "text": [
      "  t=23: nodes=408092, edges=1326365, labels={0: 358022, 1: 50070}\n",
      "\n",
      "Stored 1 graphs\n",
      "Total unique addresses across all time: 822942\n",
      "Total time steps: 49\n",
      "Generating 1 graphs (time steps 30 to 30)...\n",
      "\n",
      "Pre-processing edges by time step...\n",
      "Pre-processing edges by time step...\n",
      "\n",
      "Building graphs...\n",
      "\n",
      "Building graphs...\n"
     ]
    },
    {
     "name": "stderr",
     "output_type": "stream",
     "text": [
      "Building graphs:  43%|████▎     | 3/7 [02:34<03:40, 55.08s/it]"
     ]
    },
    {
     "name": "stdout",
     "output_type": "stream",
     "text": [
      "  t=30: nodes=482733, edges=1525398, labels={0: 431834, 1: 50899}\n",
      "\n",
      "Stored 1 graphs\n",
      "Total unique addresses across all time: 822942\n",
      "Total time steps: 49\n",
      "Generating 1 graphs (time steps 31 to 31)...\n",
      "\n",
      "Pre-processing edges by time step...\n",
      "Pre-processing edges by time step...\n",
      "\n",
      "Building graphs...\n",
      "\n",
      "Building graphs...\n"
     ]
    },
    {
     "name": "stderr",
     "output_type": "stream",
     "text": [
      "Building graphs:  57%|█████▋    | 4/7 [03:51<03:10, 63.64s/it]"
     ]
    },
    {
     "name": "stdout",
     "output_type": "stream",
     "text": [
      "  t=31: nodes=495199, edges=1553241, labels={0: 425270, 1: 69929}\n",
      "\n",
      "Stored 1 graphs\n",
      "Total unique addresses across all time: 822942\n",
      "Total time steps: 49\n",
      "Generating 1 graphs (time steps 34 to 34)...\n",
      "\n",
      "Pre-processing edges by time step...\n",
      "Pre-processing edges by time step...\n",
      "\n",
      "Building graphs...\n",
      "\n",
      "Building graphs...\n"
     ]
    },
    {
     "name": "stderr",
     "output_type": "stream",
     "text": [
      "Building graphs:  71%|███████▏  | 5/7 [04:57<02:09, 64.85s/it]"
     ]
    },
    {
     "name": "stdout",
     "output_type": "stream",
     "text": [
      "Building graphs only for required timesteps...\n",
      "Required timesteps: [20, 23, 30, 31, 34, 35, 39]\n"
     ]
    },
    {
     "name": "stderr",
     "output_type": "stream",
     "text": [
      "Building graphs:   0%|          | 0/7 [00:00<?, ?it/s]"
     ]
    },
    {
     "name": "stdout",
     "output_type": "stream",
     "text": [
      "Total unique addresses across all time: 822942\n",
      "Total time steps: 49\n",
      "Generating 1 graphs (time steps 20 to 20)...\n",
      "\n",
      "Pre-processing edges by time step...\n",
      "Pre-processing edges by time step...\n",
      "\n",
      "Building graphs...\n",
      "\n",
      "Building graphs...\n"
     ]
    },
    {
     "name": "stderr",
     "output_type": "stream",
     "text": [
      "Building graphs:  14%|█▍        | 1/7 [00:39<03:54, 39.05s/it]"
     ]
    },
    {
     "name": "stdout",
     "output_type": "stream",
     "text": [
      "  t=20: nodes=345524, edges=1084995, labels={0: 299479, 1: 46045}\n",
      "\n",
      "Stored 1 graphs\n",
      "Total unique addresses across all time: 822942\n",
      "Total time steps: 49\n",
      "Generating 1 graphs (time steps 23 to 23)...\n",
      "\n",
      "Pre-processing edges by time step...\n",
      "Pre-processing edges by time step...\n",
      "\n",
      "Building graphs...\n",
      "\n",
      "Building graphs...\n"
     ]
    },
    {
     "name": "stderr",
     "output_type": "stream",
     "text": [
      "Building graphs:  29%|██▊       | 2/7 [01:24<03:34, 42.95s/it]"
     ]
    },
    {
     "name": "stdout",
     "output_type": "stream",
     "text": [
      "  t=23: nodes=408092, edges=1326365, labels={0: 358022, 1: 50070}\n",
      "\n",
      "Stored 1 graphs\n",
      "Total unique addresses across all time: 822942\n",
      "Total time steps: 49\n",
      "Generating 1 graphs (time steps 30 to 30)...\n",
      "\n",
      "Pre-processing edges by time step...\n",
      "Pre-processing edges by time step...\n",
      "\n",
      "Building graphs...\n",
      "\n",
      "Building graphs...\n"
     ]
    },
    {
     "name": "stderr",
     "output_type": "stream",
     "text": [
      "Building graphs:  43%|████▎     | 3/7 [02:34<03:40, 55.08s/it]"
     ]
    },
    {
     "name": "stdout",
     "output_type": "stream",
     "text": [
      "  t=30: nodes=482733, edges=1525398, labels={0: 431834, 1: 50899}\n",
      "\n",
      "Stored 1 graphs\n",
      "Total unique addresses across all time: 822942\n",
      "Total time steps: 49\n",
      "Generating 1 graphs (time steps 31 to 31)...\n",
      "\n",
      "Pre-processing edges by time step...\n",
      "Pre-processing edges by time step...\n",
      "\n",
      "Building graphs...\n",
      "\n",
      "Building graphs...\n"
     ]
    },
    {
     "name": "stderr",
     "output_type": "stream",
     "text": [
      "Building graphs:  57%|█████▋    | 4/7 [03:51<03:10, 63.64s/it]"
     ]
    },
    {
     "name": "stdout",
     "output_type": "stream",
     "text": [
      "  t=31: nodes=495199, edges=1553241, labels={0: 425270, 1: 69929}\n",
      "\n",
      "Stored 1 graphs\n",
      "Total unique addresses across all time: 822942\n",
      "Total time steps: 49\n",
      "Generating 1 graphs (time steps 34 to 34)...\n",
      "\n",
      "Pre-processing edges by time step...\n",
      "Pre-processing edges by time step...\n",
      "\n",
      "Building graphs...\n",
      "\n",
      "Building graphs...\n"
     ]
    },
    {
     "name": "stderr",
     "output_type": "stream",
     "text": [
      "Building graphs:  71%|███████▏  | 5/7 [04:57<02:09, 64.85s/it]"
     ]
    },
    {
     "name": "stdout",
     "output_type": "stream",
     "text": [
      "  t=34: nodes=530840, edges=1810073, labels={0: 474089, 1: 56751}\n",
      "\n",
      "Stored 1 graphs\n",
      "Total unique addresses across all time: 822942\n",
      "Total time steps: 49\n",
      "Generating 1 graphs (time steps 35 to 35)...\n",
      "\n",
      "Pre-processing edges by time step...\n",
      "Pre-processing edges by time step...\n",
      "\n",
      "Building graphs...\n",
      "\n",
      "Building graphs...\n"
     ]
    },
    {
     "name": "stdout",
     "output_type": "stream",
     "text": [
      "Building graphs only for required timesteps...\n",
      "Required timesteps: [20, 23, 30, 31, 34, 35, 39]\n"
     ]
    },
    {
     "name": "stderr",
     "output_type": "stream",
     "text": [
      "Building graphs:   0%|          | 0/7 [00:00<?, ?it/s]"
     ]
    },
    {
     "name": "stdout",
     "output_type": "stream",
     "text": [
      "Total unique addresses across all time: 822942\n",
      "Total time steps: 49\n",
      "Generating 1 graphs (time steps 20 to 20)...\n",
      "\n",
      "Pre-processing edges by time step...\n",
      "Pre-processing edges by time step...\n",
      "\n",
      "Building graphs...\n",
      "\n",
      "Building graphs...\n"
     ]
    },
    {
     "name": "stderr",
     "output_type": "stream",
     "text": [
      "Building graphs:  14%|█▍        | 1/7 [00:39<03:54, 39.05s/it]"
     ]
    },
    {
     "name": "stdout",
     "output_type": "stream",
     "text": [
      "  t=20: nodes=345524, edges=1084995, labels={0: 299479, 1: 46045}\n",
      "\n",
      "Stored 1 graphs\n",
      "Total unique addresses across all time: 822942\n",
      "Total time steps: 49\n",
      "Generating 1 graphs (time steps 23 to 23)...\n",
      "\n",
      "Pre-processing edges by time step...\n",
      "Pre-processing edges by time step...\n",
      "\n",
      "Building graphs...\n",
      "\n",
      "Building graphs...\n"
     ]
    },
    {
     "name": "stderr",
     "output_type": "stream",
     "text": [
      "Building graphs:  29%|██▊       | 2/7 [01:24<03:34, 42.95s/it]"
     ]
    },
    {
     "name": "stdout",
     "output_type": "stream",
     "text": [
      "  t=23: nodes=408092, edges=1326365, labels={0: 358022, 1: 50070}\n",
      "\n",
      "Stored 1 graphs\n",
      "Total unique addresses across all time: 822942\n",
      "Total time steps: 49\n",
      "Generating 1 graphs (time steps 30 to 30)...\n",
      "\n",
      "Pre-processing edges by time step...\n",
      "Pre-processing edges by time step...\n",
      "\n",
      "Building graphs...\n",
      "\n",
      "Building graphs...\n"
     ]
    },
    {
     "name": "stderr",
     "output_type": "stream",
     "text": [
      "Building graphs:  43%|████▎     | 3/7 [02:34<03:40, 55.08s/it]"
     ]
    },
    {
     "name": "stdout",
     "output_type": "stream",
     "text": [
      "  t=30: nodes=482733, edges=1525398, labels={0: 431834, 1: 50899}\n",
      "\n",
      "Stored 1 graphs\n",
      "Total unique addresses across all time: 822942\n",
      "Total time steps: 49\n",
      "Generating 1 graphs (time steps 31 to 31)...\n",
      "\n",
      "Pre-processing edges by time step...\n",
      "Pre-processing edges by time step...\n",
      "\n",
      "Building graphs...\n",
      "\n",
      "Building graphs...\n"
     ]
    },
    {
     "name": "stderr",
     "output_type": "stream",
     "text": [
      "Building graphs:  57%|█████▋    | 4/7 [03:51<03:10, 63.64s/it]"
     ]
    },
    {
     "name": "stdout",
     "output_type": "stream",
     "text": [
      "  t=31: nodes=495199, edges=1553241, labels={0: 425270, 1: 69929}\n",
      "\n",
      "Stored 1 graphs\n",
      "Total unique addresses across all time: 822942\n",
      "Total time steps: 49\n",
      "Generating 1 graphs (time steps 34 to 34)...\n",
      "\n",
      "Pre-processing edges by time step...\n",
      "Pre-processing edges by time step...\n",
      "\n",
      "Building graphs...\n",
      "\n",
      "Building graphs...\n"
     ]
    },
    {
     "name": "stderr",
     "output_type": "stream",
     "text": [
      "Building graphs:  71%|███████▏  | 5/7 [04:57<02:09, 64.85s/it]"
     ]
    },
    {
     "name": "stdout",
     "output_type": "stream",
     "text": [
      "  t=34: nodes=530840, edges=1810073, labels={0: 474089, 1: 56751}\n",
      "\n",
      "Stored 1 graphs\n",
      "Total unique addresses across all time: 822942\n",
      "Total time steps: 49\n",
      "Generating 1 graphs (time steps 35 to 35)...\n",
      "\n",
      "Pre-processing edges by time step...\n",
      "Pre-processing edges by time step...\n",
      "\n",
      "Building graphs...\n",
      "\n",
      "Building graphs...\n"
     ]
    },
    {
     "name": "stderr",
     "output_type": "stream",
     "text": [
      "Building graphs:  86%|████████▌ | 6/7 [06:06<01:06, 66.24s/it]"
     ]
    },
    {
     "name": "stdout",
     "output_type": "stream",
     "text": [
      "Building graphs only for required timesteps...\n",
      "Required timesteps: [20, 23, 30, 31, 34, 35, 39]\n"
     ]
    },
    {
     "name": "stderr",
     "output_type": "stream",
     "text": [
      "Building graphs:   0%|          | 0/7 [00:00<?, ?it/s]"
     ]
    },
    {
     "name": "stdout",
     "output_type": "stream",
     "text": [
      "Total unique addresses across all time: 822942\n",
      "Total time steps: 49\n",
      "Generating 1 graphs (time steps 20 to 20)...\n",
      "\n",
      "Pre-processing edges by time step...\n",
      "Pre-processing edges by time step...\n",
      "\n",
      "Building graphs...\n",
      "\n",
      "Building graphs...\n"
     ]
    },
    {
     "name": "stderr",
     "output_type": "stream",
     "text": [
      "Building graphs:  14%|█▍        | 1/7 [00:39<03:54, 39.05s/it]"
     ]
    },
    {
     "name": "stdout",
     "output_type": "stream",
     "text": [
      "  t=20: nodes=345524, edges=1084995, labels={0: 299479, 1: 46045}\n",
      "\n",
      "Stored 1 graphs\n",
      "Total unique addresses across all time: 822942\n",
      "Total time steps: 49\n",
      "Generating 1 graphs (time steps 23 to 23)...\n",
      "\n",
      "Pre-processing edges by time step...\n",
      "Pre-processing edges by time step...\n",
      "\n",
      "Building graphs...\n",
      "\n",
      "Building graphs...\n"
     ]
    },
    {
     "name": "stderr",
     "output_type": "stream",
     "text": [
      "Building graphs:  29%|██▊       | 2/7 [01:24<03:34, 42.95s/it]"
     ]
    },
    {
     "name": "stdout",
     "output_type": "stream",
     "text": [
      "  t=23: nodes=408092, edges=1326365, labels={0: 358022, 1: 50070}\n",
      "\n",
      "Stored 1 graphs\n",
      "Total unique addresses across all time: 822942\n",
      "Total time steps: 49\n",
      "Generating 1 graphs (time steps 30 to 30)...\n",
      "\n",
      "Pre-processing edges by time step...\n",
      "Pre-processing edges by time step...\n",
      "\n",
      "Building graphs...\n",
      "\n",
      "Building graphs...\n"
     ]
    },
    {
     "name": "stderr",
     "output_type": "stream",
     "text": [
      "Building graphs:  43%|████▎     | 3/7 [02:34<03:40, 55.08s/it]"
     ]
    },
    {
     "name": "stdout",
     "output_type": "stream",
     "text": [
      "  t=30: nodes=482733, edges=1525398, labels={0: 431834, 1: 50899}\n",
      "\n",
      "Stored 1 graphs\n",
      "Total unique addresses across all time: 822942\n",
      "Total time steps: 49\n",
      "Generating 1 graphs (time steps 31 to 31)...\n",
      "\n",
      "Pre-processing edges by time step...\n",
      "Pre-processing edges by time step...\n",
      "\n",
      "Building graphs...\n",
      "\n",
      "Building graphs...\n"
     ]
    },
    {
     "name": "stderr",
     "output_type": "stream",
     "text": [
      "Building graphs:  57%|█████▋    | 4/7 [03:51<03:10, 63.64s/it]"
     ]
    },
    {
     "name": "stdout",
     "output_type": "stream",
     "text": [
      "  t=31: nodes=495199, edges=1553241, labels={0: 425270, 1: 69929}\n",
      "\n",
      "Stored 1 graphs\n",
      "Total unique addresses across all time: 822942\n",
      "Total time steps: 49\n",
      "Generating 1 graphs (time steps 34 to 34)...\n",
      "\n",
      "Pre-processing edges by time step...\n",
      "Pre-processing edges by time step...\n",
      "\n",
      "Building graphs...\n",
      "\n",
      "Building graphs...\n"
     ]
    },
    {
     "name": "stderr",
     "output_type": "stream",
     "text": [
      "Building graphs:  71%|███████▏  | 5/7 [04:57<02:09, 64.85s/it]"
     ]
    },
    {
     "name": "stdout",
     "output_type": "stream",
     "text": [
      "  t=34: nodes=530840, edges=1810073, labels={0: 474089, 1: 56751}\n",
      "\n",
      "Stored 1 graphs\n",
      "Total unique addresses across all time: 822942\n",
      "Total time steps: 49\n",
      "Generating 1 graphs (time steps 35 to 35)...\n",
      "\n",
      "Pre-processing edges by time step...\n",
      "Pre-processing edges by time step...\n",
      "\n",
      "Building graphs...\n",
      "\n",
      "Building graphs...\n"
     ]
    },
    {
     "name": "stderr",
     "output_type": "stream",
     "text": [
      "Building graphs:  86%|████████▌ | 6/7 [06:06<01:06, 66.24s/it]"
     ]
    },
    {
     "name": "stdout",
     "output_type": "stream",
     "text": [
      "  t=35: nodes=552376, edges=1860027, labels={0: 504824, 1: 47552}\n",
      "\n",
      "Stored 1 graphs\n",
      "Total unique addresses across all time: 822942\n",
      "Total time steps: 49\n",
      "Generating 1 graphs (time steps 39 to 39)...\n",
      "\n",
      "Pre-processing edges by time step...\n",
      "Pre-processing edges by time step...\n",
      "\n",
      "Building graphs...\n",
      "\n",
      "Building graphs...\n"
     ]
    },
    {
     "name": "stdout",
     "output_type": "stream",
     "text": [
      "Building graphs only for required timesteps...\n",
      "Required timesteps: [20, 23, 30, 31, 34, 35, 39]\n"
     ]
    },
    {
     "name": "stderr",
     "output_type": "stream",
     "text": [
      "Building graphs:   0%|          | 0/7 [00:00<?, ?it/s]"
     ]
    },
    {
     "name": "stdout",
     "output_type": "stream",
     "text": [
      "Total unique addresses across all time: 822942\n",
      "Total time steps: 49\n",
      "Generating 1 graphs (time steps 20 to 20)...\n",
      "\n",
      "Pre-processing edges by time step...\n",
      "Pre-processing edges by time step...\n",
      "\n",
      "Building graphs...\n",
      "\n",
      "Building graphs...\n"
     ]
    },
    {
     "name": "stderr",
     "output_type": "stream",
     "text": [
      "Building graphs:  14%|█▍        | 1/7 [00:39<03:54, 39.05s/it]"
     ]
    },
    {
     "name": "stdout",
     "output_type": "stream",
     "text": [
      "  t=20: nodes=345524, edges=1084995, labels={0: 299479, 1: 46045}\n",
      "\n",
      "Stored 1 graphs\n",
      "Total unique addresses across all time: 822942\n",
      "Total time steps: 49\n",
      "Generating 1 graphs (time steps 23 to 23)...\n",
      "\n",
      "Pre-processing edges by time step...\n",
      "Pre-processing edges by time step...\n",
      "\n",
      "Building graphs...\n",
      "\n",
      "Building graphs...\n"
     ]
    },
    {
     "name": "stderr",
     "output_type": "stream",
     "text": [
      "Building graphs:  29%|██▊       | 2/7 [01:24<03:34, 42.95s/it]"
     ]
    },
    {
     "name": "stdout",
     "output_type": "stream",
     "text": [
      "  t=23: nodes=408092, edges=1326365, labels={0: 358022, 1: 50070}\n",
      "\n",
      "Stored 1 graphs\n",
      "Total unique addresses across all time: 822942\n",
      "Total time steps: 49\n",
      "Generating 1 graphs (time steps 30 to 30)...\n",
      "\n",
      "Pre-processing edges by time step...\n",
      "Pre-processing edges by time step...\n",
      "\n",
      "Building graphs...\n",
      "\n",
      "Building graphs...\n"
     ]
    },
    {
     "name": "stderr",
     "output_type": "stream",
     "text": [
      "Building graphs:  43%|████▎     | 3/7 [02:34<03:40, 55.08s/it]"
     ]
    },
    {
     "name": "stdout",
     "output_type": "stream",
     "text": [
      "  t=30: nodes=482733, edges=1525398, labels={0: 431834, 1: 50899}\n",
      "\n",
      "Stored 1 graphs\n",
      "Total unique addresses across all time: 822942\n",
      "Total time steps: 49\n",
      "Generating 1 graphs (time steps 31 to 31)...\n",
      "\n",
      "Pre-processing edges by time step...\n",
      "Pre-processing edges by time step...\n",
      "\n",
      "Building graphs...\n",
      "\n",
      "Building graphs...\n"
     ]
    },
    {
     "name": "stderr",
     "output_type": "stream",
     "text": [
      "Building graphs:  57%|█████▋    | 4/7 [03:51<03:10, 63.64s/it]"
     ]
    },
    {
     "name": "stdout",
     "output_type": "stream",
     "text": [
      "  t=31: nodes=495199, edges=1553241, labels={0: 425270, 1: 69929}\n",
      "\n",
      "Stored 1 graphs\n",
      "Total unique addresses across all time: 822942\n",
      "Total time steps: 49\n",
      "Generating 1 graphs (time steps 34 to 34)...\n",
      "\n",
      "Pre-processing edges by time step...\n",
      "Pre-processing edges by time step...\n",
      "\n",
      "Building graphs...\n",
      "\n",
      "Building graphs...\n"
     ]
    },
    {
     "name": "stderr",
     "output_type": "stream",
     "text": [
      "Building graphs:  71%|███████▏  | 5/7 [04:57<02:09, 64.85s/it]"
     ]
    },
    {
     "name": "stdout",
     "output_type": "stream",
     "text": [
      "  t=34: nodes=530840, edges=1810073, labels={0: 474089, 1: 56751}\n",
      "\n",
      "Stored 1 graphs\n",
      "Total unique addresses across all time: 822942\n",
      "Total time steps: 49\n",
      "Generating 1 graphs (time steps 35 to 35)...\n",
      "\n",
      "Pre-processing edges by time step...\n",
      "Pre-processing edges by time step...\n",
      "\n",
      "Building graphs...\n",
      "\n",
      "Building graphs...\n"
     ]
    },
    {
     "name": "stderr",
     "output_type": "stream",
     "text": [
      "Building graphs:  86%|████████▌ | 6/7 [06:06<01:06, 66.24s/it]"
     ]
    },
    {
     "name": "stdout",
     "output_type": "stream",
     "text": [
      "  t=35: nodes=552376, edges=1860027, labels={0: 504824, 1: 47552}\n",
      "\n",
      "Stored 1 graphs\n",
      "Total unique addresses across all time: 822942\n",
      "Total time steps: 49\n",
      "Generating 1 graphs (time steps 39 to 39)...\n",
      "\n",
      "Pre-processing edges by time step...\n",
      "Pre-processing edges by time step...\n",
      "\n",
      "Building graphs...\n",
      "\n",
      "Building graphs...\n"
     ]
    },
    {
     "name": "stderr",
     "output_type": "stream",
     "text": [
      "Building graphs: 100%|██████████| 7/7 [07:02<00:00, 60.37s/it]"
     ]
    },
    {
     "name": "stdout",
     "output_type": "stream",
     "text": [
      "Building graphs only for required timesteps...\n",
      "Required timesteps: [20, 23, 30, 31, 34, 35, 39]\n"
     ]
    },
    {
     "name": "stderr",
     "output_type": "stream",
     "text": [
      "Building graphs:   0%|          | 0/7 [00:00<?, ?it/s]"
     ]
    },
    {
     "name": "stdout",
     "output_type": "stream",
     "text": [
      "Total unique addresses across all time: 822942\n",
      "Total time steps: 49\n",
      "Generating 1 graphs (time steps 20 to 20)...\n",
      "\n",
      "Pre-processing edges by time step...\n",
      "Pre-processing edges by time step...\n",
      "\n",
      "Building graphs...\n",
      "\n",
      "Building graphs...\n"
     ]
    },
    {
     "name": "stderr",
     "output_type": "stream",
     "text": [
      "Building graphs:  14%|█▍        | 1/7 [00:39<03:54, 39.05s/it]"
     ]
    },
    {
     "name": "stdout",
     "output_type": "stream",
     "text": [
      "  t=20: nodes=345524, edges=1084995, labels={0: 299479, 1: 46045}\n",
      "\n",
      "Stored 1 graphs\n",
      "Total unique addresses across all time: 822942\n",
      "Total time steps: 49\n",
      "Generating 1 graphs (time steps 23 to 23)...\n",
      "\n",
      "Pre-processing edges by time step...\n",
      "Pre-processing edges by time step...\n",
      "\n",
      "Building graphs...\n",
      "\n",
      "Building graphs...\n"
     ]
    },
    {
     "name": "stderr",
     "output_type": "stream",
     "text": [
      "Building graphs:  29%|██▊       | 2/7 [01:24<03:34, 42.95s/it]"
     ]
    },
    {
     "name": "stdout",
     "output_type": "stream",
     "text": [
      "  t=23: nodes=408092, edges=1326365, labels={0: 358022, 1: 50070}\n",
      "\n",
      "Stored 1 graphs\n",
      "Total unique addresses across all time: 822942\n",
      "Total time steps: 49\n",
      "Generating 1 graphs (time steps 30 to 30)...\n",
      "\n",
      "Pre-processing edges by time step...\n",
      "Pre-processing edges by time step...\n",
      "\n",
      "Building graphs...\n",
      "\n",
      "Building graphs...\n"
     ]
    },
    {
     "name": "stderr",
     "output_type": "stream",
     "text": [
      "Building graphs:  43%|████▎     | 3/7 [02:34<03:40, 55.08s/it]"
     ]
    },
    {
     "name": "stdout",
     "output_type": "stream",
     "text": [
      "  t=30: nodes=482733, edges=1525398, labels={0: 431834, 1: 50899}\n",
      "\n",
      "Stored 1 graphs\n",
      "Total unique addresses across all time: 822942\n",
      "Total time steps: 49\n",
      "Generating 1 graphs (time steps 31 to 31)...\n",
      "\n",
      "Pre-processing edges by time step...\n",
      "Pre-processing edges by time step...\n",
      "\n",
      "Building graphs...\n",
      "\n",
      "Building graphs...\n"
     ]
    },
    {
     "name": "stderr",
     "output_type": "stream",
     "text": [
      "Building graphs:  57%|█████▋    | 4/7 [03:51<03:10, 63.64s/it]"
     ]
    },
    {
     "name": "stdout",
     "output_type": "stream",
     "text": [
      "  t=31: nodes=495199, edges=1553241, labels={0: 425270, 1: 69929}\n",
      "\n",
      "Stored 1 graphs\n",
      "Total unique addresses across all time: 822942\n",
      "Total time steps: 49\n",
      "Generating 1 graphs (time steps 34 to 34)...\n",
      "\n",
      "Pre-processing edges by time step...\n",
      "Pre-processing edges by time step...\n",
      "\n",
      "Building graphs...\n",
      "\n",
      "Building graphs...\n"
     ]
    },
    {
     "name": "stderr",
     "output_type": "stream",
     "text": [
      "Building graphs:  71%|███████▏  | 5/7 [04:57<02:09, 64.85s/it]"
     ]
    },
    {
     "name": "stdout",
     "output_type": "stream",
     "text": [
      "  t=34: nodes=530840, edges=1810073, labels={0: 474089, 1: 56751}\n",
      "\n",
      "Stored 1 graphs\n",
      "Total unique addresses across all time: 822942\n",
      "Total time steps: 49\n",
      "Generating 1 graphs (time steps 35 to 35)...\n",
      "\n",
      "Pre-processing edges by time step...\n",
      "Pre-processing edges by time step...\n",
      "\n",
      "Building graphs...\n",
      "\n",
      "Building graphs...\n"
     ]
    },
    {
     "name": "stderr",
     "output_type": "stream",
     "text": [
      "Building graphs:  86%|████████▌ | 6/7 [06:06<01:06, 66.24s/it]"
     ]
    },
    {
     "name": "stdout",
     "output_type": "stream",
     "text": [
      "  t=35: nodes=552376, edges=1860027, labels={0: 504824, 1: 47552}\n",
      "\n",
      "Stored 1 graphs\n",
      "Total unique addresses across all time: 822942\n",
      "Total time steps: 49\n",
      "Generating 1 graphs (time steps 39 to 39)...\n",
      "\n",
      "Pre-processing edges by time step...\n",
      "Pre-processing edges by time step...\n",
      "\n",
      "Building graphs...\n",
      "\n",
      "Building graphs...\n"
     ]
    },
    {
     "name": "stderr",
     "output_type": "stream",
     "text": [
      "Building graphs: 100%|██████████| 7/7 [07:02<00:00, 60.37s/it]"
     ]
    },
    {
     "name": "stdout",
     "output_type": "stream",
     "text": [
      "  t=39: nodes=620835, edges=2011116, labels={0: 567500, 1: 53335}\n",
      "\n",
      "Stored 1 graphs\n",
      "Built 7 graphs for timesteps: [20, 23, 30, 31, 34, 35, 39]\n"
     ]
    },
    {
     "name": "stderr",
     "output_type": "stream",
     "text": [
      "\n"
     ]
    }
   ],
   "source": [
    "# Graph building parameters - only build what we need\n",
    "MAX_WALK_LENGTH = 2\n",
    "TIME_HORIZON = 3\n",
    "USE_DISTANCE_LABELS = False\n",
    "\n",
    "# Specific timesteps we need (based on the train/test split)\n",
    "# Train: indices [19, 22, 29, 30] = timesteps [20, 23, 30, 31]  \n",
    "# Test: indices [33, 34, 38] = timesteps [34, 35, 39]\n",
    "REQUIRED_TIMESTEPS = [20, 23, 30, 31, 34, 35, 39]\n",
    "\n",
    "print(\"Building graphs only for required timesteps...\")\n",
    "print(f\"Required timesteps: {REQUIRED_TIMESTEPS}\")\n",
    "\n",
    "# Build only the graphs we need for efficiency\n",
    "graphs = {}\n",
    "for timestep in tqdm(REQUIRED_TIMESTEPS, desc=\"Building graphs\"):\n",
    "    graphs_for_timestep = build_emergence_graphs_for_time_range(\n",
    "        edges_with_labels_df=edges_with_edge_labels,\n",
    "        nodes_with_classes_df=nodes_with_labels,\n",
    "        first_time_step=timestep,\n",
    "        last_time_step=timestep,  # Build only this timestep\n",
    "        max_walk_length=MAX_WALK_LENGTH,\n",
    "        time_horizon=TIME_HORIZON,\n",
    "        use_distance_labels=USE_DISTANCE_LABELS,\n",
    "        keep_class_labels_as_features=True,\n",
    "        add_staleness_feature=True,\n",
    "        ignore_illict=True,\n",
    "        ignore_previously_transacting_with_illicit=True\n",
    "    )\n",
    "    graphs[timestep] = graphs_for_timestep[0]  # Should be only one graph\n",
    "\n",
    "print(f\"Built {len(graphs)} graphs for timesteps: {list(graphs.keys())}\")"
   ]
  },
  {
   "cell_type": "code",
   "execution_count": null,
   "id": "225301a6",
   "metadata": {},
   "outputs": [
    {
     "name": "stdout",
     "output_type": "stream",
     "text": [
      "Train graphs: 4 (timesteps: [20, 23, 30, 31])\n",
      "Test graphs: 3 (timesteps: [34, 35, 39])\n",
      "Sample graph features: torch.Size([345524, 118])\n",
      "Sample graph edges: torch.Size([2, 1084995])\n",
      "Sample graph labels: torch.Size([345524])\n"
     ]
    }
   ],
   "source": [
    "# Training/testing split parameters\n",
    "TRAIN_START = 1\n",
    "TRAIN_END = 37\n",
    "EVAL_START = 40\n",
    "EVAL_END = 46\n",
    "\n",
    "# Create train and test splits using the built graphs\n",
    "train_timesteps = [20, 23, 30, 31]  # Corresponding to indices [19, 22, 29, 30]\n",
    "test_timesteps = [34, 35, 39]       # Corresponding to indices [33, 34, 38]\n",
    "\n",
    "train_graphs = [graphs[t] for t in train_timesteps]\n",
    "test_graphs = [graphs[t] for t in test_timesteps]\n",
    "\n",
    "print(f\"Train graphs: {len(train_graphs)} (timesteps: {train_timesteps})\")\n",
    "print(f\"Test graphs: {len(test_graphs)} (timesteps: {test_timesteps})\")\n",
    "\n",
    "# Detailed memory analysis\n",
    "total_nodes = 0\n",
    "total_edges = 0\n",
    "total_features = 0\n",
    "\n",
    "print(\"\\n=== MEMORY ANALYSIS ===\")\n",
    "for i, graph in enumerate(train_graphs + test_graphs):\n",
    "    nodes = graph.x.shape[0]\n",
    "    edges = graph.edge_index.shape[1] \n",
    "    features = graph.x.shape[1]\n",
    "    \n",
    "    # Calculate memory usage\n",
    "    node_features_mb = (graph.x.numel() * 4) / (1024 * 1024)  # float32 = 4 bytes\n",
    "    edge_index_mb = (graph.edge_index.numel() * 8) / (1024 * 1024)  # int64 = 8 bytes\n",
    "    labels_mb = (graph.y.numel() * 8) / (1024 * 1024)  # int64 = 8 bytes\n",
    "    graph_mb = node_features_mb + edge_index_mb + labels_mb\n",
    "    \n",
    "    total_nodes += nodes\n",
    "    total_edges += edges\n",
    "    total_features = features  # Same for all graphs\n",
    "    \n",
    "    timestep = train_timesteps[i] if i < len(train_timesteps) else test_timesteps[i - len(train_timesteps)]\n",
    "    print(f\"Graph {i+1} (t={timestep}): {nodes:,} nodes, {edges:,} edges, {graph_mb:.2f} MB\")\n",
    "\n",
    "print(f\"\\nTOTAL: {total_nodes:,} nodes, {total_edges:,} edges, {total_features} features\")\n",
    "print(f\"Average graph size: {total_nodes/len(train_graphs + test_graphs):,.0f} nodes, {total_edges/len(train_graphs + test_graphs):,.0f} edges\")\n",
    "\n",
    "# Verify graph properties\n",
    "if train_graphs:\n",
    "    sample_graph = train_graphs[0]\n",
    "    print(f\"\\nSample graph features: {sample_graph.x.shape}\")\n",
    "    print(f\"Sample graph edges: {sample_graph.edge_index.shape}\")\n",
    "    print(f\"Sample graph labels: {sample_graph.y.shape}\")\n",
    "    print(f\"Feature range: [{sample_graph.x.min():.3f}, {sample_graph.x.max():.3f}]\")"
   ]
  },
  {
   "cell_type": "code",
   "execution_count": 6,
   "id": "c036c4dd",
   "metadata": {},
   "outputs": [
    {
     "ename": "ModuleNotFoundError",
     "evalue": "No module named 'sklearn'",
     "output_type": "error",
     "traceback": [
      "\u001b[31m---------------------------------------------------------------------------\u001b[39m",
      "\u001b[31mModuleNotFoundError\u001b[39m                       Traceback (most recent call last)",
      "\u001b[36mCell\u001b[39m\u001b[36m \u001b[39m\u001b[32mIn[28]\u001b[39m\u001b[32m, line 4\u001b[39m\n\u001b[32m      2\u001b[39m \u001b[38;5;28;01mimport\u001b[39;00m\u001b[38;5;250m \u001b[39m\u001b[34;01mtorch\u001b[39;00m\u001b[34;01m.\u001b[39;00m\u001b[34;01mnn\u001b[39;00m\u001b[34;01m.\u001b[39;00m\u001b[34;01mfunctional\u001b[39;00m\u001b[38;5;250m \u001b[39m\u001b[38;5;28;01mas\u001b[39;00m\u001b[38;5;250m \u001b[39m\u001b[34;01mF\u001b[39;00m\n\u001b[32m      3\u001b[39m \u001b[38;5;28;01mfrom\u001b[39;00m\u001b[38;5;250m \u001b[39m\u001b[34;01mtorch_geometric\u001b[39;00m\u001b[34;01m.\u001b[39;00m\u001b[34;01mnn\u001b[39;00m\u001b[38;5;250m \u001b[39m\u001b[38;5;28;01mimport\u001b[39;00m GCNConv\n\u001b[32m----> \u001b[39m\u001b[32m4\u001b[39m \u001b[38;5;28;01mfrom\u001b[39;00m\u001b[38;5;250m \u001b[39m\u001b[34;01msklearn\u001b[39;00m\u001b[34;01m.\u001b[39;00m\u001b[34;01mmetrics\u001b[39;00m\u001b[38;5;250m \u001b[39m\u001b[38;5;28;01mimport\u001b[39;00m classification_report, confusion_matrix, roc_auc_score\n\u001b[32m      5\u001b[39m \u001b[38;5;28;01mimport\u001b[39;00m\u001b[38;5;250m \u001b[39m\u001b[34;01mnumpy\u001b[39;00m\u001b[38;5;250m \u001b[39m\u001b[38;5;28;01mas\u001b[39;00m\u001b[38;5;250m \u001b[39m\u001b[34;01mnp\u001b[39;00m\n",
      "\u001b[31mModuleNotFoundError\u001b[39m: No module named 'sklearn'"
     ]
    }
   ],
   "source": [
    "import torch\n",
    "\n",
    "from torch_geometric.nn import GCNConv\n",
    "from sklearn.metrics import classification_report, confusion_matrix, roc_auc_score\n",
    "import numpy as np"
   ]
  },
  {
   "cell_type": "code",
   "execution_count": 7,
   "id": "1d5c1f2e",
   "metadata": {},
   "outputs": [],
   "source": [
    "class GCN(torch.nn.Module):\n",
    "    def __init__(self, num_features, hidden_dim, num_classes):\n",
    "        super(GCN, self).__init__()\n",
    "        self.conv1 = GCNConv(num_features, hidden_dim)\n",
    "        self.conv2 = GCNConv(hidden_dim, hidden_dim)\n",
    "        self.classifier = torch.nn.Linear(hidden_dim, num_classes)\n",
    "        \n",
    "    def forward(self, x, edge_index):\n",
    "        # First GCN layer\n",
    "        x = self.conv1(x, edge_index)\n",
    "        x = F.relu(x)\n",
    "        x = F.dropout(x, p=0.3, training=self.training)\n",
    "        \n",
    "        # Second GCN layer\n",
    "        x = self.conv2(x, edge_index)\n",
    "        x = F.relu(x)\n",
    "        x = F.dropout(x, p=0.3, training=self.training)\n",
    "        \n",
    "        # Classifier\n",
    "        x = self.classifier(x)\n",
    "        return x"
   ]
  },
  {
   "cell_type": "code",
   "execution_count": 14,
   "id": "197111ae",
   "metadata": {},
   "outputs": [],
   "source": [
    "DEVICE = \"mps\"\n",
    "HIDDEN_DIM = 256\n",
    "NUM_EPOCHS = 6\n",
    "LEARNING_RATE = 0.01\n",
    "\n",
    "num_features = train_graphs[0].x.shape[1]\n",
    "num_classes = 2\n",
    "\n",
    "model = GCN(num_features, HIDDEN_DIM, num_classes).to(DEVICE)\n",
    "optimizer = torch.optim.Adam(model.parameters(), lr=LEARNING_RATE, weight_decay=5e-4)"
   ]
  },
  {
   "cell_type": "code",
   "execution_count": 9,
   "id": "2b35bedb",
   "metadata": {},
   "outputs": [],
   "source": [
    "def train_epoch(model, graphs, optimizer, loss_fn=None):\n",
    "    \"\"\"\n",
    "    Train model for one epoch across multiple graphs.\n",
    "    \n",
    "    Args:\n",
    "        model: PyTorch model\n",
    "        graphs: List of PyTorch Geometric Data objects\n",
    "        optimizer: PyTorch optimizer\n",
    "        loss_fn: Custom loss function (default: None, uses F.cross_entropy)\n",
    "                 Should accept (logits, labels) and return loss tensor\n",
    "    \n",
    "    Returns:\n",
    "        avg_loss: Average loss across all nodes\n",
    "        avg_acc: Average accuracy across all nodes\n",
    "    \"\"\"\n",
    "    model.train()\n",
    "    total_loss = 0\n",
    "    total_correct = 0\n",
    "    total_nodes = 0\n",
    "    \n",
    "    for graph in graphs:\n",
    "        graph = graph.to(DEVICE)\n",
    "        \n",
    "        optimizer.zero_grad()\n",
    "        out = model(graph.x, graph.edge_index)\n",
    "        \n",
    "        # Use custom loss function if provided, otherwise default to cross_entropy\n",
    "        if loss_fn is not None:\n",
    "            loss = loss_fn(out, graph.y)\n",
    "        else:\n",
    "            loss = F.cross_entropy(out, graph.y)\n",
    "        \n",
    "        loss.backward()\n",
    "        optimizer.step()\n",
    "        \n",
    "        # Calculate accuracy\n",
    "        pred = out.argmax(dim=1)\n",
    "        correct = (pred == graph.y).sum().item()\n",
    "        \n",
    "        total_loss += loss.item() * graph.num_nodes\n",
    "        total_correct += correct\n",
    "        total_nodes += graph.num_nodes\n",
    "    \n",
    "    avg_loss = total_loss / total_nodes\n",
    "    avg_acc = total_correct / total_nodes\n",
    "    return avg_loss, avg_acc"
   ]
  },
  {
   "cell_type": "code",
   "execution_count": 10,
   "id": "efsr9onwu0j",
   "metadata": {},
   "outputs": [],
   "source": [
    "def weighted_cross_entropy_loss(logits, labels, pos_weight=10.0):\n",
    "    \"\"\"\n",
    "    Cross entropy loss with class weighting to handle imbalanced data.\n",
    "    \n",
    "    Args:\n",
    "        logits: Model outputs [num_nodes, num_classes]\n",
    "        labels: Ground truth labels [num_nodes]\n",
    "        pos_weight: Weight multiplier for positive class (default: 10.0)\n",
    "    \n",
    "    Returns:\n",
    "        loss: Weighted cross entropy loss\n",
    "    \"\"\"\n",
    "    weights = torch.ones(logits.size(0), device=logits.device)\n",
    "    weights[labels == 1] = pos_weight\n",
    "    return F.cross_entropy(logits, labels, weight=None, reduction='none').mul(weights).mean()\n",
    "\n",
    "\n",
    "def focal_loss(logits, labels, alpha=0.25, gamma=2.0):\n",
    "    \"\"\"\n",
    "    Focal loss for addressing class imbalance by down-weighting easy examples.\n",
    "    \n",
    "    Args:\n",
    "        logits: Model outputs [num_nodes, num_classes]\n",
    "        labels: Ground truth labels [num_nodes]\n",
    "        alpha: Balancing factor (default: 0.25)\n",
    "        gamma: Focusing parameter (default: 2.0)\n",
    "    \n",
    "    Returns:\n",
    "        loss: Focal loss\n",
    "    \"\"\"\n",
    "    ce_loss = F.cross_entropy(logits, labels, reduction='none')\n",
    "    pt = torch.exp(-ce_loss)\n",
    "    focal_loss = alpha * (1 - pt) ** gamma * ce_loss\n",
    "    return focal_loss.mean()\n",
    "\n",
    "\n",
    "def class_balanced_loss(logits, labels):\n",
    "    \"\"\"\n",
    "    Automatically compute class weights based on frequency and apply weighted CE.\n",
    "    \n",
    "    Args:\n",
    "        logits: Model outputs [num_nodes, num_classes]\n",
    "        labels: Ground truth labels [num_nodes]\n",
    "    \n",
    "    Returns:\n",
    "        loss: Class-balanced cross entropy loss\n",
    "    \"\"\"\n",
    "    # Count class frequencies\n",
    "    unique_labels, counts = torch.unique(labels, return_counts=True)\n",
    "    total = labels.size(0)\n",
    "    \n",
    "    # Compute inverse frequency weights\n",
    "    weights = torch.ones(logits.size(1), device=logits.device)\n",
    "    for label, count in zip(unique_labels, counts):\n",
    "        weights[label] = total / (len(unique_labels) * count)\n",
    "    \n",
    "    return F.cross_entropy(logits, labels, weight=weights)\n",
    "\n",
    "\n",
    "loss_fn = class_balanced_loss"
   ]
  },
  {
   "cell_type": "code",
   "execution_count": 15,
   "id": "8c4368c8",
   "metadata": {},
   "outputs": [],
   "source": [
    "def evaluate(model, graphs):\n",
    "    model.eval()\n",
    "    all_preds = []\n",
    "    all_labels = []\n",
    "    all_probs = []\n",
    "    \n",
    "    with torch.no_grad():\n",
    "        for graph in graphs:\n",
    "            graph = graph.to(DEVICE)\n",
    "            out = model(graph.x, graph.edge_index)\n",
    "            probs = F.softmax(out, dim=1)\n",
    "            preds = out.argmax(dim=1)\n",
    "            \n",
    "            all_preds.extend(preds.cpu().numpy())\n",
    "            all_labels.extend(graph.y.cpu().numpy())\n",
    "            all_probs.extend(probs.cpu().numpy())\n",
    "    \n",
    "    return np.array(all_preds), np.array(all_labels), np.array(all_probs)"
   ]
  },
  {
   "cell_type": "code",
   "execution_count": 16,
   "id": "7e51cb29",
   "metadata": {},
   "outputs": [
    {
     "name": "stderr",
     "output_type": "stream",
     "text": [
      "  0%|          | 0/6 [00:04<?, ?it/s]\n"
     ]
    },
    {
     "ename": "RuntimeError",
     "evalue": "MPS backend out of memory (MPS allocated: 15.58 GB, other allocations: 48.52 MB, max allowed: 18.13 GB). Tried to allocate 2.68 GB on private pool. Use PYTORCH_MPS_HIGH_WATERMARK_RATIO=0.0 to disable upper limit for memory allocations (may cause system failure).",
     "output_type": "error",
     "traceback": [
      "\u001b[0;31m---------------------------------------------------------------------------\u001b[0m",
      "\u001b[0;31mRuntimeError\u001b[0m                              Traceback (most recent call last)",
      "Cell \u001b[0;32mIn[16], line 3\u001b[0m\n\u001b[1;32m      1\u001b[0m train_loop \u001b[38;5;241m=\u001b[39m tqdm(\u001b[38;5;28mrange\u001b[39m(\u001b[38;5;241m1\u001b[39m, NUM_EPOCHS \u001b[38;5;241m+\u001b[39m \u001b[38;5;241m1\u001b[39m))\n\u001b[1;32m      2\u001b[0m \u001b[38;5;28;01mfor\u001b[39;00m epoch \u001b[38;5;129;01min\u001b[39;00m train_loop:\n\u001b[0;32m----> 3\u001b[0m     train_loss, train_acc \u001b[38;5;241m=\u001b[39m \u001b[43mtrain_epoch\u001b[49m\u001b[43m(\u001b[49m\u001b[43mmodel\u001b[49m\u001b[43m,\u001b[49m\u001b[43m \u001b[49m\u001b[43mtrain_graphs\u001b[49m\u001b[43m,\u001b[49m\u001b[43m \u001b[49m\u001b[43moptimizer\u001b[49m\u001b[43m)\u001b[49m\n\u001b[1;32m      5\u001b[0m     text \u001b[38;5;241m=\u001b[39m \u001b[38;5;124mf\u001b[39m\u001b[38;5;124m\"\u001b[39m\u001b[38;5;124mEpoch \u001b[39m\u001b[38;5;132;01m{\u001b[39;00mepoch\u001b[38;5;132;01m:\u001b[39;00m\u001b[38;5;124m3d\u001b[39m\u001b[38;5;132;01m}\u001b[39;00m\u001b[38;5;124m | Train Loss: \u001b[39m\u001b[38;5;132;01m{\u001b[39;00mtrain_loss\u001b[38;5;132;01m:\u001b[39;00m\u001b[38;5;124m.4f\u001b[39m\u001b[38;5;132;01m}\u001b[39;00m\u001b[38;5;124m | Train Acc: \u001b[39m\u001b[38;5;132;01m{\u001b[39;00mtrain_acc\u001b[38;5;132;01m:\u001b[39;00m\u001b[38;5;124m.4f\u001b[39m\u001b[38;5;132;01m}\u001b[39;00m\u001b[38;5;124m\"\u001b[39m\n\u001b[1;32m      7\u001b[0m     \u001b[38;5;28;01mif\u001b[39;00m epoch \u001b[38;5;241m%\u001b[39m \u001b[38;5;241m10\u001b[39m \u001b[38;5;241m==\u001b[39m \u001b[38;5;241m0\u001b[39m \u001b[38;5;129;01mor\u001b[39;00m epoch \u001b[38;5;241m==\u001b[39m \u001b[38;5;241m1\u001b[39m:\n\u001b[1;32m      8\u001b[0m         \u001b[38;5;66;03m# Evaluate on eval set periodically\u001b[39;00m\n",
      "Cell \u001b[0;32mIn[9], line 25\u001b[0m, in \u001b[0;36mtrain_epoch\u001b[0;34m(model, graphs, optimizer, loss_fn)\u001b[0m\n\u001b[1;32m     22\u001b[0m graph \u001b[38;5;241m=\u001b[39m graph\u001b[38;5;241m.\u001b[39mto(DEVICE)\n\u001b[1;32m     24\u001b[0m optimizer\u001b[38;5;241m.\u001b[39mzero_grad()\n\u001b[0;32m---> 25\u001b[0m out \u001b[38;5;241m=\u001b[39m \u001b[43mmodel\u001b[49m\u001b[43m(\u001b[49m\u001b[43mgraph\u001b[49m\u001b[38;5;241;43m.\u001b[39;49m\u001b[43mx\u001b[49m\u001b[43m,\u001b[49m\u001b[43m \u001b[49m\u001b[43mgraph\u001b[49m\u001b[38;5;241;43m.\u001b[39;49m\u001b[43medge_index\u001b[49m\u001b[43m)\u001b[49m\n\u001b[1;32m     27\u001b[0m \u001b[38;5;66;03m# Use custom loss function if provided, otherwise default to cross_entropy\u001b[39;00m\n\u001b[1;32m     28\u001b[0m \u001b[38;5;28;01mif\u001b[39;00m loss_fn \u001b[38;5;129;01mis\u001b[39;00m \u001b[38;5;129;01mnot\u001b[39;00m \u001b[38;5;28;01mNone\u001b[39;00m:\n",
      "File \u001b[0;32m~/anaconda3/envs/graph_ml/lib/python3.10/site-packages/torch/nn/modules/module.py:1511\u001b[0m, in \u001b[0;36mModule._wrapped_call_impl\u001b[0;34m(self, *args, **kwargs)\u001b[0m\n\u001b[1;32m   1509\u001b[0m     \u001b[38;5;28;01mreturn\u001b[39;00m \u001b[38;5;28mself\u001b[39m\u001b[38;5;241m.\u001b[39m_compiled_call_impl(\u001b[38;5;241m*\u001b[39margs, \u001b[38;5;241m*\u001b[39m\u001b[38;5;241m*\u001b[39mkwargs)  \u001b[38;5;66;03m# type: ignore[misc]\u001b[39;00m\n\u001b[1;32m   1510\u001b[0m \u001b[38;5;28;01melse\u001b[39;00m:\n\u001b[0;32m-> 1511\u001b[0m     \u001b[38;5;28;01mreturn\u001b[39;00m \u001b[38;5;28;43mself\u001b[39;49m\u001b[38;5;241;43m.\u001b[39;49m\u001b[43m_call_impl\u001b[49m\u001b[43m(\u001b[49m\u001b[38;5;241;43m*\u001b[39;49m\u001b[43margs\u001b[49m\u001b[43m,\u001b[49m\u001b[43m \u001b[49m\u001b[38;5;241;43m*\u001b[39;49m\u001b[38;5;241;43m*\u001b[39;49m\u001b[43mkwargs\u001b[49m\u001b[43m)\u001b[49m\n",
      "File \u001b[0;32m~/anaconda3/envs/graph_ml/lib/python3.10/site-packages/torch/nn/modules/module.py:1520\u001b[0m, in \u001b[0;36mModule._call_impl\u001b[0;34m(self, *args, **kwargs)\u001b[0m\n\u001b[1;32m   1515\u001b[0m \u001b[38;5;66;03m# If we don't have any hooks, we want to skip the rest of the logic in\u001b[39;00m\n\u001b[1;32m   1516\u001b[0m \u001b[38;5;66;03m# this function, and just call forward.\u001b[39;00m\n\u001b[1;32m   1517\u001b[0m \u001b[38;5;28;01mif\u001b[39;00m \u001b[38;5;129;01mnot\u001b[39;00m (\u001b[38;5;28mself\u001b[39m\u001b[38;5;241m.\u001b[39m_backward_hooks \u001b[38;5;129;01mor\u001b[39;00m \u001b[38;5;28mself\u001b[39m\u001b[38;5;241m.\u001b[39m_backward_pre_hooks \u001b[38;5;129;01mor\u001b[39;00m \u001b[38;5;28mself\u001b[39m\u001b[38;5;241m.\u001b[39m_forward_hooks \u001b[38;5;129;01mor\u001b[39;00m \u001b[38;5;28mself\u001b[39m\u001b[38;5;241m.\u001b[39m_forward_pre_hooks\n\u001b[1;32m   1518\u001b[0m         \u001b[38;5;129;01mor\u001b[39;00m _global_backward_pre_hooks \u001b[38;5;129;01mor\u001b[39;00m _global_backward_hooks\n\u001b[1;32m   1519\u001b[0m         \u001b[38;5;129;01mor\u001b[39;00m _global_forward_hooks \u001b[38;5;129;01mor\u001b[39;00m _global_forward_pre_hooks):\n\u001b[0;32m-> 1520\u001b[0m     \u001b[38;5;28;01mreturn\u001b[39;00m \u001b[43mforward_call\u001b[49m\u001b[43m(\u001b[49m\u001b[38;5;241;43m*\u001b[39;49m\u001b[43margs\u001b[49m\u001b[43m,\u001b[49m\u001b[43m \u001b[49m\u001b[38;5;241;43m*\u001b[39;49m\u001b[38;5;241;43m*\u001b[39;49m\u001b[43mkwargs\u001b[49m\u001b[43m)\u001b[49m\n\u001b[1;32m   1522\u001b[0m \u001b[38;5;28;01mtry\u001b[39;00m:\n\u001b[1;32m   1523\u001b[0m     result \u001b[38;5;241m=\u001b[39m \u001b[38;5;28;01mNone\u001b[39;00m\n",
      "Cell \u001b[0;32mIn[7], line 10\u001b[0m, in \u001b[0;36mGCN.forward\u001b[0;34m(self, x, edge_index)\u001b[0m\n\u001b[1;32m      8\u001b[0m \u001b[38;5;28;01mdef\u001b[39;00m\u001b[38;5;250m \u001b[39m\u001b[38;5;21mforward\u001b[39m(\u001b[38;5;28mself\u001b[39m, x, edge_index):\n\u001b[1;32m      9\u001b[0m     \u001b[38;5;66;03m# First GCN layer\u001b[39;00m\n\u001b[0;32m---> 10\u001b[0m     x \u001b[38;5;241m=\u001b[39m \u001b[38;5;28;43mself\u001b[39;49m\u001b[38;5;241;43m.\u001b[39;49m\u001b[43mconv1\u001b[49m\u001b[43m(\u001b[49m\u001b[43mx\u001b[49m\u001b[43m,\u001b[49m\u001b[43m \u001b[49m\u001b[43medge_index\u001b[49m\u001b[43m)\u001b[49m\n\u001b[1;32m     11\u001b[0m     x \u001b[38;5;241m=\u001b[39m F\u001b[38;5;241m.\u001b[39mrelu(x)\n\u001b[1;32m     12\u001b[0m     x \u001b[38;5;241m=\u001b[39m F\u001b[38;5;241m.\u001b[39mdropout(x, p\u001b[38;5;241m=\u001b[39m\u001b[38;5;241m0.3\u001b[39m, training\u001b[38;5;241m=\u001b[39m\u001b[38;5;28mself\u001b[39m\u001b[38;5;241m.\u001b[39mtraining)\n",
      "File \u001b[0;32m~/anaconda3/envs/graph_ml/lib/python3.10/site-packages/torch/nn/modules/module.py:1511\u001b[0m, in \u001b[0;36mModule._wrapped_call_impl\u001b[0;34m(self, *args, **kwargs)\u001b[0m\n\u001b[1;32m   1509\u001b[0m     \u001b[38;5;28;01mreturn\u001b[39;00m \u001b[38;5;28mself\u001b[39m\u001b[38;5;241m.\u001b[39m_compiled_call_impl(\u001b[38;5;241m*\u001b[39margs, \u001b[38;5;241m*\u001b[39m\u001b[38;5;241m*\u001b[39mkwargs)  \u001b[38;5;66;03m# type: ignore[misc]\u001b[39;00m\n\u001b[1;32m   1510\u001b[0m \u001b[38;5;28;01melse\u001b[39;00m:\n\u001b[0;32m-> 1511\u001b[0m     \u001b[38;5;28;01mreturn\u001b[39;00m \u001b[38;5;28;43mself\u001b[39;49m\u001b[38;5;241;43m.\u001b[39;49m\u001b[43m_call_impl\u001b[49m\u001b[43m(\u001b[49m\u001b[38;5;241;43m*\u001b[39;49m\u001b[43margs\u001b[49m\u001b[43m,\u001b[49m\u001b[43m \u001b[49m\u001b[38;5;241;43m*\u001b[39;49m\u001b[38;5;241;43m*\u001b[39;49m\u001b[43mkwargs\u001b[49m\u001b[43m)\u001b[49m\n",
      "File \u001b[0;32m~/anaconda3/envs/graph_ml/lib/python3.10/site-packages/torch/nn/modules/module.py:1520\u001b[0m, in \u001b[0;36mModule._call_impl\u001b[0;34m(self, *args, **kwargs)\u001b[0m\n\u001b[1;32m   1515\u001b[0m \u001b[38;5;66;03m# If we don't have any hooks, we want to skip the rest of the logic in\u001b[39;00m\n\u001b[1;32m   1516\u001b[0m \u001b[38;5;66;03m# this function, and just call forward.\u001b[39;00m\n\u001b[1;32m   1517\u001b[0m \u001b[38;5;28;01mif\u001b[39;00m \u001b[38;5;129;01mnot\u001b[39;00m (\u001b[38;5;28mself\u001b[39m\u001b[38;5;241m.\u001b[39m_backward_hooks \u001b[38;5;129;01mor\u001b[39;00m \u001b[38;5;28mself\u001b[39m\u001b[38;5;241m.\u001b[39m_backward_pre_hooks \u001b[38;5;129;01mor\u001b[39;00m \u001b[38;5;28mself\u001b[39m\u001b[38;5;241m.\u001b[39m_forward_hooks \u001b[38;5;129;01mor\u001b[39;00m \u001b[38;5;28mself\u001b[39m\u001b[38;5;241m.\u001b[39m_forward_pre_hooks\n\u001b[1;32m   1518\u001b[0m         \u001b[38;5;129;01mor\u001b[39;00m _global_backward_pre_hooks \u001b[38;5;129;01mor\u001b[39;00m _global_backward_hooks\n\u001b[1;32m   1519\u001b[0m         \u001b[38;5;129;01mor\u001b[39;00m _global_forward_hooks \u001b[38;5;129;01mor\u001b[39;00m _global_forward_pre_hooks):\n\u001b[0;32m-> 1520\u001b[0m     \u001b[38;5;28;01mreturn\u001b[39;00m \u001b[43mforward_call\u001b[49m\u001b[43m(\u001b[49m\u001b[38;5;241;43m*\u001b[39;49m\u001b[43margs\u001b[49m\u001b[43m,\u001b[49m\u001b[43m \u001b[49m\u001b[38;5;241;43m*\u001b[39;49m\u001b[38;5;241;43m*\u001b[39;49m\u001b[43mkwargs\u001b[49m\u001b[43m)\u001b[49m\n\u001b[1;32m   1522\u001b[0m \u001b[38;5;28;01mtry\u001b[39;00m:\n\u001b[1;32m   1523\u001b[0m     result \u001b[38;5;241m=\u001b[39m \u001b[38;5;28;01mNone\u001b[39;00m\n",
      "File \u001b[0;32m~/anaconda3/envs/graph_ml/lib/python3.10/site-packages/torch_geometric/nn/conv/gcn_conv.py:263\u001b[0m, in \u001b[0;36mGCNConv.forward\u001b[0;34m(self, x, edge_index, edge_weight)\u001b[0m\n\u001b[1;32m    260\u001b[0m x \u001b[38;5;241m=\u001b[39m \u001b[38;5;28mself\u001b[39m\u001b[38;5;241m.\u001b[39mlin(x)\n\u001b[1;32m    262\u001b[0m \u001b[38;5;66;03m# propagate_type: (x: Tensor, edge_weight: OptTensor)\u001b[39;00m\n\u001b[0;32m--> 263\u001b[0m out \u001b[38;5;241m=\u001b[39m \u001b[38;5;28;43mself\u001b[39;49m\u001b[38;5;241;43m.\u001b[39;49m\u001b[43mpropagate\u001b[49m\u001b[43m(\u001b[49m\u001b[43medge_index\u001b[49m\u001b[43m,\u001b[49m\u001b[43m \u001b[49m\u001b[43mx\u001b[49m\u001b[38;5;241;43m=\u001b[39;49m\u001b[43mx\u001b[49m\u001b[43m,\u001b[49m\u001b[43m \u001b[49m\u001b[43medge_weight\u001b[49m\u001b[38;5;241;43m=\u001b[39;49m\u001b[43medge_weight\u001b[49m\u001b[43m)\u001b[49m\n\u001b[1;32m    265\u001b[0m \u001b[38;5;28;01mif\u001b[39;00m \u001b[38;5;28mself\u001b[39m\u001b[38;5;241m.\u001b[39mbias \u001b[38;5;129;01mis\u001b[39;00m \u001b[38;5;129;01mnot\u001b[39;00m \u001b[38;5;28;01mNone\u001b[39;00m:\n\u001b[1;32m    266\u001b[0m     out \u001b[38;5;241m=\u001b[39m out \u001b[38;5;241m+\u001b[39m \u001b[38;5;28mself\u001b[39m\u001b[38;5;241m.\u001b[39mbias\n",
      "File \u001b[0;32m/var/folders/2p/xyrcbmm94rx7jntjnk1rd9980000gn/T/torch_geometric.nn.conv.gcn_conv_GCNConv_propagate_etqiq6yx.py:245\u001b[0m, in \u001b[0;36mpropagate\u001b[0;34m(self, edge_index, x, edge_weight, size)\u001b[0m\n\u001b[1;32m    236\u001b[0m             kwargs \u001b[38;5;241m=\u001b[39m CollectArgs(\n\u001b[1;32m    237\u001b[0m                 x_j\u001b[38;5;241m=\u001b[39mkwargs\u001b[38;5;241m.\u001b[39mx_j,\n\u001b[1;32m    238\u001b[0m                 edge_weight\u001b[38;5;241m=\u001b[39mkwargs\u001b[38;5;241m.\u001b[39medge_weight,\n\u001b[0;32m   (...)\u001b[0m\n\u001b[1;32m    241\u001b[0m                 dim_size\u001b[38;5;241m=\u001b[39mhook_kwargs[\u001b[38;5;124m'\u001b[39m\u001b[38;5;124mdim_size\u001b[39m\u001b[38;5;124m'\u001b[39m],\n\u001b[1;32m    242\u001b[0m             )\n\u001b[1;32m    243\u001b[0m \u001b[38;5;66;03m# End Aggregate Forward Pre Hook #######################################\u001b[39;00m\n\u001b[0;32m--> 245\u001b[0m out \u001b[38;5;241m=\u001b[39m \u001b[38;5;28;43mself\u001b[39;49m\u001b[38;5;241;43m.\u001b[39;49m\u001b[43maggregate\u001b[49m\u001b[43m(\u001b[49m\n\u001b[1;32m    246\u001b[0m \u001b[43m    \u001b[49m\u001b[43mout\u001b[49m\u001b[43m,\u001b[49m\n\u001b[1;32m    247\u001b[0m \u001b[43m    \u001b[49m\u001b[43mindex\u001b[49m\u001b[38;5;241;43m=\u001b[39;49m\u001b[43mkwargs\u001b[49m\u001b[38;5;241;43m.\u001b[39;49m\u001b[43mindex\u001b[49m\u001b[43m,\u001b[49m\n\u001b[1;32m    248\u001b[0m \u001b[43m    \u001b[49m\u001b[43mptr\u001b[49m\u001b[38;5;241;43m=\u001b[39;49m\u001b[43mkwargs\u001b[49m\u001b[38;5;241;43m.\u001b[39;49m\u001b[43mptr\u001b[49m\u001b[43m,\u001b[49m\n\u001b[1;32m    249\u001b[0m \u001b[43m    \u001b[49m\u001b[43mdim_size\u001b[49m\u001b[38;5;241;43m=\u001b[39;49m\u001b[43mkwargs\u001b[49m\u001b[38;5;241;43m.\u001b[39;49m\u001b[43mdim_size\u001b[49m\u001b[43m,\u001b[49m\n\u001b[1;32m    250\u001b[0m \u001b[43m\u001b[49m\u001b[43m)\u001b[49m\n\u001b[1;32m    252\u001b[0m \u001b[38;5;66;03m# Begin Aggregate Forward Hook #########################################\u001b[39;00m\n\u001b[1;32m    253\u001b[0m \u001b[38;5;28;01mif\u001b[39;00m \u001b[38;5;129;01mnot\u001b[39;00m torch\u001b[38;5;241m.\u001b[39mjit\u001b[38;5;241m.\u001b[39mis_scripting() \u001b[38;5;129;01mand\u001b[39;00m \u001b[38;5;129;01mnot\u001b[39;00m is_compiling():\n",
      "File \u001b[0;32m~/anaconda3/envs/graph_ml/lib/python3.10/site-packages/torch_geometric/nn/conv/message_passing.py:594\u001b[0m, in \u001b[0;36mMessagePassing.aggregate\u001b[0;34m(self, inputs, index, ptr, dim_size)\u001b[0m\n\u001b[1;32m    577\u001b[0m \u001b[38;5;28;01mdef\u001b[39;00m\u001b[38;5;250m \u001b[39m\u001b[38;5;21maggregate\u001b[39m(\n\u001b[1;32m    578\u001b[0m     \u001b[38;5;28mself\u001b[39m,\n\u001b[1;32m    579\u001b[0m     inputs: Tensor,\n\u001b[0;32m   (...)\u001b[0m\n\u001b[1;32m    582\u001b[0m     dim_size: Optional[\u001b[38;5;28mint\u001b[39m] \u001b[38;5;241m=\u001b[39m \u001b[38;5;28;01mNone\u001b[39;00m,\n\u001b[1;32m    583\u001b[0m ) \u001b[38;5;241m-\u001b[39m\u001b[38;5;241m>\u001b[39m Tensor:\n\u001b[1;32m    584\u001b[0m \u001b[38;5;250m    \u001b[39m\u001b[38;5;124mr\u001b[39m\u001b[38;5;124;03m\"\"\"Aggregates messages from neighbors as\u001b[39;00m\n\u001b[1;32m    585\u001b[0m \u001b[38;5;124;03m    :math:`\\bigoplus_{j \\in \\mathcal{N}(i)}`.\u001b[39;00m\n\u001b[1;32m    586\u001b[0m \n\u001b[0;32m   (...)\u001b[0m\n\u001b[1;32m    592\u001b[0m \u001b[38;5;124;03m    as specified in :meth:`__init__` by the :obj:`aggr` argument.\u001b[39;00m\n\u001b[1;32m    593\u001b[0m \u001b[38;5;124;03m    \"\"\"\u001b[39;00m\n\u001b[0;32m--> 594\u001b[0m     \u001b[38;5;28;01mreturn\u001b[39;00m \u001b[38;5;28;43mself\u001b[39;49m\u001b[38;5;241;43m.\u001b[39;49m\u001b[43maggr_module\u001b[49m\u001b[43m(\u001b[49m\u001b[43minputs\u001b[49m\u001b[43m,\u001b[49m\u001b[43m \u001b[49m\u001b[43mindex\u001b[49m\u001b[43m,\u001b[49m\u001b[43m \u001b[49m\u001b[43mptr\u001b[49m\u001b[38;5;241;43m=\u001b[39;49m\u001b[43mptr\u001b[49m\u001b[43m,\u001b[49m\u001b[43m \u001b[49m\u001b[43mdim_size\u001b[49m\u001b[38;5;241;43m=\u001b[39;49m\u001b[43mdim_size\u001b[49m\u001b[43m,\u001b[49m\n\u001b[1;32m    595\u001b[0m \u001b[43m                            \u001b[49m\u001b[43mdim\u001b[49m\u001b[38;5;241;43m=\u001b[39;49m\u001b[38;5;28;43mself\u001b[39;49m\u001b[38;5;241;43m.\u001b[39;49m\u001b[43mnode_dim\u001b[49m\u001b[43m)\u001b[49m\n",
      "File \u001b[0;32m~/anaconda3/envs/graph_ml/lib/python3.10/site-packages/torch_geometric/experimental.py:117\u001b[0m, in \u001b[0;36mdisable_dynamic_shapes.<locals>.decorator.<locals>.wrapper\u001b[0;34m(*args, **kwargs)\u001b[0m\n\u001b[1;32m    114\u001b[0m \u001b[38;5;129m@functools\u001b[39m\u001b[38;5;241m.\u001b[39mwraps(func)\n\u001b[1;32m    115\u001b[0m \u001b[38;5;28;01mdef\u001b[39;00m\u001b[38;5;250m \u001b[39m\u001b[38;5;21mwrapper\u001b[39m(\u001b[38;5;241m*\u001b[39margs: Any, \u001b[38;5;241m*\u001b[39m\u001b[38;5;241m*\u001b[39mkwargs: Any) \u001b[38;5;241m-\u001b[39m\u001b[38;5;241m>\u001b[39m Any:\n\u001b[1;32m    116\u001b[0m     \u001b[38;5;28;01mif\u001b[39;00m \u001b[38;5;129;01mnot\u001b[39;00m is_experimental_mode_enabled(\u001b[38;5;124m'\u001b[39m\u001b[38;5;124mdisable_dynamic_shapes\u001b[39m\u001b[38;5;124m'\u001b[39m):\n\u001b[0;32m--> 117\u001b[0m         \u001b[38;5;28;01mreturn\u001b[39;00m \u001b[43mfunc\u001b[49m\u001b[43m(\u001b[49m\u001b[38;5;241;43m*\u001b[39;49m\u001b[43margs\u001b[49m\u001b[43m,\u001b[49m\u001b[43m \u001b[49m\u001b[38;5;241;43m*\u001b[39;49m\u001b[38;5;241;43m*\u001b[39;49m\u001b[43mkwargs\u001b[49m\u001b[43m)\u001b[49m\n\u001b[1;32m    119\u001b[0m     \u001b[38;5;28;01mfor\u001b[39;00m required_arg \u001b[38;5;129;01min\u001b[39;00m required_args:\n\u001b[1;32m    120\u001b[0m         index \u001b[38;5;241m=\u001b[39m required_args_pos[required_arg]\n",
      "File \u001b[0;32m~/anaconda3/envs/graph_ml/lib/python3.10/site-packages/torch_geometric/nn/aggr/base.py:139\u001b[0m, in \u001b[0;36mAggregation.__call__\u001b[0;34m(self, x, index, ptr, dim_size, dim, **kwargs)\u001b[0m\n\u001b[1;32m    135\u001b[0m     \u001b[38;5;28;01mif\u001b[39;00m index\u001b[38;5;241m.\u001b[39mnumel() \u001b[38;5;241m>\u001b[39m \u001b[38;5;241m0\u001b[39m \u001b[38;5;129;01mand\u001b[39;00m dim_size \u001b[38;5;241m<\u001b[39m\u001b[38;5;241m=\u001b[39m \u001b[38;5;28mint\u001b[39m(index\u001b[38;5;241m.\u001b[39mmax()):\n\u001b[1;32m    136\u001b[0m         \u001b[38;5;28;01mraise\u001b[39;00m \u001b[38;5;167;01mValueError\u001b[39;00m(\u001b[38;5;124mf\u001b[39m\u001b[38;5;124m\"\u001b[39m\u001b[38;5;124mEncountered invalid \u001b[39m\u001b[38;5;124m'\u001b[39m\u001b[38;5;124mdim_size\u001b[39m\u001b[38;5;124m'\u001b[39m\u001b[38;5;124m (got \u001b[39m\u001b[38;5;124m\"\u001b[39m\n\u001b[1;32m    137\u001b[0m                          \u001b[38;5;124mf\u001b[39m\u001b[38;5;124m\"\u001b[39m\u001b[38;5;124m'\u001b[39m\u001b[38;5;132;01m{\u001b[39;00mdim_size\u001b[38;5;132;01m}\u001b[39;00m\u001b[38;5;124m'\u001b[39m\u001b[38;5;124m but expected \u001b[39m\u001b[38;5;124m\"\u001b[39m\n\u001b[1;32m    138\u001b[0m                          \u001b[38;5;124mf\u001b[39m\u001b[38;5;124m\"\u001b[39m\u001b[38;5;124m>= \u001b[39m\u001b[38;5;124m'\u001b[39m\u001b[38;5;132;01m{\u001b[39;00m\u001b[38;5;28mint\u001b[39m(index\u001b[38;5;241m.\u001b[39mmax())\u001b[38;5;250m \u001b[39m\u001b[38;5;241m+\u001b[39m\u001b[38;5;250m \u001b[39m\u001b[38;5;241m1\u001b[39m\u001b[38;5;132;01m}\u001b[39;00m\u001b[38;5;124m'\u001b[39m\u001b[38;5;124m)\u001b[39m\u001b[38;5;124m\"\u001b[39m)\n\u001b[0;32m--> 139\u001b[0m \u001b[38;5;28;01mraise\u001b[39;00m e\n",
      "File \u001b[0;32m~/anaconda3/envs/graph_ml/lib/python3.10/site-packages/torch_geometric/nn/aggr/base.py:131\u001b[0m, in \u001b[0;36mAggregation.__call__\u001b[0;34m(self, x, index, ptr, dim_size, dim, **kwargs)\u001b[0m\n\u001b[1;32m    128\u001b[0m     dim_size \u001b[38;5;241m=\u001b[39m \u001b[38;5;28mint\u001b[39m(index\u001b[38;5;241m.\u001b[39mmax()) \u001b[38;5;241m+\u001b[39m \u001b[38;5;241m1\u001b[39m \u001b[38;5;28;01mif\u001b[39;00m index\u001b[38;5;241m.\u001b[39mnumel() \u001b[38;5;241m>\u001b[39m \u001b[38;5;241m0\u001b[39m \u001b[38;5;28;01melse\u001b[39;00m \u001b[38;5;241m0\u001b[39m\n\u001b[1;32m    130\u001b[0m \u001b[38;5;28;01mtry\u001b[39;00m:\n\u001b[0;32m--> 131\u001b[0m     \u001b[38;5;28;01mreturn\u001b[39;00m \u001b[38;5;28;43msuper\u001b[39;49m\u001b[43m(\u001b[49m\u001b[43m)\u001b[49m\u001b[38;5;241;43m.\u001b[39;49m\u001b[38;5;21;43m__call__\u001b[39;49m\u001b[43m(\u001b[49m\u001b[43mx\u001b[49m\u001b[43m,\u001b[49m\u001b[43m \u001b[49m\u001b[43mindex\u001b[49m\u001b[38;5;241;43m=\u001b[39;49m\u001b[43mindex\u001b[49m\u001b[43m,\u001b[49m\u001b[43m \u001b[49m\u001b[43mptr\u001b[49m\u001b[38;5;241;43m=\u001b[39;49m\u001b[43mptr\u001b[49m\u001b[43m,\u001b[49m\u001b[43m \u001b[49m\u001b[43mdim_size\u001b[49m\u001b[38;5;241;43m=\u001b[39;49m\u001b[43mdim_size\u001b[49m\u001b[43m,\u001b[49m\n\u001b[1;32m    132\u001b[0m \u001b[43m                            \u001b[49m\u001b[43mdim\u001b[49m\u001b[38;5;241;43m=\u001b[39;49m\u001b[43mdim\u001b[49m\u001b[43m,\u001b[49m\u001b[43m \u001b[49m\u001b[38;5;241;43m*\u001b[39;49m\u001b[38;5;241;43m*\u001b[39;49m\u001b[43mkwargs\u001b[49m\u001b[43m)\u001b[49m\n\u001b[1;32m    133\u001b[0m \u001b[38;5;28;01mexcept\u001b[39;00m (\u001b[38;5;167;01mIndexError\u001b[39;00m, \u001b[38;5;167;01mRuntimeError\u001b[39;00m) \u001b[38;5;28;01mas\u001b[39;00m e:\n\u001b[1;32m    134\u001b[0m     \u001b[38;5;28;01mif\u001b[39;00m index \u001b[38;5;129;01mis\u001b[39;00m \u001b[38;5;129;01mnot\u001b[39;00m \u001b[38;5;28;01mNone\u001b[39;00m:\n",
      "File \u001b[0;32m~/anaconda3/envs/graph_ml/lib/python3.10/site-packages/torch/nn/modules/module.py:1511\u001b[0m, in \u001b[0;36mModule._wrapped_call_impl\u001b[0;34m(self, *args, **kwargs)\u001b[0m\n\u001b[1;32m   1509\u001b[0m     \u001b[38;5;28;01mreturn\u001b[39;00m \u001b[38;5;28mself\u001b[39m\u001b[38;5;241m.\u001b[39m_compiled_call_impl(\u001b[38;5;241m*\u001b[39margs, \u001b[38;5;241m*\u001b[39m\u001b[38;5;241m*\u001b[39mkwargs)  \u001b[38;5;66;03m# type: ignore[misc]\u001b[39;00m\n\u001b[1;32m   1510\u001b[0m \u001b[38;5;28;01melse\u001b[39;00m:\n\u001b[0;32m-> 1511\u001b[0m     \u001b[38;5;28;01mreturn\u001b[39;00m \u001b[38;5;28;43mself\u001b[39;49m\u001b[38;5;241;43m.\u001b[39;49m\u001b[43m_call_impl\u001b[49m\u001b[43m(\u001b[49m\u001b[38;5;241;43m*\u001b[39;49m\u001b[43margs\u001b[49m\u001b[43m,\u001b[49m\u001b[43m \u001b[49m\u001b[38;5;241;43m*\u001b[39;49m\u001b[38;5;241;43m*\u001b[39;49m\u001b[43mkwargs\u001b[49m\u001b[43m)\u001b[49m\n",
      "File \u001b[0;32m~/anaconda3/envs/graph_ml/lib/python3.10/site-packages/torch/nn/modules/module.py:1520\u001b[0m, in \u001b[0;36mModule._call_impl\u001b[0;34m(self, *args, **kwargs)\u001b[0m\n\u001b[1;32m   1515\u001b[0m \u001b[38;5;66;03m# If we don't have any hooks, we want to skip the rest of the logic in\u001b[39;00m\n\u001b[1;32m   1516\u001b[0m \u001b[38;5;66;03m# this function, and just call forward.\u001b[39;00m\n\u001b[1;32m   1517\u001b[0m \u001b[38;5;28;01mif\u001b[39;00m \u001b[38;5;129;01mnot\u001b[39;00m (\u001b[38;5;28mself\u001b[39m\u001b[38;5;241m.\u001b[39m_backward_hooks \u001b[38;5;129;01mor\u001b[39;00m \u001b[38;5;28mself\u001b[39m\u001b[38;5;241m.\u001b[39m_backward_pre_hooks \u001b[38;5;129;01mor\u001b[39;00m \u001b[38;5;28mself\u001b[39m\u001b[38;5;241m.\u001b[39m_forward_hooks \u001b[38;5;129;01mor\u001b[39;00m \u001b[38;5;28mself\u001b[39m\u001b[38;5;241m.\u001b[39m_forward_pre_hooks\n\u001b[1;32m   1518\u001b[0m         \u001b[38;5;129;01mor\u001b[39;00m _global_backward_pre_hooks \u001b[38;5;129;01mor\u001b[39;00m _global_backward_hooks\n\u001b[1;32m   1519\u001b[0m         \u001b[38;5;129;01mor\u001b[39;00m _global_forward_hooks \u001b[38;5;129;01mor\u001b[39;00m _global_forward_pre_hooks):\n\u001b[0;32m-> 1520\u001b[0m     \u001b[38;5;28;01mreturn\u001b[39;00m \u001b[43mforward_call\u001b[49m\u001b[43m(\u001b[49m\u001b[38;5;241;43m*\u001b[39;49m\u001b[43margs\u001b[49m\u001b[43m,\u001b[49m\u001b[43m \u001b[49m\u001b[38;5;241;43m*\u001b[39;49m\u001b[38;5;241;43m*\u001b[39;49m\u001b[43mkwargs\u001b[49m\u001b[43m)\u001b[49m\n\u001b[1;32m   1522\u001b[0m \u001b[38;5;28;01mtry\u001b[39;00m:\n\u001b[1;32m   1523\u001b[0m     result \u001b[38;5;241m=\u001b[39m \u001b[38;5;28;01mNone\u001b[39;00m\n",
      "File \u001b[0;32m~/anaconda3/envs/graph_ml/lib/python3.10/site-packages/torch_geometric/nn/aggr/basic.py:22\u001b[0m, in \u001b[0;36mSumAggregation.forward\u001b[0;34m(self, x, index, ptr, dim_size, dim)\u001b[0m\n\u001b[1;32m     19\u001b[0m \u001b[38;5;28;01mdef\u001b[39;00m\u001b[38;5;250m \u001b[39m\u001b[38;5;21mforward\u001b[39m(\u001b[38;5;28mself\u001b[39m, x: Tensor, index: Optional[Tensor] \u001b[38;5;241m=\u001b[39m \u001b[38;5;28;01mNone\u001b[39;00m,\n\u001b[1;32m     20\u001b[0m             ptr: Optional[Tensor] \u001b[38;5;241m=\u001b[39m \u001b[38;5;28;01mNone\u001b[39;00m, dim_size: Optional[\u001b[38;5;28mint\u001b[39m] \u001b[38;5;241m=\u001b[39m \u001b[38;5;28;01mNone\u001b[39;00m,\n\u001b[1;32m     21\u001b[0m             dim: \u001b[38;5;28mint\u001b[39m \u001b[38;5;241m=\u001b[39m \u001b[38;5;241m-\u001b[39m\u001b[38;5;241m2\u001b[39m) \u001b[38;5;241m-\u001b[39m\u001b[38;5;241m>\u001b[39m Tensor:\n\u001b[0;32m---> 22\u001b[0m     \u001b[38;5;28;01mreturn\u001b[39;00m \u001b[38;5;28;43mself\u001b[39;49m\u001b[38;5;241;43m.\u001b[39;49m\u001b[43mreduce\u001b[49m\u001b[43m(\u001b[49m\u001b[43mx\u001b[49m\u001b[43m,\u001b[49m\u001b[43m \u001b[49m\u001b[43mindex\u001b[49m\u001b[43m,\u001b[49m\u001b[43m \u001b[49m\u001b[43mptr\u001b[49m\u001b[43m,\u001b[49m\u001b[43m \u001b[49m\u001b[43mdim_size\u001b[49m\u001b[43m,\u001b[49m\u001b[43m \u001b[49m\u001b[43mdim\u001b[49m\u001b[43m,\u001b[49m\u001b[43m \u001b[49m\u001b[43mreduce\u001b[49m\u001b[38;5;241;43m=\u001b[39;49m\u001b[38;5;124;43m'\u001b[39;49m\u001b[38;5;124;43msum\u001b[39;49m\u001b[38;5;124;43m'\u001b[39;49m\u001b[43m)\u001b[49m\n",
      "File \u001b[0;32m~/anaconda3/envs/graph_ml/lib/python3.10/site-packages/torch_geometric/nn/aggr/base.py:185\u001b[0m, in \u001b[0;36mAggregation.reduce\u001b[0;34m(self, x, index, ptr, dim_size, dim, reduce)\u001b[0m\n\u001b[1;32m    182\u001b[0m \u001b[38;5;28;01mif\u001b[39;00m index \u001b[38;5;129;01mis\u001b[39;00m \u001b[38;5;28;01mNone\u001b[39;00m:\n\u001b[1;32m    183\u001b[0m     \u001b[38;5;28;01mraise\u001b[39;00m \u001b[38;5;167;01mRuntimeError\u001b[39;00m(\u001b[38;5;124m\"\u001b[39m\u001b[38;5;124mAggregation requires \u001b[39m\u001b[38;5;124m'\u001b[39m\u001b[38;5;124mindex\u001b[39m\u001b[38;5;124m'\u001b[39m\u001b[38;5;124m to be specified\u001b[39m\u001b[38;5;124m\"\u001b[39m)\n\u001b[0;32m--> 185\u001b[0m \u001b[38;5;28;01mreturn\u001b[39;00m \u001b[43mscatter\u001b[49m\u001b[43m(\u001b[49m\u001b[43mx\u001b[49m\u001b[43m,\u001b[49m\u001b[43m \u001b[49m\u001b[43mindex\u001b[49m\u001b[43m,\u001b[49m\u001b[43m \u001b[49m\u001b[43mdim\u001b[49m\u001b[43m,\u001b[49m\u001b[43m \u001b[49m\u001b[43mdim_size\u001b[49m\u001b[43m,\u001b[49m\u001b[43m \u001b[49m\u001b[43mreduce\u001b[49m\u001b[43m)\u001b[49m\n",
      "File \u001b[0;32m~/anaconda3/envs/graph_ml/lib/python3.10/site-packages/torch_geometric/utils/_scatter.py:75\u001b[0m, in \u001b[0;36mscatter\u001b[0;34m(src, index, dim, dim_size, reduce)\u001b[0m\n\u001b[1;32m     73\u001b[0m \u001b[38;5;28;01mif\u001b[39;00m reduce \u001b[38;5;241m==\u001b[39m \u001b[38;5;124m'\u001b[39m\u001b[38;5;124msum\u001b[39m\u001b[38;5;124m'\u001b[39m \u001b[38;5;129;01mor\u001b[39;00m reduce \u001b[38;5;241m==\u001b[39m \u001b[38;5;124m'\u001b[39m\u001b[38;5;124madd\u001b[39m\u001b[38;5;124m'\u001b[39m:\n\u001b[1;32m     74\u001b[0m     index \u001b[38;5;241m=\u001b[39m broadcast(index, src, dim)\n\u001b[0;32m---> 75\u001b[0m     \u001b[38;5;28;01mreturn\u001b[39;00m \u001b[43msrc\u001b[49m\u001b[38;5;241;43m.\u001b[39;49m\u001b[43mnew_zeros\u001b[49m\u001b[43m(\u001b[49m\u001b[43msize\u001b[49m\u001b[43m)\u001b[49m\u001b[38;5;241;43m.\u001b[39;49m\u001b[43mscatter_add_\u001b[49m\u001b[43m(\u001b[49m\u001b[43mdim\u001b[49m\u001b[43m,\u001b[49m\u001b[43m \u001b[49m\u001b[43mindex\u001b[49m\u001b[43m,\u001b[49m\u001b[43m \u001b[49m\u001b[43msrc\u001b[49m\u001b[43m)\u001b[49m\n\u001b[1;32m     77\u001b[0m \u001b[38;5;28;01mif\u001b[39;00m reduce \u001b[38;5;241m==\u001b[39m \u001b[38;5;124m'\u001b[39m\u001b[38;5;124mmean\u001b[39m\u001b[38;5;124m'\u001b[39m:\n\u001b[1;32m     78\u001b[0m     count \u001b[38;5;241m=\u001b[39m src\u001b[38;5;241m.\u001b[39mnew_zeros(dim_size)\n",
      "\u001b[0;31mRuntimeError\u001b[0m: MPS backend out of memory (MPS allocated: 15.58 GB, other allocations: 48.52 MB, max allowed: 18.13 GB). Tried to allocate 2.68 GB on private pool. Use PYTORCH_MPS_HIGH_WATERMARK_RATIO=0.0 to disable upper limit for memory allocations (may cause system failure)."
     ]
    }
   ],
   "source": [
    "train_loop = tqdm(range(1, NUM_EPOCHS + 1))\n",
    "for epoch in train_loop:\n",
    "    train_loss, train_acc = train_epoch(model, train_graphs, optimizer)\n",
    "\n",
    "    text = f\"Epoch {epoch:3d} | Train Loss: {train_loss:.4f} | Train Acc: {train_acc:.4f}\"\n",
    "    \n",
    "    if epoch % 10 == 0 or epoch == 1:\n",
    "        # Evaluate on eval set periodically\n",
    "        eval_preds, eval_labels, eval_probs = evaluate(model, test_graphs)\n",
    "        eval_acc = (eval_preds == eval_labels).mean()\n",
    "        \n",
    "        text = f\"Epoch {epoch:3d} | Train Loss: {train_loss:.4f} | Train Acc: {train_acc:.4f} | Eval Acc: {eval_acc:.4f}\"\n",
    "\n",
    "    train_loop.set_description(text)"
   ]
  },
  {
   "cell_type": "code",
   "execution_count": null,
   "id": "3733f05e",
   "metadata": {},
   "outputs": [
    {
     "name": "stdout",
     "output_type": "stream",
     "text": [
      "              precision    recall  f1-score   support\n",
      "\n",
      "No Emergence       0.98      0.69      0.81   1546413\n",
      "   Emergence       0.22      0.84      0.34    157638\n",
      "\n",
      "    accuracy                           0.70   1704051\n",
      "   macro avg       0.60      0.76      0.58   1704051\n",
      "weighted avg       0.91      0.70      0.76   1704051\n",
      "\n",
      "ROC-AUC: 0.7693\n",
      "\n",
      "Confusion Matrix:\n",
      "[[1064886  481527]\n",
      " [  25323  132315]]\n"
     ]
    }
   ],
   "source": [
    "eval_preds, eval_labels, eval_probs = evaluate(model, test_graphs)\n",
    "print(classification_report(eval_labels, eval_preds, target_names=['No Emergence', 'Emergence']))\n",
    "if len(np.unique(eval_labels)) == 2:\n",
    "    auc = roc_auc_score(eval_labels, eval_probs[:, 1])\n",
    "    print(f\"ROC-AUC: {auc:.4f}\")\n",
    "\n",
    "print(\"\\nConfusion Matrix:\")\n",
    "print(confusion_matrix(eval_labels, eval_preds))"
   ]
  },
  {
   "cell_type": "code",
   "execution_count": null,
   "id": "d712455c",
   "metadata": {},
   "outputs": [
    {
     "data": {
      "image/png": "[encoded data removed]",
      "text/plain": [
       "<Figure size 1000x800 with 1 Axes>"
      ]
     },
     "metadata": {},
     "output_type": "display_data"
    }
   ],
   "source": [
    "from sklearn.metrics import classification_report, confusion_matrix, roc_auc_score, roc_curve\n",
    "import matplotlib.pyplot as plt\n",
    "import seaborn as sns\n",
    "\n",
    "fpr, tpr, thresholds = roc_curve(eval_labels, eval_preds)\n",
    "\n",
    "plt.figure(figsize=(10, 8))\n",
    "plt.plot(fpr, tpr, linewidth=2, label=f'Logistic Regression (AUC = {roc_auc_score(eval_labels, eval_preds):.4f})')\n",
    "plt.plot([0, 1], [0, 1], 'k--', label='Random Baseline')\n",
    "plt.xlabel('False Positive Rate', fontsize=12)\n",
    "plt.ylabel('True Positive Rate', fontsize=12)\n",
    "plt.title('ROC Curve - Test Set', fontsize=14)\n",
    "plt.legend(fontsize=12)\n",
    "plt.grid(True, alpha=0.3)\n",
    "plt.tight_layout()\n",
    "plt.show()"
   ]
  },
  {
   "cell_type": "markdown",
   "id": "23941708",
   "metadata": {},
   "source": [
    "## Performance Optimization Summary\n",
    "\n",
    "This notebook has been optimized to only build the graphs that are actually used in training and testing:\n",
    "\n",
    "- **Before**: Built all 49 timesteps (1-49) \n",
    "- **After**: Build only 7 specific timesteps: [20, 23, 30, 31, 34, 35, 39]\n",
    "- **Performance gain**: ~85% reduction in graph building time\n",
    "- **Memory efficient**: Only stores needed graphs\n",
    "- **Results**: Identical results with much faster execution"
   ]
  }
 ],
 "metadata": {
  "kernelspec": {
   "display_name": "graph_ml",
   "language": "python",
   "name": "python3"
  },
  "language_info": {
   "codemirror_mode": {
    "name": "ipython",
    "version": 3
   },
   "file_extension": ".py",
   "mimetype": "text/x-python",
   "name": "python",
   "nbconvert_exporter": "python",
   "pygments_lexer": "ipython3",
   "version": "3.10.15"
  }
 },
 "nbformat": 4,
 "nbformat_minor": 5
}
