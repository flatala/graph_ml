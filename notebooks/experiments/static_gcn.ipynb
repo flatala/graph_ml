{
 "cells": [
  {
   "cell_type": "markdown",
   "metadata": {},
   "source": [
    "# Static GCN Baseline\n",
    "\n",
    "**Objective**: 2-layer GCN using graph structure and node features.\n",
    "\n",
    "**Key principle**: Each node v evaluated at exactly t_first(v) + K."
   ]
  },
  {
   "cell_type": "code",
   "execution_count": 1,
   "metadata": {},
   "outputs": [],
   "source": [
    "import sys\n",
    "from pathlib import Path\n",
    "\n",
    "ROOT = Path.cwd().parent.parent\n",
    "sys.path.insert(0, str(ROOT))\n",
    "\n",
    "from code_lib.temporal_node_classification_builder import (\n",
    "    TemporalNodeClassificationBuilder,\n",
    "    load_elliptic_data,\n",
    "    prepare_observation_window_graphs\n",
    ")\n",
    "\n",
    "import torch\n",
    "import torch.nn as nn\n",
    "import torch.nn.functional as F\n",
    "from torch_geometric.nn import GCNConv\n",
    "import numpy as np\n",
    "import pandas as pd\n",
    "from sklearn.metrics import accuracy_score, precision_recall_fscore_support, roc_auc_score\n",
    "from tqdm.notebook import tqdm\n",
    "\n",
    "torch.manual_seed(42)\n",
    "np.random.seed(42)"
   ]
  },
  {
   "cell_type": "markdown",
   "metadata": {},
   "source": [
    "## Configuration"
   ]
  },
  {
   "cell_type": "code",
   "execution_count": 2,
   "metadata": {},
   "outputs": [
    {
     "name": "stdout",
     "output_type": "stream",
     "text": [
      "Device: cuda\n"
     ]
    }
   ],
   "source": [
    "from test_config import EXPERIMENT_CONFIG\n",
    "\n",
    "CONFIG = EXPERIMENT_CONFIG.copy()\n",
    "# GCN-specific hyperparameters (FIXED for class imbalance)\n",
    "CONFIG['dropout'] = 0.3  # Reduced from 0.5 to prevent over-regularization\n",
    "CONFIG['learning_rate'] = 0.001  # Reduced from 0.01 for more stable training\n",
    "CONFIG['weight_decay'] = 1e-5  # Reduced from 5e-4 to allow model to fit minority class\n",
    "CONFIG['epochs'] = 200\n",
    "CONFIG['patience'] = 20\n",
    "\n",
    "print(f\"Device: {CONFIG['device']}\")"
   ]
  },
  {
   "cell_type": "markdown",
   "metadata": {},
   "source": [
    "## Load Data & Create Splits"
   ]
  },
  {
   "cell_type": "code",
   "execution_count": 3,
   "metadata": {},
   "outputs": [
    {
     "name": "stdout",
     "output_type": "stream",
     "text": [
      "  Pre-processing node features by (address, timestep)...\n",
      "  Pre-processing edges by timestep...\n",
      "  Average new nodes per timestep: 16794.7\n",
      "Initialized TemporalNodeClassificationBuilder\n",
      "  Total nodes: 822942\n",
      "  Total edges: 2868964\n",
      "  Time steps: 1 to 49\n",
      "  Feature columns (116): ['in_num', 'in_total_fees', 'in_mean_fees', 'in_median_fees', 'in_total_btc_in']...\n",
      "  Include class as feature: False\n",
      "  Add temporal features: True\n",
      "  Add edge weights: False\n",
      "\n",
      "Temporal Split Summary:\n",
      "  Train: timesteps 5-24, 96470 nodes\n",
      "    Illicit: 4888, Licit: 91582\n",
      "Training illicit ratio: 0.050668601637814864\n",
      "  Val:   timesteps 29-31, 9884 nodes\n",
      "    Illicit: 664, Licit: 9220\n",
      "Validation illicit ratio: 0.06717927964386888\n",
      "  Test:  timesteps 37-43, 39305 nodes\n",
      "    Illicit: 1849, Licit: 37456\n",
      "Test illicit ratio: 0.04704236102277064\n",
      "Train: 96470 nodes\n",
      "Val:   9884 nodes\n",
      "Test:  39305 nodes\n"
     ]
    }
   ],
   "source": [
    "nodes_df, edges_df = load_elliptic_data(CONFIG['data_dir'], use_temporal_features=True)\n",
    "\n",
    "builder = TemporalNodeClassificationBuilder(\n",
    "    nodes_df=nodes_df,\n",
    "    edges_df=edges_df,\n",
    "    include_class_as_feature=False,\n",
    "    add_temporal_features=True,\n",
    "    cache_dir='../../graph_cache',\n",
    "    use_cache=True,\n",
    "    verbose=True\n",
    ")\n",
    "\n",
    "split = builder.get_train_val_test_split(\n",
    "    train_timesteps=CONFIG['train_timesteps'],\n",
    "    val_timesteps=CONFIG['val_timesteps'],\n",
    "    test_timesteps=CONFIG['test_timesteps'],\n",
    "    filter_unknown=True\n",
    ")\n",
    "\n",
    "print(f\"Train: {len(split['train'])} nodes\")\n",
    "print(f\"Val:   {len(split['val'])} nodes\")\n",
    "print(f\"Test:  {len(split['test'])} nodes\")"
   ]
  },
  {
   "cell_type": "markdown",
   "metadata": {},
   "source": [
    "## Prepare Per-Node Graphs\n",
    "\n",
    "Each node evaluated at t_first(v) + K."
   ]
  },
  {
   "cell_type": "code",
   "execution_count": 4,
   "metadata": {},
   "outputs": [
    {
     "name": "stdout",
     "output_type": "stream",
     "text": [
      "\n",
      "======================================================================\n",
      "PREPARING OBSERVATION WINDOW GRAPHS (PER-NODE EVALUATION)\n",
      "======================================================================\n",
      "\n",
      "======================================================================\n",
      "K = 0 (Each node evaluated at t_first + 0)\n",
      "======================================================================\n",
      "\n",
      "TRAIN split:\n",
      "  Nodes to evaluate: 96,470\n",
      "  Evaluation times: t=5 to t=24\n",
      "  Unique graphs needed: 20\n",
      "  ✅ Loaded cached graph from ../../graph_cache/graph_t5_metaTrue_classFalse_tempTrue_weightsFalse.pt\n",
      "  ✅ Loaded cached graph from ../../graph_cache/graph_t6_metaTrue_classFalse_tempTrue_weightsFalse.pt\n",
      "  ✅ Loaded cached graph from ../../graph_cache/graph_t7_metaTrue_classFalse_tempTrue_weightsFalse.pt\n",
      "  ✅ Loaded cached graph from ../../graph_cache/graph_t8_metaTrue_classFalse_tempTrue_weightsFalse.pt\n",
      "  ✅ Loaded cached graph from ../../graph_cache/graph_t9_metaTrue_classFalse_tempTrue_weightsFalse.pt\n",
      "  ✅ Loaded cached graph from ../../graph_cache/graph_t10_metaTrue_classFalse_tempTrue_weightsFalse.pt\n",
      "  ✅ Loaded cached graph from ../../graph_cache/graph_t11_metaTrue_classFalse_tempTrue_weightsFalse.pt\n",
      "  ✅ Loaded cached graph from ../../graph_cache/graph_t12_metaTrue_classFalse_tempTrue_weightsFalse.pt\n",
      "  ✅ Loaded cached graph from ../../graph_cache/graph_t13_metaTrue_classFalse_tempTrue_weightsFalse.pt\n",
      "  ✅ Loaded cached graph from ../../graph_cache/graph_t14_metaTrue_classFalse_tempTrue_weightsFalse.pt\n",
      "  ✅ Loaded cached graph from ../../graph_cache/graph_t15_metaTrue_classFalse_tempTrue_weightsFalse.pt\n",
      "  ✅ Loaded cached graph from ../../graph_cache/graph_t16_metaTrue_classFalse_tempTrue_weightsFalse.pt\n",
      "  ✅ Loaded cached graph from ../../graph_cache/graph_t17_metaTrue_classFalse_tempTrue_weightsFalse.pt\n",
      "  ✅ Loaded cached graph from ../../graph_cache/graph_t18_metaTrue_classFalse_tempTrue_weightsFalse.pt\n",
      "  ✅ Loaded cached graph from ../../graph_cache/graph_t19_metaTrue_classFalse_tempTrue_weightsFalse.pt\n",
      "  ✅ Loaded cached graph from ../../graph_cache/graph_t20_metaTrue_classFalse_tempTrue_weightsFalse.pt\n",
      "  ✅ Loaded cached graph from ../../graph_cache/graph_t21_metaTrue_classFalse_tempTrue_weightsFalse.pt\n",
      "  ✅ Loaded cached graph from ../../graph_cache/graph_t22_metaTrue_classFalse_tempTrue_weightsFalse.pt\n",
      "  ✅ Loaded cached graph from ../../graph_cache/graph_t23_metaTrue_classFalse_tempTrue_weightsFalse.pt\n",
      "  ✅ Loaded cached graph from ../../graph_cache/graph_t24_metaTrue_classFalse_tempTrue_weightsFalse.pt\n",
      "  Total eval nodes across all graphs: 96,470\n",
      "\n",
      "VAL split:\n",
      "  Nodes to evaluate: 9,884\n",
      "  Evaluation times: t=29 to t=31\n",
      "  Unique graphs needed: 3\n",
      "  ✅ Loaded cached graph from ../../graph_cache/graph_t29_metaTrue_classFalse_tempTrue_weightsFalse.pt\n",
      "  ✅ Loaded cached graph from ../../graph_cache/graph_t30_metaTrue_classFalse_tempTrue_weightsFalse.pt\n",
      "  ✅ Loaded cached graph from ../../graph_cache/graph_t31_metaTrue_classFalse_tempTrue_weightsFalse.pt\n",
      "  Total eval nodes across all graphs: 9,884\n",
      "\n",
      "TEST split:\n",
      "  Nodes to evaluate: 39,305\n",
      "  Evaluation times: t=37 to t=43\n",
      "  Unique graphs needed: 7\n",
      "  ✅ Loaded cached graph from ../../graph_cache/graph_t37_metaTrue_classFalse_tempTrue_weightsFalse.pt\n",
      "  ✅ Loaded cached graph from ../../graph_cache/graph_t38_metaTrue_classFalse_tempTrue_weightsFalse.pt\n",
      "  ✅ Loaded cached graph from ../../graph_cache/graph_t39_metaTrue_classFalse_tempTrue_weightsFalse.pt\n",
      "  ✅ Loaded cached graph from ../../graph_cache/graph_t40_metaTrue_classFalse_tempTrue_weightsFalse.pt\n",
      "  ✅ Loaded cached graph from ../../graph_cache/graph_t41_metaTrue_classFalse_tempTrue_weightsFalse.pt\n",
      "  ✅ Loaded cached graph from ../../graph_cache/graph_t42_metaTrue_classFalse_tempTrue_weightsFalse.pt\n",
      "  ✅ Loaded cached graph from ../../graph_cache/graph_t43_metaTrue_classFalse_tempTrue_weightsFalse.pt\n",
      "  Total eval nodes across all graphs: 39,305\n",
      "\n",
      "======================================================================\n",
      "K = 3 (Each node evaluated at t_first + 3)\n",
      "======================================================================\n",
      "\n",
      "TRAIN split:\n",
      "  Nodes to evaluate: 96,470\n",
      "  Evaluation times: t=8 to t=27\n",
      "  Unique graphs needed: 20\n",
      "  ✅ Loaded cached graph from ../../graph_cache/graph_t8_metaTrue_classFalse_tempTrue_weightsFalse.pt\n",
      "  ✅ Loaded cached graph from ../../graph_cache/graph_t9_metaTrue_classFalse_tempTrue_weightsFalse.pt\n",
      "  ✅ Loaded cached graph from ../../graph_cache/graph_t10_metaTrue_classFalse_tempTrue_weightsFalse.pt\n",
      "  ✅ Loaded cached graph from ../../graph_cache/graph_t11_metaTrue_classFalse_tempTrue_weightsFalse.pt\n",
      "  ✅ Loaded cached graph from ../../graph_cache/graph_t12_metaTrue_classFalse_tempTrue_weightsFalse.pt\n",
      "  ✅ Loaded cached graph from ../../graph_cache/graph_t13_metaTrue_classFalse_tempTrue_weightsFalse.pt\n",
      "  ✅ Loaded cached graph from ../../graph_cache/graph_t14_metaTrue_classFalse_tempTrue_weightsFalse.pt\n",
      "  ✅ Loaded cached graph from ../../graph_cache/graph_t15_metaTrue_classFalse_tempTrue_weightsFalse.pt\n",
      "  ✅ Loaded cached graph from ../../graph_cache/graph_t16_metaTrue_classFalse_tempTrue_weightsFalse.pt\n",
      "  ✅ Loaded cached graph from ../../graph_cache/graph_t17_metaTrue_classFalse_tempTrue_weightsFalse.pt\n",
      "  ✅ Loaded cached graph from ../../graph_cache/graph_t18_metaTrue_classFalse_tempTrue_weightsFalse.pt\n",
      "  ✅ Loaded cached graph from ../../graph_cache/graph_t19_metaTrue_classFalse_tempTrue_weightsFalse.pt\n",
      "  ✅ Loaded cached graph from ../../graph_cache/graph_t20_metaTrue_classFalse_tempTrue_weightsFalse.pt\n",
      "  ✅ Loaded cached graph from ../../graph_cache/graph_t21_metaTrue_classFalse_tempTrue_weightsFalse.pt\n",
      "  ✅ Loaded cached graph from ../../graph_cache/graph_t22_metaTrue_classFalse_tempTrue_weightsFalse.pt\n",
      "  ✅ Loaded cached graph from ../../graph_cache/graph_t23_metaTrue_classFalse_tempTrue_weightsFalse.pt\n",
      "  ✅ Loaded cached graph from ../../graph_cache/graph_t24_metaTrue_classFalse_tempTrue_weightsFalse.pt\n",
      "  ✅ Loaded cached graph from ../../graph_cache/graph_t25_metaTrue_classFalse_tempTrue_weightsFalse.pt\n",
      "  ✅ Loaded cached graph from ../../graph_cache/graph_t26_metaTrue_classFalse_tempTrue_weightsFalse.pt\n",
      "  ✅ Loaded cached graph from ../../graph_cache/graph_t27_metaTrue_classFalse_tempTrue_weightsFalse.pt\n",
      "  Total eval nodes across all graphs: 96,470\n",
      "\n",
      "VAL split:\n",
      "  Nodes to evaluate: 9,884\n",
      "  Evaluation times: t=32 to t=34\n",
      "  Unique graphs needed: 3\n",
      "  ✅ Loaded cached graph from ../../graph_cache/graph_t32_metaTrue_classFalse_tempTrue_weightsFalse.pt\n",
      "  ✅ Loaded cached graph from ../../graph_cache/graph_t33_metaTrue_classFalse_tempTrue_weightsFalse.pt\n",
      "  ✅ Loaded cached graph from ../../graph_cache/graph_t34_metaTrue_classFalse_tempTrue_weightsFalse.pt\n",
      "  Total eval nodes across all graphs: 9,884\n",
      "\n",
      "TEST split:\n",
      "  Nodes to evaluate: 39,305\n",
      "  Evaluation times: t=40 to t=46\n",
      "  Unique graphs needed: 7\n",
      "  ✅ Loaded cached graph from ../../graph_cache/graph_t40_metaTrue_classFalse_tempTrue_weightsFalse.pt\n",
      "  ✅ Loaded cached graph from ../../graph_cache/graph_t41_metaTrue_classFalse_tempTrue_weightsFalse.pt\n",
      "  ✅ Loaded cached graph from ../../graph_cache/graph_t42_metaTrue_classFalse_tempTrue_weightsFalse.pt\n",
      "  ✅ Loaded cached graph from ../../graph_cache/graph_t43_metaTrue_classFalse_tempTrue_weightsFalse.pt\n",
      "  ✅ Loaded cached graph from ../../graph_cache/graph_t44_metaTrue_classFalse_tempTrue_weightsFalse.pt\n",
      "  ✅ Loaded cached graph from ../../graph_cache/graph_t45_metaTrue_classFalse_tempTrue_weightsFalse.pt\n",
      "  ✅ Loaded cached graph from ../../graph_cache/graph_t46_metaTrue_classFalse_tempTrue_weightsFalse.pt\n",
      "  Total eval nodes across all graphs: 39,305\n",
      "\n",
      "======================================================================\n",
      "K = 5 (Each node evaluated at t_first + 5)\n",
      "======================================================================\n",
      "\n",
      "TRAIN split:\n",
      "  Nodes to evaluate: 96,470\n",
      "  Evaluation times: t=10 to t=29\n",
      "  Unique graphs needed: 20\n",
      "  ✅ Loaded cached graph from ../../graph_cache/graph_t10_metaTrue_classFalse_tempTrue_weightsFalse.pt\n",
      "  ✅ Loaded cached graph from ../../graph_cache/graph_t11_metaTrue_classFalse_tempTrue_weightsFalse.pt\n",
      "  ✅ Loaded cached graph from ../../graph_cache/graph_t12_metaTrue_classFalse_tempTrue_weightsFalse.pt\n",
      "  ✅ Loaded cached graph from ../../graph_cache/graph_t13_metaTrue_classFalse_tempTrue_weightsFalse.pt\n",
      "  ✅ Loaded cached graph from ../../graph_cache/graph_t14_metaTrue_classFalse_tempTrue_weightsFalse.pt\n",
      "  ✅ Loaded cached graph from ../../graph_cache/graph_t15_metaTrue_classFalse_tempTrue_weightsFalse.pt\n",
      "  ✅ Loaded cached graph from ../../graph_cache/graph_t16_metaTrue_classFalse_tempTrue_weightsFalse.pt\n",
      "  ✅ Loaded cached graph from ../../graph_cache/graph_t17_metaTrue_classFalse_tempTrue_weightsFalse.pt\n",
      "  ✅ Loaded cached graph from ../../graph_cache/graph_t18_metaTrue_classFalse_tempTrue_weightsFalse.pt\n",
      "  ✅ Loaded cached graph from ../../graph_cache/graph_t19_metaTrue_classFalse_tempTrue_weightsFalse.pt\n",
      "  ✅ Loaded cached graph from ../../graph_cache/graph_t20_metaTrue_classFalse_tempTrue_weightsFalse.pt\n",
      "  ✅ Loaded cached graph from ../../graph_cache/graph_t21_metaTrue_classFalse_tempTrue_weightsFalse.pt\n",
      "  ✅ Loaded cached graph from ../../graph_cache/graph_t22_metaTrue_classFalse_tempTrue_weightsFalse.pt\n",
      "  ✅ Loaded cached graph from ../../graph_cache/graph_t23_metaTrue_classFalse_tempTrue_weightsFalse.pt\n",
      "  ✅ Loaded cached graph from ../../graph_cache/graph_t24_metaTrue_classFalse_tempTrue_weightsFalse.pt\n",
      "  ✅ Loaded cached graph from ../../graph_cache/graph_t25_metaTrue_classFalse_tempTrue_weightsFalse.pt\n",
      "  ✅ Loaded cached graph from ../../graph_cache/graph_t26_metaTrue_classFalse_tempTrue_weightsFalse.pt\n",
      "  ✅ Loaded cached graph from ../../graph_cache/graph_t27_metaTrue_classFalse_tempTrue_weightsFalse.pt\n",
      "  ✅ Loaded cached graph from ../../graph_cache/graph_t28_metaTrue_classFalse_tempTrue_weightsFalse.pt\n",
      "  ✅ Loaded cached graph from ../../graph_cache/graph_t29_metaTrue_classFalse_tempTrue_weightsFalse.pt\n",
      "  Total eval nodes across all graphs: 96,470\n",
      "\n",
      "VAL split:\n",
      "  Nodes to evaluate: 9,884\n",
      "  Evaluation times: t=34 to t=36\n",
      "  Unique graphs needed: 3\n",
      "  ✅ Loaded cached graph from ../../graph_cache/graph_t34_metaTrue_classFalse_tempTrue_weightsFalse.pt\n",
      "  ✅ Loaded cached graph from ../../graph_cache/graph_t35_metaTrue_classFalse_tempTrue_weightsFalse.pt\n",
      "  ✅ Loaded cached graph from ../../graph_cache/graph_t36_metaTrue_classFalse_tempTrue_weightsFalse.pt\n",
      "  Total eval nodes across all graphs: 9,884\n",
      "\n",
      "TEST split:\n",
      "  Nodes to evaluate: 39,305\n",
      "  Evaluation times: t=42 to t=48\n",
      "  Unique graphs needed: 7\n",
      "  ✅ Loaded cached graph from ../../graph_cache/graph_t42_metaTrue_classFalse_tempTrue_weightsFalse.pt\n",
      "  ✅ Loaded cached graph from ../../graph_cache/graph_t43_metaTrue_classFalse_tempTrue_weightsFalse.pt\n",
      "  ✅ Loaded cached graph from ../../graph_cache/graph_t44_metaTrue_classFalse_tempTrue_weightsFalse.pt\n",
      "  ✅ Loaded cached graph from ../../graph_cache/graph_t45_metaTrue_classFalse_tempTrue_weightsFalse.pt\n",
      "  ✅ Loaded cached graph from ../../graph_cache/graph_t46_metaTrue_classFalse_tempTrue_weightsFalse.pt\n",
      "  ✅ Loaded cached graph from ../../graph_cache/graph_t47_metaTrue_classFalse_tempTrue_weightsFalse.pt\n",
      "  ✅ Loaded cached graph from ../../graph_cache/graph_t48_metaTrue_classFalse_tempTrue_weightsFalse.pt\n",
      "  Total eval nodes across all graphs: 39,305\n",
      "\n",
      "======================================================================\n",
      "✅ PER-NODE OBSERVATION WINDOW GRAPHS PREPARED\n",
      "======================================================================\n",
      "\n",
      "Created graphs for 3 observation windows × 3 splits\n",
      "\n",
      "Usage (collect data from all graphs in split):\n",
      "  X_train = [g.x[g.eval_mask] for g in graphs[K]['train']['graphs'].values()]\n",
      "  X_train = torch.cat(X_train)\n",
      "======================================================================\n",
      "\n"
     ]
    }
   ],
   "source": [
    "device = torch.device(CONFIG['device'])\n",
    "\n",
    "graphs = prepare_observation_window_graphs(\n",
    "    builder,\n",
    "    split['train'],\n",
    "    split['val'],\n",
    "    split['test'],\n",
    "    K_values=CONFIG['observation_windows'],\n",
    "    device=device\n",
    ")"
   ]
  },
  {
   "cell_type": "markdown",
   "metadata": {},
   "source": [
    "## GCN Model"
   ]
  },
  {
   "cell_type": "code",
   "execution_count": 5,
   "metadata": {},
   "outputs": [],
   "source": [
    "class StaticGCN(nn.Module):\n",
    "    def __init__(self, num_features, hidden_dim, num_classes, dropout=0.5):\n",
    "        super().__init__()\n",
    "        self.conv1 = GCNConv(num_features, hidden_dim)\n",
    "        self.conv2 = GCNConv(hidden_dim, num_classes)\n",
    "        self.dropout = dropout\n",
    "        \n",
    "    def forward(self, x, edge_index):\n",
    "        x = self.conv1(x, edge_index)\n",
    "        x = F.relu(x)\n",
    "        x = F.dropout(x, p=self.dropout, training=self.training)\n",
    "        x = self.conv2(x, edge_index)\n",
    "        return x"
   ]
  },
  {
   "cell_type": "markdown",
   "metadata": {},
   "source": [
    "## Training Functions"
   ]
  },
  {
   "cell_type": "code",
   "execution_count": 6,
   "metadata": {},
   "outputs": [],
   "source": [
    "def train_epoch(model, graphs_dict, optimizer, criterion):\n",
    "    \"\"\"Train on all graphs in split - BATCHED VERSION for stability.\"\"\"\n",
    "    model.train()\n",
    "    \n",
    "    # Collect all masked nodes from all graphs into one batch\n",
    "    all_logits = []\n",
    "    all_labels = []\n",
    "    \n",
    "    for eval_t, graph in graphs_dict.items():\n",
    "        logits = model(graph.x, graph.edge_index)\n",
    "        # Only keep logits and labels for eval_mask nodes\n",
    "        all_logits.append(logits[graph.eval_mask])\n",
    "        all_labels.append(graph.y[graph.eval_mask])\n",
    "    \n",
    "    # Concatenate into single batch\n",
    "    all_logits = torch.cat(all_logits, dim=0)\n",
    "    all_labels = torch.cat(all_labels, dim=0)\n",
    "    \n",
    "    # Single backward pass for all graphs\n",
    "    optimizer.zero_grad()\n",
    "    loss = criterion(all_logits, all_labels)\n",
    "    loss.backward()\n",
    "    optimizer.step()\n",
    "    \n",
    "    # Compute accuracy\n",
    "    pred = all_logits.argmax(dim=1)\n",
    "    correct = (pred == all_labels).sum().item()\n",
    "    total = len(all_labels)\n",
    "    \n",
    "    return loss.item(), correct / total\n",
    "\n",
    "\n",
    "def evaluate(model, graphs_dict):\n",
    "    \"\"\"Evaluate on all graphs in split.\"\"\"\n",
    "    model.eval()\n",
    "    all_preds = []\n",
    "    all_labels = []\n",
    "    all_probs = []\n",
    "    \n",
    "    with torch.no_grad():\n",
    "        for eval_t, graph in graphs_dict.items():\n",
    "            logits = model(graph.x, graph.edge_index)\n",
    "            pred = logits[graph.eval_mask].argmax(dim=1).cpu().numpy()\n",
    "            true = graph.y[graph.eval_mask].cpu().numpy()\n",
    "            probs = F.softmax(logits[graph.eval_mask], dim=1)[:, 1].cpu().numpy()\n",
    "            \n",
    "            all_preds.append(pred)\n",
    "            all_labels.append(true)\n",
    "            all_probs.append(probs)\n",
    "    \n",
    "    all_preds = np.concatenate(all_preds)\n",
    "    all_labels = np.concatenate(all_labels)\n",
    "    all_probs = np.concatenate(all_probs)\n",
    "    \n",
    "    acc = accuracy_score(all_labels, all_preds)\n",
    "    precision, recall, f1, _ = precision_recall_fscore_support(\n",
    "        all_labels, all_preds, average='binary', pos_label=1, zero_division=0\n",
    "    )\n",
    "    auc = roc_auc_score(all_labels, all_probs) if len(np.unique(all_labels)) > 1 else 0.5\n",
    "    \n",
    "    return {'accuracy': acc, 'precision': precision, 'recall': recall, 'f1': f1, 'auc': auc}"
   ]
  },
  {
   "cell_type": "markdown",
   "metadata": {},
   "source": [
    "## Train Models (Per-K Retraining)\n",
    "\n",
    "Separate model for each K value."
   ]
  },
  {
   "cell_type": "code",
   "execution_count": 7,
   "metadata": {},
   "outputs": [
    {
     "name": "stdout",
     "output_type": "stream",
     "text": [
      "\n",
      "======================================================================\n",
      "Training with K=0\n",
      "======================================================================\n",
      "Class distribution: [91582, 4888]\n",
      "Class weights: [0.37533870339393616, 1.6246613264083862]\n"
     ]
    },
    {
     "data": {
      "application/vnd.jupyter.widget-view+json": {
       "model_id": "e272a0df0f2945a5b1c0f1f18eaa346a",
       "version_major": 2,
       "version_minor": 0
      },
      "text/plain": [
       "K=0:   0%|          | 0/200 [00:00<?, ?it/s]"
      ]
     },
     "metadata": {},
     "output_type": "display_data"
    },
    {
     "name": "stdout",
     "output_type": "stream",
     "text": [
      "\n",
      "Train: F1=0.2629, AUC=0.6991\n",
      "Val:   F1=0.2745, AUC=0.6884\n",
      "Test:  F1=0.1813, AUC=0.6505\n",
      "\n",
      "======================================================================\n",
      "Training with K=3\n",
      "======================================================================\n",
      "Class distribution: [91582, 4888]\n",
      "Class weights: [0.37533870339393616, 1.6246613264083862]\n"
     ]
    },
    {
     "data": {
      "application/vnd.jupyter.widget-view+json": {
       "model_id": "5d2c7caa8b554510918075f316593f07",
       "version_major": 2,
       "version_minor": 0
      },
      "text/plain": [
       "K=3:   0%|          | 0/200 [00:00<?, ?it/s]"
      ]
     },
     "metadata": {},
     "output_type": "display_data"
    },
    {
     "name": "stdout",
     "output_type": "stream",
     "text": [
      "Early stopping at epoch 105\n",
      "\n",
      "Train: F1=0.0196, AUC=0.6119\n",
      "Val:   F1=0.0227, AUC=0.6253\n",
      "Test:  F1=0.0195, AUC=0.5687\n",
      "\n",
      "======================================================================\n",
      "Training with K=5\n",
      "======================================================================\n",
      "Class distribution: [91582, 4888]\n",
      "Class weights: [0.37533870339393616, 1.6246613264083862]\n"
     ]
    },
    {
     "data": {
      "application/vnd.jupyter.widget-view+json": {
       "model_id": "2684056655dc4a5fa5752db46855a17a",
       "version_major": 2,
       "version_minor": 0
      },
      "text/plain": [
       "K=5:   0%|          | 0/200 [00:00<?, ?it/s]"
      ]
     },
     "metadata": {},
     "output_type": "display_data"
    },
    {
     "name": "stdout",
     "output_type": "stream",
     "text": [
      "Early stopping at epoch 105\n",
      "\n",
      "Train: F1=0.0213, AUC=0.6129\n",
      "Val:   F1=0.0257, AUC=0.6302\n",
      "Test:  F1=0.0077, AUC=0.5693\n",
      "\n",
      "======================================================================\n",
      "✅ Training complete!\n",
      "======================================================================\n"
     ]
    }
   ],
   "source": [
    "results = {}\n",
    "models = {}\n",
    "\n",
    "for K in CONFIG['observation_windows']:\n",
    "    print(f\"\\n{'='*70}\")\n",
    "    print(f\"Training with K={K}\")\n",
    "    print('='*70)\n",
    "    \n",
    "    train_graphs = graphs[K]['train']['graphs']\n",
    "    val_graphs = graphs[K]['val']['graphs']\n",
    "    test_graphs = graphs[K]['test']['graphs']\n",
    "    \n",
    "    # Initialize model\n",
    "    num_features = list(train_graphs.values())[0].x.shape[1]\n",
    "    model = StaticGCN(\n",
    "        num_features=num_features,\n",
    "        hidden_dim=CONFIG['hidden_dim'],\n",
    "        num_classes=2,\n",
    "        dropout=CONFIG['dropout']\n",
    "    ).to(device)\n",
    "    \n",
    "    optimizer = torch.optim.Adam(\n",
    "        model.parameters(),\n",
    "        lr=CONFIG['learning_rate'],\n",
    "        weight_decay=CONFIG['weight_decay']\n",
    "    )\n",
    "    \n",
    "    # Compute class weights from all training graphs\n",
    "    all_train_labels = []\n",
    "    for g in train_graphs.values():\n",
    "        all_train_labels.append(g.y[g.eval_mask].cpu())\n",
    "    all_train_labels = torch.cat(all_train_labels).long()\n",
    "    \n",
    "    class_counts = torch.bincount(all_train_labels)\n",
    "    \n",
    "    # More aggressive weighting: use sqrt of inverse frequency\n",
    "    # This prevents extreme weights while still helping minority class\n",
    "    class_weights = torch.sqrt(1.0 / class_counts.float())\n",
    "    class_weights = class_weights / class_weights.sum() * 2.0  # Normalize\n",
    "    class_weights = class_weights.to(device)\n",
    "    \n",
    "    print(f\"Class distribution: {class_counts.tolist()}\")\n",
    "    print(f\"Class weights: {class_weights.tolist()}\")\n",
    "    \n",
    "    criterion = nn.CrossEntropyLoss(weight=class_weights)\n",
    "    \n",
    "    # Training loop\n",
    "    best_val_f1 = 0\n",
    "    patience_counter = 0\n",
    "    best_model_state = None\n",
    "    \n",
    "    pbar = tqdm(range(CONFIG['epochs']), desc=f\"K={K}\")\n",
    "    for epoch in pbar:\n",
    "        train_loss, train_acc = train_epoch(model, train_graphs, optimizer, criterion)\n",
    "        \n",
    "        if (epoch + 1) % 5 == 0:\n",
    "            val_metrics = evaluate(model, val_graphs)\n",
    "            train_metrics = evaluate(model, train_graphs)\n",
    "            pbar.set_postfix({\n",
    "                'loss': f\"{train_loss:.4f}\", \n",
    "                'train_f1': f\"{train_metrics['f1']:.4f}\",\n",
    "                'val_f1': f\"{val_metrics['f1']:.4f}\"\n",
    "            })\n",
    "            \n",
    "            if val_metrics['f1'] > best_val_f1:\n",
    "                best_val_f1 = val_metrics['f1']\n",
    "                patience_counter = 0\n",
    "                best_model_state = model.state_dict().copy()\n",
    "            else:\n",
    "                patience_counter += 1\n",
    "                \n",
    "            if patience_counter >= CONFIG['patience']:\n",
    "                print(f\"Early stopping at epoch {epoch+1}\")\n",
    "                break\n",
    "    \n",
    "    # Load best model and evaluate\n",
    "    if best_model_state is not None:\n",
    "        model.load_state_dict(best_model_state)\n",
    "    \n",
    "    train_metrics = evaluate(model, train_graphs)\n",
    "    val_metrics = evaluate(model, val_graphs)\n",
    "    test_metrics = evaluate(model, test_graphs)\n",
    "    \n",
    "    print(f\"\\nTrain: F1={train_metrics['f1']:.4f}, AUC={train_metrics['auc']:.4f}\")\n",
    "    print(f\"Val:   F1={val_metrics['f1']:.4f}, AUC={val_metrics['auc']:.4f}\")\n",
    "    print(f\"Test:  F1={test_metrics['f1']:.4f}, AUC={test_metrics['auc']:.4f}\")\n",
    "    \n",
    "    results[K] = {'train': train_metrics, 'val': val_metrics, 'test': test_metrics}\n",
    "    models[K] = model\n",
    "\n",
    "print(\"\\n\" + \"=\"*70)\n",
    "print(\"✅ Training complete!\")\n",
    "print(\"=\"*70)"
   ]
  },
  {
   "cell_type": "markdown",
   "metadata": {},
   "source": [
    "## Results Summary"
   ]
  },
  {
   "cell_type": "code",
   "execution_count": 8,
   "metadata": {},
   "outputs": [
    {
     "name": "stdout",
     "output_type": "stream",
     "text": [
      "\n",
      "Test Set Performance:\n",
      " K Accuracy Precision Recall     F1    AUC\n",
      " 0   0.9056    0.1531 0.2223 0.1813 0.6505\n",
      " 3   0.9489    0.1005 0.0108 0.0195 0.5687\n",
      " 5   0.9475    0.0349 0.0043 0.0077 0.5693\n"
     ]
    }
   ],
   "source": [
    "comparison_data = []\n",
    "\n",
    "for K in CONFIG['observation_windows']:\n",
    "    metrics = results[K]['test']\n",
    "    comparison_data.append({\n",
    "        'K': K,\n",
    "        'Accuracy': f\"{metrics['accuracy']:.4f}\",\n",
    "        'Precision': f\"{metrics['precision']:.4f}\",\n",
    "        'Recall': f\"{metrics['recall']:.4f}\",\n",
    "        'F1': f\"{metrics['f1']:.4f}\",\n",
    "        'AUC': f\"{metrics['auc']:.4f}\"\n",
    "    })\n",
    "\n",
    "comparison_df = pd.DataFrame(comparison_data)\n",
    "print(\"\\nTest Set Performance:\")\n",
    "print(comparison_df.to_string(index=False))"
   ]
  },
  {
   "cell_type": "markdown",
   "metadata": {},
   "source": [
    "## Performance Visualization"
   ]
  },
  {
   "cell_type": "code",
   "execution_count": 9,
   "metadata": {},
   "outputs": [
    {
     "data": {
      "image/png": "[encoded data removed]",
      "text/plain": [
       "<Figure size 1400x500 with 2 Axes>"
      ]
     },
     "metadata": {},
     "output_type": "display_data"
    }
   ],
   "source": [
    "import matplotlib.pyplot as plt\n",
    "import seaborn as sns\n",
    "\n",
    "sns.set_style('whitegrid')\n",
    "\n",
    "fig, axes = plt.subplots(1, 2, figsize=(14, 5))\n",
    "\n",
    "# F1 Score\n",
    "ax = axes[0]\n",
    "f1_scores = [results[K]['test']['f1'] for K in CONFIG['observation_windows']]\n",
    "ax.plot(CONFIG['observation_windows'], f1_scores, marker='o', linewidth=2, color='steelblue')\n",
    "ax.set_xlabel('Observation Window K', fontsize=12)\n",
    "ax.set_ylabel('F1 Score', fontsize=12)\n",
    "ax.set_title('F1 Score vs Observation Window', fontsize=13, fontweight='bold')\n",
    "ax.grid(True, alpha=0.3)\n",
    "\n",
    "# AUC\n",
    "ax = axes[1]\n",
    "auc_scores = [results[K]['test']['auc'] for K in CONFIG['observation_windows']]\n",
    "ax.plot(CONFIG['observation_windows'], auc_scores, marker='o', linewidth=2, color='green')\n",
    "ax.set_xlabel('Observation Window K', fontsize=12)\n",
    "ax.set_ylabel('AUC', fontsize=12)\n",
    "ax.set_title('AUC vs Observation Window', fontsize=13, fontweight='bold')\n",
    "ax.grid(True, alpha=0.3)\n",
    "\n",
    "plt.tight_layout()\n",
    "plt.show()"
   ]
  },
  {
   "cell_type": "markdown",
   "metadata": {},
   "source": [
    "## Save Results"
   ]
  },
  {
   "cell_type": "code",
   "execution_count": 10,
   "metadata": {},
   "outputs": [
    {
     "name": "stdout",
     "output_type": "stream",
     "text": [
      "Results saved to ../../results/static_gcn_results.csv\n",
      "Models saved to ../../models/static_gcn_k*.pt\n"
     ]
    }
   ],
   "source": [
    "import os\n",
    "\n",
    "os.makedirs('../../results', exist_ok=True)\n",
    "os.makedirs('../../models', exist_ok=True)\n",
    "\n",
    "comparison_df.to_csv('../../results/static_gcn_results.csv', index=False)\n",
    "print(\"Results saved to ../../results/static_gcn_results.csv\")\n",
    "\n",
    "for K, model in models.items():\n",
    "    torch.save(model.state_dict(), f'../../models/static_gcn_k{K}.pt')\n",
    "print(f\"Models saved to ../../models/static_gcn_k*.pt\")"
   ]
  }
 ],
 "metadata": {
  "kernelspec": {
   "display_name": "Python 3 (ipykernel)",
   "language": "python",
   "name": "python3"
  },
  "language_info": {
   "codemirror_mode": {
    "name": "ipython",
    "version": 3
   },
   "file_extension": ".py",
   "mimetype": "text/x-python",
   "name": "python",
   "nbconvert_exporter": "python",
   "pygments_lexer": "ipython3",
   "version": "3.11.13"
  }
 },
 "nbformat": 4,
 "nbformat_minor": 4
}
