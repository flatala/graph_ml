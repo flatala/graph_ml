{
 "cells": [
  {
   "cell_type": "markdown",
   "metadata": {},
   "source": [
    "# Baseline Models (No Graph Structure)\n",
    "\n",
    "**Objective**: Classify nodes using only node features (no graph structure).\n",
    "\n",
    "**Key principle**: Each node v evaluated at exactly t_first(v) + K to ensure K timesteps of observation."
   ]
  },
  {
   "cell_type": "code",
   "execution_count": 1,
   "metadata": {},
   "outputs": [],
   "source": [
    "import sys\n",
    "from pathlib import Path\n",
    "\n",
    "# Add project root to path\n",
    "ROOT = Path.cwd().parent.parent\n",
    "sys.path.insert(0, str(ROOT))\n",
    "\n",
    "from code_lib.temporal_node_classification_builder import (\n",
    "    TemporalNodeClassificationBuilder,\n",
    "    load_elliptic_data,\n",
    "    prepare_observation_window_graphs\n",
    ")\n",
    "\n",
    "import torch\n",
    "import numpy as np\n",
    "import pandas as pd\n",
    "from sklearn.linear_model import LogisticRegression\n",
    "from sklearn.ensemble import RandomForestClassifier\n",
    "from xgboost import XGBClassifier\n",
    "from sklearn.preprocessing import StandardScaler\n",
    "from sklearn.metrics import accuracy_score, precision_recall_fscore_support, roc_auc_score\n",
    "\n",
    "np.random.seed(42)"
   ]
  },
  {
   "cell_type": "markdown",
   "metadata": {},
   "source": [
    "## Configuration"
   ]
  },
  {
   "cell_type": "code",
   "execution_count": 2,
   "metadata": {},
   "outputs": [
    {
     "name": "stdout",
     "output_type": "stream",
     "text": [
      "Train cohorts: t=5 to 24\n",
      "Val cohorts:   t=29 to 31\n",
      "Test cohorts:  t=37 to 43\n",
      "Observation windows K: [0, 3, 5]\n"
     ]
    }
   ],
   "source": [
    "from test_config import EXPERIMENT_CONFIG\n",
    "\n",
    "CONFIG = EXPERIMENT_CONFIG\n",
    "print(f\"Train cohorts: t={CONFIG['train_timesteps'][0]} to {CONFIG['train_timesteps'][1]}\")\n",
    "print(f\"Val cohorts:   t={CONFIG['val_timesteps'][0]} to {CONFIG['val_timesteps'][1]}\")\n",
    "print(f\"Test cohorts:  t={CONFIG['test_timesteps'][0]} to {CONFIG['test_timesteps'][1]}\")\n",
    "print(f\"Observation windows K: {CONFIG['observation_windows']}\")"
   ]
  },
  {
   "cell_type": "markdown",
   "metadata": {},
   "source": [
    "## Load Data & Create Temporal Splits"
   ]
  },
  {
   "cell_type": "code",
   "execution_count": 3,
   "metadata": {},
   "outputs": [
    {
     "name": "stdout",
     "output_type": "stream",
     "text": [
      "\n",
      "Train: 96470 nodes\n",
      "Val:   9884 nodes\n",
      "Test:  39305 nodes\n"
     ]
    }
   ],
   "source": [
    "# Load elliptic dataset with temporal features (no leakage)\n",
    "nodes_df, edges_df = load_elliptic_data(CONFIG['data_dir'], use_temporal_features=True)\n",
    "\n",
    "builder = TemporalNodeClassificationBuilder(\n",
    "    nodes_df=nodes_df,\n",
    "    edges_df=edges_df,\n",
    "    include_class_as_feature=False,\n",
    "    add_temporal_features=True,\n",
    "    cache_dir='../../graph_cache',\n",
    "    use_cache=True,\n",
    "    verbose=False\n",
    ")\n",
    "\n",
    "# Create temporal splits (non-overlapping cohorts)\n",
    "split = builder.get_train_val_test_split(\n",
    "    train_timesteps=CONFIG['train_timesteps'],\n",
    "    val_timesteps=CONFIG['val_timesteps'],\n",
    "    test_timesteps=CONFIG['test_timesteps'],\n",
    "    filter_unknown=True  # Only nodes with known labels\n",
    ")\n",
    "\n",
    "print(f\"\\nTrain: {len(split['train'])} nodes\")\n",
    "print(f\"Val:   {len(split['val'])} nodes\")\n",
    "print(f\"Test:  {len(split['test'])} nodes\")"
   ]
  },
  {
   "cell_type": "markdown",
   "metadata": {},
   "source": [
    "## Prepare Per-Node Observation Window Graphs\n",
    "\n",
    "Each node v is evaluated at time t_first(v) + K."
   ]
  },
  {
   "cell_type": "code",
   "execution_count": 4,
   "metadata": {},
   "outputs": [
    {
     "name": "stdout",
     "output_type": "stream",
     "text": [
      "\n",
      "======================================================================\n",
      "PREPARING OBSERVATION WINDOW GRAPHS (PER-NODE EVALUATION)\n",
      "======================================================================\n",
      "\n",
      "======================================================================\n",
      "K = 0 (Each node evaluated at t_first + 0)\n",
      "======================================================================\n",
      "\n",
      "TRAIN split:\n",
      "  Nodes to evaluate: 96,470\n",
      "  Evaluation times: t=5 to t=24\n",
      "  Unique graphs needed: 20\n",
      "  Total eval nodes across all graphs: 96,470\n",
      "\n",
      "VAL split:\n",
      "  Nodes to evaluate: 9,884\n",
      "  Evaluation times: t=29 to t=31\n",
      "  Unique graphs needed: 3\n",
      "  Total eval nodes across all graphs: 9,884\n",
      "\n",
      "TEST split:\n",
      "  Nodes to evaluate: 39,305\n",
      "  Evaluation times: t=37 to t=43\n",
      "  Unique graphs needed: 7\n",
      "  Total eval nodes across all graphs: 39,305\n",
      "\n",
      "======================================================================\n",
      "K = 3 (Each node evaluated at t_first + 3)\n",
      "======================================================================\n",
      "\n",
      "TRAIN split:\n",
      "  Nodes to evaluate: 96,470\n",
      "  Evaluation times: t=8 to t=27\n",
      "  Unique graphs needed: 20\n",
      "  Total eval nodes across all graphs: 96,470\n",
      "\n",
      "VAL split:\n",
      "  Nodes to evaluate: 9,884\n",
      "  Evaluation times: t=32 to t=34\n",
      "  Unique graphs needed: 3\n",
      "  Total eval nodes across all graphs: 9,884\n",
      "\n",
      "TEST split:\n",
      "  Nodes to evaluate: 39,305\n",
      "  Evaluation times: t=40 to t=46\n",
      "  Unique graphs needed: 7\n",
      "  Total eval nodes across all graphs: 39,305\n",
      "\n",
      "======================================================================\n",
      "K = 5 (Each node evaluated at t_first + 5)\n",
      "======================================================================\n",
      "\n",
      "TRAIN split:\n",
      "  Nodes to evaluate: 96,470\n",
      "  Evaluation times: t=10 to t=29\n",
      "  Unique graphs needed: 20\n",
      "  Total eval nodes across all graphs: 96,470\n",
      "\n",
      "VAL split:\n",
      "  Nodes to evaluate: 9,884\n",
      "  Evaluation times: t=34 to t=36\n",
      "  Unique graphs needed: 3\n",
      "  Total eval nodes across all graphs: 9,884\n",
      "\n",
      "TEST split:\n",
      "  Nodes to evaluate: 39,305\n",
      "  Evaluation times: t=42 to t=48\n",
      "  Unique graphs needed: 7\n",
      "  Total eval nodes across all graphs: 39,305\n",
      "\n",
      "======================================================================\n",
      "✅ PER-NODE OBSERVATION WINDOW GRAPHS PREPARED\n",
      "======================================================================\n",
      "\n",
      "Created graphs for 3 observation windows × 3 splits\n",
      "\n",
      "Usage (collect data from all graphs in split):\n",
      "  X_train = [g.x[g.eval_mask] for g in graphs[K]['train']['graphs'].values()]\n",
      "  X_train = torch.cat(X_train)\n",
      "======================================================================\n",
      "\n"
     ]
    }
   ],
   "source": [
    "graphs = prepare_observation_window_graphs(\n",
    "    builder,\n",
    "    split['train'],\n",
    "    split['val'],\n",
    "    split['test'],\n",
    "    K_values=CONFIG['observation_windows'],\n",
    "    device=torch.device(CONFIG['device'])\n",
    ")"
   ]
  },
  {
   "cell_type": "markdown",
   "metadata": {},
   "source": [
    "## Helper Functions"
   ]
  },
  {
   "cell_type": "code",
   "execution_count": 5,
   "metadata": {},
   "outputs": [],
   "source": [
    "def collect_data_from_graphs(graphs_dict):\n",
    "    \"\"\"Collect features and labels from all graphs in split.\"\"\"\n",
    "    X_list, y_list = [], []\n",
    "    \n",
    "    for eval_t, graph in graphs_dict.items():\n",
    "        # Extract only masked nodes (those evaluated at this timestep)\n",
    "        X_list.append(graph.x[graph.eval_mask].cpu().numpy())\n",
    "        y_list.append(graph.y[graph.eval_mask].cpu().numpy())\n",
    "    \n",
    "    X = np.vstack(X_list)\n",
    "    y = np.concatenate(y_list)\n",
    "    return X, y\n",
    "\n",
    "\n",
    "def evaluate_model(model, X, y, scaler=None):\n",
    "    \"\"\"Evaluate model and return metrics.\"\"\"\n",
    "    if scaler is not None:\n",
    "        X = scaler.transform(X)\n",
    "    \n",
    "    y_pred = model.predict(X)\n",
    "    y_proba = model.predict_proba(X)[:, 1]\n",
    "    \n",
    "    acc = accuracy_score(y, y_pred)\n",
    "    precision, recall, f1, _ = precision_recall_fscore_support(\n",
    "        y, y_pred, average='binary', pos_label=1, zero_division=0\n",
    "    )\n",
    "    auc = roc_auc_score(y, y_proba) if len(np.unique(y)) > 1 else 0.5\n",
    "    \n",
    "    return {'accuracy': acc, 'precision': precision, 'recall': recall, 'f1': f1, 'auc': auc}"
   ]
  },
  {
   "cell_type": "markdown",
   "metadata": {},
   "source": [
    "## Train Baseline Models (Per-K Retraining)\n",
    "\n",
    "**Important**: Separate model trained for each K value for proper calibration."
   ]
  },
  {
   "cell_type": "code",
   "execution_count": 6,
   "metadata": {},
   "outputs": [],
   "source": [
    "def train_baseline(model_class, model_params, K, graphs):\n",
    "    \"\"\"Train a baseline model for a specific K value.\"\"\"\n",
    "    # Collect data from all graphs in each split\n",
    "    X_train, y_train = collect_data_from_graphs(graphs[K]['train']['graphs'])\n",
    "    X_val, y_val = collect_data_from_graphs(graphs[K]['val']['graphs'])\n",
    "    X_test, y_test = collect_data_from_graphs(graphs[K]['test']['graphs'])\n",
    "    \n",
    "    # Feature scaling\n",
    "    scaler = StandardScaler()\n",
    "    X_train_scaled = scaler.fit_transform(X_train)\n",
    "    \n",
    "    # Compute class weights for imbalanced data\n",
    "    class_counts = np.bincount(y_train)\n",
    "    class_weight = {\n",
    "        0: len(y_train) / (2 * class_counts[0]),\n",
    "        1: len(y_train) / (2 * class_counts[1])\n",
    "    }\n",
    "    \n",
    "    # Set model-specific class weights\n",
    "    if 'class_weight' in model_params:\n",
    "        model_params['class_weight'] = class_weight\n",
    "    if 'scale_pos_weight' in model_params:\n",
    "        model_params['scale_pos_weight'] = class_weight[1] / class_weight[0]\n",
    "    \n",
    "    # Train model\n",
    "    model = model_class(**model_params)\n",
    "    model.fit(X_train_scaled, y_train)\n",
    "    \n",
    "    # Evaluate on all splits\n",
    "    train_metrics = evaluate_model(model, X_train, y_train, scaler)\n",
    "    val_metrics = evaluate_model(model, X_val, y_val, scaler)\n",
    "    test_metrics = evaluate_model(model, X_test, y_test, scaler)\n",
    "    \n",
    "    return {\n",
    "        'train': train_metrics,\n",
    "        'val': val_metrics,\n",
    "        'test': test_metrics,\n",
    "        'model': model,\n",
    "        'scaler': scaler\n",
    "    }"
   ]
  },
  {
   "cell_type": "code",
   "execution_count": 7,
   "metadata": {},
   "outputs": [
    {
     "name": "stdout",
     "output_type": "stream",
     "text": [
      "\n",
      "======================================================================\n",
      "LogisticRegression\n",
      "======================================================================\n",
      "\n",
      "K=0: Test F1=0.1479, AUC=0.7879\n",
      "\n",
      "K=3: Test F1=0.1471, AUC=0.7840\n",
      "\n",
      "K=5: Test F1=0.1459, AUC=0.7739\n",
      "\n",
      "======================================================================\n",
      "RandomForest\n",
      "======================================================================\n",
      "\n",
      "K=0: Test F1=0.3395, AUC=0.7906\n",
      "\n",
      "K=3: Test F1=0.3555, AUC=0.7988\n",
      "\n",
      "K=5: Test F1=0.3431, AUC=0.7959\n",
      "\n",
      "======================================================================\n",
      "XGBoost\n",
      "======================================================================\n",
      "\n",
      "K=0: Test F1=0.4013, AUC=0.8361\n",
      "\n",
      "K=3: Test F1=0.4199, AUC=0.8245\n",
      "\n",
      "K=5: Test F1=0.4279, AUC=0.8411\n",
      "\n",
      "======================================================================\n",
      "✅ Training complete!\n",
      "======================================================================\n"
     ]
    }
   ],
   "source": [
    "# Model configurations\n",
    "models_config = {\n",
    "    'LogisticRegression': (\n",
    "        LogisticRegression,\n",
    "        {'max_iter': 1000, 'class_weight': 'balanced', 'random_state': 42}\n",
    "    ),\n",
    "    'RandomForest': (\n",
    "        RandomForestClassifier,\n",
    "        {'n_estimators': 100, 'class_weight': 'balanced', 'random_state': 42, 'n_jobs': -1}\n",
    "    ),\n",
    "    'XGBoost': (\n",
    "        XGBClassifier,\n",
    "        {'n_estimators': 100, 'scale_pos_weight': 1.0, 'random_state': 42, 'eval_metric': 'logloss'}\n",
    "    )\n",
    "}\n",
    "\n",
    "# Train all models\n",
    "results = {}\n",
    "\n",
    "for model_name, (model_class, model_params) in models_config.items():\n",
    "    print(f\"\\n{'='*70}\")\n",
    "    print(f\"{model_name}\")\n",
    "    print('='*70)\n",
    "    \n",
    "    results[model_name] = {}\n",
    "    \n",
    "    for K in CONFIG['observation_windows']:\n",
    "        print(f\"\\nK={K}:\", end=' ')\n",
    "        result = train_baseline(model_class, model_params.copy(), K, graphs)\n",
    "        results[model_name][K] = result\n",
    "        \n",
    "        print(f\"Test F1={result['test']['f1']:.4f}, AUC={result['test']['auc']:.4f}\")\n",
    "\n",
    "print(\"\\n\" + \"=\"*70)\n",
    "print(\"✅ Training complete!\")\n",
    "print(\"=\"*70)"
   ]
  },
  {
   "cell_type": "markdown",
   "metadata": {},
   "source": [
    "## Results Summary"
   ]
  },
  {
   "cell_type": "code",
   "execution_count": 8,
   "metadata": {},
   "outputs": [
    {
     "name": "stdout",
     "output_type": "stream",
     "text": [
      "\n",
      "Test Set Performance:\n",
      "             Model  K Accuracy Precision Recall     F1    AUC\n",
      "LogisticRegression  0   0.5033    0.0804 0.9162 0.1479 0.7879\n",
      "LogisticRegression  3   0.4950    0.0799 0.9259 0.1471 0.7840\n",
      "LogisticRegression  5   0.4902    0.0792 0.9259 0.1459 0.7739\n",
      "      RandomForest  0   0.9620    0.9298 0.2077 0.3395 0.7906\n",
      "      RandomForest  3   0.9625    0.9333 0.2196 0.3555 0.7988\n",
      "      RandomForest  5   0.9622    0.9395 0.2098 0.3431 0.7959\n",
      "           XGBoost  0   0.9433    0.3986 0.4040 0.4013 0.8361\n",
      "           XGBoost  3   0.9424    0.3991 0.4429 0.4199 0.8245\n",
      "           XGBoost  5   0.9482    0.4456 0.4116 0.4279 0.8411\n"
     ]
    }
   ],
   "source": [
    "# Create comparison table\n",
    "comparison_data = []\n",
    "\n",
    "for model_name in models_config.keys():\n",
    "    for K in CONFIG['observation_windows']:\n",
    "        metrics = results[model_name][K]['test']\n",
    "        comparison_data.append({\n",
    "            'Model': model_name,\n",
    "            'K': K,\n",
    "            'Accuracy': f\"{metrics['accuracy']:.4f}\",\n",
    "            'Precision': f\"{metrics['precision']:.4f}\",\n",
    "            'Recall': f\"{metrics['recall']:.4f}\",\n",
    "            'F1': f\"{metrics['f1']:.4f}\",\n",
    "            'AUC': f\"{metrics['auc']:.4f}\"\n",
    "        })\n",
    "\n",
    "comparison_df = pd.DataFrame(comparison_data)\n",
    "print(\"\\nTest Set Performance:\")\n",
    "print(comparison_df.to_string(index=False))"
   ]
  },
  {
   "cell_type": "markdown",
   "metadata": {},
   "source": [
    "## Performance Visualization"
   ]
  },
  {
   "cell_type": "code",
   "execution_count": 9,
   "metadata": {},
   "outputs": [
    {
     "data": {
      "image/png": "[encoded data removed]",
      "text/plain": [
       "<Figure size 1400x500 with 2 Axes>"
      ]
     },
     "metadata": {},
     "output_type": "display_data"
    }
   ],
   "source": [
    "import matplotlib.pyplot as plt\n",
    "import seaborn as sns\n",
    "\n",
    "sns.set_style('whitegrid')\n",
    "\n",
    "fig, axes = plt.subplots(1, 2, figsize=(14, 5))\n",
    "\n",
    "# F1 Score\n",
    "ax = axes[0]\n",
    "for model_name in models_config.keys():\n",
    "    f1_scores = [results[model_name][K]['test']['f1'] for K in CONFIG['observation_windows']]\n",
    "    ax.plot(CONFIG['observation_windows'], f1_scores, marker='o', label=model_name, linewidth=2)\n",
    "\n",
    "ax.set_xlabel('Observation Window K', fontsize=12)\n",
    "ax.set_ylabel('F1 Score', fontsize=12)\n",
    "ax.set_title('F1 Score vs Observation Window', fontsize=13, fontweight='bold')\n",
    "ax.legend()\n",
    "ax.grid(True, alpha=0.3)\n",
    "\n",
    "# AUC\n",
    "ax = axes[1]\n",
    "for model_name in models_config.keys():\n",
    "    auc_scores = [results[model_name][K]['test']['auc'] for K in CONFIG['observation_windows']]\n",
    "    ax.plot(CONFIG['observation_windows'], auc_scores, marker='o', label=model_name, linewidth=2)\n",
    "\n",
    "ax.set_xlabel('Observation Window K', fontsize=12)\n",
    "ax.set_ylabel('AUC', fontsize=12)\n",
    "ax.set_title('AUC vs Observation Window', fontsize=13, fontweight='bold')\n",
    "ax.legend()\n",
    "ax.grid(True, alpha=0.3)\n",
    "\n",
    "plt.tight_layout()\n",
    "plt.show()"
   ]
  }
 ],
 "metadata": {
  "kernelspec": {
   "display_name": "graph-ml",
   "language": "python",
   "name": "python3"
  },
  "language_info": {
   "codemirror_mode": {
    "name": "ipython",
    "version": 3
   },
   "file_extension": ".py",
   "mimetype": "text/x-python",
   "name": "python",
   "nbconvert_exporter": "python",
   "pygments_lexer": "ipython3",
   "version": "3.11.13"
  }
 },
 "nbformat": 4,
 "nbformat_minor": 4
}
