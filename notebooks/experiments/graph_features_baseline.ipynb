{
 "cells": [
  {
   "cell_type": "markdown",
   "metadata": {},
   "source": [
    "# Graph Features Baseline (MLP)\n",
    "\n",
    "Uses node centrality and structural features with an MLP classifier."
   ]
  },
  {
   "cell_type": "code",
   "execution_count": 1,
   "metadata": {},
   "outputs": [],
   "source": [
    "import sys\n",
    "from pathlib import Path\n",
    "\n",
    "ROOT = Path.cwd().parent.parent\n",
    "sys.path.insert(0, str(ROOT))\n",
    "\n",
    "from code_lib.temporal_node_classification_builder import (\n",
    "    TemporalNodeClassificationBuilder,\n",
    "    load_elliptic_data,\n",
    "    prepare_observation_window_graphs\n",
    ")\n",
    "\n",
    "import torch\n",
    "import torch.nn as nn\n",
    "import torch.nn.functional as F\n",
    "import numpy as np\n",
    "import pandas as pd\n",
    "from torch_geometric.utils import degree\n",
    "from sklearn.metrics import accuracy_score, precision_recall_fscore_support, roc_auc_score\n",
    "from tqdm.notebook import tqdm\n",
    "\n",
    "torch.manual_seed(42)\n",
    "np.random.seed(42)"
   ]
  },
  {
   "cell_type": "markdown",
   "metadata": {},
   "source": [
    "## Configuration"
   ]
  },
  {
   "cell_type": "code",
   "execution_count": 2,
   "metadata": {},
   "outputs": [
    {
     "name": "stdout",
     "output_type": "stream",
     "text": [
      "Device: mps\n"
     ]
    }
   ],
   "source": [
    "CONFIG = {\n",
    "    'data_dir': '../../elliptic_dataset',\n",
    "    'train_timesteps': (5, 29),\n",
    "    'val_timesteps': (30, 33),\n",
    "    'test_timesteps': (34, 42),\n",
    "    'observation_windows': [0, 3, 5, 7],\n",
    "    'hidden_dim': 64,\n",
    "    'dropout': 0.3,\n",
    "    'learning_rate': 0.001,\n",
    "    'weight_decay': 1e-5,\n",
    "    'epochs': 100,\n",
    "    'patience': 15,\n",
    "    'device': 'mps'\n",
    "}\n",
    "\n",
    "print(f\"Device: {CONFIG['device']}\")"
   ]
  },
  {
   "cell_type": "markdown",
   "metadata": {},
   "source": [
    "## Load Data"
   ]
  },
  {
   "cell_type": "code",
   "execution_count": 3,
   "metadata": {},
   "outputs": [
    {
     "name": "stdout",
     "output_type": "stream",
     "text": [
      "  Pre-processing node features by (address, timestep)...\n",
      "  Pre-processing edges by timestep...\n",
      "  Average new nodes per timestep: 16794.7\n",
      "Initialized TemporalNodeClassificationBuilder\n",
      "  Total nodes: 822942\n",
      "  Total edges: 2868964\n",
      "  Time steps: 1 to 49\n",
      "  Feature columns (116): ['in_num', 'in_total_fees', 'in_mean_fees', 'in_median_fees', 'in_total_btc_in']...\n",
      "  Include class as feature: False\n",
      "  Add temporal features: True\n",
      "  Add edge weights: False\n",
      "\n",
      "Temporal Split Summary:\n",
      "  Train: timesteps 5-29, 109133 nodes\n",
      "    Illicit: 7237, Licit: 101896\n",
      "Training illicit ratio: 0.06631358067678887\n",
      "  Val:   timesteps 30-33, 16718 nodes\n",
      "    Illicit: 1305, Licit: 15413\n",
      "Validation illicit ratio: 0.07805957650436655\n",
      "  Test:  timesteps 34-42, 50876 nodes\n",
      "    Illicit: 3218, Licit: 47658\n",
      "Test illicit ratio: 0.06325182797389732\n",
      "Train: 109133 nodes\n",
      "Val:   16718 nodes\n",
      "Test:  50876 nodes\n"
     ]
    }
   ],
   "source": [
    "nodes_df, edges_df = load_elliptic_data(CONFIG['data_dir'], use_temporal_features=True)\n",
    "\n",
    "builder = TemporalNodeClassificationBuilder(\n",
    "    nodes_df=nodes_df,\n",
    "    edges_df=edges_df,\n",
    "    include_class_as_feature=False,\n",
    "    add_temporal_features=True,\n",
    "    cache_dir='../../graph_cache',\n",
    "    use_cache=True,\n",
    "    verbose=True\n",
    ")\n",
    "\n",
    "split = builder.get_train_val_test_split(\n",
    "    train_timesteps=CONFIG['train_timesteps'],\n",
    "    val_timesteps=CONFIG['val_timesteps'],\n",
    "    test_timesteps=CONFIG['test_timesteps'],\n",
    "    filter_unknown=True\n",
    ")\n",
    "\n",
    "print(f\"Train: {len(split['train'])} nodes\")\n",
    "print(f\"Val:   {len(split['val'])} nodes\")\n",
    "print(f\"Test:  {len(split['test'])} nodes\")"
   ]
  },
  {
   "cell_type": "markdown",
   "metadata": {},
   "source": [
    "## Prepare Graphs"
   ]
  },
  {
   "cell_type": "code",
   "execution_count": 4,
   "metadata": {},
   "outputs": [
    {
     "name": "stdout",
     "output_type": "stream",
     "text": [
      "\n",
      "======================================================================\n",
      "PREPARING OBSERVATION WINDOW GRAPHS\n",
      "======================================================================\n",
      "\n",
      "Split boundaries:\n",
      "  Train: first_appearance <= 29\n",
      "  Val:   first_appearance <= 33\n",
      "  Test:  first_appearance <= 42\n",
      "\n",
      "Observation windows: K = [0, 3, 5, 7]\n",
      "\n",
      "======================================================================\n",
      "K = 0 (Observe nodes for 0 timesteps after first appearance)\n",
      "======================================================================\n",
      "\n",
      "TRAIN split:\n",
      "  Split period: nodes with first_appearance <= 29\n",
      "  Evaluation time: t = 29 + 0 = 29\n",
      "  Building graph at t=29...\n",
      "  ✅ Loaded cached graph from ../../graph_cache/graph_t29_metaTrue_classFalse_tempTrue_weightsFalse.pt\n",
      "  Graph: 474,120 nodes, 1,510,474 edges\n",
      "  Eval nodes: 109,133 (23.02% of graph)\n",
      "    Licit: 101,896 (93.4%)\n",
      "    Illicit: 7,237 (6.6%)\n",
      "\n",
      "VAL split:\n",
      "  Split period: nodes with first_appearance <= 33\n",
      "  Evaluation time: t = 33 + 0 = 33\n",
      "  Building graph at t=33...\n",
      "  ✅ Loaded cached graph from ../../graph_cache/graph_t33_metaTrue_classFalse_tempTrue_weightsFalse.pt\n",
      "  Graph: 521,595 nodes, 1,787,166 edges\n",
      "  Eval nodes: 16,718 (3.21% of graph)\n",
      "    Licit: 15,413 (92.2%)\n",
      "    Illicit: 1,305 (7.8%)\n",
      "\n",
      "TEST split:\n",
      "  Split period: nodes with first_appearance <= 42\n",
      "  Evaluation time: t = 42 + 0 = 42\n",
      "  Building graph at t=42...\n",
      "  ✅ Loaded cached graph from ../../graph_cache/graph_t42_metaTrue_classFalse_tempTrue_weightsFalse.pt\n",
      "  Graph: 697,242 nodes, 2,215,839 edges\n",
      "  Eval nodes: 50,876 (7.30% of graph)\n",
      "    Licit: 47,658 (93.7%)\n",
      "    Illicit: 3,218 (6.3%)\n",
      "\n",
      "======================================================================\n",
      "K = 3 (Observe nodes for 3 timesteps after first appearance)\n",
      "======================================================================\n",
      "\n",
      "TRAIN split:\n",
      "  Split period: nodes with first_appearance <= 29\n",
      "  Evaluation time: t = 29 + 3 = 32\n",
      "  Building graph at t=32...\n",
      "  ✅ Loaded cached graph from ../../graph_cache/graph_t32_metaTrue_classFalse_tempTrue_weightsFalse.pt\n",
      "  Graph: 509,931 nodes, 1,596,832 edges\n",
      "  Eval nodes: 109,133 (21.40% of graph)\n",
      "    Licit: 101,896 (93.4%)\n",
      "    Illicit: 7,237 (6.6%)\n",
      "\n",
      "VAL split:\n",
      "  Split period: nodes with first_appearance <= 33\n",
      "  Evaluation time: t = 33 + 3 = 36\n",
      "  Building graph at t=36...\n",
      "  ✅ Loaded cached graph from ../../graph_cache/graph_t36_metaTrue_classFalse_tempTrue_weightsFalse.pt\n",
      "  Graph: 582,136 nodes, 1,935,978 edges\n",
      "  Eval nodes: 16,718 (2.87% of graph)\n",
      "    Licit: 15,413 (92.2%)\n",
      "    Illicit: 1,305 (7.8%)\n",
      "\n",
      "TEST split:\n",
      "  Split period: nodes with first_appearance <= 42\n",
      "  Evaluation time: t = 42 + 3 = 45\n",
      "  Building graph at t=45...\n",
      "  ✅ Loaded cached graph from ../../graph_cache/graph_t45_metaTrue_classFalse_tempTrue_weightsFalse.pt\n",
      "  Graph: 761,396 nodes, 2,552,766 edges\n",
      "  Eval nodes: 50,876 (6.68% of graph)\n",
      "    Licit: 47,658 (93.7%)\n",
      "    Illicit: 3,218 (6.3%)\n",
      "\n",
      "======================================================================\n",
      "K = 5 (Observe nodes for 5 timesteps after first appearance)\n",
      "======================================================================\n",
      "\n",
      "TRAIN split:\n",
      "  Split period: nodes with first_appearance <= 29\n",
      "  Evaluation time: t = 29 + 5 = 34\n",
      "  Building graph at t=34...\n",
      "  ✅ Loaded cached graph from ../../graph_cache/graph_t34_metaTrue_classFalse_tempTrue_weightsFalse.pt\n",
      "  Graph: 530,840 nodes, 1,810,073 edges\n",
      "  Eval nodes: 109,133 (20.56% of graph)\n",
      "    Licit: 101,896 (93.4%)\n",
      "    Illicit: 7,237 (6.6%)\n",
      "\n",
      "VAL split:\n",
      "  Split period: nodes with first_appearance <= 33\n",
      "  Evaluation time: t = 33 + 5 = 38\n",
      "  Building graph at t=38...\n",
      "  ✅ Loaded cached graph from ../../graph_cache/graph_t38_metaTrue_classFalse_tempTrue_weightsFalse.pt\n",
      "  Graph: 610,725 nodes, 1,991,574 edges\n",
      "  Eval nodes: 16,718 (2.74% of graph)\n",
      "    Licit: 15,413 (92.2%)\n",
      "    Illicit: 1,305 (7.8%)\n",
      "\n",
      "TEST split:\n",
      "  Split period: nodes with first_appearance <= 42\n",
      "  Evaluation time: t = 42 + 5 = 47\n",
      "  Building graph at t=47...\n",
      "  ✅ Loaded cached graph from ../../graph_cache/graph_t47_metaTrue_classFalse_tempTrue_weightsFalse.pt\n",
      "  Graph: 795,392 nodes, 2,734,525 edges\n",
      "  Eval nodes: 50,876 (6.40% of graph)\n",
      "    Licit: 47,658 (93.7%)\n",
      "    Illicit: 3,218 (6.3%)\n",
      "\n",
      "======================================================================\n",
      "K = 7 (Observe nodes for 7 timesteps after first appearance)\n",
      "======================================================================\n",
      "\n",
      "TRAIN split:\n",
      "  Split period: nodes with first_appearance <= 29\n",
      "  Evaluation time: t = 29 + 7 = 36\n",
      "  Building graph at t=36...\n",
      "  ✅ Loaded cached graph from ../../graph_cache/graph_t36_metaTrue_classFalse_tempTrue_weightsFalse.pt\n",
      "  Graph: 582,136 nodes, 1,935,978 edges\n",
      "  Eval nodes: 109,133 (18.75% of graph)\n",
      "    Licit: 101,896 (93.4%)\n",
      "    Illicit: 7,237 (6.6%)\n",
      "\n",
      "VAL split:\n",
      "  Split period: nodes with first_appearance <= 33\n",
      "  Evaluation time: t = 33 + 7 = 40\n",
      "  Building graph at t=40...\n",
      "  ✅ Loaded cached graph from ../../graph_cache/graph_t40_metaTrue_classFalse_tempTrue_weightsFalse.pt\n",
      "  Graph: 646,229 nodes, 2,084,318 edges\n",
      "  Eval nodes: 16,718 (2.59% of graph)\n",
      "    Licit: 15,413 (92.2%)\n",
      "    Illicit: 1,305 (7.8%)\n",
      "\n",
      "TEST split:\n",
      "  Split period: nodes with first_appearance <= 42\n",
      "  Evaluation time: t = 42 + 7 = 49\n",
      "  Building graph at t=49...\n",
      "  ✅ Loaded cached graph from ../../graph_cache/graph_t49_metaTrue_classFalse_tempTrue_weightsFalse.pt\n",
      "  Graph: 822,942 nodes, 2,868,964 edges\n",
      "  Eval nodes: 50,876 (6.18% of graph)\n",
      "    Licit: 47,658 (93.7%)\n",
      "    Illicit: 3,218 (6.3%)\n",
      "\n",
      "======================================================================\n",
      "✅ OBSERVATION WINDOW GRAPHS PREPARED\n",
      "======================================================================\n",
      "\n",
      "Created graphs for 4 observation windows × 3 splits\n",
      "Total: 12 graphs\n",
      "\n",
      "Usage:\n",
      "  train_data = graphs[K]['train']\n",
      "  output = model(train_data.x, train_data.edge_index)\n",
      "  loss = criterion(output[train_data.eval_mask], train_data.y[train_data.eval_mask])\n",
      "======================================================================\n",
      "\n"
     ]
    }
   ],
   "source": [
    "device = torch.device(CONFIG['device'])\n",
    "\n",
    "graphs = prepare_observation_window_graphs(\n",
    "    builder,\n",
    "    split['train'],\n",
    "    split['val'],\n",
    "    split['test'],\n",
    "    K_values=CONFIG['observation_windows'],\n",
    "    device=device\n",
    ")"
   ]
  },
  {
   "cell_type": "markdown",
   "metadata": {},
   "source": [
    "## Compute Graph Features"
   ]
  },
  {
   "cell_type": "code",
   "execution_count": 5,
   "metadata": {},
   "outputs": [
    {
     "name": "stdout",
     "output_type": "stream",
     "text": [
      "Computing graph features...\n",
      "  K=0: 120 total features\n",
      "  K=3: 120 total features\n",
      "  K=5: 120 total features\n",
      "  K=7: 120 total features\n"
     ]
    }
   ],
   "source": [
    "def compute_graph_features(data):\n",
    "    \"\"\"Compute centrality and structural features.\"\"\"\n",
    "    # Degree centrality\n",
    "    deg = degree(data.edge_index[0], num_nodes=data.num_nodes, dtype=torch.float)\n",
    "    deg_in = degree(data.edge_index[1], num_nodes=data.num_nodes, dtype=torch.float)\n",
    "    deg_out = degree(data.edge_index[0], num_nodes=data.num_nodes, dtype=torch.float)\n",
    "    \n",
    "    # Combine original features with graph features\n",
    "    graph_feats = torch.stack([deg, deg_in, deg_out], dim=1)\n",
    "    combined_feats = torch.cat([data.x, graph_feats], dim=1)\n",
    "    \n",
    "    return combined_feats\n",
    "\n",
    "\n",
    "# Augment graphs with centrality features\n",
    "print(\"Computing graph features...\")\n",
    "for K in CONFIG['observation_windows']:\n",
    "    for split_name in ['train', 'val', 'test']:\n",
    "        data = graphs[K][split_name]\n",
    "        data.x = compute_graph_features(data)\n",
    "    print(f\"  K={K}: {graphs[K]['train'].x.shape[1]} total features\")"
   ]
  },
  {
   "cell_type": "markdown",
   "metadata": {},
   "source": [
    "## Model Definition"
   ]
  },
  {
   "cell_type": "code",
   "execution_count": 6,
   "metadata": {},
   "outputs": [],
   "source": [
    "class MLP(nn.Module):\n",
    "    def __init__(self, num_features, hidden_dim, num_classes, dropout=0.3):\n",
    "        super().__init__()\n",
    "        self.fc1 = nn.Linear(num_features, hidden_dim)\n",
    "        self.fc2 = nn.Linear(hidden_dim, hidden_dim // 2)\n",
    "        self.fc3 = nn.Linear(hidden_dim // 2, num_classes)\n",
    "        self.dropout = dropout\n",
    "        self.bn1 = nn.BatchNorm1d(hidden_dim)\n",
    "        self.bn2 = nn.BatchNorm1d(hidden_dim // 2)\n",
    "        \n",
    "    def forward(self, x):\n",
    "        x = self.fc1(x)\n",
    "        x = self.bn1(x)\n",
    "        x = F.relu(x)\n",
    "        x = F.dropout(x, p=self.dropout, training=self.training)\n",
    "        \n",
    "        x = self.fc2(x)\n",
    "        x = self.bn2(x)\n",
    "        x = F.relu(x)\n",
    "        x = F.dropout(x, p=self.dropout, training=self.training)\n",
    "        \n",
    "        x = self.fc3(x)\n",
    "        return x"
   ]
  },
  {
   "cell_type": "markdown",
   "metadata": {},
   "source": [
    "## Training Functions"
   ]
  },
  {
   "cell_type": "code",
   "execution_count": 7,
   "metadata": {},
   "outputs": [],
   "source": [
    "def train_epoch(model, data, mask, optimizer, criterion):\n",
    "    model.train()\n",
    "    optimizer.zero_grad()\n",
    "    logits = model(data.x)\n",
    "    loss = criterion(logits[mask], data.y[mask])\n",
    "    loss.backward()\n",
    "    optimizer.step()\n",
    "    \n",
    "    with torch.no_grad():\n",
    "        pred = logits[mask].argmax(dim=1)\n",
    "        acc = (pred == data.y[mask]).float().mean().item()\n",
    "    \n",
    "    return loss.item(), acc\n",
    "\n",
    "\n",
    "def evaluate(model, data, mask):\n",
    "    model.eval()\n",
    "    with torch.no_grad():\n",
    "        logits = model(data.x)\n",
    "        pred = logits[mask].argmax(dim=1).cpu().numpy()\n",
    "        true = data.y[mask].cpu().numpy()\n",
    "        probs = F.softmax(logits[mask], dim=1)[:, 1].cpu().numpy()\n",
    "        \n",
    "        acc = accuracy_score(true, pred)\n",
    "        precision, recall, f1, _ = precision_recall_fscore_support(\n",
    "            true, pred, average='binary', pos_label=1, zero_division=0\n",
    "        )\n",
    "        auc = roc_auc_score(true, probs) if len(np.unique(true)) > 1 else 0.5\n",
    "    \n",
    "    return {'accuracy': acc, 'precision': precision, 'recall': recall, 'f1': f1, 'auc': auc}"
   ]
  },
  {
   "cell_type": "markdown",
   "metadata": {},
   "source": [
    "## Train Models"
   ]
  },
  {
   "cell_type": "code",
   "execution_count": 8,
   "metadata": {},
   "outputs": [
    {
     "name": "stdout",
     "output_type": "stream",
     "text": [
      "\n",
      "======================================================================\n",
      "Training with K=0\n",
      "======================================================================\n"
     ]
    },
    {
     "data": {
      "application/vnd.jupyter.widget-view+json": {
       "model_id": "719b30889c584c8fb0ab067696f836a9",
       "version_major": 2,
       "version_minor": 0
      },
      "text/plain": [
       "K=0:   0%|          | 0/100 [00:00<?, ?it/s]"
      ]
     },
     "metadata": {},
     "output_type": "display_data"
    },
    {
     "name": "stdout",
     "output_type": "stream",
     "text": [
      "\n",
      "Train: F1=0.2184, AUC=0.7829\n",
      "Val:   F1=0.2089, AUC=0.6699\n",
      "Test:  F1=0.1450, AUC=0.6638\n",
      "\n",
      "======================================================================\n",
      "Training with K=3\n",
      "======================================================================\n"
     ]
    },
    {
     "data": {
      "application/vnd.jupyter.widget-view+json": {
       "model_id": "9163bcef28644c79b1447544adb2d60d",
       "version_major": 2,
       "version_minor": 0
      },
      "text/plain": [
       "K=3:   0%|          | 0/100 [00:00<?, ?it/s]"
      ]
     },
     "metadata": {},
     "output_type": "display_data"
    },
    {
     "name": "stdout",
     "output_type": "stream",
     "text": [
      "\n",
      "Train: F1=0.2183, AUC=0.7845\n",
      "Val:   F1=0.2097, AUC=0.6709\n",
      "Test:  F1=0.1471, AUC=0.6708\n",
      "\n",
      "======================================================================\n",
      "Training with K=5\n",
      "======================================================================\n"
     ]
    },
    {
     "data": {
      "application/vnd.jupyter.widget-view+json": {
       "model_id": "e5456d7e41fd4368884899dc154efdf6",
       "version_major": 2,
       "version_minor": 0
      },
      "text/plain": [
       "K=5:   0%|          | 0/100 [00:00<?, ?it/s]"
      ]
     },
     "metadata": {},
     "output_type": "display_data"
    },
    {
     "name": "stdout",
     "output_type": "stream",
     "text": [
      "\n",
      "Train: F1=0.2183, AUC=0.7821\n",
      "Val:   F1=0.2087, AUC=0.6685\n",
      "Test:  F1=0.1444, AUC=0.6617\n",
      "\n",
      "======================================================================\n",
      "Training with K=7\n",
      "======================================================================\n"
     ]
    },
    {
     "data": {
      "application/vnd.jupyter.widget-view+json": {
       "model_id": "081cabb4b5a14af1b2b749296f8d709b",
       "version_major": 2,
       "version_minor": 0
      },
      "text/plain": [
       "K=7:   0%|          | 0/100 [00:00<?, ?it/s]"
      ]
     },
     "metadata": {},
     "output_type": "display_data"
    },
    {
     "name": "stdout",
     "output_type": "stream",
     "text": [
      "\n",
      "Train: F1=0.2176, AUC=0.7856\n",
      "Val:   F1=0.2085, AUC=0.6713\n",
      "Test:  F1=0.1463, AUC=0.6710\n",
      "\n",
      "======================================================================\n",
      "Training complete!\n",
      "======================================================================\n"
     ]
    }
   ],
   "source": [
    "results = {}\n",
    "models = {}\n",
    "\n",
    "for K in CONFIG['observation_windows']:\n",
    "    print(f\"\\n{'='*70}\")\n",
    "    print(f\"Training with K={K}\")\n",
    "    print('='*70)\n",
    "    \n",
    "    train_data = graphs[K]['train']\n",
    "    val_data = graphs[K]['val']\n",
    "    test_data = graphs[K]['test']\n",
    "    \n",
    "    # Initialize model\n",
    "    num_features = train_data.x.shape[1]\n",
    "    model = MLP(\n",
    "        num_features=num_features,\n",
    "        hidden_dim=CONFIG['hidden_dim'],\n",
    "        num_classes=2,\n",
    "        dropout=CONFIG['dropout']\n",
    "    ).to(device)\n",
    "    \n",
    "    optimizer = torch.optim.Adam(\n",
    "        model.parameters(),\n",
    "        lr=CONFIG['learning_rate'],\n",
    "        weight_decay=CONFIG['weight_decay']\n",
    "    )\n",
    "    \n",
    "    # Class weights\n",
    "    train_labels = train_data.y[train_data.eval_mask]\n",
    "    class_counts = torch.bincount(train_labels)\n",
    "    class_weights = 1.0 / class_counts.float()\n",
    "    class_weights = class_weights / class_weights.sum()\n",
    "    criterion = nn.CrossEntropyLoss(weight=class_weights)\n",
    "    \n",
    "    # Training loop\n",
    "    best_val_f1 = 0\n",
    "    patience_counter = 0\n",
    "    best_model_state = None\n",
    "    \n",
    "    pbar = tqdm(range(CONFIG['epochs']), desc=f\"K={K}\")\n",
    "    for epoch in pbar:\n",
    "        train_loss, train_acc = train_epoch(\n",
    "            model, train_data, train_data.eval_mask, optimizer, criterion\n",
    "        )\n",
    "        \n",
    "        if (epoch + 1) % 5 == 0:\n",
    "            val_metrics = evaluate(model, val_data, val_data.eval_mask)\n",
    "            pbar.set_postfix({'loss': f\"{train_loss:.4f}\", 'val_f1': f\"{val_metrics['f1']:.4f}\"})\n",
    "            \n",
    "            if val_metrics['f1'] > best_val_f1:\n",
    "                best_val_f1 = val_metrics['f1']\n",
    "                patience_counter = 0\n",
    "                best_model_state = model.state_dict().copy()\n",
    "            else:\n",
    "                patience_counter += 1\n",
    "                \n",
    "            if patience_counter >= CONFIG['patience']:\n",
    "                print(f\"Early stopping at epoch {epoch+1}\")\n",
    "                break\n",
    "    \n",
    "    # Load best model and evaluate\n",
    "    model.load_state_dict(best_model_state)\n",
    "    \n",
    "    train_metrics = evaluate(model, train_data, train_data.eval_mask)\n",
    "    val_metrics = evaluate(model, val_data, val_data.eval_mask)\n",
    "    test_metrics = evaluate(model, test_data, test_data.eval_mask)\n",
    "    \n",
    "    print(f\"\\nTrain: F1={train_metrics['f1']:.4f}, AUC={train_metrics['auc']:.4f}\")\n",
    "    print(f\"Val:   F1={val_metrics['f1']:.4f}, AUC={val_metrics['auc']:.4f}\")\n",
    "    print(f\"Test:  F1={test_metrics['f1']:.4f}, AUC={test_metrics['auc']:.4f}\")\n",
    "    \n",
    "    results[K] = {'train': train_metrics, 'val': val_metrics, 'test': test_metrics}\n",
    "    models[K] = model\n",
    "\n",
    "print(\"\\n\" + \"=\"*70)\n",
    "print(\"Training complete!\")\n",
    "print(\"=\"*70)"
   ]
  },
  {
   "cell_type": "markdown",
   "metadata": {},
   "source": [
    "## Results Summary"
   ]
  },
  {
   "cell_type": "code",
   "execution_count": 9,
   "metadata": {},
   "outputs": [
    {
     "name": "stdout",
     "output_type": "stream",
     "text": [
      "\n",
      "Test Set Performance:\n",
      " K Accuracy Precision Recall     F1    AUC\n",
      " 0   0.2804    0.0784 0.9643 0.1450 0.6638\n",
      " 3   0.2928    0.0796 0.9643 0.1471 0.6708\n",
      " 5   0.2812    0.0781 0.9590 0.1444 0.6617\n",
      " 7   0.2820    0.0791 0.9727 0.1463 0.6710\n"
     ]
    }
   ],
   "source": [
    "comparison_data = []\n",
    "\n",
    "for K in CONFIG['observation_windows']:\n",
    "    metrics = results[K]['test']\n",
    "    comparison_data.append({\n",
    "        'K': K,\n",
    "        'Accuracy': f\"{metrics['accuracy']:.4f}\",\n",
    "        'Precision': f\"{metrics['precision']:.4f}\",\n",
    "        'Recall': f\"{metrics['recall']:.4f}\",\n",
    "        'F1': f\"{metrics['f1']:.4f}\",\n",
    "        'AUC': f\"{metrics['auc']:.4f}\"\n",
    "    })\n",
    "\n",
    "comparison_df = pd.DataFrame(comparison_data)\n",
    "print(\"\\nTest Set Performance:\")\n",
    "print(comparison_df.to_string(index=False))"
   ]
  },
  {
   "cell_type": "markdown",
   "metadata": {},
   "source": [
    "## Performance Visualization"
   ]
  },
  {
   "cell_type": "code",
   "execution_count": 10,
   "metadata": {},
   "outputs": [
    {
     "data": {
      "image/png": "[encoded data removed]",
      "text/plain": [
       "<Figure size 1400x500 with 2 Axes>"
      ]
     },
     "metadata": {},
     "output_type": "display_data"
    }
   ],
   "source": [
    "import matplotlib.pyplot as plt\n",
    "import seaborn as sns\n",
    "\n",
    "sns.set_style('whitegrid')\n",
    "\n",
    "fig, axes = plt.subplots(1, 2, figsize=(14, 5))\n",
    "\n",
    "# F1 Score\n",
    "ax = axes[0]\n",
    "f1_scores = [results[K]['test']['f1'] for K in CONFIG['observation_windows']]\n",
    "ax.plot(CONFIG['observation_windows'], f1_scores, marker='o', linewidth=2, color='purple')\n",
    "ax.set_xlabel('Observation Window K', fontsize=12)\n",
    "ax.set_ylabel('F1 Score', fontsize=12)\n",
    "ax.set_title('F1 Score vs Observation Window', fontsize=13, fontweight='bold')\n",
    "ax.grid(True, alpha=0.3)\n",
    "\n",
    "# AUC\n",
    "ax = axes[1]\n",
    "auc_scores = [results[K]['test']['auc'] for K in CONFIG['observation_windows']]\n",
    "ax.plot(CONFIG['observation_windows'], auc_scores, marker='o', linewidth=2, color='orange')\n",
    "ax.set_xlabel('Observation Window K', fontsize=12)\n",
    "ax.set_ylabel('AUC', fontsize=12)\n",
    "ax.set_title('AUC vs Observation Window', fontsize=13, fontweight='bold')\n",
    "ax.grid(True, alpha=0.3)\n",
    "\n",
    "plt.tight_layout()\n",
    "plt.show()"
   ]
  },
  {
   "cell_type": "code",
   "execution_count": null,
   "metadata": {},
   "outputs": [],
   "source": [
    "import os\n",
    "\n",
    "os.makedirs('../../results', exist_ok=True)\n",
    "os.makedirs('../../models', exist_ok=True)\n",
    "\n",
    "comparison_df.to_csv('../../results/graph_features_mlp_results.csv', index=False)\n",
    "print(\"Results saved to ../../results/graph_features_mlp_results.csv\")\n",
    "\n",
    "for K, model in models.items():\n",
    "    torch.save(model.state_dict(), f'../../models/graph_features_mlp_k{K}.pt')\n",
    "print(f\"Models saved to ../../models/graph_features_mlp_k*.pt\")"
   ]
  }
 ],
 "metadata": {
  "kernelspec": {
   "display_name": "graph-ml",
   "language": "python",
   "name": "python3"
  },
  "language_info": {
   "codemirror_mode": {
    "name": "ipython",
    "version": 3
   },
   "file_extension": ".py",
   "mimetype": "text/x-python",
   "name": "python",
   "nbconvert_exporter": "python",
   "pygments_lexer": "ipython3",
   "version": "3.11.13"
  }
 },
 "nbformat": 4,
 "nbformat_minor": 4
}
